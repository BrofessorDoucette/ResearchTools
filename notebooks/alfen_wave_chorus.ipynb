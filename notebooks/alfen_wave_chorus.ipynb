{
 "cells": [
  {
   "cell_type": "code",
   "execution_count": 1,
   "metadata": {},
   "outputs": [],
   "source": [
    "import os\n",
    "import sys\n",
    "\n",
    "# caution: path[0] is reserved for script path (or '' in REPL).\n",
    "sys.path.insert(1, os.path.abspath(\"./../src\"))\n",
    "\n",
    "import datetime\n",
    "import importlib\n",
    "\n",
    "import matplotlib.colors\n",
    "import matplotlib.pyplot as plt\n",
    "import numpy as np\n",
    "import pandas as pd\n",
    "from cdflib.epochs_astropy import CDFAstropy as cdfepoch\n",
    "from mpl_toolkits.axes_grid1.inset_locator import inset_axes\n",
    "from scipy.signal import ShortTimeFFT, detrend\n",
    "from scipy.signal.windows import gaussian\n",
    "\n",
    "import data_loader\n",
    "\n",
    "importlib.reload(data_loader)\n",
    "\n",
    "%matplotlib qt"
   ]
  },
  {
   "cell_type": "code",
   "execution_count": 2,
   "metadata": {},
   "outputs": [],
   "source": [
    "start_time = datetime.datetime(year=2016, month=1, day=1, hour=1, minute=1, second=1)\n",
    "end_time = datetime.datetime(year=2016, month=4, day=1, hour=1, minute=1, second=1)"
   ]
  },
  {
   "cell_type": "code",
   "execution_count": 3,
   "metadata": {},
   "outputs": [
    {
     "name": "stderr",
     "output_type": "stream",
     "text": [
      "/home/jddoucette/Research_Tools/ResearchPy/lib64/python3.12/site-packages/erfa/core.py:133: ErfaWarning: ERFA function \"dtf2d\" yielded 1 of \"dubious year (Note 6)\"\n",
      "  warn(f'ERFA function \"{func_name}\" yielded {wmsg}', ErfaWarning)\n"
     ]
    }
   ],
   "source": [
    "OMNI = data_loader.load_raw_data_from_config(\n",
    "    id=[\"OMNI\", \"ONE_MIN_RESOLUTION\"], start=start_time, end=end_time\n",
    ")\n",
    "\n",
    "time = cdfepoch.unixtime(OMNI[\"Epoch\"])\n",
    "Bz = OMNI[\"BZ_GSM\"]\n",
    "density = OMNI[\"proton_density\"]\n",
    "Vz = OMNI[\"Vz\"]\n",
    "\n",
    "within_time_range = (start_time.timestamp() < time) & (time < end_time.timestamp())\n",
    "valid_alfven_velocity_parameters = (density < 990) & (Bz < 100) & (Vz < 100)\n",
    "\n",
    "time = time[within_time_range & valid_alfven_velocity_parameters]\n",
    "Bz = Bz[within_time_range & valid_alfven_velocity_parameters]\n",
    "density = density[within_time_range & valid_alfven_velocity_parameters]\n",
    "Vz = Vz[within_time_range & valid_alfven_velocity_parameters]\n",
    "\n",
    "\n",
    "Bz = np.interp(np.linspace(time[0], time[-1], int((time[-1] - time[0]) / 60)), time, Bz)\n",
    "density = np.interp(np.linspace(time[0], time[-1], int((time[-1] - time[0]) / 60)), time, density)\n",
    "Vz = np.interp(np.linspace(time[0], time[-1], int((time[-1] - time[0]) / 60)), time, Vz)\n",
    "\n",
    "Vz_detrended = pd.Series(detrend(Vz))\n",
    "VAz_detrended = pd.Series(detrend(Bz / np.sqrt(density)))"
   ]
  },
  {
   "cell_type": "code",
   "execution_count": 4,
   "metadata": {},
   "outputs": [
    {
     "data": {
      "text/plain": [
       "[<matplotlib.lines.Line2D at 0x7efeebbb2b70>]"
      ]
     },
     "execution_count": 4,
     "metadata": {},
     "output_type": "execute_result"
    }
   ],
   "source": [
    "plt.plot(np.clip(Vz_detrended.rolling(1440, center=True).corr(VAz_detrended, \"spearman\"), 0, 1.0))"
   ]
  },
  {
   "cell_type": "code",
   "execution_count": null,
   "metadata": {},
   "outputs": [],
   "source": [
    "g_std = 60\n",
    "w = gaussian(60, std=g_std, sym=True)\n",
    "\n",
    "SFT = ShortTimeFFT(w, hop=1, fs=1, scale_to=\"psd\")\n",
    "\n",
    "Sx2 = SFT.spectrogram(x=Bz / np.sqrt(density), detr=\"constant\")"
   ]
  },
  {
   "cell_type": "code",
   "execution_count": 17,
   "metadata": {},
   "outputs": [
    {
     "data": {
      "text/plain": [
       "<matplotlib.colorbar.Colorbar at 0x14ad675f800>"
      ]
     },
     "execution_count": 17,
     "metadata": {},
     "output_type": "execute_result"
    }
   ],
   "source": [
    "fig, ax = plt.subplots(1, 1, sharex=True)\n",
    "\n",
    "image = ax.imshow(\n",
    "    10 * np.log10(np.fmax(Sx2, 1e-4)),\n",
    "    aspect=\"auto\",\n",
    "    extent=SFT.extent(len(Bz)),\n",
    "    norm=matplotlib.colors.Normalize(vmin=-40, vmax=20),\n",
    ")\n",
    "\n",
    "\n",
    "ax.set_title(\n",
    "    rf\"Spectrogram ({SFT.m_num*SFT.T:g}$\\,s$ Gaussian \" + rf\"window, $\\sigma_t={g_std*SFT.T:g}\\,$s)\"\n",
    ")\n",
    "ax.set(\n",
    "    xlabel=f\"Time $t$ in seconds ({SFT.p_num(len(Bz))} slices, \"\n",
    "    + rf\"$\\Delta t = {SFT.delta_t:g}\\,$s)\",\n",
    "    ylabel=f\"Freq. $f$ in Hz ({SFT.f_pts} bins, \" + rf\"$\\Delta f = {SFT.delta_f:g}\\,$Hz)\",\n",
    ")\n",
    "\n",
    "axins = inset_axes(\n",
    "    ax,\n",
    "    width=\"1%\",  # width: 5% of parent_bbox width\n",
    "    height=\"100%\",  # height: 50%\n",
    "    loc=\"lower left\",\n",
    "    bbox_to_anchor=(1.01, 0, 1, 1),\n",
    "    bbox_transform=ax.transAxes,\n",
    "    borderpad=0,\n",
    ")\n",
    "\n",
    "plt.colorbar(\n",
    "    image, cax=axins, label=\"Power Spectral Density \" + r\"$20\\,\\log_{10}|S_x(t, f)|$ in dB\"\n",
    ")"
   ]
  },
  {
   "cell_type": "code",
   "execution_count": null,
   "metadata": {},
   "outputs": [],
   "source": []
  },
  {
   "cell_type": "code",
   "execution_count": null,
   "metadata": {},
   "outputs": [],
   "source": []
  }
 ],
 "metadata": {
  "kernelspec": {
   "display_name": "Python 3 (ipykernel)",
   "language": "python",
   "name": "python3"
  },
  "language_info": {
   "codemirror_mode": {
    "name": "ipython",
    "version": 3
   },
   "file_extension": ".py",
   "mimetype": "text/x-python",
   "name": "python",
   "nbconvert_exporter": "python",
   "pygments_lexer": "ipython3",
   "version": "3.12.5"
  }
 },
 "nbformat": 4,
 "nbformat_minor": 4
}
