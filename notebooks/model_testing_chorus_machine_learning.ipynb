{
 "cells": [
  {
   "cell_type": "code",
   "execution_count": 1,
   "metadata": {},
   "outputs": [],
   "source": [
    "import sys\n",
    "import os\n",
    "# caution: path[0] is reserved for script path (or '' in REPL).\n",
    "sys.path.insert(1, os.path.abspath('./../src'))\n",
    "\n",
    "import numpy as np\n",
    "import data_loader\n",
    "import rbsp_chorus_tool\n",
    "import plot_tools\n",
    "import chorus_machine_learning_helper\n",
    "import datetime\n",
    "from cdflib.epochs_astropy import CDFAstropy as cdfepoch\n",
    "import matplotlib.pyplot as plt\n",
    "import matplotlib.colors as colors\n",
    "import pandas as pd\n",
    "import astropy.time\n",
    "import tqdm\n",
    "\n",
    "import importlib\n",
    "importlib.reload(data_loader)\n",
    "importlib.reload(plot_tools)\n",
    "importlib.reload(rbsp_chorus_tool)\n",
    "importlib.reload(chorus_machine_learning_helper)\n",
    "\n",
    "import xgboost as xgb\n",
    "\n",
    "\n",
    "SMALL_SIZE = 12\n",
    "MEDIUM_SIZE = 16\n",
    "BIGGER_SIZE = 20\n",
    "\n",
    "plt.rc('font', size=SMALL_SIZE)          # controls default text sizes\n",
    "plt.rc('axes', titlesize=MEDIUM_SIZE)     # fontsize of the axes title\n",
    "plt.rc('axes', labelsize=MEDIUM_SIZE)    # fontsize of the x and y labels\n",
    "plt.rc('xtick', labelsize=MEDIUM_SIZE)    # fontsize of the tick labels\n",
    "plt.rc('ytick', labelsize=MEDIUM_SIZE)    # fontsize of the tick labels\n",
    "plt.rc('legend', fontsize=8)    # legend fontsize\n",
    "plt.rc('figure', titlesize=BIGGER_SIZE)  # fontsize of the figure title\n",
    "\n",
    "\n",
    "%matplotlib qt"
   ]
  },
  {
   "cell_type": "code",
   "execution_count": 2,
   "metadata": {},
   "outputs": [],
   "source": [
    "start = datetime.datetime(year = 2016, month = 1, day = 1, hour = 0, minute = 0, second = 0)\n",
    "end = datetime.datetime(year = 2016, month = 4, day = 1, hour = 0, minute = 0, second = 0)\n",
    "epoch_bin_size = datetime.timedelta(hours = 6)\n",
    "\n",
    "#L\n",
    "L_bin_size = 0.25\n",
    "L_start = 3.5\n",
    "L_end = 7.0\n",
    "\n",
    "#MLT\n",
    "\n",
    "MLT_min_for_L_v_Time_Plots = 3\n",
    "MLT_max_for_L_v_Time_Plots = 15"
   ]
  },
  {
   "cell_type": "code",
   "execution_count": 3,
   "metadata": {},
   "outputs": [
    {
     "name": "stdout",
     "output_type": "stream",
     "text": [
      "Began loading RBSP Data for year: 2016\n"
     ]
    }
   ],
   "source": [
    "print(f\"Began loading RBSP Data for year: {start.year}\")\n",
    "refs = np.load(f\"./../processed_data_chorus_neural_network/STAGE_1/RBSP_OBSERVED_CHORUS_{start.year}.npz\")\n",
    "RBSP_A = {}\n",
    "RBSP_A[\"EPOCH\"] = refs[\"EPOCH_A\"]\n",
    "RBSP_A[\"MLT\"] = refs[\"MLT_A\"]\n",
    "RBSP_A[\"L\"] = refs[\"L_A\"]\n",
    "RBSP_A[\"CHORUS\"] = refs[\"CHORUS_A\"]\n",
    "\n",
    "RBSP_B = {}\n",
    "RBSP_B[\"EPOCH\"] = refs[\"EPOCH_B\"]\n",
    "RBSP_B[\"MLT\"] = refs[\"MLT_B\"]\n",
    "RBSP_B[\"L\"] = refs[\"L_B\"]\n",
    "RBSP_B[\"CHORUS\"] = refs[\"CHORUS_B\"]\n",
    "\n",
    "refs.close()\n",
    "\n",
    "RBSP_A[\"UNIX_TIME\"] = cdfepoch.unixtime(RBSP_A[\"EPOCH\"])\n",
    "RBSP_B[\"UNIX_TIME\"] = cdfepoch.unixtime(RBSP_B[\"EPOCH\"])\n",
    "\n",
    "order_A = np.argsort(RBSP_A[\"UNIX_TIME\"])\n",
    "order_B = np.argsort(RBSP_B[\"UNIX_TIME\"])\n",
    "\n",
    "RBSP_A[\"UNIX_TIME\"] = RBSP_A[\"UNIX_TIME\"][order_A]\n",
    "RBSP_A[\"EPOCH\"] = RBSP_A[\"EPOCH\"][order_A]\n",
    "RBSP_A[\"MLT\"] = RBSP_A[\"MLT\"][order_A]\n",
    "RBSP_A[\"L\"] = RBSP_A[\"L\"][order_A]\n",
    "RBSP_A[\"CHORUS\"] = RBSP_A[\"CHORUS\"][order_A]\n",
    "\n",
    "RBSP_B[\"UNIX_TIME\"] = RBSP_B[\"UNIX_TIME\"][order_B]\n",
    "RBSP_B[\"EPOCH\"] = RBSP_B[\"EPOCH\"][order_B]\n",
    "RBSP_B[\"MLT\"] = RBSP_B[\"MLT\"][order_B]\n",
    "RBSP_B[\"L\"] = RBSP_B[\"L\"][order_B]\n",
    "RBSP_B[\"CHORUS\"] = RBSP_B[\"CHORUS\"][order_B]\n",
    "\n",
    "within_time_range_of_storm_A = (start.timestamp() < RBSP_A[\"UNIX_TIME\"]) & (RBSP_A[\"UNIX_TIME\"] < end.timestamp())\n",
    "within_time_range_of_storm_B = (start.timestamp() < RBSP_B[\"UNIX_TIME\"]) & (RBSP_B[\"UNIX_TIME\"] < end.timestamp())\n",
    "\n",
    "RBSP_A[\"UNIX_TIME\"] = RBSP_A[\"UNIX_TIME\"][within_time_range_of_storm_A]\n",
    "RBSP_A[\"EPOCH\"] = RBSP_A[\"EPOCH\"][within_time_range_of_storm_A]\n",
    "RBSP_A[\"MLT\"] = RBSP_A[\"MLT\"][within_time_range_of_storm_A]\n",
    "RBSP_A[\"L\"] = RBSP_A[\"L\"][within_time_range_of_storm_A]\n",
    "RBSP_A[\"CHORUS\"] = RBSP_A[\"CHORUS\"][within_time_range_of_storm_A]\n",
    "\n",
    "RBSP_B[\"UNIX_TIME\"] = RBSP_B[\"UNIX_TIME\"][within_time_range_of_storm_B]\n",
    "RBSP_B[\"EPOCH\"] = RBSP_B[\"EPOCH\"][within_time_range_of_storm_B]\n",
    "RBSP_B[\"MLT\"] = RBSP_B[\"MLT\"][within_time_range_of_storm_B]\n",
    "RBSP_B[\"L\"] = RBSP_B[\"L\"][within_time_range_of_storm_B]\n",
    "RBSP_B[\"CHORUS\"] = RBSP_B[\"CHORUS\"][within_time_range_of_storm_B]\n",
    "\n",
    "RBSP_WITHIN_MLT_RANGE_A = (MLT_min_for_L_v_Time_Plots < RBSP_A[\"MLT\"]) & (RBSP_A[\"MLT\"] < MLT_max_for_L_v_Time_Plots)\n",
    "RBSP_WITHIN_MLT_RANGE_B = (MLT_min_for_L_v_Time_Plots < RBSP_B[\"MLT\"]) & (RBSP_B[\"MLT\"] < MLT_max_for_L_v_Time_Plots)"
   ]
  },
  {
   "cell_type": "code",
   "execution_count": 4,
   "metadata": {},
   "outputs": [
    {
     "name": "stderr",
     "output_type": "stream",
     "text": [
      "C:\\Users\\brofe\\AppData\\Local\\Temp\\ipykernel_23744\\878490626.py:23: RuntimeWarning: invalid value encountered in divide\n",
      "  average_chorus_RBSP = np.nansum([cumulative_chorus_A, cumulative_chorus_B], axis=0) / (num_points_in_each_epoch_L_bin_A + num_points_in_each_epoch_L_bin_B)\n"
     ]
    }
   ],
   "source": [
    "cumulative_chorus_A, num_points_in_each_epoch_L_bin_A = plot_tools.bin_3D_data(xdata = RBSP_A[\"UNIX_TIME\"][RBSP_WITHIN_MLT_RANGE_A],\n",
    "                                                                               ydata = RBSP_A[\"L\"][RBSP_WITHIN_MLT_RANGE_A],\n",
    "                                                                               zdata = RBSP_A[\"CHORUS\"][RBSP_WITHIN_MLT_RANGE_A],\n",
    "                                                                               xstart = start.timestamp(),\n",
    "                                                                               xend = end.timestamp(),\n",
    "                                                                               xstep = epoch_bin_size.seconds,\n",
    "                                                                               ystart = L_start,\n",
    "                                                                               yend = L_end,\n",
    "                                                                               ystep = L_bin_size)\n",
    "\n",
    "\n",
    "cumulative_chorus_B, num_points_in_each_epoch_L_bin_B = plot_tools.bin_3D_data(xdata = RBSP_B[\"UNIX_TIME\"][RBSP_WITHIN_MLT_RANGE_B],\n",
    "                                                                               ydata = RBSP_B[\"L\"][RBSP_WITHIN_MLT_RANGE_B], \n",
    "                                                                               zdata = RBSP_B[\"CHORUS\"][RBSP_WITHIN_MLT_RANGE_B],\n",
    "                                                                               xstart = start.timestamp(),\n",
    "                                                                               xend = end.timestamp(),\n",
    "                                                                               xstep = epoch_bin_size.seconds,\n",
    "                                                                               ystart = L_start,\n",
    "                                                                               yend = L_end,\n",
    "                                                                               ystep = L_bin_size)\n",
    "\n",
    "\n",
    "average_chorus_RBSP = np.nansum([cumulative_chorus_A, cumulative_chorus_B], axis=0) / (num_points_in_each_epoch_L_bin_A + num_points_in_each_epoch_L_bin_B)"
   ]
  },
  {
   "cell_type": "code",
   "execution_count": 6,
   "metadata": {},
   "outputs": [],
   "source": [
    "fig, ax = plt.subplots(1, 1, figsize=(16, 9), sharex=True)\n",
    "\n",
    "image = ax.imshow(average_chorus_RBSP.T, \n",
    "                  origin = \"lower\",\n",
    "                  extent=[start, end, L_start, L_end],\n",
    "                  norm=colors.LogNorm(vmin=1, vmax=100),\n",
    "                  aspect=\"auto\",\n",
    "                  interpolation=\"none\")\n",
    "\n",
    "image.cmap.set_under(\"black\")\n",
    "\n",
    "cbar = plt.colorbar(image, ax=ax, pad=0.01)\n",
    "\n",
    "cbar.set_label(\"Chorus Bw (pT)\\n\", loc=\"center\", labelpad=15, rotation=270)\n",
    "\n",
    "ax.set_title(f\"RBSP Observed Chorus ({MLT_min_for_L_v_Time_Plots} < MLT < {MLT_max_for_L_v_Time_Plots})\")\n",
    "ax.set_ylabel(\"L\")\n",
    "ax.set_xlabel(\"Time\")\n",
    "\n",
    "plt.tight_layout()"
   ]
  },
  {
   "cell_type": "code",
   "execution_count": 7,
   "metadata": {},
   "outputs": [
    {
     "name": "stdout",
     "output_type": "stream",
     "text": [
      "Finished loading POES data for year : 2016\n",
      "Began loading SUPERMAG data for year : 2016\n",
      "Finished loading SUPERMAG data for year : 2016\n",
      "Began loading OMNI data for year : 2016\n",
      "Finished loading OMNI data for year : 2016\n"
     ]
    },
    {
     "name": "stderr",
     "output_type": "stream",
     "text": [
      "c:\\Dev\\Research\\REPT_Enhancements_Tool\\ResearchPy\\Lib\\site-packages\\erfa\\core.py:133: ErfaWarning: ERFA function \"dtf2d\" yielded 1 of \"dubious year (Note 6)\"\n",
      "  warn(f'ERFA function \"{func_name}\" yielded {wmsg}', ErfaWarning)\n"
     ]
    }
   ],
   "source": [
    "POES = chorus_machine_learning_helper.load_MPE_year(start.year)\n",
    "\n",
    "SUPERMAG = chorus_machine_learning_helper.load_SUPERMAG_SME_year(start.year)\n",
    "\n",
    "OMNI = chorus_machine_learning_helper.load_OMNI_year(start.year)"
   ]
  },
  {
   "cell_type": "code",
   "execution_count": 8,
   "metadata": {},
   "outputs": [
    {
     "name": "stdout",
     "output_type": "stream",
     "text": [
      "Number of POES satellites loaded: 4\n"
     ]
    },
    {
     "name": "stderr",
     "output_type": "stream",
     "text": [
      "0it [00:00, ?it/s]c:\\Dev\\Research\\REPT_Enhancements_Tool\\src\\chorus_machine_learning_helper.py:168: RuntimeWarning: Mean of empty slice\n",
      "  AVG_AVG_B = np.nanmean(OMNI[\"AVG_B\"][TIME_RANGE[0]:TIME_RANGE[1]])\n",
      "c:\\Dev\\Research\\REPT_Enhancements_Tool\\src\\chorus_machine_learning_helper.py:169: RuntimeWarning: Mean of empty slice\n",
      "  AVG_FLOW_SPEED = np.nanmean(OMNI[\"FLOW_SPEED\"][TIME_RANGE[0]:TIME_RANGE[1]])\n",
      "c:\\Dev\\Research\\REPT_Enhancements_Tool\\src\\chorus_machine_learning_helper.py:170: RuntimeWarning: Mean of empty slice\n",
      "  AVG_PROTON_DENSITY = np.nanmean(OMNI[\"PROTON_DENSITY\"][TIME_RANGE[0]:TIME_RANGE[1]])\n",
      "c:\\Dev\\Research\\REPT_Enhancements_Tool\\ResearchPy\\Lib\\site-packages\\numpy\\core\\fromnumeric.py:3504: RuntimeWarning: Mean of empty slice.\n",
      "  return _methods._mean(a, axis=axis, dtype=dtype,\n",
      "c:\\Dev\\Research\\REPT_Enhancements_Tool\\ResearchPy\\Lib\\site-packages\\numpy\\core\\_methods.py:129: RuntimeWarning: invalid value encountered in scalar divide\n",
      "  ret = ret.dtype.type(ret / rcount)\n",
      "5951471it [06:50, 14485.98it/s]\n"
     ]
    }
   ],
   "source": [
    "print(f\"Number of POES satellites loaded: {len(POES)}\")\n",
    "\n",
    "FEATURE_REFS = chorus_machine_learning_helper.find_average_SUPERMAG_and_OMNI_values_for_each_POES_data_point(POES, SUPERMAG, OMNI)\n"
   ]
  },
  {
   "cell_type": "code",
   "execution_count": 15,
   "metadata": {},
   "outputs": [],
   "source": [
    "POES_TIMES_OF_FEATURES = FEATURE_REFS[\"POES_TIMES_OF_FEATURES\"].flatten()\n",
    "MLT_FEATURES_PREPROCESSING = FEATURE_REFS[\"MLT_FEATURES\"].flatten()\n",
    "L_FEATURES_PREPROCESSING = FEATURE_REFS[\"L_FEATURES\"].flatten()\n",
    "\n",
    "FEATURES_POST_PROCESSING = chorus_machine_learning_helper.normalize_features(FEATURE_REFS, version = \"v4a\")\n",
    "\n",
    "MLT_FEATURES_POST_PROCESSING_1 = FEATURES_POST_PROCESSING[:, 1].flatten()\n",
    "MLT_FEATURES_POST_PROCESSING_2 = FEATURES_POST_PROCESSING[:, 2].flatten()"
   ]
  },
  {
   "cell_type": "code",
   "execution_count": 16,
   "metadata": {},
   "outputs": [],
   "source": [
    "model = xgb.Booster({'nthread': 8, \"device\" : \"cuda\"})  # init model\n",
    "model.load_model(f\"./../processed_data_chorus_neural_network/TRAINED_MODELS/Weighted_L2/XG_BOOSTED_REGRESSION_MSE_WEIGHTED_ON_L_AND_AMPLITUDE.model\")  # load model data\n",
    "\n",
    "CHORUS_PREDICTED = model.predict(xgb.DMatrix(FEATURES_POST_PROCESSING))\n",
    "CHORUS_WITHIN_MLT = ((MLT_min_for_L_v_Time_Plots < MLT_FEATURES_PREPROCESSING) & (MLT_FEATURES_PREPROCESSING < MLT_max_for_L_v_Time_Plots))\n"
   ]
  },
  {
   "cell_type": "code",
   "execution_count": 17,
   "metadata": {},
   "outputs": [
    {
     "name": "stderr",
     "output_type": "stream",
     "text": [
      "C:\\Users\\brofe\\AppData\\Local\\Temp\\ipykernel_23744\\964225135.py:12: RuntimeWarning: invalid value encountered in divide\n",
      "  averaged_model_predictions = cumulative_chorus / num_points_in_each_epoch_L_bin\n"
     ]
    }
   ],
   "source": [
    "cumulative_chorus, num_points_in_each_epoch_L_bin = plot_tools.bin_3D_data(xdata = POES_TIMES_OF_FEATURES[CHORUS_WITHIN_MLT],\n",
    "                                                                            ydata = L_FEATURES_PREPROCESSING[CHORUS_WITHIN_MLT], \n",
    "                                                                            zdata = CHORUS_PREDICTED[CHORUS_WITHIN_MLT],\n",
    "                                                                            xstart = start.timestamp(),\n",
    "                                                                            xend = end.timestamp(),\n",
    "                                                                            xstep = epoch_bin_size.seconds,\n",
    "                                                                            ystart = L_start,\n",
    "                                                                            yend = L_end,\n",
    "                                                                            ystep = L_bin_size)\n",
    "\n",
    "\n",
    "averaged_model_predictions = cumulative_chorus / num_points_in_each_epoch_L_bin"
   ]
  },
  {
   "cell_type": "code",
   "execution_count": 18,
   "metadata": {},
   "outputs": [],
   "source": [
    "fig, ax = plt.subplots(1, 1, figsize=(16, 9), sharex=True)\n",
    "\n",
    "image = ax.imshow(averaged_model_predictions.T, \n",
    "                  origin = \"lower\",\n",
    "                  extent=[start, end, L_start, L_end],\n",
    "                  norm=colors.LogNorm(vmin=1, vmax=100),\n",
    "                  aspect=\"auto\",\n",
    "                  interpolation=\"none\")\n",
    "\n",
    "image.cmap.set_under(\"black\")\n",
    "\n",
    "cbar = plt.colorbar(image, ax=ax, pad=0.01)\n",
    "\n",
    "cbar.set_label(\"Chorus Bw (pT)\\n\", loc=\"center\", labelpad=15, rotation=270)\n",
    "\n",
    "ax.set_title(f\"Model Predicted Chorus ({MLT_min_for_L_v_Time_Plots} < MLT < {MLT_max_for_L_v_Time_Plots})\")\n",
    "ax.set_ylabel(\"L\")\n",
    "ax.set_xlabel(\"Time\")\n",
    "\n",
    "plt.tight_layout()"
   ]
  },
  {
   "cell_type": "code",
   "execution_count": 19,
   "metadata": {},
   "outputs": [
    {
     "data": {
      "text/plain": [
       "Text(0.5, 0, 'Time (UTC)')"
      ]
     },
     "execution_count": 19,
     "metadata": {},
     "output_type": "execute_result"
    }
   ],
   "source": [
    "fig, axs = plt.subplots(3, 1)\n",
    "\n",
    "image_pred = axs[0].imshow(averaged_model_predictions.T, \n",
    "                  origin = \"lower\",\n",
    "                  extent=[start, end, L_start, L_end],\n",
    "                  norm=colors.LogNorm(vmin=1, vmax=100),\n",
    "                  aspect=\"auto\",\n",
    "                  interpolation=\"none\")\n",
    "\n",
    "image_pred.cmap.set_under(\"black\")\n",
    "\n",
    "cbar = plt.colorbar(image_pred, ax=axs[0], pad=0.02)\n",
    "\n",
    "cbar.set_label(\"Chorus Bw (pT)\\n\\n\\n\", loc=\"center\", labelpad=15, rotation=270)\n",
    "\n",
    "axs[0].set_title(f\"Model Predicted Chorus ({MLT_min_for_L_v_Time_Plots} < MLT < {MLT_max_for_L_v_Time_Plots})\")\n",
    "axs[0].set_ylabel(\"L\")\n",
    "\n",
    "\n",
    "image_observed = axs[1].imshow(average_chorus_RBSP.T, \n",
    "                  origin = \"lower\",\n",
    "                  extent=[start, end, L_start, L_end],\n",
    "                  norm=colors.LogNorm(vmin=1, vmax=100),\n",
    "                  aspect=\"auto\",\n",
    "                  interpolation=\"none\")\n",
    "\n",
    "image_observed.cmap.set_under(\"black\")\n",
    "\n",
    "cbar = plt.colorbar(image_observed, ax=axs[1], pad=0.02)\n",
    "\n",
    "cbar.set_label(\"Chorus Bw (pT)\\n\\n\\n\", loc=\"center\", labelpad=15, rotation=270)\n",
    "\n",
    "axs[1].set_title(f\"RBSP Observed Chorus ({MLT_min_for_L_v_Time_Plots} < MLT < {MLT_max_for_L_v_Time_Plots})\")\n",
    "axs[1].set_ylabel(\"L\")\n",
    "\n",
    "average_chorus_RBSP[average_chorus_RBSP <= 0] = -np.infty\n",
    "absolute_error = (np.abs(average_chorus_RBSP - averaged_model_predictions) / average_chorus_RBSP) * 100\n",
    "\n",
    "image_error = axs[2].imshow(absolute_error.T, \n",
    "                  origin = \"lower\",\n",
    "                  extent=[start, end, L_start, L_end],\n",
    "                  norm=colors.LogNorm(vmin=10, vmax=1000),\n",
    "                  aspect=\"auto\",\n",
    "                  interpolation=\"none\")\n",
    "\n",
    "image_error.cmap.set_under(\"black\")\n",
    "\n",
    "cbar = plt.colorbar(image_error, ax=axs[2], pad=0.02)\n",
    "\n",
    "cbar.set_label(\"Percent Error (%)\\n\\n\\n\", loc=\"center\", labelpad=15, rotation=270)\n",
    "\n",
    "axs[2].set_title(\"Error\")\n",
    "axs[2].set_ylabel(\"L\")\n",
    "axs[2].set_xlabel(\"Time (UTC)\")\n"
   ]
  },
  {
   "cell_type": "code",
   "execution_count": 20,
   "metadata": {},
   "outputs": [
    {
     "name": "stderr",
     "output_type": "stream",
     "text": [
      "C:\\Users\\brofe\\AppData\\Local\\Temp\\ipykernel_23744\\3067128950.py:60: RuntimeWarning: Mean of empty slice\n",
      "  average_chorus_rbsp_A[r, a] += np.nanmean(RBSP_A[\"CHORUS\"][(rbins[r] <= radius_of_points_rbsp_A) & (radius_of_points_rbsp_A < rbins[r+1]) & (abins[a] < angles_of_points_rbsp_A) & (angles_of_points_rbsp_A < abins[a+1])])\n",
      "C:\\Users\\brofe\\AppData\\Local\\Temp\\ipykernel_23744\\3067128950.py:61: RuntimeWarning: Mean of empty slice\n",
      "  average_chorus_rbsp_B[r, a] += np.nanmean(RBSP_B[\"CHORUS\"][(rbins[r] <= radius_of_points_rbsp_B) & (radius_of_points_rbsp_B < rbins[r+1]) & (abins[a] < angles_of_points_rbsp_B) & (angles_of_points_rbsp_B < abins[a+1])])\n",
      "C:\\Users\\brofe\\AppData\\Local\\Temp\\ipykernel_23744\\3067128950.py:62: RuntimeWarning: Mean of empty slice\n",
      "  average_chorus_model_predicted[r, a] += np.nanmean(chorus_within_time_range[(rbins[r] <= radius_of_points_poes) & (radius_of_points_poes < rbins[r+1]) & (abins[a] < angles_of_points_poes) & (angles_of_points_poes < abins[a+1])])\n",
      "C:\\Users\\brofe\\AppData\\Local\\Temp\\ipykernel_23744\\3067128950.py:64: RuntimeWarning: Mean of empty slice\n",
      "  average_chorus_rbsp = np.nanmean([average_chorus_rbsp_A, average_chorus_rbsp_B], axis=0)\n",
      "C:\\Users\\brofe\\AppData\\Local\\Temp\\ipykernel_23744\\3067128950.py:74: UserWarning: set_ticklabels() should only be used with a fixed number of ticks, i.e. after set_ticks() or using a FixedLocator.\n",
      "  ax.set_xticklabels(['      MLT 0', \"\", 'MLT 6', \"\", 'MLT 12        ', \"\", 'MLT 18'])\n"
     ]
    }
   ],
   "source": [
    "fig, ax = plt.subplots(1, 1, subplot_kw=dict(projection=\"polar\"))\n",
    "\n",
    "ax.set_xlim(xmin = 0, xmax = 2 * np.pi)\n",
    "ax.set_ylim(ymin = 0, ymax=7)\n",
    "\n",
    "#ax[1].set_xlim(xmin = 0, xmax = 2 * np.pi)\n",
    "#ax[1].set_ylim(ymin=0, ymax=7)\n",
    "\n",
    "\n",
    "start_of_storm = datetime.datetime(year = 2016, month = 2, day = 15)\n",
    "end_of_storm = datetime.datetime(year = 2016, month = 2, day = 21)\n",
    "\n",
    "within_time_range_of_storm_A = (start_of_storm.timestamp() < RBSP_A[\"UNIX_TIME\"]) & (RBSP_A[\"UNIX_TIME\"] < end_of_storm.timestamp())\n",
    "within_time_range_of_storm_B = (start_of_storm.timestamp() < RBSP_B[\"UNIX_TIME\"]) & (RBSP_B[\"UNIX_TIME\"] < end_of_storm.timestamp())\n",
    "\n",
    "\n",
    "RBSP_A[\"UNIX_TIME\"] = RBSP_A[\"UNIX_TIME\"][within_time_range_of_storm_A]\n",
    "RBSP_A[\"EPOCH\"] = RBSP_A[\"EPOCH\"][within_time_range_of_storm_A]\n",
    "RBSP_A[\"MLT\"] = RBSP_A[\"MLT\"][within_time_range_of_storm_A]\n",
    "RBSP_A[\"L\"] = RBSP_A[\"L\"][within_time_range_of_storm_A]\n",
    "RBSP_A[\"CHORUS\"] = RBSP_A[\"CHORUS\"][within_time_range_of_storm_A]\n",
    "\n",
    "RBSP_B[\"UNIX_TIME\"] = RBSP_B[\"UNIX_TIME\"][within_time_range_of_storm_B]\n",
    "RBSP_B[\"EPOCH\"] = RBSP_B[\"EPOCH\"][within_time_range_of_storm_B]\n",
    "RBSP_B[\"MLT\"] = RBSP_B[\"MLT\"][within_time_range_of_storm_B]\n",
    "RBSP_B[\"L\"] = RBSP_B[\"L\"][within_time_range_of_storm_B]\n",
    "RBSP_B[\"CHORUS\"] = RBSP_B[\"CHORUS\"][within_time_range_of_storm_B]\n",
    "\n",
    "radius_of_points_rbsp_A = RBSP_A[\"L\"]\n",
    "x_rbsp_A = np.cos((RBSP_A[\"MLT\"] * 2 * np.pi) / 24.0)\n",
    "y_rbsp_A = np.sin((RBSP_A[\"MLT\"] * 2 * np.pi) / 24.0)\n",
    "\n",
    "radius_of_points_rbsp_B = RBSP_B[\"L\"]\n",
    "x_rbsp_B = np.cos((RBSP_B[\"MLT\"] * 2 * np.pi) / 24.0)\n",
    "y_rbsp_B = np.sin((RBSP_B[\"MLT\"] * 2 * np.pi) / 24.0)\n",
    "\n",
    "angles_of_points_rbsp_A = np.arctan2(y_rbsp_A, x_rbsp_A)\n",
    "angles_of_points_rbsp_B = np.arctan2(y_rbsp_B, x_rbsp_B)\n",
    "\n",
    "#LOOK AT PREPROCESSING CODE TO FIND CORRECT WAY TO DO ARCTAN HERE\n",
    "\n",
    "within_time_range_of_storm_poes = (start_of_storm.timestamp() < np.array(POES_TIMES_OF_FEATURES)) & (np.array(POES_TIMES_OF_FEATURES) < end_of_storm.timestamp())\n",
    "\n",
    "radius_of_points_poes = L_FEATURES_PREPROCESSING[within_time_range_of_storm_poes]\n",
    "angles_of_points_poes = np.arctan2(MLT_FEATURES_POST_PROCESSING_1[within_time_range_of_storm_poes], MLT_FEATURES_POST_PROCESSING_2[within_time_range_of_storm_poes])\n",
    "chorus_within_time_range = CHORUS_PREDICTED[within_time_range_of_storm_poes]\n",
    "\n",
    "rbins = np.linspace(0, 8, 30)\n",
    "abins = np.linspace(-np.pi, np.pi, 120)\n",
    "\n",
    "A, R = np.meshgrid(abins, rbins)\n",
    "\n",
    "average_chorus_rbsp_A = np.zeros_like(A)\n",
    "average_chorus_rbsp_B = np.zeros_like(A)\n",
    "average_chorus_model_predicted = np.zeros_like(A)\n",
    "\n",
    "\n",
    "for r in range(len(rbins) - 1):\n",
    "    for a in range(len(abins) - 1):\n",
    "        \n",
    "        average_chorus_rbsp_A[r, a] += np.nanmean(RBSP_A[\"CHORUS\"][(rbins[r] <= radius_of_points_rbsp_A) & (radius_of_points_rbsp_A < rbins[r+1]) & (abins[a] < angles_of_points_rbsp_A) & (angles_of_points_rbsp_A < abins[a+1])])\n",
    "        average_chorus_rbsp_B[r, a] += np.nanmean(RBSP_B[\"CHORUS\"][(rbins[r] <= radius_of_points_rbsp_B) & (radius_of_points_rbsp_B < rbins[r+1]) & (abins[a] < angles_of_points_rbsp_B) & (angles_of_points_rbsp_B < abins[a+1])])\n",
    "        average_chorus_model_predicted[r, a] += np.nanmean(chorus_within_time_range[(rbins[r] <= radius_of_points_poes) & (radius_of_points_poes < rbins[r+1]) & (abins[a] < angles_of_points_poes) & (angles_of_points_poes < abins[a+1])])\n",
    "\n",
    "average_chorus_rbsp = np.nanmean([average_chorus_rbsp_A, average_chorus_rbsp_B], axis=0)\n",
    "\n",
    "#pc = ax.pcolormesh(A, R, average_chorus_rbsp, norm=colors.LogNorm(vmin = 1, vmax = 100))\n",
    "#cbar = plt.colorbar(pc)\n",
    "#cbar.set_label(\"Chorus Bw (pT)\\n\\n\", loc=\"center\", labelpad=15, rotation=270)\n",
    "\n",
    "pc = ax.pcolormesh(A, R, average_chorus_model_predicted, norm=colors.LogNorm(vmin = 1, vmax = 100))\n",
    "cbar = plt.colorbar(pc)\n",
    "cbar.set_label(\"Chorus Bw (pT)\\n\\n\", loc=\"center\", labelpad=15, rotation=270)\n",
    "\n",
    "ax.set_xticklabels(['      MLT 0', \"\", 'MLT 6', \"\", 'MLT 12        ', \"\", 'MLT 18'])\n",
    "ax.set_rlim(0)\n",
    "#ax[1].set_xticklabels(['      MLT 0', \"\", 'MLT 6', \"\", 'MLT 12        ', \"\", 'MLT 18'])\n",
    "\n",
    "#ax[0].set_title(\"Observed by RBSP\\n\")\n",
    "#ax[1].set_title(\"Predicted by model\")\n",
    "\n",
    "plt.show()"
   ]
  },
  {
   "cell_type": "code",
   "execution_count": null,
   "metadata": {},
   "outputs": [],
   "source": []
  }
 ],
 "metadata": {
  "kernelspec": {
   "display_name": "ResearchPy",
   "language": "python",
   "name": "python3"
  },
  "language_info": {
   "codemirror_mode": {
    "name": "ipython",
    "version": 3
   },
   "file_extension": ".py",
   "mimetype": "text/x-python",
   "name": "python",
   "nbconvert_exporter": "python",
   "pygments_lexer": "ipython3",
   "version": "3.12.5"
  }
 },
 "nbformat": 4,
 "nbformat_minor": 2
}
