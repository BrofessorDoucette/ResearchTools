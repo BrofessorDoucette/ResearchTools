{
 "cells": [
  {
   "cell_type": "code",
   "execution_count": 196,
   "metadata": {},
   "outputs": [
    {
     "data": {
      "text/plain": [
       "<contextlib.ExitStack at 0x24d414e0980>"
      ]
     },
     "execution_count": 196,
     "metadata": {},
     "output_type": "execute_result"
    }
   ],
   "source": [
    "import sys\n",
    "import os\n",
    "# caution: path[0] is reserved for script path (or '' in REPL).\n",
    "sys.path.insert(1, os.path.abspath('./../src'))\n",
    "\n",
    "import datetime\n",
    "import numpy as np\n",
    "import psd_tool\n",
    "import data_loader\n",
    "from field_models import model\n",
    "import matplotlib.pyplot as plt\n",
    "\n",
    "SMALL_SIZE = 12\n",
    "MEDIUM_SIZE = 18\n",
    "BIGGER_SIZE = 20\n",
    "\n",
    "plt.rc('font', size=SMALL_SIZE)          # controls default text sizes\n",
    "plt.rc('axes', titlesize=BIGGER_SIZE)     # fontsize of the axes title\n",
    "plt.rc('axes', labelsize=MEDIUM_SIZE)    # fontsize of the x and y labels\n",
    "plt.rc('xtick', labelsize=MEDIUM_SIZE)    # fontsize of the tick labels\n",
    "plt.rc('ytick', labelsize=MEDIUM_SIZE)    # fontsize of the tick labels\n",
    "plt.rc('legend', fontsize=8)    # legend fontsize\n",
    "plt.rc('figure', titlesize=MEDIUM_SIZE)  # fontsize of the figure title\n",
    "\n",
    "import importlib\n",
    "importlib.reload(psd_tool)\n",
    "importlib.reload(data_loader)\n",
    "\n",
    "%matplotlib qt\n",
    "plt.ioff() #This is awesome and delays the drawing until plt.show(). Thank god\n",
    "\n"
   ]
  },
  {
   "cell_type": "code",
   "execution_count": 205,
   "metadata": {},
   "outputs": [
    {
     "name": "stdout",
     "output_type": "stream",
     "text": [
      "2013-03-01 00:00:00\n",
      "Loading : PSD_201303_A_TS04D.npz\n",
      "Time taken for loop: 5.774267673492432\n"
     ]
    }
   ],
   "source": [
    "#Data Properties\n",
    "start = datetime.datetime(year = 2013,\n",
    "                            month = 3,\n",
    "                            day = 5) - datetime.timedelta(hours=8.5)\n",
    "\n",
    "end = datetime.datetime(year = 2013, \n",
    "                        month = 3, \n",
    "                        day = 16) - datetime.timedelta(hours=8.5)\n",
    "\n",
    "satellite = \"A\"\n",
    "chosen_mu = 1000\n",
    "chosen_k = 0.05\n",
    "model = model.TS04D\n",
    "\n",
    "refs = data_loader.load_psd(satellite=satellite, field_model=model, start=start, end=end)\n",
    "\n",
    "selected_refs = psd_tool.select_mu_and_k_from_psd(refs=refs, chosen_mu=chosen_mu, chosen_k=chosen_k)\n",
    "\n",
    "epoch = selected_refs[\"EPOCH\"]\n",
    "Lstar = selected_refs[\"L_STAR\"] \n",
    "L = selected_refs[\"L\"]\n",
    "PSD = selected_refs[\"PSD\"]\n",
    "in_out = selected_refs[\"IN_OUT\"]\n",
    "orbit_number = selected_refs[\"ORBIT_NUMBER\"]\n",
    "\n",
    "not_nan = np.isfinite(PSD)\n",
    "epoch = epoch[not_nan]\n",
    "Lstar = Lstar[not_nan]\n",
    "L = L[not_nan]\n",
    "PSD = PSD[not_nan]\n",
    "in_out = in_out[not_nan]\n",
    "orbit_number = orbit_number[not_nan]"
   ]
  },
  {
   "cell_type": "code",
   "execution_count": 206,
   "metadata": {},
   "outputs": [],
   "source": [
    "#Simulation Properties\n",
    "min_lstar = 2.0\n",
    "max_lstar = 6.0\n",
    "dL = 0.05\n"
   ]
  },
  {
   "cell_type": "code",
   "execution_count": 207,
   "metadata": {},
   "outputs": [
    {
     "data": {
      "text/plain": [
       "Text(0.5, 1.0, 'RBSP-A, $\\\\mu$ = 1000 (MeV / G), K = 0.05 ($R_E$$G^{1/2}$), TS04D')"
      ]
     },
     "execution_count": 207,
     "metadata": {},
     "output_type": "execute_result"
    }
   ],
   "source": [
    "fig, axs = plt.subplots(1,2, sharex=True, sharey=True)\n",
    "fig.set_size_inches(14, 10)\n",
    "\n",
    "#Leaving out the first orbit should get us the full orbit that we started on..\n",
    "unique_orbits = np.sort(np.unique(orbit_number))[1:]\n",
    "start_of_orbits = []\n",
    "\n",
    "for orbit in unique_orbits:\n",
    "    \n",
    "    inbound = (orbit_number == orbit) & (in_out == -1)\n",
    "    outbound = (orbit_number == orbit) & (in_out == 1)\n",
    "    \n",
    "    if np.any(np.nonzero(inbound)[0]):\n",
    "        \n",
    "        start_of_inbound_orbit = epoch[np.nonzero(inbound)[0][0]]\n",
    "        \n",
    "        binned_Lstar, binned_PSD = psd_tool.bin_radial_profile(LSTAR = Lstar[inbound],\n",
    "                                                               PSD = PSD[inbound],\n",
    "                                                               LSTAR_MIN = min_lstar,\n",
    "                                                               LSTAR_MAX = max_lstar,\n",
    "                                                               dL = dL)\n",
    "        \n",
    "        psd_tool.plot_radial_profile(LSTAR = binned_Lstar,\n",
    "                                     PSD = binned_PSD,\n",
    "                                     IS_INBOUND = True,\n",
    "                                     START_OF_ORBIT = start_of_inbound_orbit,\n",
    "                                     AXIS = axs[0])\n",
    "        \n",
    "        start_of_orbits.append(start_of_inbound_orbit)\n",
    "\n",
    "    if np.any(np.nonzero(outbound)[0]):\n",
    "        \n",
    "        start_of_outbound_orbit = epoch[np.nonzero(outbound)[0][0]]\n",
    "        \n",
    "        binned_Lstar, binned_PSD = psd_tool.bin_radial_profile(LSTAR = Lstar[outbound],\n",
    "                                                               PSD = PSD[outbound],\n",
    "                                                               LSTAR_MIN = min_lstar,\n",
    "                                                               LSTAR_MAX = max_lstar,\n",
    "                                                               dL = dL)\n",
    "        \n",
    "        psd_tool.plot_radial_profile(LSTAR = binned_Lstar,\n",
    "                                     PSD = binned_PSD,\n",
    "                                     IS_INBOUND = False,\n",
    "                                     START_OF_ORBIT = start_of_outbound_orbit,\n",
    "                                     AXIS = axs[0])\n",
    "        \n",
    "        start_of_orbits.append(start_of_outbound_orbit)\n",
    "\n",
    "axs[0].set_axisbelow(True)\n",
    "axs[0].yaxis.grid(color='gray', linestyle='dashed')\n",
    "axs[0].xaxis.grid(color='gray', linestyle='dashed')\n",
    "axs[0].set_xlabel(\"L*\")\n",
    "axs[0].set_ylabel(\"PSD $(c/MeV/cm)^{3}$\")\n",
    "axs[0].set_xlim((min_lstar, max_lstar))\n",
    "\n",
    "handles, labels = axs[0].get_legend_handles_labels()\n",
    "order = np.argsort(start_of_orbits)\n",
    "colors = plt.get_cmap(\"viridis\", len(order)) # Initialize holder for trajectories\n",
    "j = 0\n",
    "for i in order:\n",
    "    handles[i].set_color(colors(j))\n",
    "    j += 1\n",
    "\n",
    "axs[0].legend([handles[i] for i in order], [labels[i] for i in order])\n",
    "axs[0].set_title(rf\"RBSP-{satellite.upper()}, $\\mu$ = {chosen_mu} (MeV / G), K = {chosen_k} ($R_E$$G^{{1/2}}$), {model.name}\")"
   ]
  },
  {
   "cell_type": "code",
   "execution_count": 208,
   "metadata": {},
   "outputs": [],
   "source": [
    "#Calculate which half orbit is first, this will be our initial condition..\n",
    "\n",
    "initial_orbit_number = unique_orbits[0]\n",
    "initial_orbit = (orbit_number == initial_orbit_number)\n",
    "initial_in_out = in_out[initial_orbit][0]\n",
    "initial_half_orbit = (orbit_number == initial_orbit_number) & (in_out == 1)\n",
    "initial_PSD = PSD[initial_half_orbit]\n",
    "initial_Lstar = Lstar[initial_half_orbit]\n",
    "initial_epoch = epoch[initial_half_orbit]\n",
    "\n",
    "binned_initial_Lstar, binned_initial_PSD = psd_tool.bin_radial_profile(LSTAR = initial_Lstar,\n",
    "                                                       PSD = initial_PSD,\n",
    "                                                       LSTAR_MIN = min_lstar,\n",
    "                                                       LSTAR_MAX = max_lstar,\n",
    "                                                       dL = dL)\n",
    "\n",
    "psd_tool.plot_radial_profile(LSTAR = binned_initial_Lstar,\n",
    "                             PSD = binned_initial_PSD,\n",
    "                             IS_INBOUND = False,\n",
    "                             START_OF_ORBIT = initial_epoch[0],\n",
    "                             AXIS = axs[1])\n",
    "\n",
    "axs[1].set_axisbelow(True)\n",
    "axs[1].yaxis.grid(color='gray', linestyle='dashed')\n",
    "axs[1].xaxis.grid(color='gray', linestyle='dashed')\n",
    "axs[1].set_xlabel(\"L*\")\n",
    "axs[1].set_ylabel(\"PSD $(c/MeV/cm)^{3}$\")\n",
    "axs[1].set_xlim((min_lstar, max_lstar))\n",
    "\n",
    "axs[1].set_title(rf\"1-D Diffusion, RBSP-{satellite.upper()}, $\\mu$ = {chosen_mu} (MeV / G), K = {chosen_k} ($R_E$$G^{{1/2}}$), {model.name}\")\n",
    "plt.show()"
   ]
  },
  {
   "cell_type": "code",
   "execution_count": null,
   "metadata": {},
   "outputs": [],
   "source": []
  }
 ],
 "metadata": {
  "kernelspec": {
   "display_name": "RadiationBeltResearch",
   "language": "python",
   "name": "python3"
  },
  "language_info": {
   "codemirror_mode": {
    "name": "ipython",
    "version": 3
   },
   "file_extension": ".py",
   "mimetype": "text/x-python",
   "name": "python",
   "nbconvert_exporter": "python",
   "pygments_lexer": "ipython3",
   "version": "3.12.1"
  }
 },
 "nbformat": 4,
 "nbformat_minor": 2
}
