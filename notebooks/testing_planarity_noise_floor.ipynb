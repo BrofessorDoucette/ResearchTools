{
 "cells": [
  {
   "cell_type": "code",
   "execution_count": 1,
   "id": "542d393b-e13b-4f3a-8625-cb0bf8399449",
   "metadata": {},
   "outputs": [
    {
     "data": {
      "text/plain": [
       "<module 'rbsp_chorus_tool' from 'C:\\\\Dev\\\\Research\\\\Research_Tools\\\\src\\\\rbsp_chorus_tool.py'>"
      ]
     },
     "execution_count": 1,
     "metadata": {},
     "output_type": "execute_result"
    }
   ],
   "source": [
    "import os\n",
    "import sys\n",
    "\n",
    "# caution: path[0] is reserved for script path (or '' in REPL).\n",
    "sys.path.insert(1, os.path.abspath(\"./../src\"))\n",
    "\n",
    "import matplotlib.pyplot as plt\n",
    "\n",
    "import rbsp_chorus_tool\n",
    "import importlib\n",
    "import numpy as np\n",
    "import datetime\n",
    "from cdflib.epochs_astropy import CDFAstropy as cdfepoch\n",
    "import data_loader\n",
    "\n",
    "importlib.reload(rbsp_chorus_tool)\n",
    "\n",
    "%matplotlib qt"
   ]
  },
  {
   "cell_type": "code",
   "execution_count": 2,
   "id": "035a2e9c-f10e-463f-97af-159d591ab8ca",
   "metadata": {},
   "outputs": [],
   "source": [
    "f = np.linspace(1, 10000, 10000)\n",
    "plt.semilogx(f, rbsp_chorus_tool.emfisis_planarity_floor(f))\n",
    "plt.show()"
   ]
  },
  {
   "cell_type": "code",
   "execution_count": 3,
   "id": "0006ca6b-1e0b-4851-958e-b6d32df07c40",
   "metadata": {},
   "outputs": [],
   "source": [
    "plt.loglog(f, rbsp_chorus_tool.emfisis_noise_floor(f))\n",
    "plt.show()"
   ]
  },
  {
   "cell_type": "code",
   "execution_count": 13,
   "id": "449b3d9a-fec6-49da-aecf-4345dac546e1",
   "metadata": {},
   "outputs": [
    {
     "name": "stdout",
     "output_type": "stream",
     "text": [
      "{'Epoch': array([473342469900940343, 473342475900940045, 473342481900999769, ...,\n",
      "       504964854367462500, 504964860367462440, 504964866367502376],\n",
      "      shape=(5255409,)), 'L': array([4.3097134, 4.3073707, 4.305026 , ..., 1.141667 , 1.143156 ,\n",
      "       1.144671 ], shape=(5255409,), dtype=float32), 'MLT': array([2.9388027 , 2.9412177 , 2.9436357 , ..., 0.86419344, 0.894648  ,\n",
      "       0.9250182 ], shape=(5255409,), dtype=float32), 'bsum': array([[2.1441966e-04, 6.0384595e-05, 1.2585017e-05, ..., 2.0695447e-10,\n",
      "        1.9654774e-10, 1.8375335e-10],\n",
      "       [1.5284331e-04, 6.3883148e-05, 4.4424280e-05, ..., 2.0302685e-10,\n",
      "        1.9277314e-10, 1.8447395e-10],\n",
      "       [2.8589289e-04, 4.9558741e-05, 1.2705937e-05, ..., 2.0665232e-10,\n",
      "        2.0005270e-10, 2.0128797e-10],\n",
      "       ...,\n",
      "       [7.3430274e-04, 2.8090726e-05, 4.4612630e-06, ..., 5.6799176e-10,\n",
      "        5.9800120e-10, 4.5493967e-10],\n",
      "       [1.4677125e-03, 2.3110666e-04, 9.9987170e-05, ..., 4.1270043e-10,\n",
      "        5.6726540e-10, 4.0209555e-10],\n",
      "       [3.2037750e-03, 6.2952990e-05, 3.3783283e-05, ..., 4.5318493e-10,\n",
      "        4.2113518e-10, 4.1218395e-10]], shape=(5255409, 65), dtype=float32), 'Buvw': array([[  -374.70508,    140.11359,   -275.1131 ],\n",
      "       [   317.27673,   -244.52853,   -275.5051 ],\n",
      "       [  -232.10417,    327.57654,   -274.98093],\n",
      "       ...,\n",
      "       [  6480.276  ,  20963.496  ,  -2026.402  ],\n",
      "       [-12151.77   , -18190.336  ,  -1873.4929 ],\n",
      "       [ 16776.713  ,  13924.497  ,  -1757.4806 ]],\n",
      "      shape=(5255409, 3), dtype=float32), 'MagLat': array([-15.060505 , -15.062876 , -15.0652485, ...,   6.607952 ,\n",
      "         6.5951185,   6.581916 ], shape=(5255409,), dtype=float32), 'plansvd': array([[0.9756325 , 0.98989683, 0.9834214 , ..., 0.24279317, 0.11097283,\n",
      "        0.13184747],\n",
      "       [0.9714269 , 0.9908359 , 0.9639145 , ..., 0.12645735, 0.15992288,\n",
      "        0.19359401],\n",
      "       [0.9840478 , 0.98036927, 0.95900166, ..., 0.19218366, 0.13187498,\n",
      "        0.12344009],\n",
      "       ...,\n",
      "       [0.98582894, 0.97174555, 0.96038526, ..., 0.4129982 , 0.45521805,\n",
      "        0.35552782],\n",
      "       [0.9839732 , 0.99212754, 0.9957736 , ..., 0.17024149, 0.44005543,\n",
      "        0.22655123],\n",
      "       [0.9964803 , 0.969988  , 0.9787797 , ..., 0.13520059, 0.08086386,\n",
      "        0.11371338]], shape=(5255409, 65), dtype=float32), 'ellsvd': array([[ 0.16493474,  0.2178801 ,  0.53519124, ...,  0.75625056,\n",
      "        -0.89730823, -0.98931247],\n",
      "       [-0.46438947,  0.9200187 ,  0.57787514, ...,  0.88503   ,\n",
      "         0.9407878 ,  0.8571206 ],\n",
      "       [-0.6770906 , -0.65679675, -0.477237  , ..., -0.8945183 ,\n",
      "        -0.877409  ,  0.84139425],\n",
      "       ...,\n",
      "       [ 0.09864304, -0.63869697, -0.23627624, ...,  0.69259137,\n",
      "         0.5927837 ,  0.6780655 ],\n",
      "       [-0.32561108,  0.19427563, -0.00970522, ..., -0.97306865,\n",
      "         0.4661893 , -0.9183591 ],\n",
      "       [ 0.3491189 ,  0.42816687, -0.28702277, ...,  0.7788795 ,\n",
      "        -0.9156356 , -0.8349275 ]], shape=(5255409, 65), dtype=float32), 'timestamps_per_file': [14396, 14400, 14394, 14400, 14394, 14400, 14391, 14398, 14398, 14388, 14400, 14396, 14396, 14400, 14393, 14400, 14399, 14395, 14400, 14392, 14398, 14399, 14390, 14400, 14397, 14394, 14400, 14392, 14400, 14400, 14394, 14392, 14400, 14399, 14400, 14400, 14391, 14400, 14397, 14396, 14400, 14394, 14400, 14395, 14394, 14400, 14393, 14399, 14400, 14392, 14400, 14397, 14396, 14400, 14394, 14400, 14398, 14392, 14399, 14394, 14398, 14400, 14391, 14400, 14398, 14392, 14400, 14390, 14399, 14400, 14394, 14400, 14397, 14397, 14400, 14394, 14400, 14399, 14394, 14400, 14395, 14398, 14400, 14393, 14400, 14397, 14396, 14400, 14393, 14400, 14400, 14389, 14400, 14395, 14393, 14401, 14391, 14392, 14400, 14400, 14400, 14400, 14391, 14400, 14396, 14395, 14400, 14392, 14399, 14400, 14391, 14400, 14394, 14397, 14400, 14392, 14399, 14399, 14393, 14400, 14395, 14398, 14400, 14390, 14400, 14396, 14395, 14400, 14392, 14400, 14400, 14392, 14400, 14397, 14397, 14400, 14390, 14400, 14396, 14394, 14400, 14393, 14399, 14400, 14389, 14400, 14395, 14395, 14400, 14393, 14400, 14399, 14394, 14400, 14395, 14397, 14400, 14394, 14400, 14394, 14396, 14392, 14400, 14400, 14400, 14400, 14400, 14389, 14400, 14399, 14394, 14400, 14396, 14397, 14400, 14393, 14400, 14396, 14397, 14400, 14394, 14400, 14400, 14393, 14400, 14396, 14396, 14400, 14393, 14399, 14397, 14395, 14399, 14395, 14399, 14400, 14391, 14400, 14394, 14397, 14400, 14391, 14400, 14398, 14394, 14400, 14395, 14398, 14400, 14393, 14400, 14396, 14394, 14400, 14390, 14400, 14400, 14389, 14400, 14395, 14394, 14400, 14393, 14400, 14397, 14388, 14400, 14399, 14400, 14400, 14395, 14397, 14395, 14397, 14400, 14389, 14400, 14397, 14392, 14400, 14397, 14392, 14400, 14394, 14399, 14400, 14393, 14400, 14400, 14396, 14397, 14398, 14395, 14400, 14397, 14396, 14400, 14382, 12099, 3566, 14400, 14394, 14400, 14397, 13807, 14400, 14394, 14400, 14397, 14394, 14396, 14399, 14396, 14396, 14400, 14391, 14400, 14400, 14391, 14399, 14400, 14391, 14400, 14400, 14398, 14387, 14400, 14399, 14398, 14393, 14400, 14383, 14393, 14400, 14393, 14396, 14400, 14378, 14394, 14400, 14391, 14397, 14400, 14393, 14400, 14400, 14382, 14400, 14396, 14386, 14366, 14386, 14396, 14400, 14373, 14400, 14396, 14395, 14400, 14388, 14399, 14400, 14400, 14392, 14399, 14400, 14392, 14399, 14400, 14392, 14399, 14400, 14391, 14398, 14400, 14391, 14398, 14400, 14400, 14400, 14399, 14400, 14393, 14398, 14400, 14391, 14400, 14400, 14390, 14400, 14400, 14386, 14388, 14400, 14399, 14400, 14400, 14400, 14400, 14395, 14396, 14400, 14391, 14400, 14397, 14394]}\n"
     ]
    }
   ],
   "source": [
    "start = datetime.datetime(year=2015, month=1, day=1, tzinfo=datetime.UTC)\n",
    "end = datetime.datetime(year=2016, month=1, day=1, tzinfo=datetime.UTC)\n",
    "\n",
    "wna = data_loader.load_raw_data_from_config(\n",
    "    id=[\"RBSP\", \"EMFISIS\", \"L4\", \"WNA_SURVEY\"],\n",
    "    start=start,\n",
    "    end=end,\n",
    "    satellite=\"a\",\n",
    "    root_data_dir=\"/project/rbsp/data/\",\n",
    "    use_config_keys_in_subdir=False,\n",
    ")\n",
    "\n",
    "density = data_loader.load_raw_data_from_config(\n",
    "    id=[\"RBSP\", \"EMFISIS\", \"L4\", \"DENSITY\"],\n",
    "    start=start,\n",
    "    end=end,\n",
    "    satellite=\"a\",\n",
    "    root_data_dir=\"/project/rbsp/data/\",\n",
    "    use_config_keys_in_subdir=False,\n",
    ")\n",
    "\n",
    "print(wna)\n",
    "\n",
    "wna_Buvw = wna[\"Buvw\"]\n",
    "wna_unix_time = cdfepoch.unixtime(wna[\"Epoch\"])\n",
    "\n",
    "density_fce = density[\"fce\"]\n",
    "density_B = density[\"bmag\"]\n",
    "density_unix_time = cdfepoch.unixtime(density[\"Epoch\"])"
   ]
  },
  {
   "cell_type": "code",
   "execution_count": 14,
   "id": "bf4725ea-dc1f-42f4-9a4b-14d97a80f487",
   "metadata": {},
   "outputs": [
    {
     "data": {
      "text/plain": [
       "Text(0.5, 1.0, 'B')"
      ]
     },
     "execution_count": 14,
     "metadata": {},
     "output_type": "execute_result"
    }
   ],
   "source": [
    "fig, axs = plt.subplots(2, 1, sharex=True)\n",
    "\n",
    "wna_B = np.sqrt(wna_Buvw[:, 0]**2 + wna_Buvw[:, 1]**2 + wna_Buvw[:, 2]**2)\n",
    "\n",
    "axs[0].plot(wna_unix_time, wna_B, label=\"WNA\")\n",
    "axs[0].set_yscale(\"log\")\n",
    "\n",
    "\n",
    "axs[1].plot(density_unix_time, density_B, label=\"DENSITY\")\n",
    "axs[1].set_yscale(\"log\")\n",
    "\n",
    "axs[0].legend()\n",
    "axs[1].legend()\n",
    "\n",
    "\n",
    "axs[0].set_title(\"B\")"
   ]
  },
  {
   "cell_type": "code",
   "execution_count": 15,
   "id": "11d5862d-2c2a-4e3c-a069-4fdd3f611a2e",
   "metadata": {},
   "outputs": [
    {
     "data": {
      "text/plain": [
       "Text(0.5, 1.0, 'f_ce')"
      ]
     },
     "execution_count": 15,
     "metadata": {},
     "output_type": "execute_result"
    }
   ],
   "source": [
    "fig, axs = plt.subplots(2, 1, sharex=True)\n",
    "\n",
    "wna_fce = rbsp_chorus_tool.calculate_cyclotron_frequency(wna_B) / (1e9)\n",
    "\n",
    "axs[0].plot(wna_unix_time, wna_fce, label=\"WNA\")\n",
    "axs[0].set_yscale(\"log\")\n",
    "\n",
    "\n",
    "axs[1].plot(density_unix_time, density_fce, label=\"DENSITY\")\n",
    "axs[1].set_yscale(\"log\")\n",
    "\n",
    "axs[0].legend()\n",
    "axs[1].legend()\n",
    "\n",
    "axs[0].set_title(\"f_ce\")"
   ]
  },
  {
   "cell_type": "code",
   "execution_count": null,
   "id": "d0f91250-66e7-400a-a9bf-e5e763a9704e",
   "metadata": {},
   "outputs": [],
   "source": []
  }
 ],
 "metadata": {
  "kernelspec": {
   "display_name": "Python 3 (ipykernel)",
   "language": "python",
   "name": "python3"
  },
  "language_info": {
   "codemirror_mode": {
    "name": "ipython",
    "version": 3
   },
   "file_extension": ".py",
   "mimetype": "text/x-python",
   "name": "python",
   "nbconvert_exporter": "python",
   "pygments_lexer": "ipython3",
   "version": "3.12.8"
  }
 },
 "nbformat": 4,
 "nbformat_minor": 5
}
