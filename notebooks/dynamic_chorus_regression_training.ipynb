{
 "cells": [
  {
   "cell_type": "code",
   "execution_count": 83,
   "id": "0b13c7d2-d5c0-46f2-b629-8bad975496af",
   "metadata": {},
   "outputs": [
    {
     "name": "stderr",
     "output_type": "stream",
     "text": [
      "Intel(R) Extension for Scikit-learn* enabled (https://github.com/uxlfoundation/scikit-learn-intelex)\n"
     ]
    }
   ],
   "source": [
    "import os\n",
    "import sys\n",
    "\n",
    "# caution: path[0] is reserved for script path (or '' in REPL).\n",
    "sys.path.insert(1, os.path.abspath(\"./../src\"))\n",
    "\n",
    "import matplotlib.pyplot as plt\n",
    "import numpy as np\n",
    "import seaborn as sns\n",
    "import torch\n",
    "from sklearnex import patch_sklearn\n",
    "patch_sklearn()\n",
    "\n",
    "import heteroscedastic_uncertainty_regressor as hr\n",
    "\n",
    "\n",
    "import sklearn\n",
    "from sklearn.preprocessing import KBinsDiscretizer\n",
    "import datetime\n",
    "\n",
    "import plot_tools\n",
    "import dataset_stats as ds\n",
    "\n",
    "import scipy.special\n",
    "import scipy.stats\n",
    "\n",
    "import statsmodels.api as sm\n",
    "\n",
    "import importlib\n",
    "\n",
    "importlib.reload(hr)\n",
    "importlib.reload(plot_tools)\n",
    "importlib.reload(ds)\n",
    "\n",
    "%matplotlib qt"
   ]
  },
  {
   "cell_type": "code",
   "execution_count": 48,
   "id": "7a67a93d-231b-4d64-a540-8c0312151e3e",
   "metadata": {},
   "outputs": [
    {
     "name": "stdout",
     "output_type": "stream",
     "text": [
      "(3393325,)\n",
      "(3393325, 7)\n",
      "(3393325, 512)\n"
     ]
    }
   ],
   "source": [
    "VERSION = \"v1\"\n",
    "MODEL_TYPE = \"LOWER_BAND\"\n",
    "\n",
    "pdata_folder = os.path.abspath(\"./../processed_data/chorus_neural_network/\")\n",
    "rbsp_chorus_folder = os.path.join(pdata_folder, \"observed_chorus\")\n",
    "output_folder = os.path.join(pdata_folder, \"models\", VERSION)\n",
    "\n",
    "\n",
    "dataset = np.load(\n",
    "    file=os.path.join(output_folder, rf\"total_dataset_{VERSION}_{MODEL_TYPE}.npz\")\n",
    ")\n",
    "\n",
    "X_conditional = dataset[\"X_conditional\"]\n",
    "X_convolutional = dataset[\"X_convolutional\"]\n",
    "y = dataset[\"y\"]\n",
    "\n",
    "print(y.shape)\n",
    "print(X_conditional.shape)\n",
    "print(X_convolutional.shape)\n",
    "\n",
    "greater_than_zero = y > 0\n",
    "X_conditional = X_conditional[greater_than_zero, :]\n",
    "X_convolutional = X_convolutional[greater_than_zero, :]\n",
    "y = y[greater_than_zero]\n",
    "\n",
    "dataset.close()\n",
    "\n",
    "t_data = X_conditional[:, -1]\n",
    "X_conditional = X_conditional[:, :-1]"
   ]
  },
  {
   "cell_type": "code",
   "execution_count": 54,
   "id": "9d7358fd-4241-4d29-8994-805785094eda",
   "metadata": {},
   "outputs": [
    {
     "name": "stdout",
     "output_type": "stream",
     "text": [
      "0.0035322735863470237\n",
      "19908816.024684824\n"
     ]
    }
   ],
   "source": [
    "print(np.min(y / X_conditional[:, -2]))\n",
    "print(np.max(y / X_conditional[:, -2]))"
   ]
  },
  {
   "cell_type": "code",
   "execution_count": 81,
   "id": "4a926949-5799-4890-9516-e5634599d7ff",
   "metadata": {},
   "outputs": [],
   "source": [
    "P = y**(1/3)\n"
   ]
  },
  {
   "cell_type": "code",
   "execution_count": null,
   "id": "7218e7a4-b24c-4134-b897-4a98b48077bc",
   "metadata": {},
   "outputs": [],
   "source": [
    "plot_tools.plot_2d_heatmap(X_conditional[:, 0] * X_conditional[:, 1],\n",
    "                           X_conditional[:, 0] * X_conditional[:, 2],\n",
    "                           y,\n",
    "                           bins=20,\n",
    "                           xlim=(-10, 10),\n",
    "                           ylim=(-10, 10),\n",
    "                           xtitle=\"X\",\n",
    "                           ytitle=\"Y\",\n",
    "                           ztitle=\"Average Chorus Amplitude (pT)\",\n",
    "                           title=\"Average Chorus Amplitude vs X vs Y\",\n",
    "                           norm=\"symlog\",\n",
    "                           density_norm=\"log\",\n",
    "                           plot_density = True)"
   ]
  },
  {
   "cell_type": "code",
   "execution_count": 82,
   "id": "603e30e6-8542-4e74-a75c-a035b0a22cec",
   "metadata": {},
   "outputs": [],
   "source": [
    "ax0 = sns.displot(P, log_scale=True)\n",
    "ax0.set(ylabel='N', xlabel='Chorus (pT)', title='Training Set')\n",
    "plt.tight_layout()"
   ]
  },
  {
   "cell_type": "code",
   "execution_count": 7,
   "id": "98fa345e-b792-4584-8e58-4f84279d6c63",
   "metadata": {},
   "outputs": [
    {
     "name": "stdout",
     "output_type": "stream",
     "text": [
      "[array([1.00000178e+00, 1.95501273e+00, 3.87673562e+00, 8.45249222e+00,\n",
      "        2.52017115e+01, 4.30599589e+05])                               ]\n",
      "[[4.]\n",
      " [3.]\n",
      " [3.]\n",
      " ...\n",
      " [2.]\n",
      " [1.]\n",
      " [3.]]\n"
     ]
    }
   ],
   "source": [
    "discretizer = KBinsDiscretizer(n_bins=5, encode='ordinal', strategy='quantile', subsample=None)\n",
    "\n",
    "discretizer.fit(y[:, np.newaxis])\n",
    "\n",
    "y_discretized = discretizer.transform(y[:, np.newaxis])\n",
    "bin_edges = discretizer.bin_edges_\n",
    "print(bin_edges)\n",
    "print(y_discretized)"
   ]
  },
  {
   "cell_type": "code",
   "execution_count": 4,
   "id": "c36b020f-6fd2-46fb-af84-bad918e9d7e0",
   "metadata": {},
   "outputs": [
    {
     "ename": "KeyboardInterrupt",
     "evalue": "",
     "output_type": "error",
     "traceback": [
      "\u001b[31m---------------------------------------------------------------------------\u001b[39m",
      "\u001b[31mKeyboardInterrupt\u001b[39m                         Traceback (most recent call last)",
      "\u001b[36mCell\u001b[39m\u001b[36m \u001b[39m\u001b[32mIn[4]\u001b[39m\u001b[32m, line 1\u001b[39m\n\u001b[32m----> \u001b[39m\u001b[32m1\u001b[39m ax0 = \u001b[43msns\u001b[49m\u001b[43m.\u001b[49m\u001b[43mdisplot\u001b[49m\u001b[43m(\u001b[49m\u001b[43my\u001b[49m\u001b[43m)\u001b[49m\n\u001b[32m      2\u001b[39m ax0.set(ylabel=\u001b[33m'\u001b[39m\u001b[33mN\u001b[39m\u001b[33m'\u001b[39m, xlabel=\u001b[33m'\u001b[39m\u001b[33mChorus (pT)\u001b[39m\u001b[33m'\u001b[39m, title=\u001b[33m'\u001b[39m\u001b[33mTraining Set\u001b[39m\u001b[33m'\u001b[39m)\n\u001b[32m      3\u001b[39m plt.tight_layout()\n",
      "\u001b[36mFile \u001b[39m\u001b[32mC:\\Dev\\Research\\Research_Tools\\ResearchPy\\Lib\\site-packages\\seaborn\\distributions.py:2193\u001b[39m, in \u001b[36mdisplot\u001b[39m\u001b[34m(data, x, y, hue, row, col, weights, kind, rug, rug_kws, log_scale, legend, palette, hue_order, hue_norm, color, col_wrap, row_order, col_order, height, aspect, facet_kws, **kwargs)\u001b[39m\n\u001b[32m   2190\u001b[39m \u001b[38;5;28;01mif\u001b[39;00m p.univariate:\n\u001b[32m   2192\u001b[39m     _assign_default_kwargs(hist_kws, p.plot_univariate_histogram, histplot)\n\u001b[32m-> \u001b[39m\u001b[32m2193\u001b[39m     \u001b[43mp\u001b[49m\u001b[43m.\u001b[49m\u001b[43mplot_univariate_histogram\u001b[49m\u001b[43m(\u001b[49m\u001b[43m*\u001b[49m\u001b[43m*\u001b[49m\u001b[43mhist_kws\u001b[49m\u001b[43m)\u001b[49m\n\u001b[32m   2195\u001b[39m \u001b[38;5;28;01melse\u001b[39;00m:\n\u001b[32m   2197\u001b[39m     _assign_default_kwargs(hist_kws, p.plot_bivariate_histogram, histplot)\n",
      "\u001b[36mFile \u001b[39m\u001b[32mC:\\Dev\\Research\\Research_Tools\\ResearchPy\\Lib\\site-packages\\seaborn\\distributions.py:571\u001b[39m, in \u001b[36m_DistributionPlotter.plot_univariate_histogram\u001b[39m\u001b[34m(self, multiple, element, fill, common_norm, common_bins, shrink, kde, kde_kws, color, legend, line_kws, estimate_kws, **plot_kws)\u001b[39m\n\u001b[32m    566\u001b[39m \u001b[38;5;28;01mif\u001b[39;00m element == \u001b[33m\"\u001b[39m\u001b[33mbars\u001b[39m\u001b[33m\"\u001b[39m:\n\u001b[32m    567\u001b[39m \n\u001b[32m    568\u001b[39m     \u001b[38;5;66;03m# Use matplotlib bar plotting\u001b[39;00m\n\u001b[32m    570\u001b[39m     plot_func = ax.bar \u001b[38;5;28;01mif\u001b[39;00m \u001b[38;5;28mself\u001b[39m.data_variable == \u001b[33m\"\u001b[39m\u001b[33mx\u001b[39m\u001b[33m\"\u001b[39m \u001b[38;5;28;01melse\u001b[39;00m ax.barh\n\u001b[32m--> \u001b[39m\u001b[32m571\u001b[39m     artists = \u001b[43mplot_func\u001b[49m\u001b[43m(\u001b[49m\n\u001b[32m    572\u001b[39m \u001b[43m        \u001b[49m\u001b[43mhist\u001b[49m\u001b[43m[\u001b[49m\u001b[33;43m\"\u001b[39;49m\u001b[33;43medges\u001b[39;49m\u001b[33;43m\"\u001b[39;49m\u001b[43m]\u001b[49m\u001b[43m,\u001b[49m\n\u001b[32m    573\u001b[39m \u001b[43m        \u001b[49m\u001b[43mhist\u001b[49m\u001b[43m[\u001b[49m\u001b[33;43m\"\u001b[39;49m\u001b[33;43mheights\u001b[39;49m\u001b[33;43m\"\u001b[39;49m\u001b[43m]\u001b[49m\u001b[43m \u001b[49m\u001b[43m-\u001b[49m\u001b[43m \u001b[49m\u001b[43mbottom\u001b[49m\u001b[43m,\u001b[49m\n\u001b[32m    574\u001b[39m \u001b[43m        \u001b[49m\u001b[43mhist\u001b[49m\u001b[43m[\u001b[49m\u001b[33;43m\"\u001b[39;49m\u001b[33;43mwidths\u001b[39;49m\u001b[33;43m\"\u001b[39;49m\u001b[43m]\u001b[49m\u001b[43m,\u001b[49m\n\u001b[32m    575\u001b[39m \u001b[43m        \u001b[49m\u001b[43mbottom\u001b[49m\u001b[43m,\u001b[49m\n\u001b[32m    576\u001b[39m \u001b[43m        \u001b[49m\u001b[43malign\u001b[49m\u001b[43m=\u001b[49m\u001b[33;43m\"\u001b[39;49m\u001b[33;43medge\u001b[39;49m\u001b[33;43m\"\u001b[39;49m\u001b[43m,\u001b[49m\n\u001b[32m    577\u001b[39m \u001b[43m        \u001b[49m\u001b[43m*\u001b[49m\u001b[43m*\u001b[49m\u001b[43martist_kws\u001b[49m\u001b[43m,\u001b[49m\n\u001b[32m    578\u001b[39m \u001b[43m    \u001b[49m\u001b[43m)\u001b[49m\n\u001b[32m    580\u001b[39m     \u001b[38;5;28;01mfor\u001b[39;00m bar \u001b[38;5;129;01min\u001b[39;00m artists:\n\u001b[32m    581\u001b[39m         \u001b[38;5;28;01mif\u001b[39;00m \u001b[38;5;28mself\u001b[39m.data_variable == \u001b[33m\"\u001b[39m\u001b[33mx\u001b[39m\u001b[33m\"\u001b[39m:\n",
      "\u001b[36mFile \u001b[39m\u001b[32mC:\\Dev\\Research\\Research_Tools\\ResearchPy\\Lib\\site-packages\\matplotlib\\__init__.py:1521\u001b[39m, in \u001b[36m_preprocess_data.<locals>.inner\u001b[39m\u001b[34m(ax, data, *args, **kwargs)\u001b[39m\n\u001b[32m   1518\u001b[39m \u001b[38;5;129m@functools\u001b[39m.wraps(func)\n\u001b[32m   1519\u001b[39m \u001b[38;5;28;01mdef\u001b[39;00m\u001b[38;5;250m \u001b[39m\u001b[34minner\u001b[39m(ax, *args, data=\u001b[38;5;28;01mNone\u001b[39;00m, **kwargs):\n\u001b[32m   1520\u001b[39m     \u001b[38;5;28;01mif\u001b[39;00m data \u001b[38;5;129;01mis\u001b[39;00m \u001b[38;5;28;01mNone\u001b[39;00m:\n\u001b[32m-> \u001b[39m\u001b[32m1521\u001b[39m         \u001b[38;5;28;01mreturn\u001b[39;00m \u001b[43mfunc\u001b[49m\u001b[43m(\u001b[49m\n\u001b[32m   1522\u001b[39m \u001b[43m            \u001b[49m\u001b[43max\u001b[49m\u001b[43m,\u001b[49m\n\u001b[32m   1523\u001b[39m \u001b[43m            \u001b[49m\u001b[43m*\u001b[49m\u001b[38;5;28;43mmap\u001b[39;49m\u001b[43m(\u001b[49m\u001b[43mcbook\u001b[49m\u001b[43m.\u001b[49m\u001b[43msanitize_sequence\u001b[49m\u001b[43m,\u001b[49m\u001b[43m \u001b[49m\u001b[43margs\u001b[49m\u001b[43m)\u001b[49m\u001b[43m,\u001b[49m\n\u001b[32m   1524\u001b[39m \u001b[43m            \u001b[49m\u001b[43m*\u001b[49m\u001b[43m*\u001b[49m\u001b[43m{\u001b[49m\u001b[43mk\u001b[49m\u001b[43m:\u001b[49m\u001b[43m \u001b[49m\u001b[43mcbook\u001b[49m\u001b[43m.\u001b[49m\u001b[43msanitize_sequence\u001b[49m\u001b[43m(\u001b[49m\u001b[43mv\u001b[49m\u001b[43m)\u001b[49m\u001b[43m \u001b[49m\u001b[38;5;28;43;01mfor\u001b[39;49;00m\u001b[43m \u001b[49m\u001b[43mk\u001b[49m\u001b[43m,\u001b[49m\u001b[43m \u001b[49m\u001b[43mv\u001b[49m\u001b[43m \u001b[49m\u001b[38;5;129;43;01min\u001b[39;49;00m\u001b[43m \u001b[49m\u001b[43mkwargs\u001b[49m\u001b[43m.\u001b[49m\u001b[43mitems\u001b[49m\u001b[43m(\u001b[49m\u001b[43m)\u001b[49m\u001b[43m}\u001b[49m\u001b[43m)\u001b[49m\n\u001b[32m   1526\u001b[39m     bound = new_sig.bind(ax, *args, **kwargs)\n\u001b[32m   1527\u001b[39m     auto_label = (bound.arguments.get(label_namer)\n\u001b[32m   1528\u001b[39m                   \u001b[38;5;129;01mor\u001b[39;00m bound.kwargs.get(label_namer))\n",
      "\u001b[36mFile \u001b[39m\u001b[32mC:\\Dev\\Research\\Research_Tools\\ResearchPy\\Lib\\site-packages\\matplotlib\\axes\\_axes.py:2660\u001b[39m, in \u001b[36mAxes.bar\u001b[39m\u001b[34m(self, x, height, width, bottom, align, **kwargs)\u001b[39m\n\u001b[32m   2658\u001b[39m     \u001b[38;5;28;01melse\u001b[39;00m:  \u001b[38;5;66;03m# horizontal\u001b[39;00m\n\u001b[32m   2659\u001b[39m         r.sticky_edges.x.append(l)\n\u001b[32m-> \u001b[39m\u001b[32m2660\u001b[39m     \u001b[38;5;28;43mself\u001b[39;49m\u001b[43m.\u001b[49m\u001b[43madd_patch\u001b[49m\u001b[43m(\u001b[49m\u001b[43mr\u001b[49m\u001b[43m)\u001b[49m\n\u001b[32m   2661\u001b[39m     patches.append(r)\n\u001b[32m   2663\u001b[39m \u001b[38;5;28;01mif\u001b[39;00m xerr \u001b[38;5;129;01mis\u001b[39;00m \u001b[38;5;129;01mnot\u001b[39;00m \u001b[38;5;28;01mNone\u001b[39;00m \u001b[38;5;129;01mor\u001b[39;00m yerr \u001b[38;5;129;01mis\u001b[39;00m \u001b[38;5;129;01mnot\u001b[39;00m \u001b[38;5;28;01mNone\u001b[39;00m:\n",
      "\u001b[36mFile \u001b[39m\u001b[32mC:\\Dev\\Research\\Research_Tools\\ResearchPy\\Lib\\site-packages\\matplotlib\\axes\\_base.py:2476\u001b[39m, in \u001b[36m_AxesBase.add_patch\u001b[39m\u001b[34m(self, p)\u001b[39m\n\u001b[32m   2474\u001b[39m \u001b[38;5;28;01mif\u001b[39;00m p.get_clip_path() \u001b[38;5;129;01mis\u001b[39;00m \u001b[38;5;28;01mNone\u001b[39;00m:\n\u001b[32m   2475\u001b[39m     p.set_clip_path(\u001b[38;5;28mself\u001b[39m.patch)\n\u001b[32m-> \u001b[39m\u001b[32m2476\u001b[39m \u001b[38;5;28;43mself\u001b[39;49m\u001b[43m.\u001b[49m\u001b[43m_update_patch_limits\u001b[49m\u001b[43m(\u001b[49m\u001b[43mp\u001b[49m\u001b[43m)\u001b[49m\n\u001b[32m   2477\u001b[39m \u001b[38;5;28mself\u001b[39m._children.append(p)\n\u001b[32m   2478\u001b[39m p._remove_method = \u001b[38;5;28mself\u001b[39m._children.remove\n",
      "\u001b[36mFile \u001b[39m\u001b[32mC:\\Dev\\Research\\Research_Tools\\ResearchPy\\Lib\\site-packages\\matplotlib\\axes\\_base.py:2518\u001b[39m, in \u001b[36m_AxesBase._update_patch_limits\u001b[39m\u001b[34m(self, patch)\u001b[39m\n\u001b[32m   2516\u001b[39m         updatey = \u001b[38;5;28;01mFalse\u001b[39;00m\n\u001b[32m   2517\u001b[39m trf_to_data = patch_trf - \u001b[38;5;28mself\u001b[39m.transData\n\u001b[32m-> \u001b[39m\u001b[32m2518\u001b[39m xys = \u001b[43mtrf_to_data\u001b[49m\u001b[43m.\u001b[49m\u001b[43mtransform\u001b[49m\u001b[43m(\u001b[49m\u001b[43mvertices\u001b[49m\u001b[43m)\u001b[49m\n\u001b[32m   2519\u001b[39m \u001b[38;5;28mself\u001b[39m.update_datalim(xys, updatex=updatex, updatey=updatey)\n",
      "\u001b[36mFile \u001b[39m\u001b[32mC:\\Dev\\Research\\Research_Tools\\ResearchPy\\Lib\\site-packages\\matplotlib\\transforms.py:1495\u001b[39m, in \u001b[36mTransform.transform\u001b[39m\u001b[34m(self, values)\u001b[39m\n\u001b[32m   1492\u001b[39m values = values.reshape((-\u001b[32m1\u001b[39m, \u001b[38;5;28mself\u001b[39m.input_dims))\n\u001b[32m   1494\u001b[39m \u001b[38;5;66;03m# Transform the values\u001b[39;00m\n\u001b[32m-> \u001b[39m\u001b[32m1495\u001b[39m res = \u001b[38;5;28;43mself\u001b[39;49m\u001b[43m.\u001b[49m\u001b[43mtransform_affine\u001b[49m\u001b[43m(\u001b[49m\u001b[38;5;28;43mself\u001b[39;49m\u001b[43m.\u001b[49m\u001b[43mtransform_non_affine\u001b[49m\u001b[43m(\u001b[49m\u001b[43mvalues\u001b[49m\u001b[43m)\u001b[49m\u001b[43m)\u001b[49m\n\u001b[32m   1497\u001b[39m \u001b[38;5;66;03m# Convert the result back to the shape of the input values.\u001b[39;00m\n\u001b[32m   1498\u001b[39m \u001b[38;5;28;01mif\u001b[39;00m ndim == \u001b[32m0\u001b[39m:\n",
      "\u001b[36mFile \u001b[39m\u001b[32mC:\\Dev\\Research\\Research_Tools\\ResearchPy\\Lib\\site-packages\\matplotlib\\transforms.py:2410\u001b[39m, in \u001b[36mCompositeGenericTransform.transform_affine\u001b[39m\u001b[34m(self, values)\u001b[39m\n\u001b[32m   2408\u001b[39m \u001b[38;5;28;01mdef\u001b[39;00m\u001b[38;5;250m \u001b[39m\u001b[34mtransform_affine\u001b[39m(\u001b[38;5;28mself\u001b[39m, values):\n\u001b[32m   2409\u001b[39m     \u001b[38;5;66;03m# docstring inherited\u001b[39;00m\n\u001b[32m-> \u001b[39m\u001b[32m2410\u001b[39m     \u001b[38;5;28;01mreturn\u001b[39;00m \u001b[38;5;28;43mself\u001b[39;49m\u001b[43m.\u001b[49m\u001b[43mget_affine\u001b[49m\u001b[43m(\u001b[49m\u001b[43m)\u001b[49m.transform(values)\n",
      "\u001b[36mFile \u001b[39m\u001b[32mC:\\Dev\\Research\\Research_Tools\\ResearchPy\\Lib\\site-packages\\matplotlib\\transforms.py:2436\u001b[39m, in \u001b[36mCompositeGenericTransform.get_affine\u001b[39m\u001b[34m(self)\u001b[39m\n\u001b[32m   2434\u001b[39m     \u001b[38;5;28;01mreturn\u001b[39;00m \u001b[38;5;28mself\u001b[39m._b.get_affine()\n\u001b[32m   2435\u001b[39m \u001b[38;5;28;01melse\u001b[39;00m:\n\u001b[32m-> \u001b[39m\u001b[32m2436\u001b[39m     \u001b[38;5;28;01mreturn\u001b[39;00m Affine2D(\u001b[43mnp\u001b[49m\u001b[43m.\u001b[49m\u001b[43mdot\u001b[49m\u001b[43m(\u001b[49m\u001b[38;5;28;43mself\u001b[39;49m\u001b[43m.\u001b[49m\u001b[43m_b\u001b[49m\u001b[43m.\u001b[49m\u001b[43mget_affine\u001b[49m\u001b[43m(\u001b[49m\u001b[43m)\u001b[49m\u001b[43m.\u001b[49m\u001b[43mget_matrix\u001b[49m\u001b[43m(\u001b[49m\u001b[43m)\u001b[49m\u001b[43m,\u001b[49m\n\u001b[32m   2437\u001b[39m \u001b[43m                           \u001b[49m\u001b[38;5;28;43mself\u001b[39;49m\u001b[43m.\u001b[49m\u001b[43m_a\u001b[49m\u001b[43m.\u001b[49m\u001b[43mget_affine\u001b[49m\u001b[43m(\u001b[49m\u001b[43m)\u001b[49m\u001b[43m.\u001b[49m\u001b[43mget_matrix\u001b[49m\u001b[43m(\u001b[49m\u001b[43m)\u001b[49m\u001b[43m)\u001b[49m)\n",
      "\u001b[31mKeyboardInterrupt\u001b[39m: "
     ]
    }
   ],
   "source": [
    "ax0 = sns.displot(y)\n",
    "ax0.set(ylabel='N', xlabel='Chorus (pT)', title='Training Set')\n",
    "plt.tight_layout()"
   ]
  },
  {
   "cell_type": "code",
   "execution_count": 45,
   "id": "a6582ec8-22fd-43e2-a3e6-4bb86c9883e8",
   "metadata": {},
   "outputs": [],
   "source": [
    "ax0 = sns.displot(transformed_y)\n",
    "ax0.set(ylabel='N', xlabel='After box-cox', title='Box Cox Transformed')\n",
    "plt.tight_layout()"
   ]
  },
  {
   "cell_type": "code",
   "execution_count": 46,
   "id": "d670dbff-e1e3-464c-a1f6-313f4040be86",
   "metadata": {},
   "outputs": [],
   "source": [
    "ax0 = sns.displot(np.log(y + 1))\n",
    "ax0.set(ylabel='N', xlabel='After box-cox', title='Log (y + 1)')\n",
    "plt.tight_layout()"
   ]
  },
  {
   "cell_type": "code",
   "execution_count": 3,
   "id": "de60933e-6678-4956-a184-d909e6d5bf87",
   "metadata": {},
   "outputs": [
    {
     "name": "stdout",
     "output_type": "stream",
     "text": [
      "\n",
      "Total dataset\n",
      "\n",
      "\n",
      "Dataset Statistics:\n",
      "--------------------------------------------------\n",
      "Percentage of Non-Zeros  : 100.00%\n",
      "Percentage of Zeros      : 0.00%\n",
      "Count (non-NaN)          : 411594.0000\n",
      "--------------------------------------------------\n",
      "\n",
      "Dataset Statistics:\n",
      "(Values greater than 10)\n",
      "--------------------------------------------------\n",
      "Count (non-NaN)          : 149244.0000\n",
      "--------------------------------------------------\n"
     ]
    }
   ],
   "source": [
    "# Figure out and apply L filter to increase percentage of non-zero elements\n",
    "print(\"\\nTotal dataset\\n\")\n",
    "\n",
    "ds.print_dataset_stats(y, {\"count\", \"% 0\", \"% != 0\"})\n",
    "ds.print_dataset_stats(y, {\"count\"}, greater_than=10)"
   ]
  },
  {
   "cell_type": "code",
   "execution_count": null,
   "id": "9616515d-25d3-4ec6-be65-420e58e19b84",
   "metadata": {},
   "outputs": [],
   "source": [
    "ax0 = sns.displot(y)\n",
    "ax0.set(ylabel='N', xlabel='Chorus (pT)', title='Training Set')\n",
    "plt.tight_layout()"
   ]
  },
  {
   "cell_type": "code",
   "execution_count": null,
   "id": "345903f9-26cb-4964-8db4-56fec6246144",
   "metadata": {},
   "outputs": [],
   "source": [
    "plot_tools.plot_2d_heatmap(X_conditional[:, 0] * X_conditional[:, 1],\n",
    "                           X_conditional[:, 0] * X_conditional[:, 2],\n",
    "                           y,\n",
    "                           bins=20,\n",
    "                           xlim=(-10, 10),\n",
    "                           ylim=(-10, 10),\n",
    "                           xtitle=\"X\",\n",
    "                           ytitle=\"Y\",\n",
    "                           ztitle=\"Average Chorus Amplitude (pT)\",\n",
    "                           title=\"Average Chorus Amplitude vs X vs Y\",\n",
    "                           norm=\"symlog\",\n",
    "                           density_norm=\"log\",\n",
    "                           plot_density = True)"
   ]
  },
  {
   "cell_type": "code",
   "execution_count": 4,
   "id": "4efa9f99-0722-4be7-b7d4-93a2c2901e53",
   "metadata": {},
   "outputs": [],
   "source": [
    "# Preprocess dataset\n",
    "RS_conditional = sklearn.preprocessing.RobustScaler(copy=False)\n",
    "RS_conditional.fit(X_conditional)\n",
    "transformed_X_conditional = RS_conditional.transform(X_conditional)\n",
    "\n",
    "RS_convolutional = sklearn.preprocessing.RobustScaler(copy=False)\n",
    "RS_convolutional.fit(X_convolutional)\n",
    "transformed_X_convolutional = RS_convolutional.transform(X_convolutional)"
   ]
  },
  {
   "cell_type": "code",
   "execution_count": 5,
   "id": "d7d8bdf5-04cf-458e-990e-7a72f5c97ad5",
   "metadata": {},
   "outputs": [],
   "source": [
    "ref_date = datetime.datetime(year=2012, month=1, day=1)\n",
    "g_data = np.zeros_like(y)\n",
    "for i, t in enumerate(t_data):\n",
    "\n",
    "    dt = datetime.datetime.fromtimestamp(t)\n",
    "    del_dt = dt - ref_date\n",
    "    g_data[i] = del_dt.days"
   ]
  },
  {
   "cell_type": "code",
   "execution_count": null,
   "id": "988716b4-b672-4424-a279-5397d624a4e9",
   "metadata": {},
   "outputs": [],
   "source": [
    "# Initialize model and train\n",
    "device = torch.device(\"cuda\" if torch.cuda.is_available() else \"cpu\")\n",
    "models, transformers = hr.cross_validate_model(\n",
    "    X_conditional=transformed_X_conditional,\n",
    "    X_convolutional=transformed_X_convolutional,\n",
    "    y=np.log(y),\n",
    "    g_data=g_data,\n",
    "    bias_model_class=hr.BiasGenerator,\n",
    "    variance_model_class=hr.VarianceGenerator,\n",
    "    bias_learning_rate=2e-5,\n",
    "    variance_learning_rate=1e-4,\n",
    "    cond_input_dim=6,\n",
    "    hidden_dim=256,\n",
    "    noise_dim=2,\n",
    "    n_splits=5,\n",
    "    n_epochs=2,\n",
    "    batch_size=128,\n",
    "    weight_decay=1e-6,\n",
    "    optim_betas=(0.9, 0.99),\n",
    "    device=\"cuda\",\n",
    "    output_folder=\"./../processed_data/chorus_neural_network/models/v1/trained_models/\"\n",
    ")\n",
    "\n"
   ]
  },
  {
   "cell_type": "code",
   "execution_count": 48,
   "id": "c9a16e2e-4fc2-48a1-8af0-6b0f556db0b1",
   "metadata": {},
   "outputs": [
    {
     "name": "stdout",
     "output_type": "stream",
     "text": [
      "tensor([[117.3898],\n",
      "        [126.7808],\n",
      "        [107.5210],\n",
      "        ...,\n",
      "        [ 53.1432],\n",
      "        [171.9191],\n",
      "        [133.6663]], device='cuda:0') tensor([[3.7937],\n",
      "        [4.0902],\n",
      "        [3.4280],\n",
      "        ...,\n",
      "        [2.1027],\n",
      "        [5.4533],\n",
      "        [4.1535]], device='cuda:0')\n"
     ]
    }
   ],
   "source": [
    "trained_model_folder = os.path.join(output_folder, \"trained_models\")\n",
    "\n",
    "saved_folder = os.path.abspath(trained_model_folder)\n",
    "\n",
    "for m in range(1):\n",
    "    bias_model=hr.BiasGenerator(input_dim=6, hidden_dim=256)\n",
    "    noise=torch.randn((10000, 2)).to(device)\n",
    "    bias_model.load_state_dict(torch.load(os.path.join(saved_folder, f\"bias_model_{m}.pth\")), strict=False)\n",
    "    bias_model.to(\"cuda\")\n",
    "    bias_model.eval()\n",
    "\n",
    "    var_model=hr.VarianceGenerator(input_dim=6, hidden_dim=256)\n",
    "    var_model.load_state_dict(torch.load(os.path.join(saved_folder, f\"var_model_{m}.pth\")), strict=False)\n",
    "    var_model.to(\"cuda\")\n",
    "    var_model.eval()\n",
    "    # Evaluate and plot\n",
    "    with torch.no_grad():\n",
    "\n",
    "        t_X_cond_np = torch.from_numpy(transformed_X_conditional[0:10000, :]).to(\"cuda\").type(torch.float32)\n",
    "        t_X_conv_np = torch.from_numpy(transformed_X_convolutional[0:10000, np.newaxis, :]).to(\"cuda\").type(torch.float32)\n",
    "        pred_mean = bias_model(t_X_cond_np, t_X_conv_np, noise)\n",
    "        pred_var = var_model(t_X_cond_np, pred_mean)\n",
    "\n",
    "    break\n",
    "\n",
    "print(pred_mean, pred_var)"
   ]
  },
  {
   "cell_type": "code",
   "execution_count": 49,
   "id": "25965774-99bc-4ffa-84e8-5584b443b0d9",
   "metadata": {},
   "outputs": [
    {
     "data": {
      "text/plain": [
       "(0.0, 1000.0)"
      ]
     },
     "execution_count": 49,
     "metadata": {},
     "output_type": "execute_result"
    }
   ],
   "source": [
    "plt.errorbar(x=np.sqrt(y[:10000].flatten()),\n",
    "             y=np.sqrt(pred_mean[:10000].cpu().numpy().flatten()),\n",
    "             fmt=\".\")\n",
    "plt.xscale(\"symlog\")\n",
    "plt.yscale(\"symlog\")\n",
    "plt.xlim(0, 1000)\n",
    "plt.ylim(0, 1000)"
   ]
  },
  {
   "cell_type": "code",
   "execution_count": null,
   "id": "49df10e0-1bae-448f-ac17-6e99bf60ba87",
   "metadata": {},
   "outputs": [],
   "source": []
  }
 ],
 "metadata": {
  "kernelspec": {
   "display_name": "Python 3 (ipykernel)",
   "language": "python",
   "name": "python3"
  },
  "language_info": {
   "codemirror_mode": {
    "name": "ipython",
    "version": 3
   },
   "file_extension": ".py",
   "mimetype": "text/x-python",
   "name": "python",
   "nbconvert_exporter": "python",
   "pygments_lexer": "ipython3",
   "version": "3.12.5"
  }
 },
 "nbformat": 4,
 "nbformat_minor": 5
}
