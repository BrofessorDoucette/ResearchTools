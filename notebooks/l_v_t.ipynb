{
 "cells": [
  {
   "cell_type": "code",
   "execution_count": 7,
   "metadata": {},
   "outputs": [
    {
     "ename": "ModuleNotFoundError",
     "evalue": "No module named 'font_sizes'",
     "output_type": "error",
     "traceback": [
      "\u001b[1;31m---------------------------------------------------------------------------\u001b[0m",
      "\u001b[1;31mModuleNotFoundError\u001b[0m                       Traceback (most recent call last)",
      "Cell \u001b[1;32mIn[7], line 14\u001b[0m\n\u001b[0;32m     12\u001b[0m \u001b[38;5;28;01mimport\u001b[39;00m \u001b[38;5;21;01mdatetime\u001b[39;00m\n\u001b[0;32m     13\u001b[0m \u001b[38;5;28;01mimport\u001b[39;00m \u001b[38;5;21;01mmatplotlib\u001b[39;00m\u001b[38;5;21;01m.\u001b[39;00m\u001b[38;5;21;01mpyplot\u001b[39;00m \u001b[38;5;28;01mas\u001b[39;00m \u001b[38;5;21;01mplt\u001b[39;00m\n\u001b[1;32m---> 14\u001b[0m \u001b[38;5;28;01mimport\u001b[39;00m \u001b[38;5;21;01mfont_sizes\u001b[39;00m\n\u001b[0;32m     15\u001b[0m \u001b[38;5;28;01mimport\u001b[39;00m \u001b[38;5;21;01mnumpy\u001b[39;00m \u001b[38;5;28;01mas\u001b[39;00m \u001b[38;5;21;01mnp\u001b[39;00m\n\u001b[0;32m     16\u001b[0m \u001b[38;5;28;01mimport\u001b[39;00m \u001b[38;5;21;01mfield_models\u001b[39;00m\n",
      "\u001b[1;31mModuleNotFoundError\u001b[0m: No module named 'font_sizes'"
     ]
    }
   ],
   "source": [
    "#NEED TO RESTART KERNEL TO LOAD CHANGES TO IMPORTS :(\n",
    "\n",
    "import sys\n",
    "import os\n",
    "# caution: path[0] is reserved for script path (or '' in REPL).\n",
    "sys.path.insert(1, os.path.abspath('./../src'))\n",
    "\n",
    "import data_loader\n",
    "import data_cache\n",
    "from energy_channels import EnergyChannel\n",
    "import plot_tools\n",
    "import datetime\n",
    "import matplotlib.pyplot as plt\n",
    "import numpy as np\n",
    "import field_models\n",
    "import psd_tool\n",
    "import scipy\n",
    "\n",
    "import importlib\n",
    "importlib.reload(plot_tools)\n",
    "importlib.reload(field_models)\n",
    "importlib.reload(psd_tool)\n",
    "importlib.reload(data_loader)\n",
    "importlib.reload(data_cache)\n",
    "\n",
    "%matplotlib qt\n",
    "\n",
    "#NEED TO RESTART KERNEL TO LOAD CHANGES TO IMPORTS :("
   ]
  },
  {
   "cell_type": "code",
   "execution_count": null,
   "metadata": {},
   "outputs": [],
   "source": [
    "start = datetime.datetime(year = 2015, month = 1, day = 1)\n",
    "end = datetime.datetime(year = 2015, month = 1, day = 7)\n",
    "sat = \"A\""
   ]
  },
  {
   "cell_type": "code",
   "execution_count": 6,
   "metadata": {},
   "outputs": [
    {
     "name": "stdout",
     "output_type": "stream",
     "text": [
      "Loading REPT data between: 2015-06-01 00:00:00 and 2015-07-01 00:00:00.\n",
      "Loading : REPT_201506_A.npz\n",
      "Loading : REPT_201507_A.npz\n"
     ]
    }
   ],
   "source": [
    "REPT = data_loader.load_compressed_rept_data(satellite=sat, start=start, end=end)\n",
    "\n",
    "fig, axs = plt.subplots(3, 1, sharex=True)\n",
    "fig.set_size_inches(16, 9)\n",
    "fig.set_layout_engine(\"constrained\")\n",
    "\n",
    "E1 = EnergyChannel.MeV_1_8\n",
    "E2 = EnergyChannel.MeV_2_1\n",
    "E3 = EnergyChannel.MeV_2_6\n",
    "\n",
    "plot_tools.plot_l_vs_time_log_colors(x = REPT[\"EPOCH\"], y = REPT[\"L\"], c = REPT[\"FESA\"][:, E1.value], axis=axs[0], cbar_label=\"($cm^{-2}s^{-1}sr^{-1}MeV^{-1}$)\\n\")\n",
    "plot_tools.plot_l_vs_time_log_colors(x = REPT[\"EPOCH\"], y = REPT[\"L\"], c = REPT[\"FESA\"][:, E2.value], axis=axs[1], cbar_label=\"($cm^{-2}s^{-1}sr^{-1}MeV^{-1}$)\\n\")\n",
    "plot_tools.plot_l_vs_time_log_colors(x = REPT[\"EPOCH\"], y = REPT[\"L\"], c = REPT[\"FESA\"][:, E3.value], axis=axs[2], cbar_label=\"($cm^{-2}s^{-1}sr^{-1}MeV^{-1}$)\\n\")\n",
    "    \n",
    "axs[0].set_xlim(start, end)\n",
    "axs[1].set_xlim(start, end)\n",
    "axs[2].set_xlim(start, end)\n",
    "\n",
    "axs[0].set_ylim(3, 6)\n",
    "axs[1].set_ylim(3, 6)\n",
    "axs[2].set_ylim(3, 6)\n",
    "\n",
    "\n",
    "axs[0].set_title(f\"{REPT[\"ENERGIES\"][E1.value]} MeV\", fontsize = 10)\n",
    "axs[1].set_title(f\"{REPT[\"ENERGIES\"][E2.value]} MeV\", fontsize = 10)\n",
    "axs[2].set_title(f\"{REPT[\"ENERGIES\"][E3.value]} MeV\", fontsize = 10)\n",
    "\n",
    "\n",
    "\n",
    "fig.suptitle(f\"RBSP-{sat}, Spin Averaged Electron Flux\", fontsize = 14)\n",
    "plt.show()"
   ]
  },
  {
   "cell_type": "code",
   "execution_count": 6,
   "metadata": {},
   "outputs": [
    {
     "ename": "NameError",
     "evalue": "name 'field_models' is not defined",
     "output_type": "error",
     "traceback": [
      "\u001b[1;31m---------------------------------------------------------------------------\u001b[0m",
      "\u001b[1;31mNameError\u001b[0m                                 Traceback (most recent call last)",
      "Cell \u001b[1;32mIn[6], line 1\u001b[0m\n\u001b[1;32m----> 1\u001b[0m field_model \u001b[38;5;241m=\u001b[39m \u001b[43mfield_models\u001b[49m\u001b[38;5;241m.\u001b[39mmodel\u001b[38;5;241m.\u001b[39mTS04D\n\u001b[0;32m      3\u001b[0m mu_vals \u001b[38;5;241m=\u001b[39m [\u001b[38;5;241m500\u001b[39m, \u001b[38;5;241m1000\u001b[39m, \u001b[38;5;241m3000\u001b[39m]\n\u001b[0;32m      4\u001b[0m chosen_k \u001b[38;5;241m=\u001b[39m \u001b[38;5;241m0.07\u001b[39m\n",
      "\u001b[1;31mNameError\u001b[0m: name 'field_models' is not defined"
     ]
    }
   ],
   "source": [
    "field_model = field_models.model.TS04D\n",
    "\n",
    "mu_vals = [500, 1000, 3000]\n",
    "chosen_k = 0.07"
   ]
  },
  {
   "cell_type": "code",
   "execution_count": 3,
   "metadata": {},
   "outputs": [
    {
     "ename": "NameError",
     "evalue": "name 'sat' is not defined",
     "output_type": "error",
     "traceback": [
      "\u001b[1;31m---------------------------------------------------------------------------\u001b[0m",
      "\u001b[1;31mNameError\u001b[0m                                 Traceback (most recent call last)",
      "Cell \u001b[1;32mIn[3], line 1\u001b[0m\n\u001b[1;32m----> 1\u001b[0m psd_refs \u001b[38;5;241m=\u001b[39m data_loader\u001b[38;5;241m.\u001b[39mload_psd(satellite \u001b[38;5;241m=\u001b[39m \u001b[43msat\u001b[49m, field_model \u001b[38;5;241m=\u001b[39m field_model, start \u001b[38;5;241m=\u001b[39m start, end \u001b[38;5;241m=\u001b[39m end)\n",
      "\u001b[1;31mNameError\u001b[0m: name 'sat' is not defined"
     ]
    }
   ],
   "source": [
    "psd_refs = data_loader.load_psd(satellite = sat, field_model = field_model, start = start, end = end)"
   ]
  },
  {
   "cell_type": "code",
   "execution_count": 4,
   "metadata": {},
   "outputs": [
    {
     "ename": "NameError",
     "evalue": "name 'mu_vals' is not defined",
     "output_type": "error",
     "traceback": [
      "\u001b[1;31m---------------------------------------------------------------------------\u001b[0m",
      "\u001b[1;31mNameError\u001b[0m                                 Traceback (most recent call last)",
      "Cell \u001b[1;32mIn[4], line 1\u001b[0m\n\u001b[1;32m----> 1\u001b[0m \u001b[38;5;28;01mfor\u001b[39;00m chosen_mu \u001b[38;5;129;01min\u001b[39;00m \u001b[43mmu_vals\u001b[49m:\n\u001b[0;32m      3\u001b[0m     \u001b[38;5;28mprint\u001b[39m(\u001b[38;5;124mf\u001b[39m\u001b[38;5;124m\"\u001b[39m\u001b[38;5;124mSelecting PSD for A at mu = \u001b[39m\u001b[38;5;132;01m{\u001b[39;00mchosen_mu\u001b[38;5;132;01m}\u001b[39;00m\u001b[38;5;124m, k = \u001b[39m\u001b[38;5;132;01m{\u001b[39;00mchosen_k\u001b[38;5;132;01m}\u001b[39;00m\u001b[38;5;124m\"\u001b[39m)\n\u001b[0;32m      5\u001b[0m     selected_psd_refs \u001b[38;5;241m=\u001b[39m psd_tool\u001b[38;5;241m.\u001b[39mselect_mu_and_k_from_psd(refs\u001b[38;5;241m=\u001b[39mpsd_refs, chosen_mu\u001b[38;5;241m=\u001b[39mchosen_mu, chosen_k\u001b[38;5;241m=\u001b[39mchosen_k)\n",
      "\u001b[1;31mNameError\u001b[0m: name 'mu_vals' is not defined"
     ]
    }
   ],
   "source": [
    "for chosen_mu in mu_vals:\n",
    "    \n",
    "    print(f\"Selecting PSD for A at mu = {chosen_mu}, k = {chosen_k}\")\n",
    "    \n",
    "    selected_psd_refs = psd_tool.select_mu_and_k_from_psd(refs=psd_refs, chosen_mu=chosen_mu, chosen_k=chosen_k)\n",
    "    \n",
    "    data_cache.cache_psd_at_selected_mu_and_k(selected_psd_refs, satellite = sat, start = start, end = end, mu = chosen_mu, k = chosen_k, field_model = field_model)\n"
   ]
  },
  {
   "cell_type": "code",
   "execution_count": 5,
   "metadata": {},
   "outputs": [
    {
     "ename": "NameError",
     "evalue": "name 'mu_vals' is not defined",
     "output_type": "error",
     "traceback": [
      "\u001b[1;31m---------------------------------------------------------------------------\u001b[0m",
      "\u001b[1;31mNameError\u001b[0m                                 Traceback (most recent call last)",
      "Cell \u001b[1;32mIn[5], line 4\u001b[0m\n\u001b[0;32m      1\u001b[0m Lstar_min \u001b[38;5;241m=\u001b[39m \u001b[38;5;241m3.0\u001b[39m\n\u001b[0;32m      2\u001b[0m Lstar_max \u001b[38;5;241m=\u001b[39m \u001b[38;5;241m6.0\u001b[39m\n\u001b[1;32m----> 4\u001b[0m fig, axs \u001b[38;5;241m=\u001b[39m plt\u001b[38;5;241m.\u001b[39msubplots(\u001b[38;5;28mlen\u001b[39m(\u001b[43mmu_vals\u001b[49m), \u001b[38;5;241m1\u001b[39m, sharex\u001b[38;5;241m=\u001b[39m\u001b[38;5;28;01mTrue\u001b[39;00m)\n\u001b[0;32m      5\u001b[0m fig\u001b[38;5;241m.\u001b[39mset_size_inches(\u001b[38;5;241m16\u001b[39m, \u001b[38;5;241m9\u001b[39m)\n\u001b[0;32m      6\u001b[0m fig\u001b[38;5;241m.\u001b[39mset_layout_engine(\u001b[38;5;124m\"\u001b[39m\u001b[38;5;124mconstrained\u001b[39m\u001b[38;5;124m\"\u001b[39m)\n",
      "\u001b[1;31mNameError\u001b[0m: name 'mu_vals' is not defined"
     ]
    }
   ],
   "source": [
    "Lstar_min = 3.0\n",
    "Lstar_max = 6.0\n",
    "\n",
    "fig, axs = plt.subplots(len(mu_vals), 1, sharex=True)\n",
    "fig.set_size_inches(16, 9)\n",
    "fig.set_layout_engine(\"constrained\")\n",
    "\n",
    "for k, chosen_mu in enumerate(mu_vals):\n",
    "    \n",
    "    selected_psd_refs = data_cache.load_psd_cache(satellite = sat, start = start, end = end, mu = chosen_mu, k = chosen_k, field_model = field_model)\n",
    "    \n",
    "    epoch = selected_psd_refs[\"EPOCH\"]\n",
    "    Lstar = selected_psd_refs[\"L_STAR\"]\n",
    "    PSD = selected_psd_refs[\"PSD\"]\n",
    "    \n",
    "    outer_belt = (3 < Lstar) & (Lstar < 7)\n",
    "    \n",
    "    plot_tools.plot_l_vs_time_log_colors(x = epoch[outer_belt], y = Lstar[outer_belt], c = PSD[outer_belt], cbar_label = \"PSD (c/Mev/G)\", axis = axs[k])\n",
    "    axs[k].set_title(rf\"RBSP-{sat}, K = {chosen_k}, ($R_E$$G^{{1/2}}$), $\\mu$ = {chosen_mu} (MeV / G), {field_model.name}\")\n",
    "    axs[k].set_ylabel(\"L*\")\n",
    "    axs[k].set_ylim(Lstar_min, Lstar_max)\n",
    "\n",
    "axs[0].set_xlim(start, end)\n",
    "\n",
    "plt.show()    "
   ]
  },
  {
   "cell_type": "code",
   "execution_count": null,
   "metadata": {},
   "outputs": [],
   "source": []
  }
 ],
 "metadata": {
  "kernelspec": {
   "display_name": "RadiationBeltResearch",
   "language": "python",
   "name": "python3"
  },
  "language_info": {
   "codemirror_mode": {
    "name": "ipython",
    "version": 3
   },
   "file_extension": ".py",
   "mimetype": "text/x-python",
   "name": "python",
   "nbconvert_exporter": "python",
   "pygments_lexer": "ipython3",
   "version": "3.12.1"
  }
 },
 "nbformat": 4,
 "nbformat_minor": 2
}
