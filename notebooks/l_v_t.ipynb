{
 "cells": [
  {
   "cell_type": "code",
   "execution_count": 1,
   "metadata": {},
   "outputs": [
    {
     "name": "stdout",
     "output_type": "stream",
     "text": [
      "This unreleased version of SpacePy is not supported by the SpacePy team.\n"
     ]
    }
   ],
   "source": [
    "# NEED TO RESTART KERNEL TO LOAD CHANGES TO IMPORTS :(\n",
    "\n",
    "import os\n",
    "import sys\n",
    "\n",
    "# caution: path[0] is reserved for script path (or '' in REPL).\n",
    "sys.path.insert(1, os.path.abspath(\"./../src\"))\n",
    "\n",
    "import datetime\n",
    "import importlib\n",
    "\n",
    "import matplotlib.pyplot as plt\n",
    "\n",
    "import data_cache\n",
    "import data_loader\n",
    "import field_models\n",
    "import plot_tools\n",
    "import psd_tool\n",
    "from energy_channels import EnergyChannel\n",
    "\n",
    "importlib.reload(plot_tools)\n",
    "importlib.reload(field_models)\n",
    "importlib.reload(psd_tool)\n",
    "importlib.reload(data_loader)\n",
    "importlib.reload(data_cache)\n",
    "\n",
    "%matplotlib qt\n",
    "\n",
    "# NEED TO RESTART KERNEL TO LOAD CHANGES TO IMPORTS :("
   ]
  },
  {
   "cell_type": "code",
   "execution_count": 2,
   "metadata": {},
   "outputs": [],
   "source": [
    "start = datetime.datetime(year=2015, month=1, day=1)\n",
    "end = datetime.datetime(year=2015, month=1, day=7)\n",
    "sat = \"A\""
   ]
  },
  {
   "cell_type": "code",
   "execution_count": 3,
   "metadata": {},
   "outputs": [
    {
     "name": "stdout",
     "output_type": "stream",
     "text": [
      "Loading REPT data between: 2015-01-01 00:00:00 and 2015-01-07 00:00:00.\n",
      "Loading : REPT_201501_A.npz\n"
     ]
    }
   ],
   "source": [
    "REPT = data_loader.load_compressed_rept_data(satellite=sat, start=start, end=end)\n",
    "\n",
    "fig, axs = plt.subplots(3, 1, sharex=True)\n",
    "fig.set_size_inches(16, 9)\n",
    "\n",
    "E1 = EnergyChannel.MeV_1_8\n",
    "E2 = EnergyChannel.MeV_2_1\n",
    "E3 = EnergyChannel.MeV_2_6\n",
    "\n",
    "axs[0].set_xlim(start, end)\n",
    "axs[1].set_xlim(start, end)\n",
    "axs[2].set_xlim(start, end)\n",
    "\n",
    "plot_tools.plot_l_vs_time_log_colors(\n",
    "    x=REPT[\"EPOCH\"],\n",
    "    y=REPT[\"L\"],\n",
    "    c=REPT[\"FESA\"][:, E1.value],\n",
    "    cbar_label=\"($cm^{-2}s^{-1}sr^{-1}MeV^{-1}$)\\n\",\n",
    "    axis=axs[0],\n",
    ")\n",
    "plot_tools.plot_l_vs_time_log_colors(\n",
    "    x=REPT[\"EPOCH\"],\n",
    "    y=REPT[\"L\"],\n",
    "    c=REPT[\"FESA\"][:, E2.value],\n",
    "    cbar_label=\"($cm^{-2}s^{-1}sr^{-1}MeV^{-1}$)\\n\",\n",
    "    axis=axs[1],\n",
    ")\n",
    "plot_tools.plot_l_vs_time_log_colors(\n",
    "    x=REPT[\"EPOCH\"],\n",
    "    y=REPT[\"L\"],\n",
    "    c=REPT[\"FESA\"][:, E3.value],\n",
    "    cbar_label=\"($cm^{-2}s^{-1}sr^{-1}MeV^{-1}$)\\n\",\n",
    "    axis=axs[2],\n",
    ")\n",
    "\n",
    "axs[0].set_ylim(3, 6)\n",
    "axs[1].set_ylim(3, 6)\n",
    "axs[2].set_ylim(3, 6)\n",
    "\n",
    "\n",
    "axs[0].set_title(f\"{REPT[\"ENERGIES\"][E1.value]} MeV\", fontsize=10)\n",
    "axs[1].set_title(f\"{REPT[\"ENERGIES\"][E2.value]} MeV\", fontsize=10)\n",
    "axs[2].set_title(f\"{REPT[\"ENERGIES\"][E3.value]} MeV\", fontsize=10)\n",
    "\n",
    "axs[0].set_ylabel(\"L\")\n",
    "axs[1].set_ylabel(\"L\")\n",
    "axs[2].set_ylabel(\"L\")\n",
    "\n",
    "mid_for_title = (fig.subplotpars.right + fig.subplotpars.left) / 2\n",
    "fig.suptitle(f\"RBSP-{sat}, Spin Averaged Electron Flux\", fontsize=14, x=mid_for_title)\n",
    "plt.show()"
   ]
  },
  {
   "cell_type": "code",
   "execution_count": 4,
   "metadata": {},
   "outputs": [],
   "source": [
    "field_model = field_models.model.TS04D\n",
    "\n",
    "mu_vals = [500, 1000, 3000]\n",
    "chosen_k = 0.07"
   ]
  },
  {
   "cell_type": "code",
   "execution_count": 5,
   "metadata": {},
   "outputs": [
    {
     "name": "stdout",
     "output_type": "stream",
     "text": [
      "2015-01-01 00:00:00\n",
      "Loading : PSD_201501_A_TS04D.npz\n"
     ]
    }
   ],
   "source": [
    "psd_refs = data_loader.load_psd(satellite=sat, field_model=field_model, start=start, end=end)"
   ]
  },
  {
   "cell_type": "code",
   "execution_count": 6,
   "metadata": {},
   "outputs": [
    {
     "name": "stdout",
     "output_type": "stream",
     "text": [
      "Selecting PSD for A at mu = 500, k = 0.07\n",
      "Time taken for loop: 2.245243787765503\n",
      "Selecting PSD for A at mu = 1000, k = 0.07\n",
      "Time taken for loop: 1.053934097290039\n",
      "Selecting PSD for A at mu = 3000, k = 0.07\n",
      "Time taken for loop: 1.1295132637023926\n"
     ]
    }
   ],
   "source": [
    "for chosen_mu in mu_vals:\n",
    "\n",
    "    print(f\"Selecting PSD for A at mu = {chosen_mu}, k = {chosen_k}\")\n",
    "\n",
    "    selected_psd_refs = psd_tool.select_mu_and_k_from_psd(\n",
    "        refs=psd_refs, chosen_mu=chosen_mu, chosen_k=chosen_k\n",
    "    )\n",
    "\n",
    "    data_cache.cache_psd_at_selected_mu_and_k(\n",
    "        selected_psd_refs,\n",
    "        satellite=sat,\n",
    "        start=start,\n",
    "        end=end,\n",
    "        mu=chosen_mu,\n",
    "        k=chosen_k,\n",
    "        field_model=field_model,\n",
    "    )"
   ]
  },
  {
   "cell_type": "code",
   "execution_count": 7,
   "metadata": {},
   "outputs": [],
   "source": [
    "Lstar_min = 3.0\n",
    "Lstar_max = 6.0\n",
    "\n",
    "fig, axs = plt.subplots(len(mu_vals), 1, sharex=True)\n",
    "fig.set_size_inches(16, 9)\n",
    "\n",
    "axs[0].set_xlim(start, end)\n",
    "\n",
    "for k, chosen_mu in enumerate(mu_vals):\n",
    "\n",
    "    selected_psd_refs = data_cache.load_psd_cache(\n",
    "        satellite=sat, start=start, end=end, mu=chosen_mu, k=chosen_k, field_model=field_model\n",
    "    )\n",
    "\n",
    "    epoch = selected_psd_refs[\"EPOCH\"]\n",
    "    Lstar = selected_psd_refs[\"L_STAR\"]\n",
    "    PSD = selected_psd_refs[\"PSD\"]\n",
    "\n",
    "    outer_belt = (3 < Lstar) & (Lstar < 7)\n",
    "\n",
    "    plot_tools.plot_l_vs_time_log_colors(\n",
    "        x=epoch[outer_belt],\n",
    "        y=Lstar[outer_belt],\n",
    "        c=PSD[outer_belt],\n",
    "        cbar_label=r\"PSD $(c/MeV/cm)^{3}$\",\n",
    "        axis=axs[k],\n",
    "    )\n",
    "    axs[k].set_title(\n",
    "        rf\"RBSP-{sat}, K = {chosen_k}, ($R_E$$G^{{1/2}}$), $\\mu$ = {chosen_mu} (MeV / G), {field_model.name}\"\n",
    "    )\n",
    "    axs[k].set_ylabel(\"L*\")\n",
    "    axs[k].set_ylim(Lstar_min, Lstar_max)\n",
    "    axs[k].set_aspect(\"auto\")\n",
    "\n",
    "mid_for_title = (fig.subplotpars.right + fig.subplotpars.left) / 2\n",
    "fig.suptitle(\n",
    "    f\"RBSP-{sat}, Phase Space Density\", fontsize=14, x=mid_for_title, verticalalignment=\"top\"\n",
    ")\n",
    "plt.show()"
   ]
  },
  {
   "cell_type": "code",
   "execution_count": null,
   "metadata": {},
   "outputs": [],
   "source": []
  },
  {
   "cell_type": "code",
   "execution_count": null,
   "metadata": {},
   "outputs": [],
   "source": []
  }
 ],
 "metadata": {
  "kernelspec": {
   "display_name": "Python 3 (ipykernel)",
   "language": "python",
   "name": "python3"
  },
  "language_info": {
   "codemirror_mode": {
    "name": "ipython",
    "version": 3
   },
   "file_extension": ".py",
   "mimetype": "text/x-python",
   "name": "python",
   "nbconvert_exporter": "python",
   "pygments_lexer": "ipython3",
   "version": "3.12.5"
  }
 },
 "nbformat": 4,
 "nbformat_minor": 4
}
