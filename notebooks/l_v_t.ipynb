{
 "cells": [
  {
   "cell_type": "code",
   "execution_count": 56,
   "metadata": {},
   "outputs": [],
   "source": [
    "#NEED TO RESTART KERNEL TO LOAD CHANGES TO IMPORTS :(\n",
    "\n",
    "import sys\n",
    "import os\n",
    "# caution: path[0] is reserved for script path (or '' in REPL).\n",
    "sys.path.insert(1, os.path.abspath('./../src'))\n",
    "\n",
    "import data_loader\n",
    "import data_cache\n",
    "from energy_channels import EnergyChannel\n",
    "import plot_tools\n",
    "import datetime\n",
    "import matplotlib.pyplot as plt\n",
    "import font_sizes\n",
    "import numpy as np\n",
    "import field_models\n",
    "import psd_tool\n",
    "import scipy\n",
    "\n",
    "import importlib\n",
    "importlib.reload(plot_tools)\n",
    "importlib.reload(field_models)\n",
    "importlib.reload(psd_tool)\n",
    "importlib.reload(data_loader)\n",
    "importlib.reload(data_cache)\n",
    "\n",
    "%matplotlib qt\n",
    "\n",
    "#NEED TO RESTART KERNEL TO LOAD CHANGES TO IMPORTS :("
   ]
  },
  {
   "cell_type": "code",
   "execution_count": 57,
   "metadata": {},
   "outputs": [],
   "source": [
    "start = datetime.datetime(year = 2015, month = 1, day = 1)\n",
    "end = datetime.datetime(year = 2015, month = 2, day = 1)\n",
    "sat = \"A\""
   ]
  },
  {
   "cell_type": "code",
   "execution_count": 6,
   "metadata": {},
   "outputs": [
    {
     "name": "stdout",
     "output_type": "stream",
     "text": [
      "Loading REPT data between: 2015-06-01 00:00:00 and 2015-07-01 00:00:00.\n",
      "Loading : REPT_201506_A.npz\n",
      "Loading : REPT_201507_A.npz\n"
     ]
    }
   ],
   "source": [
    "REPT = data_loader.load_compressed_rept_data(satellite=sat, start=start, end=end)\n",
    "\n",
    "fig, axs = plt.subplots(3, 1, sharex=True)\n",
    "fig.set_size_inches(16, 9)\n",
    "fig.set_layout_engine(\"constrained\")\n",
    "\n",
    "E1 = EnergyChannel.MeV_1_8\n",
    "E2 = EnergyChannel.MeV_2_1\n",
    "E3 = EnergyChannel.MeV_2_6\n",
    "\n",
    "plot_tools.plot_l_vs_time_log_colors(x = REPT[\"EPOCH\"], y = REPT[\"L\"], c = REPT[\"FESA\"][:, E1.value], axis=axs[0], cbar_label=\"($cm^{-2}s^{-1}sr^{-1}MeV^{-1}$)\\n\")\n",
    "plot_tools.plot_l_vs_time_log_colors(x = REPT[\"EPOCH\"], y = REPT[\"L\"], c = REPT[\"FESA\"][:, E2.value], axis=axs[1], cbar_label=\"($cm^{-2}s^{-1}sr^{-1}MeV^{-1}$)\\n\")\n",
    "plot_tools.plot_l_vs_time_log_colors(x = REPT[\"EPOCH\"], y = REPT[\"L\"], c = REPT[\"FESA\"][:, E3.value], axis=axs[2], cbar_label=\"($cm^{-2}s^{-1}sr^{-1}MeV^{-1}$)\\n\")\n",
    "    \n",
    "axs[0].set_xlim(start, end)\n",
    "axs[1].set_xlim(start, end)\n",
    "axs[2].set_xlim(start, end)\n",
    "\n",
    "axs[0].set_ylim(3, 6)\n",
    "axs[1].set_ylim(3, 6)\n",
    "axs[2].set_ylim(3, 6)\n",
    "\n",
    "\n",
    "axs[0].set_title(f\"{REPT[\"ENERGIES\"][E1.value]} MeV\", fontsize = 10)\n",
    "axs[1].set_title(f\"{REPT[\"ENERGIES\"][E2.value]} MeV\", fontsize = 10)\n",
    "axs[2].set_title(f\"{REPT[\"ENERGIES\"][E3.value]} MeV\", fontsize = 10)\n",
    "\n",
    "\n",
    "\n",
    "fig.suptitle(f\"RBSP-{sat}, Spin Averaged Electron Flux\", fontsize = 14)\n",
    "plt.show()"
   ]
  },
  {
   "cell_type": "code",
   "execution_count": 58,
   "metadata": {},
   "outputs": [],
   "source": [
    "field_model = field_models.model.TS04D\n",
    "\n",
    "mu_vals = [500, 1000, 3000]\n",
    "chosen_k = 0.07"
   ]
  },
  {
   "cell_type": "code",
   "execution_count": 59,
   "metadata": {},
   "outputs": [
    {
     "name": "stdout",
     "output_type": "stream",
     "text": [
      "2015-01-01 00:00:00\n",
      "Loading : PSD_201501_A_TS04D.npz\n",
      "2015-02-01 00:00:00\n",
      "Loading : PSD_201502_A_TS04D.npz\n"
     ]
    }
   ],
   "source": [
    "psd_refs = data_loader.load_psd(satellite = sat, field_model = field_model, start = start, end = end)"
   ]
  },
  {
   "cell_type": "code",
   "execution_count": 60,
   "metadata": {},
   "outputs": [
    {
     "name": "stdout",
     "output_type": "stream",
     "text": [
      "Selecting PSD for A at mu = 500, k = 0.07\n",
      "Time taken for loop: 5.132992506027222\n",
      "Selecting PSD for A at mu = 1000, k = 0.07\n",
      "Time taken for loop: 5.165690660476685\n",
      "Selecting PSD for A at mu = 3000, k = 0.07\n",
      "Time taken for loop: 4.999297618865967\n"
     ]
    }
   ],
   "source": [
    "for chosen_mu in mu_vals:\n",
    "    \n",
    "    print(f\"Selecting PSD for A at mu = {chosen_mu}, k = {chosen_k}\")\n",
    "    \n",
    "    selected_psd_refs = psd_tool.select_mu_and_k_from_psd(refs=psd_refs, chosen_mu=chosen_mu, chosen_k=chosen_k)\n",
    "    \n",
    "    data_cache.cache_psd_at_selected_mu_and_k(selected_psd_refs, satellite = sat, start = start, end = end, mu = chosen_mu, k = chosen_k, field_model = field_model)\n"
   ]
  },
  {
   "cell_type": "code",
   "execution_count": 61,
   "metadata": {},
   "outputs": [],
   "source": [
    "Lstar_min = 3.0\n",
    "Lstar_max = 6.0\n",
    "\n",
    "fig, axs = plt.subplots(len(mu_vals), 1, sharex=True)\n",
    "fig.set_size_inches(16, 9)\n",
    "fig.set_layout_engine(\"constrained\")\n",
    "\n",
    "for k, chosen_mu in enumerate(mu_vals):\n",
    "    \n",
    "    selected_psd_refs = data_cache.load_psd_cache(satellite = sat, start = start, end = end, mu = chosen_mu, k = chosen_k, field_model = field_model)\n",
    "    \n",
    "    epoch = selected_psd_refs[\"EPOCH\"]\n",
    "    Lstar = selected_psd_refs[\"L_STAR\"]\n",
    "    PSD = selected_psd_refs[\"PSD\"]\n",
    "    \n",
    "    outer_belt = (3 < Lstar) & (Lstar < 7)\n",
    "    \n",
    "    plot_tools.plot_l_vs_time_log_colors(x = epoch[outer_belt], y = Lstar[outer_belt], c = PSD[outer_belt], cbar_label = \"PSD (c/Mev/G)\", axis = axs[k])\n",
    "    axs[k].set_title(rf\"RBSP-{sat}, K = {chosen_k}, ($R_E$$G^{{1/2}}$), $\\mu$ = {chosen_mu} (MeV / G), {field_model.name}\")\n",
    "    axs[k].set_ylabel(\"L*\")\n",
    "    axs[k].set_ylim(Lstar_min, Lstar_max)\n",
    "\n",
    "axs[0].set_xlim(start, end)\n",
    "\n",
    "plt.show()    "
   ]
  },
  {
   "cell_type": "code",
   "execution_count": null,
   "metadata": {},
   "outputs": [],
   "source": []
  }
 ],
 "metadata": {
  "kernelspec": {
   "display_name": "RadiationBeltResearch",
   "language": "python",
   "name": "python3"
  },
  "language_info": {
   "codemirror_mode": {
    "name": "ipython",
    "version": 3
   },
   "file_extension": ".py",
   "mimetype": "text/x-python",
   "name": "python",
   "nbconvert_exporter": "python",
   "pygments_lexer": "ipython3",
   "version": "3.12.1"
  }
 },
 "nbformat": 4,
 "nbformat_minor": 2
}
