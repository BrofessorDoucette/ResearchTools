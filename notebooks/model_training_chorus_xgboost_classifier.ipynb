{
 "cells": [
  {
   "cell_type": "code",
   "execution_count": 1,
   "metadata": {},
   "outputs": [],
   "source": [
    "import xgboost as xgb\n",
    "import numpy as np\n",
    "\n",
    "import matplotlib.pyplot as plt\n",
    "\n",
    "%matplotlib qt"
   ]
  },
  {
   "cell_type": "code",
   "execution_count": 2,
   "metadata": {},
   "outputs": [
    {
     "name": "stdout",
     "output_type": "stream",
     "text": [
      "Training set shape: ((21012169, 15), (21012169, 1))\n",
      "Validation set shape: ((560971, 15), (560971, 1))\n",
      "Bins used: [1.00000000e-01 1.58489319e-01 2.51188643e-01 3.98107171e-01\n",
      " 6.30957344e-01 1.00000000e+00 1.29154967e+00 1.66810054e+00\n",
      " 2.15443469e+00 2.78255940e+00 3.59381366e+00 4.64158883e+00\n",
      " 5.99484250e+00 7.74263683e+00 1.00000000e+01 1.58489319e+01\n",
      " 2.51188643e+01 3.98107171e+01 6.30957344e+01 1.00000000e+02\n",
      " 3.16227766e+02 1.00000000e+03]\n",
      "Number of bins: 22\n",
      "[[6]\n",
      " [6]\n",
      " [6]\n",
      " ...\n",
      " [7]\n",
      " [7]\n",
      " [7]]\n"
     ]
    }
   ],
   "source": [
    "version = \"v3a\"\n",
    "\n",
    "CONJUNCTIONS_REFS = np.load(f\"./../processed_data_chorus_neural_network/STAGE_4/{version}/MODEL_READY_DATA_{version}.npz\")\n",
    "\n",
    "TRAINING_FEATURES = CONJUNCTIONS_REFS[\"FEATURES\"]\n",
    "TRAINING_LABELS = CONJUNCTIONS_REFS[\"LABELS\"]\n",
    "\n",
    "VALIDATION_FEATURES = CONJUNCTIONS_REFS[\"VALIDATION_FEATURES\"]\n",
    "VALIDATION_LABELS = CONJUNCTIONS_REFS[\"VALIDATION_LABELS\"]\n",
    "\n",
    "BINS = CONJUNCTIONS_REFS[\"BINS\"]\n",
    "\n",
    "CONJUNCTIONS_REFS.close()\n",
    "\n",
    "print(f\"Training set shape: {TRAINING_FEATURES.shape, TRAINING_LABELS.shape}\")\n",
    "print(f\"Validation set shape: {VALIDATION_FEATURES.shape, VALIDATION_LABELS.shape}\")\n",
    "print(f\"Bins used: {BINS}\")\n",
    "print(f\"Number of bins: {len(BINS)}\")\n",
    "\n",
    "\n",
    "print(VALIDATION_LABELS)"
   ]
  },
  {
   "cell_type": "code",
   "execution_count": 3,
   "metadata": {},
   "outputs": [],
   "source": [
    "training_set = xgb.DMatrix(TRAINING_FEATURES[0:10000000], TRAINING_LABELS[0:10000000])\n",
    "validation_set = xgb.DMatrix(VALIDATION_FEATURES[0:10000000], VALIDATION_LABELS[0:10000000])"
   ]
  },
  {
   "cell_type": "code",
   "execution_count": 4,
   "metadata": {},
   "outputs": [
    {
     "name": "stdout",
     "output_type": "stream",
     "text": [
      "[0]\ttrain-mlogloss:3.02754\tvalidation-mlogloss:3.06218\n",
      "[1]\ttrain-mlogloss:2.99795\tvalidation-mlogloss:3.04140\n",
      "[2]\ttrain-mlogloss:2.91504\tvalidation-mlogloss:2.98271\n",
      "[3]\ttrain-mlogloss:2.90429\tvalidation-mlogloss:2.97489\n",
      "[4]\ttrain-mlogloss:2.83466\tvalidation-mlogloss:2.92458\n",
      "[5]\ttrain-mlogloss:2.82822\tvalidation-mlogloss:2.91989\n",
      "[6]\ttrain-mlogloss:2.76803\tvalidation-mlogloss:2.87578\n",
      "[7]\ttrain-mlogloss:2.76442\tvalidation-mlogloss:2.87315\n",
      "[8]\ttrain-mlogloss:2.76176\tvalidation-mlogloss:2.87117\n",
      "[9]\ttrain-mlogloss:2.75920\tvalidation-mlogloss:2.86933\n",
      "[10]\ttrain-mlogloss:2.75569\tvalidation-mlogloss:2.86674\n",
      "[11]\ttrain-mlogloss:2.70325\tvalidation-mlogloss:2.82781\n",
      "[12]\ttrain-mlogloss:2.70137\tvalidation-mlogloss:2.82640\n",
      "[13]\ttrain-mlogloss:2.69968\tvalidation-mlogloss:2.82512\n",
      "[14]\ttrain-mlogloss:2.69760\tvalidation-mlogloss:2.82363\n"
     ]
    },
    {
     "ename": "KeyboardInterrupt",
     "evalue": "",
     "output_type": "error",
     "traceback": [
      "\u001b[1;31m---------------------------------------------------------------------------\u001b[0m",
      "\u001b[1;31mKeyboardInterrupt\u001b[0m                         Traceback (most recent call last)",
      "Cell \u001b[1;32mIn[4], line 16\u001b[0m\n\u001b[0;32m     12\u001b[0m watchlist \u001b[38;5;241m=\u001b[39m [(training_set, \u001b[38;5;124m'\u001b[39m\u001b[38;5;124mtrain\u001b[39m\u001b[38;5;124m'\u001b[39m), (validation_set, \u001b[38;5;124m'\u001b[39m\u001b[38;5;124mvalidation\u001b[39m\u001b[38;5;124m'\u001b[39m)]\n\u001b[0;32m     14\u001b[0m num_round \u001b[38;5;241m=\u001b[39m \u001b[38;5;241m100\u001b[39m\n\u001b[1;32m---> 16\u001b[0m model \u001b[38;5;241m=\u001b[39m \u001b[43mxgb\u001b[49m\u001b[38;5;241;43m.\u001b[39;49m\u001b[43mtrain\u001b[49m\u001b[43m(\u001b[49m\u001b[43mparams\u001b[49m\u001b[38;5;241;43m=\u001b[39;49m\u001b[43mparam\u001b[49m\u001b[43m,\u001b[49m\u001b[43m \u001b[49m\n\u001b[0;32m     17\u001b[0m \u001b[43m                  \u001b[49m\u001b[43mdtrain\u001b[49m\u001b[38;5;241;43m=\u001b[39;49m\u001b[43mtraining_set\u001b[49m\u001b[43m,\u001b[49m\u001b[43m \u001b[49m\n\u001b[0;32m     18\u001b[0m \u001b[43m                  \u001b[49m\u001b[43mnum_boost_round\u001b[49m\u001b[38;5;241;43m=\u001b[39;49m\u001b[43mnum_round\u001b[49m\u001b[43m,\u001b[49m\u001b[43m \u001b[49m\n\u001b[0;32m     19\u001b[0m \u001b[43m                  \u001b[49m\u001b[43mevals\u001b[49m\u001b[38;5;241;43m=\u001b[39;49m\u001b[43mwatchlist\u001b[49m\u001b[43m)\u001b[49m\n\u001b[0;32m     21\u001b[0m model\u001b[38;5;241m.\u001b[39msave_model(\u001b[38;5;124mf\u001b[39m\u001b[38;5;124m\"\u001b[39m\u001b[38;5;124m./../processed_data_chorus_neural_network/TRAINED_MODELS/XGBOOST_CLASSIFIER_v3a_DART.model\u001b[39m\u001b[38;5;124m\"\u001b[39m)\n",
      "File \u001b[1;32mc:\\Dev\\Research\\REPT_Enhancements_Tool\\ResearchPy\\Lib\\site-packages\\xgboost\\core.py:726\u001b[0m, in \u001b[0;36mrequire_keyword_args.<locals>.throw_if.<locals>.inner_f\u001b[1;34m(*args, **kwargs)\u001b[0m\n\u001b[0;32m    724\u001b[0m \u001b[38;5;28;01mfor\u001b[39;00m k, arg \u001b[38;5;129;01min\u001b[39;00m \u001b[38;5;28mzip\u001b[39m(sig\u001b[38;5;241m.\u001b[39mparameters, args):\n\u001b[0;32m    725\u001b[0m     kwargs[k] \u001b[38;5;241m=\u001b[39m arg\n\u001b[1;32m--> 726\u001b[0m \u001b[38;5;28;01mreturn\u001b[39;00m \u001b[43mfunc\u001b[49m\u001b[43m(\u001b[49m\u001b[38;5;241;43m*\u001b[39;49m\u001b[38;5;241;43m*\u001b[39;49m\u001b[43mkwargs\u001b[49m\u001b[43m)\u001b[49m\n",
      "File \u001b[1;32mc:\\Dev\\Research\\REPT_Enhancements_Tool\\ResearchPy\\Lib\\site-packages\\xgboost\\training.py:181\u001b[0m, in \u001b[0;36mtrain\u001b[1;34m(params, dtrain, num_boost_round, evals, obj, feval, maximize, early_stopping_rounds, evals_result, verbose_eval, xgb_model, callbacks, custom_metric)\u001b[0m\n\u001b[0;32m    179\u001b[0m \u001b[38;5;28;01mif\u001b[39;00m cb_container\u001b[38;5;241m.\u001b[39mbefore_iteration(bst, i, dtrain, evals):\n\u001b[0;32m    180\u001b[0m     \u001b[38;5;28;01mbreak\u001b[39;00m\n\u001b[1;32m--> 181\u001b[0m \u001b[43mbst\u001b[49m\u001b[38;5;241;43m.\u001b[39;49m\u001b[43mupdate\u001b[49m\u001b[43m(\u001b[49m\u001b[43mdtrain\u001b[49m\u001b[43m,\u001b[49m\u001b[43m \u001b[49m\u001b[43miteration\u001b[49m\u001b[38;5;241;43m=\u001b[39;49m\u001b[43mi\u001b[49m\u001b[43m,\u001b[49m\u001b[43m \u001b[49m\u001b[43mfobj\u001b[49m\u001b[38;5;241;43m=\u001b[39;49m\u001b[43mobj\u001b[49m\u001b[43m)\u001b[49m\n\u001b[0;32m    182\u001b[0m \u001b[38;5;28;01mif\u001b[39;00m cb_container\u001b[38;5;241m.\u001b[39mafter_iteration(bst, i, dtrain, evals):\n\u001b[0;32m    183\u001b[0m     \u001b[38;5;28;01mbreak\u001b[39;00m\n",
      "File \u001b[1;32mc:\\Dev\\Research\\REPT_Enhancements_Tool\\ResearchPy\\Lib\\site-packages\\xgboost\\core.py:2101\u001b[0m, in \u001b[0;36mBooster.update\u001b[1;34m(self, dtrain, iteration, fobj)\u001b[0m\n\u001b[0;32m   2097\u001b[0m \u001b[38;5;28mself\u001b[39m\u001b[38;5;241m.\u001b[39m_assign_dmatrix_features(dtrain)\n\u001b[0;32m   2099\u001b[0m \u001b[38;5;28;01mif\u001b[39;00m fobj \u001b[38;5;129;01mis\u001b[39;00m \u001b[38;5;28;01mNone\u001b[39;00m:\n\u001b[0;32m   2100\u001b[0m     _check_call(\n\u001b[1;32m-> 2101\u001b[0m         \u001b[43m_LIB\u001b[49m\u001b[38;5;241;43m.\u001b[39;49m\u001b[43mXGBoosterUpdateOneIter\u001b[49m\u001b[43m(\u001b[49m\n\u001b[0;32m   2102\u001b[0m \u001b[43m            \u001b[49m\u001b[38;5;28;43mself\u001b[39;49m\u001b[38;5;241;43m.\u001b[39;49m\u001b[43mhandle\u001b[49m\u001b[43m,\u001b[49m\u001b[43m \u001b[49m\u001b[43mctypes\u001b[49m\u001b[38;5;241;43m.\u001b[39;49m\u001b[43mc_int\u001b[49m\u001b[43m(\u001b[49m\u001b[43miteration\u001b[49m\u001b[43m)\u001b[49m\u001b[43m,\u001b[49m\u001b[43m \u001b[49m\u001b[43mdtrain\u001b[49m\u001b[38;5;241;43m.\u001b[39;49m\u001b[43mhandle\u001b[49m\n\u001b[0;32m   2103\u001b[0m \u001b[43m        \u001b[49m\u001b[43m)\u001b[49m\n\u001b[0;32m   2104\u001b[0m     )\n\u001b[0;32m   2105\u001b[0m \u001b[38;5;28;01melse\u001b[39;00m:\n\u001b[0;32m   2106\u001b[0m     pred \u001b[38;5;241m=\u001b[39m \u001b[38;5;28mself\u001b[39m\u001b[38;5;241m.\u001b[39mpredict(dtrain, output_margin\u001b[38;5;241m=\u001b[39m\u001b[38;5;28;01mTrue\u001b[39;00m, training\u001b[38;5;241m=\u001b[39m\u001b[38;5;28;01mTrue\u001b[39;00m)\n",
      "\u001b[1;31mKeyboardInterrupt\u001b[0m: "
     ]
    }
   ],
   "source": [
    "param = {}\n",
    "# use softmax multi-class classification\n",
    "param['objective'] = 'multi:softmax'\n",
    "# scale weight of positive examples\n",
    "param['eta'] = 0.1\n",
    "param['max_depth'] = 6\n",
    "param['nthread'] = 8\n",
    "param['num_class'] = len(BINS) + 1\n",
    "param['device'] = \"cuda\"\n",
    "param[\"lambda\"] = 100\n",
    "param[\"alpha\"] = 0\n",
    "param[\"gamma\"] = 0.1\n",
    "\n",
    "watchlist = [(training_set, 'train'), (validation_set, 'validation')]\n",
    "\n",
    "num_round = 100\n",
    "\n",
    "model = xgb.train(params=param, \n",
    "                  dtrain=training_set, \n",
    "                  num_boost_round=num_round, \n",
    "                  evals=watchlist,\n",
    "                  xgb_model=f\"./../processed_data_chorus_neural_network/TRAINED_MODELS/XGBOOST_CLASSIFIER_v3a.model\")\n",
    "\n",
    "model.save_model(f\"./../processed_data_chorus_neural_network/TRAINED_MODELS/XGBOOST_CLASSIFIER_v3a.model\")"
   ]
  },
  {
   "cell_type": "code",
   "execution_count": null,
   "metadata": {},
   "outputs": [
    {
     "name": "stdout",
     "output_type": "stream",
     "text": [
      "0.21714491479951725\n",
      "-0.807359025689385\n"
     ]
    },
    {
     "data": {
      "text/plain": [
       "<matplotlib.collections.PathCollection at 0x1f6f2478ad0>"
      ]
     },
     "execution_count": 7,
     "metadata": {},
     "output_type": "execute_result"
    }
   ],
   "source": [
    "model = xgb.Booster({'nthread': 4})  # init model\n",
    "model.load_model(f\"./../processed_data_chorus_neural_network/TRAINED_MODELS/XG_BOOSTED_REGRESSION_ON_CLASSIFIED_INPUT.model\")  # load model data\n",
    "\n",
    "pred = (model.predict(validation_set)).astype(int)\n",
    "\n",
    "num_correct = np.sum(pred.flatten() == VALIDATION_LABELS.flatten())\n",
    "print(num_correct / len(VALIDATION_LABELS))\n",
    "\n",
    "print(np.nanmean(pred.flatten() - VALIDATION_LABELS.flatten()))\n",
    "\n",
    "plt.scatter(model.predict(validation_set), VALIDATION_LABELS[0:10000000, :])"
   ]
  },
  {
   "cell_type": "code",
   "execution_count": 26,
   "metadata": {},
   "outputs": [
    {
     "name": "stdout",
     "output_type": "stream",
     "text": [
      "{'f0': 2319.209228515625, 'f1': 249.33517456054688, 'f2': 579.41357421875, 'f3': 475.2789001464844, 'f4': 312.008544921875, 'f5': 193.44424438476562, 'f6': 232.8834991455078, 'f7': 141.73191833496094, 'f8': 219.95263671875, 'f9': 493.7401428222656, 'f10': 204.27955627441406, 'f11': 163.28846740722656, 'f12': 161.9849853515625, 'f13': 149.22296142578125, 'f14': 163.7195281982422}\n",
      "{'f0': 12876.0, 'f1': 18441.0, 'f2': 2220.0, 'f3': 1008.0, 'f4': 994.0, 'f5': 742.0, 'f6': 1033.0, 'f7': 883.0, 'f8': 972.0, 'f9': 2778.0, 'f10': 13262.0, 'f11': 10936.0, 'f12': 12550.0, 'f13': 10837.0, 'f14': 10783.0}\n",
      "[7 7 7 ... 6 6 6]\n"
     ]
    }
   ],
   "source": [
    "print(model.get_score(importance_type='gain'))\n",
    "print(model.get_score(importance_type='weight'))\n",
    "\n",
    "chorus_real = np.zeros_like(VALIDATION_LABELS)\n",
    "indices_within_bounds = (VALIDATION_LABELS.flatten() != 0) & (VALIDATION_LABELS.flatten() != 22)\n",
    "chorus_real[indices_within_bounds] = BINS[VALIDATION_LABELS[indices_within_bounds]]\n",
    "chorus_real[VALIDATION_LABELS.flatten() == 0] = 0.1\n",
    "chorus_real[VALIDATION_LABELS.flatten() == 22] = 1000\n",
    "\n",
    "\n",
    "chorus_pred = np.zeros_like(pred)\n",
    "indices_within_bounds = (pred.flatten() != 0) & (pred.flatten() != 22)\n",
    "chorus_pred[indices_within_bounds] = BINS[pred[indices_within_bounds]]\n",
    "chorus_pred[pred.flatten() == 0] = 0.1\n",
    "chorus_pred[pred.flatten() == 22] = 1000\n"
   ]
  },
  {
   "cell_type": "code",
   "execution_count": 6,
   "metadata": {},
   "outputs": [
    {
     "ename": "NameError",
     "evalue": "name 'chorus_real' is not defined",
     "output_type": "error",
     "traceback": [
      "\u001b[1;31m---------------------------------------------------------------------------\u001b[0m",
      "\u001b[1;31mNameError\u001b[0m                                 Traceback (most recent call last)",
      "Cell \u001b[1;32mIn[6], line 1\u001b[0m\n\u001b[1;32m----> 1\u001b[0m plt\u001b[38;5;241m.\u001b[39mscatter(\u001b[43mchorus_real\u001b[49m, chorus_pred)\n\u001b[0;32m      2\u001b[0m plt\u001b[38;5;241m.\u001b[39mxscale(\u001b[38;5;124m\"\u001b[39m\u001b[38;5;124mlog\u001b[39m\u001b[38;5;124m\"\u001b[39m)\n\u001b[0;32m      3\u001b[0m plt\u001b[38;5;241m.\u001b[39myscale(\u001b[38;5;124m\"\u001b[39m\u001b[38;5;124mlog\u001b[39m\u001b[38;5;124m\"\u001b[39m)\n",
      "\u001b[1;31mNameError\u001b[0m: name 'chorus_real' is not defined"
     ]
    }
   ],
   "source": [
    "plt.scatter(chorus_real, chorus_pred)\n",
    "plt.xscale(\"log\")\n",
    "plt.yscale(\"log\")"
   ]
  },
  {
   "cell_type": "code",
   "execution_count": 32,
   "metadata": {},
   "outputs": [
    {
     "data": {
      "text/plain": [
       "{'f0': 2319.209228515625,\n",
       " 'f1': 249.33517456054688,\n",
       " 'f2': 579.41357421875,\n",
       " 'f3': 475.2789001464844,\n",
       " 'f4': 312.008544921875,\n",
       " 'f5': 193.44424438476562,\n",
       " 'f6': 232.8834991455078,\n",
       " 'f7': 141.73191833496094,\n",
       " 'f8': 219.95263671875,\n",
       " 'f9': 493.7401428222656,\n",
       " 'f10': 204.27955627441406,\n",
       " 'f11': 163.28846740722656,\n",
       " 'f12': 161.9849853515625,\n",
       " 'f13': 149.22296142578125,\n",
       " 'f14': 163.7195281982422}"
      ]
     },
     "execution_count": 32,
     "metadata": {},
     "output_type": "execute_result"
    }
   ],
   "source": [
    "model.get_score(importance_type='gain')\n"
   ]
  },
  {
   "cell_type": "code",
   "execution_count": null,
   "metadata": {},
   "outputs": [],
   "source": []
  }
 ],
 "metadata": {
  "kernelspec": {
   "display_name": "ResearchPy",
   "language": "python",
   "name": "python3"
  },
  "language_info": {
   "codemirror_mode": {
    "name": "ipython",
    "version": 3
   },
   "file_extension": ".py",
   "mimetype": "text/x-python",
   "name": "python",
   "nbconvert_exporter": "python",
   "pygments_lexer": "ipython3",
   "version": "3.12.5"
  }
 },
 "nbformat": 4,
 "nbformat_minor": 2
}
