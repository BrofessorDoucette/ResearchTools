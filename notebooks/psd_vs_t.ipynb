{
 "cells": [
  {
   "cell_type": "code",
   "execution_count": 82,
   "metadata": {},
   "outputs": [
    {
     "name": "stderr",
     "output_type": "stream",
     "text": [
      "c:\\Dev\\Research\\REPT_Enhancements_Tool\\src\\plot_tools.py:55: MatplotlibDeprecationWarning: The get_cmap function was deprecated in Matplotlib 3.7 and will be removed two minor releases later. Use ``matplotlib.colormaps[name]`` or ``matplotlib.colormaps.get_cmap(obj)`` instead.\n",
      "  cmap = cm.get_cmap(\"viridis\"),\n"
     ]
    }
   ],
   "source": [
    "import sys\n",
    "import os\n",
    "# caution: path[0] is reserved for script path (or '' in REPL).\n",
    "sys.path.insert(1, os.path.abspath('./../src'))\n",
    "\n",
    "import data_loader\n",
    "import data_references\n",
    "from energy_channels import EnergyChannel\n",
    "import datetime\n",
    "import matplotlib.pyplot as plt\n",
    "\n",
    "SMALL_SIZE = 14\n",
    "MEDIUM_SIZE = 18\n",
    "BIGGER_SIZE = 20\n",
    "\n",
    "plt.rc('font', size=SMALL_SIZE)          # controls default text sizes\n",
    "plt.rc('axes', titlesize=BIGGER_SIZE)     # fontsize of the axes title\n",
    "plt.rc('axes', labelsize=MEDIUM_SIZE)    # fontsize of the x and y labels\n",
    "plt.rc('xtick', labelsize=MEDIUM_SIZE)    # fontsize of the tick labels\n",
    "plt.rc('ytick', labelsize=MEDIUM_SIZE)    # fontsize of the tick labels\n",
    "plt.rc('legend', fontsize=MEDIUM_SIZE)    # legend fontsize\n",
    "plt.rc('figure', titlesize=BIGGER_SIZE)  # fontsize of the figure title\n",
    "\n",
    "import matplotlib.colors as colors\n",
    "import plot_tools\n",
    "import numpy as np\n",
    "import pandas as pd\n",
    "import psd_tool\n",
    "from field_models import model\n",
    "import data_cache\n",
    "import scipy\n",
    "\n",
    "\n",
    "import importlib\n",
    "importlib.reload(plot_tools)\n",
    "importlib.reload(data_loader)\n",
    "importlib.reload(data_references)\n",
    "importlib.reload(psd_tool)\n",
    "importlib.reload(data_cache)\n",
    "\n",
    "%matplotlib qt"
   ]
  },
  {
   "cell_type": "code",
   "execution_count": 83,
   "metadata": {},
   "outputs": [],
   "source": [
    "start = datetime.datetime(year = 2013, month = 1, day = 1)\n",
    "end = datetime.datetime(year = 2013, month = 7, day = 15)"
   ]
  },
  {
   "cell_type": "code",
   "execution_count": 84,
   "metadata": {},
   "outputs": [],
   "source": [
    "l_cut = 5.0\n",
    "tol = 0.25"
   ]
  },
  {
   "cell_type": "code",
   "execution_count": 85,
   "metadata": {},
   "outputs": [
    {
     "name": "stdout",
     "output_type": "stream",
     "text": [
      "Loading REPT data between: 2013-01-01 00:00:00 and 2013-07-15 00:00:00.\n",
      "Loading : REPT_201301_A.npz\n",
      "Loading : REPT_201302_A.npz\n",
      "Loading : REPT_201303_A.npz\n",
      "Loading : REPT_201304_A.npz\n",
      "Loading : REPT_201305_A.npz\n",
      "Loading : REPT_201306_A.npz\n",
      "Loading : REPT_201307_A.npz\n",
      "Loading REPT data between: 2013-01-01 00:00:00 and 2013-07-15 00:00:00.\n",
      "Loading : REPT_201301_B.npz\n",
      "Loading : REPT_201302_B.npz\n",
      "Loading : REPT_201303_B.npz\n",
      "Loading : REPT_201304_B.npz\n",
      "Loading : REPT_201305_B.npz\n",
      "Loading : REPT_201306_B.npz\n",
      "Loading : REPT_201307_B.npz\n"
     ]
    }
   ],
   "source": [
    "refs_A = data_loader.load_compressed_rept_data(satellite=\"A\", start=start, end=end)\n",
    "\n",
    "fesa_A = refs_A[\"FESA\"] \n",
    "L_A = refs_A[\"L\"] \n",
    "mlt_A = refs_A[\"MLT\"]\n",
    "epoch_A = refs_A[\"EPOCH\"]\n",
    "energies = refs_A[\"ENERGIES\"]\n",
    "\n",
    "refs_B = data_loader.load_compressed_rept_data(satellite=\"B\", start=start, end=end)\n",
    "\n",
    "fesa_B = refs_B[\"FESA\"] \n",
    "L_B = refs_B[\"L\"] \n",
    "mlt_B = refs_B[\"MLT\"]\n",
    "epoch_B = refs_B[\"EPOCH\"]\n",
    "energies = refs_B[\"ENERGIES\"]\n",
    "\n",
    "satisfies_L_cut_A = ((l_cut - tol) < L_A) & (L_A < (l_cut + tol))\n",
    "satisfies_L_cut_B = ((l_cut - tol) < L_B) & (L_B < (l_cut + tol))\n",
    "\n",
    "fesa_A = fesa_A[:, (energies < 3.5)]\n",
    "fesa_B = fesa_B[:, (energies < 3.5)]\n",
    "\n",
    "fesa_A_DF = pd.DataFrame(fesa_A[satisfies_L_cut_A, :], index=epoch_A[satisfies_L_cut_A])\n",
    "fesa_B_DF = pd.DataFrame(fesa_B[satisfies_L_cut_B, :], index=epoch_B[satisfies_L_cut_B])\n",
    "\n",
    "fesa = pd.concat([fesa_A_DF, fesa_B_DF], sort=False).sort_index()\n",
    "fesa = fesa.resample(\"5h\").mean()"
   ]
  },
  {
   "cell_type": "code",
   "execution_count": 86,
   "metadata": {},
   "outputs": [],
   "source": [
    "field_model = model.TS04D\n",
    "\n",
    "B_l = 0.311653 / (l_cut ** 3)\n",
    "E_l = [1.8, 2.1, 2.6, 3.4]\n",
    "M_e = scipy.constants.physical_constants[\"electron mass energy equivalent in MeV\"][0]\n",
    "\n",
    "mu_vals = [(E**2 + 2 * M_e * E) / (2 * M_e * B_l) for E in E_l]\n",
    "#mu_vals = [500, 1000, 3000, 5000, 8000]\n",
    "chosen_k = 0.07"
   ]
  },
  {
   "cell_type": "code",
   "execution_count": 87,
   "metadata": {},
   "outputs": [
    {
     "name": "stdout",
     "output_type": "stream",
     "text": [
      "2013-01-01 00:00:00\n",
      "Loading : PSD_201301_A_TS04D.npz\n",
      "2013-02-01 00:00:00\n",
      "Loading : PSD_201302_A_TS04D.npz\n",
      "2013-03-01 00:00:00\n",
      "Loading : PSD_201303_A_TS04D.npz\n",
      "2013-04-01 00:00:00\n",
      "Loading : PSD_201304_A_TS04D.npz\n",
      "2013-05-01 00:00:00\n",
      "Loading : PSD_201305_A_TS04D.npz\n",
      "2013-06-01 00:00:00\n",
      "Loading : PSD_201306_A_TS04D.npz\n",
      "2013-07-01 00:00:00\n",
      "Loading : PSD_201307_A_TS04D.npz\n",
      "2013-01-01 00:00:00\n",
      "Loading : PSD_201301_B_TS04D.npz\n",
      "2013-02-01 00:00:00\n",
      "Loading : PSD_201302_B_TS04D.npz\n",
      "2013-03-01 00:00:00\n",
      "Loading : PSD_201303_B_TS04D.npz\n",
      "2013-04-01 00:00:00\n",
      "Loading : PSD_201304_B_TS04D.npz\n",
      "2013-05-01 00:00:00\n",
      "Loading : PSD_201305_B_TS04D.npz\n",
      "2013-06-01 00:00:00\n",
      "Loading : PSD_201306_B_TS04D.npz\n",
      "2013-07-01 00:00:00\n",
      "Loading : PSD_201307_B_TS04D.npz\n"
     ]
    }
   ],
   "source": [
    "psd_refs_A = data_loader.load_psd(satellite = \"A\", field_model = field_model, start = start, end = end)\n",
    "psd_refs_B = data_loader.load_psd(satellite = \"B\", field_model = field_model, start = start, end = end)"
   ]
  },
  {
   "cell_type": "code",
   "execution_count": 88,
   "metadata": {},
   "outputs": [
    {
     "name": "stdout",
     "output_type": "stream",
     "text": [
      "Selecting PSD for A at mu = 1993.5075698637097, k = 0.07\n",
      "(93600, 35, 102) (93600,) (93600,) (93600, 102) (93600, 35) (93600, 35) (93600, 35) (93600,)\n",
      "Time taken for loop: 104.58374214172363\n",
      "Selecting PSD for B at mu = 1993.5075698637097, k = 0.07\n",
      "(93120, 35, 102) (93120,) (93120,) (93120, 102) (93120, 35) (93120, 35) (93120, 35) (93120,)\n",
      "Time taken for loop: 75.28089213371277\n",
      "Selecting PSD for A at mu = 2573.0048161529007, k = 0.07\n",
      "(93600, 35, 102) (93600,) (93600,) (93600, 102) (93600, 35) (93600, 35) (93600, 35) (93600,)\n",
      "Time taken for loop: 114.50060105323792\n",
      "Selecting PSD for B at mu = 2573.0048161529007, k = 0.07\n",
      "(93120, 35, 102) (93120,) (93120,) (93120, 102) (93120, 35) (93120, 35) (93120, 35) (93120,)\n",
      "Time taken for loop: 106.61493802070618\n",
      "Selecting PSD for A at mu = 3695.815137520753, k = 0.07\n",
      "(93600, 35, 102) (93600,) (93600,) (93600, 102) (93600, 35) (93600, 35) (93600, 35) (93600,)\n",
      "Time taken for loop: 108.4760091304779\n",
      "Selecting PSD for B at mu = 3695.815137520753, k = 0.07\n",
      "(93120, 35, 102) (93120,) (93120,) (93120, 102) (93120, 35) (93120, 35) (93120, 35) (93120,)\n",
      "Time taken for loop: 107.23428678512573\n",
      "Selecting PSD for A at mu = 5900.463753345901, k = 0.07\n",
      "(93600, 35, 102) (93600,) (93600,) (93600, 102) (93600, 35) (93600, 35) (93600, 35) (93600,)\n",
      "Time taken for loop: 101.36114239692688\n",
      "Selecting PSD for B at mu = 5900.463753345901, k = 0.07\n",
      "(93120, 35, 102) (93120,) (93120,) (93120, 102) (93120, 35) (93120, 35) (93120, 35) (93120,)\n",
      "Time taken for loop: 109.14703392982483\n"
     ]
    }
   ],
   "source": [
    "for chosen_mu in mu_vals:\n",
    "    \n",
    "    print(f\"Selecting PSD for A at mu = {chosen_mu}, k = {chosen_k}\")\n",
    "    \n",
    "    selected_psd_refs_A = psd_tool.select_mu_and_k_from_psd(refs=psd_refs_A, chosen_mu=chosen_mu, chosen_k=chosen_k)\n",
    "    \n",
    "    print(f\"Selecting PSD for B at mu = {chosen_mu}, k = {chosen_k}\")\n",
    "\n",
    "    selected_psd_refs_B = psd_tool.select_mu_and_k_from_psd(refs=psd_refs_B, chosen_mu=chosen_mu, chosen_k=chosen_k)\n",
    "\n",
    "    data_cache.cache_psd_at_selected_mu_and_k(selected_psd_refs_A, satellite = \"A\", start = start, end = end, mu = chosen_mu, k = chosen_k, field_model = field_model)\n",
    "    data_cache.cache_psd_at_selected_mu_and_k(selected_psd_refs_B, satellite = \"B\", start = start, end = end, mu = chosen_mu, k = chosen_k, field_model = field_model)\n"
   ]
  },
  {
   "cell_type": "code",
   "execution_count": 90,
   "metadata": {},
   "outputs": [
    {
     "name": "stderr",
     "output_type": "stream",
     "text": [
      "C:\\Users\\brofe\\AppData\\Local\\Temp\\ipykernel_26912\\4223901689.py:5: MatplotlibDeprecationWarning: The get_cmap function was deprecated in Matplotlib 3.7 and will be removed two minor releases later. Use ``matplotlib.colormaps[name]`` or ``matplotlib.colormaps.get_cmap(obj)`` instead.\n",
      "  energy_colors = plt.cm.get_cmap(\"plasma\", num_energies)\n"
     ]
    },
    {
     "data": {
      "text/plain": [
       "(15706.0, 15901.0)"
      ]
     },
     "execution_count": 90,
     "metadata": {},
     "output_type": "execute_result"
    }
   ],
   "source": [
    "fig, axs = plt.subplots(2, 1, sharex=True)\n",
    "\n",
    "\n",
    "num_energies = fesa.shape[1]\n",
    "energy_colors = plt.cm.get_cmap(\"plasma\", num_energies)\n",
    "\n",
    "for E in range(num_energies):\n",
    "    \n",
    "    axs[0].semilogy(fesa.index, fesa[E], label=f\"{energies[E]} MeV\", color=energy_colors(E), linewidth=2.5)\n",
    "    \n",
    "axs[0].set_ylabel(\"Flux ($cm^{-2}s^{-1}sr^{-1}MeV^{-1}$)\")\n",
    "axs[0].legend(loc=\"upper right\")\n",
    "axs[0].yaxis.grid(color='gray', linestyle='dashed')\n",
    "axs[0].xaxis.grid(color='gray', linestyle='dashed')\n",
    "axs[0].set_xlim(start, end)\n",
    "axs[0].set_title(f\"L = {l_cut}, RBSP-COMBINED, SPIN-AVERAGED\")\n",
    "\n",
    "\n",
    "num_mu = len(mu_vals)\n",
    "mu_colors = plt.cm.get_cmap(\"plasma\", num_mu)\n",
    "\n",
    "for k, chosen_mu in enumerate(mu_vals):\n",
    "    \n",
    "    selected_psd_refs_A = data_cache.load_psd_cache(satellite = \"A\", start = start, end = end, mu = chosen_mu, k = chosen_k, field_model = field_model)\n",
    "    selected_psd_refs_B = data_cache.load_psd_cache(satellite = \"B\", start = start, end = end, mu = chosen_mu, k = chosen_k, field_model = field_model)\n",
    "    \n",
    "    epoch_A = selected_psd_refs_A[\"EPOCH\"]\n",
    "    Lstar_A = selected_psd_refs_A[\"L_STAR\"] \n",
    "    L_A = selected_psd_refs_A[\"L\"]\n",
    "    PSD_A = selected_psd_refs_A[\"PSD\"]\n",
    "    \n",
    "    epoch_B = selected_psd_refs_B[\"EPOCH\"]\n",
    "    Lstar_B = selected_psd_refs_B[\"L_STAR\"]\n",
    "    L_B = selected_psd_refs_B[\"L\"]\n",
    "    PSD_B = selected_psd_refs_B[\"PSD\"]\n",
    "    \n",
    "    satisfies_Lstar_cut_A = ((l_cut - tol) < Lstar_A) & (Lstar_A < (l_cut + tol))\n",
    "    satisfies_Lstar_cut_B = ((l_cut - tol) < Lstar_B) & (Lstar_B < (l_cut + tol))\n",
    "\n",
    "    epoch_A_cut = epoch_A[satisfies_Lstar_cut_A]\n",
    "    PSD_A_cut = PSD_A[satisfies_Lstar_cut_A]\n",
    "    \n",
    "    epoch_B_cut = epoch_B[satisfies_Lstar_cut_B]\n",
    "    PSD_B_cut = PSD_B[satisfies_Lstar_cut_B]\n",
    "        \n",
    "    PSD_A_DF = pd.Series(PSD_A_cut, index=epoch_A_cut)\n",
    "    PSD_A_DF = PSD_A_DF[np.isfinite(PSD_A_DF)]\n",
    "\n",
    "    PSD_B_DF = pd.Series(PSD_B_cut, index=epoch_B_cut)\n",
    "    PSD_B_DF = PSD_B_DF[np.isfinite(PSD_B_DF)]\n",
    "\n",
    "    PSD = pd.concat([PSD_A_DF, PSD_B_DF], sort=False).sort_index()\n",
    "    PSD = PSD.resample(\"5h\").mean()\n",
    "    PSD = PSD[np.isfinite(PSD)]\n",
    "    \n",
    "    axs[1].semilogy(PSD.index, PSD, linewidth=2, color = mu_colors(k), label=f\"{int(chosen_mu)} (MeV / G)\")\n",
    "    \n",
    "    \n",
    "axs[1].yaxis.grid(color='gray', linestyle='dashed')\n",
    "axs[1].xaxis.grid(color='gray', linestyle='dashed')\n",
    "axs[1].set_title(rf\"L* = {l_cut}, K = {chosen_k} ($R_E$$G^{{1/2}}$), {field_model.name}, RBSP-COMBINED\")\n",
    "axs[1].set_ylabel(\"PSD (c/Mev/G)\")\n",
    "axs[1].legend(loc = \"upper left\")\n",
    "axs[1].set_xlim(start, end)\n"
   ]
  },
  {
   "cell_type": "code",
   "execution_count": null,
   "metadata": {},
   "outputs": [],
   "source": []
  }
 ],
 "metadata": {
  "kernelspec": {
   "display_name": "RadiationBeltResearch",
   "language": "python",
   "name": "python3"
  },
  "language_info": {
   "codemirror_mode": {
    "name": "ipython",
    "version": 3
   },
   "file_extension": ".py",
   "mimetype": "text/x-python",
   "name": "python",
   "nbconvert_exporter": "python",
   "pygments_lexer": "ipython3",
   "version": "3.12.1"
  }
 },
 "nbformat": 4,
 "nbformat_minor": 2
}
