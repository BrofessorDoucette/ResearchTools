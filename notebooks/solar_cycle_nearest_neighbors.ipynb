{
 "cells": [
  {
   "cell_type": "code",
   "execution_count": 72,
   "id": "fa1ac27c-22dc-4e7e-a30a-feed0d21a109",
   "metadata": {},
   "outputs": [],
   "source": [
    "import os\n",
    "\n",
    "import matplotlib.pyplot as plt\n",
    "import numpy as np\n",
    "import sklearn\n",
    "import pynndescent\n",
    "import seaborn as sns\n",
    "import numba\n",
    "\n",
    "%matplotlib qt"
   ]
  },
  {
   "cell_type": "code",
   "execution_count": 73,
   "id": "c1cf9ce6-b95b-4491-bae2-1d57b3e3f80d",
   "metadata": {},
   "outputs": [
    {
     "name": "stdout",
     "output_type": "stream",
     "text": [
      "Training set shape: ((100405, 7), (100405,))\n",
      "Validation set shape: ((1238, 7), (1238,))\n"
     ]
    }
   ],
   "source": [
    "VERSION = \"v3\"\n",
    "FIELD_MODEL = \"T89\"\n",
    "MODEL_TYPE = \"LOWER_BAND\"\n",
    "pdata_folder = os.path.abspath(r\"./../processed_data/chorus_neural_network/\")\n",
    "STAGE_4_folder = os.path.join(pdata_folder, \"STAGE_4\", VERSION)\n",
    "CONJUNCTIONS_REFS = np.load(\n",
    "    file=os.path.join(STAGE_4_folder, f\"MODEL_READY_DATA_{VERSION}_{FIELD_MODEL}_{MODEL_TYPE}.npz\")\n",
    ")\n",
    "\n",
    "X = CONJUNCTIONS_REFS[\"FEATURES\"]\n",
    "y = CONJUNCTIONS_REFS[\"LABELS\"].flatten()\n",
    "day = CONJUNCTIONS_REFS[\"TRAINING_DAY_IDS\"].flatten()\n",
    "\n",
    "MLT_train = CONJUNCTIONS_REFS[\"TRAINING_MLT\"]\n",
    "MEAN_L = CONJUNCTIONS_REFS[\"MEAN_L\"]\n",
    "STD_L = CONJUNCTIONS_REFS[\"STD_L\"]\n",
    "\n",
    "\n",
    "X_valid = CONJUNCTIONS_REFS[\"VALIDATION_FEATURES\"]\n",
    "y_valid = CONJUNCTIONS_REFS[\"VALIDATION_LABELS\"].flatten()\n",
    "\n",
    "CONJUNCTIONS_REFS.close()\n",
    "\n",
    "print(f\"Training set shape: {X.shape, y.shape}\")\n",
    "print(f\"Validation set shape: {X_valid.shape, y_valid.shape}\")"
   ]
  },
  {
   "cell_type": "code",
   "execution_count": 74,
   "id": "ed745de9-db9d-49d1-b343-4327fe640d12",
   "metadata": {},
   "outputs": [
    {
     "name": "stdout",
     "output_type": "stream",
     "text": [
      "Training set shape: ((100405, 7), (100405,))\n",
      "Validation set shape: ((1238, 7), (1238,))\n"
     ]
    }
   ],
   "source": [
    "print(f\"Training set shape: {X.shape, y.shape}\")\n",
    "print(f\"Validation set shape: {X_valid.shape, y_valid.shape}\")\n",
    "\n",
    "ax0 = sns.displot(y, log_scale=True)\n",
    "ax0.set(ylabel='N', xlabel='Chorus (pT)', title='Training Set')\n",
    "plt.tight_layout()\n",
    "\n",
    "ax1 = sns.displot(y_valid, log_scale=True)\n",
    "ax1.set(ylabel='N', xlabel='Chorus (pT)', title='Validation Set')\n",
    "plt.tight_layout()"
   ]
  },
  {
   "cell_type": "code",
   "execution_count": 75,
   "id": "555843d3-e091-4e47-ba42-cefa070e432e",
   "metadata": {},
   "outputs": [],
   "source": [
    "standardized_X = (X - np.mean(X, axis=0)) / np.std(X, axis=0)\n",
    "standardized_X_valid = (X_valid - np.mean(X, axis=0)) / np.std(X, axis=0)"
   ]
  },
  {
   "cell_type": "code",
   "execution_count": 76,
   "id": "9d2a833d-917e-411c-8c4d-32c16803174d",
   "metadata": {},
   "outputs": [
    {
     "name": "stdout",
     "output_type": "stream",
     "text": [
      "CPU times: total: 23.6 s\n",
      "Wall time: 6.61 s\n"
     ]
    }
   ],
   "source": [
    "%%time\n",
    "\n",
    "knn = pynndescent.NNDescent(standardized_X, n_jobs=10)\n",
    "knn.prepare()"
   ]
  },
  {
   "cell_type": "code",
   "execution_count": 42,
   "id": "7a09925b-c68b-4603-bbb5-fe306b33623b",
   "metadata": {},
   "outputs": [
    {
     "name": "stdout",
     "output_type": "stream",
     "text": [
      "CPU times: total: 31.2 ms\n",
      "Wall time: 24.6 ms\n"
     ]
    }
   ],
   "source": [
    "%%time\n",
    "\n",
    "validation_prediction = knn.query(standardized_X_valid, k=10)"
   ]
  },
  {
   "cell_type": "code",
   "execution_count": 43,
   "id": "90f57d09-ea94-4802-ae50-114d21641dba",
   "metadata": {},
   "outputs": [],
   "source": [
    "def sigmoid_relevance(yp, k, c):\n",
    "\n",
    "    return 1 / (1 + np.exp(-1 * k * (yp - c)))"
   ]
  },
  {
   "cell_type": "code",
   "execution_count": 70,
   "id": "f83d46c0-5a8e-4608-a967-8060aec59352",
   "metadata": {},
   "outputs": [],
   "source": [
    "predictions = []\n",
    "\n",
    "for neighbors, distances in zip(validation_prediction[0], validation_prediction[1]):\n",
    "\n",
    "    values_of_neighbors = y[neighbors]\n",
    "\n",
    "    w = sigmoid_relevance(np.log10(values_of_neighbors), k=10, c=1.0)\n",
    "    predictions.append(np.average(y[neighbors], weights=w))\n"
   ]
  },
  {
   "cell_type": "code",
   "execution_count": 71,
   "id": "e4d99d82-95db-4b49-b2e3-60a08f89b9c4",
   "metadata": {},
   "outputs": [],
   "source": [
    "plt.scatter(y_valid, predictions, s=2.0)\n",
    "plt.plot(np.logspace(-2, 4), np.logspace(-2, 4), color=\"black\")\n",
    "plt.grid()\n",
    "plt.xlabel(\"RBSP OBSERVED CHORUS\")\n",
    "plt.ylabel(\"MODEL PREDICTED CHORUS\")\n",
    "plt.title(\"VALIDATION SET\")\n",
    "plt.xlim(1e-1, 1e3)\n",
    "plt.ylim(1e-1, 1e3)\n",
    "plt.xscale(\"log\")\n",
    "plt.yscale(\"log\")"
   ]
  },
  {
   "cell_type": "code",
   "execution_count": null,
   "id": "a259ba35-68e2-4a3c-b9fb-47ce132bb139",
   "metadata": {},
   "outputs": [],
   "source": []
  }
 ],
 "metadata": {
  "kernelspec": {
   "display_name": "Python 3 (ipykernel)",
   "language": "python",
   "name": "python3"
  },
  "language_info": {
   "codemirror_mode": {
    "name": "ipython",
    "version": 3
   },
   "file_extension": ".py",
   "mimetype": "text/x-python",
   "name": "python",
   "nbconvert_exporter": "python",
   "pygments_lexer": "ipython3",
   "version": "3.12.5"
  }
 },
 "nbformat": 4,
 "nbformat_minor": 5
}
