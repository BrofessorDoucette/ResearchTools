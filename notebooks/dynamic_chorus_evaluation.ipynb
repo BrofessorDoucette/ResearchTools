{
 "cells": [
  {
   "cell_type": "code",
   "execution_count": 14,
   "id": "1dd433bc-bb08-4678-8f84-f46fb9c7eea3",
   "metadata": {},
   "outputs": [
    {
     "name": "stderr",
     "output_type": "stream",
     "text": [
      "Intel(R) Extension for Scikit-learn* enabled (https://github.com/uxlfoundation/scikit-learn-intelex)\n"
     ]
    }
   ],
   "source": [
    "import os\n",
    "import sys\n",
    "\n",
    "# caution: path[0] is reserved for script path (or '' in REPL).\n",
    "sys.path.insert(1, os.path.abspath(\"./../src\"))\n",
    "\n",
    "import matplotlib.pyplot as plt\n",
    "import numpy as np\n",
    "import seaborn as sns\n",
    "import torch\n",
    "from sklearnex import patch_sklearn\n",
    "patch_sklearn()\n",
    "\n",
    "import heteroscedastic_uncertainty_regressor as hr\n",
    "\n",
    "\n",
    "import sklearn\n",
    "\n",
    "import plot_tools\n",
    "import dataset_stats as ds\n",
    "\n",
    "import pickle\n",
    "import importlib\n",
    "\n",
    "importlib.reload(hr)\n",
    "importlib.reload(plot_tools)\n",
    "importlib.reload(ds)\n",
    "\n",
    "%matplotlib qt"
   ]
  },
  {
   "cell_type": "code",
   "execution_count": 2,
   "id": "696fbfb1-32db-4c62-915b-882b4966327a",
   "metadata": {},
   "outputs": [
    {
     "name": "stdout",
     "output_type": "stream",
     "text": [
      "(3393325,)\n",
      "(3393325, 7)\n",
      "(3393325, 512)\n"
     ]
    }
   ],
   "source": [
    "VERSION = \"v1\"\n",
    "MODEL_TYPE = \"LOWER_BAND\"\n",
    "\n",
    "pdata_folder = os.path.abspath(\"./../processed_data/chorus_neural_network/\")\n",
    "rbsp_chorus_folder = os.path.join(pdata_folder, \"observed_chorus\")\n",
    "output_folder = os.path.join(pdata_folder, \"models\", VERSION)\n",
    "trained_model_folder = os.path.join(output_folder, \"trained_models\")\n",
    "\n",
    "dataset = np.load(\n",
    "    file=os.path.join(output_folder, rf\"total_dataset_{VERSION}_{MODEL_TYPE}.npz\")\n",
    ")\n",
    "\n",
    "X_conditional = dataset[\"X_conditional\"]\n",
    "X_convolutional = dataset[\"X_convolutional\"]\n",
    "y = dataset[\"y\"]\n",
    "\n",
    "print(y.shape)\n",
    "print(X_conditional.shape)\n",
    "print(X_convolutional.shape)\n",
    "\n",
    "dataset.close()\n",
    "\n",
    "t_data = X_conditional[:, -1]\n",
    "X_conditional = X_conditional[:, :-1]"
   ]
  },
  {
   "cell_type": "code",
   "execution_count": 3,
   "id": "88f712e3-76dd-4630-9f6f-9c9cf84c3c32",
   "metadata": {},
   "outputs": [],
   "source": [
    "# Preprocess dataset\n",
    "RS_conditional = sklearn.preprocessing.RobustScaler(copy=False)\n",
    "RS_conditional.fit(X_conditional)\n",
    "transformed_X_conditional = RS_conditional.transform(X_conditional)\n",
    "\n",
    "RS_convolutional = sklearn.preprocessing.RobustScaler(copy=False)\n",
    "RS_convolutional.fit(X_convolutional)\n",
    "transformed_X_convolutional = RS_convolutional.transform(X_convolutional)"
   ]
  },
  {
   "cell_type": "code",
   "execution_count": 5,
   "id": "0f6e1d35-7654-4867-94cd-1f96e7fedc01",
   "metadata": {},
   "outputs": [
    {
     "name": "stdout",
     "output_type": "stream",
     "text": [
      "tensor([[1.5988],\n",
      "        [1.0046],\n",
      "        [1.2194],\n",
      "        ...,\n",
      "        [1.1289],\n",
      "        [1.1444],\n",
      "        [1.3439]], device='cuda:0') tensor([[2.7815],\n",
      "        [0.2288],\n",
      "        [0.1584],\n",
      "        ...,\n",
      "        [0.8060],\n",
      "        [0.8600],\n",
      "        [1.2271]], device='cuda:0')\n"
     ]
    }
   ],
   "source": [
    "saved_folder = os.path.abspath(trained_model_folder)\n",
    "\n",
    "for m in range(1):\n",
    "    model = hr.HeteroscedasticUncertaintyRegressor(input_dim=6, hidden_dim=384)\n",
    "    model.load_state_dict(torch.load(os.path.join(saved_folder, f\"model_{m}.pth\"), weights_only=True))\n",
    "\n",
    "    model.to(\"cuda\")\n",
    "    model.eval()\n",
    "    # Evaluate and plot\n",
    "    with torch.no_grad():\n",
    "\n",
    "        t_X_cond_np = torch.from_numpy(transformed_X_conditional[0:10000, :]).to(\"cuda\").type(torch.float32)\n",
    "        t_X_conv_np = torch.from_numpy(transformed_X_convolutional[0:10000, np.newaxis, :]).to(\"cuda\").type(torch.float32)\n",
    "        pred_mean, pred_var = model(t_X_cond_np, t_X_conv_np)\n",
    "\n",
    "\n",
    "    break\n",
    "\n",
    "print(pred_mean, pred_var)"
   ]
  },
  {
   "cell_type": "code",
   "execution_count": 8,
   "id": "8bd7bf45-b512-4d04-8a89-9117ab842452",
   "metadata": {},
   "outputs": [
    {
     "ename": "IndexError",
     "evalue": "index 10000 is out of bounds for dimension 0 with size 10000",
     "output_type": "error",
     "traceback": [
      "\u001b[31m---------------------------------------------------------------------------\u001b[39m",
      "\u001b[31mIndexError\u001b[39m                                Traceback (most recent call last)",
      "\u001b[36mCell\u001b[39m\u001b[36m \u001b[39m\u001b[32mIn[8]\u001b[39m\u001b[32m, line 1\u001b[39m\n\u001b[32m----> \u001b[39m\u001b[32m1\u001b[39m \u001b[38;5;28mprint\u001b[39m(np.array([(\u001b[43mpred_mean\u001b[49m\u001b[43m[\u001b[49m\u001b[43mi\u001b[49m\u001b[43m]\u001b[49m, y[i]) \u001b[38;5;28;01mfor\u001b[39;00m i \u001b[38;5;129;01min\u001b[39;00m \u001b[38;5;28mrange\u001b[39m(\u001b[38;5;28mlen\u001b[39m(y))]))\n",
      "\u001b[31mIndexError\u001b[39m: index 10000 is out of bounds for dimension 0 with size 10000"
     ]
    }
   ],
   "source": [
    "print(np.array([(pred_mean[i], y[i]) for i in range(len(y))]))\n"
   ]
  },
  {
   "cell_type": "code",
   "execution_count": 13,
   "id": "63fef35e-8e17-45cf-8b6e-9b29a90a2b2e",
   "metadata": {},
   "outputs": [
    {
     "data": {
      "text/plain": [
       "(0.0, 1000.0)"
      ]
     },
     "execution_count": 13,
     "metadata": {},
     "output_type": "execute_result"
    }
   ],
   "source": [
    "plt.errorbar(x=np.sqrt(y)[:10000].flatten(),\n",
    "             y=pred_mean[:10000].cpu().numpy().flatten(),\n",
    "             #yerr=np.sqrt(pred_var[:10000].cpu().numpy().flatten()),\n",
    "             fmt=\".\")\n",
    "plt.xscale(\"symlog\")\n",
    "plt.yscale(\"symlog\")\n",
    "plt.xlim(0, 1000)\n",
    "plt.ylim(0, 1000)"
   ]
  },
  {
   "cell_type": "code",
   "execution_count": null,
   "id": "acd9a7d1-bbd8-48c7-b1aa-14c0672f46a0",
   "metadata": {},
   "outputs": [],
   "source": []
  }
 ],
 "metadata": {
  "kernelspec": {
   "display_name": "Python 3 (ipykernel)",
   "language": "python",
   "name": "python3"
  },
  "language_info": {
   "codemirror_mode": {
    "name": "ipython",
    "version": 3
   },
   "file_extension": ".py",
   "mimetype": "text/x-python",
   "name": "python",
   "nbconvert_exporter": "python",
   "pygments_lexer": "ipython3",
   "version": "3.12.5"
  }
 },
 "nbformat": 4,
 "nbformat_minor": 5
}
