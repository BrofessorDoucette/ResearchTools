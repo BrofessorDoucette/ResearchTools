{
 "cells": [
  {
   "cell_type": "code",
   "execution_count": 10,
   "metadata": {
    "ExecuteTime": {
     "end_time": "2024-05-22T02:40:29.207146Z",
     "start_time": "2024-05-22T02:40:28.422109Z"
    }
   },
   "outputs": [],
   "source": [
    "import sys\n",
    "import os\n",
    "# caution: path[0] is reserved for script path (or '' in REPL).\n",
    "sys.path.insert(1, os.path.abspath('./../src'))\n",
    "\n",
    "import numpy as np\n",
    "import datetime\n",
    "import data_loader\n",
    "import plot_tools\n",
    "import spacepy.coordinates\n",
    "import spacepy.time\n",
    "import spacepy.toolbox\n",
    "import spacepy.omni\n",
    "import spacepy.LANLstar\n",
    "import spacepy.irbempy\n",
    "\n",
    "import matplotlib.pyplot as plt\n",
    "from matplotlib import colors\n",
    "\n",
    "import importlib\n",
    "importlib.reload(data_loader)\n",
    "importlib.reload(plot_tools)\n",
    "\n",
    "\n",
    "%matplotlib qt"
   ]
  },
  {
   "cell_type": "code",
   "execution_count": 2,
   "metadata": {},
   "outputs": [],
   "source": [
    "#Parameters\n",
    "#Dates\n",
    "start = datetime.datetime(year = 2013, month = 3, day = 1)\n",
    "end = datetime.datetime(year = 2013, month = 4, day = 1)\n",
    "epoch_bin_size = datetime.timedelta(hours = 4)\n",
    "\n",
    "#L\n",
    "L_bin_size = 0.05\n",
    "L_start = 3.0\n",
    "L_end = 7.0\n",
    "\n",
    "#MLT\n",
    "mlt_start = 12\n",
    "mlt_end = 24\n",
    "\n",
    "#OMNI\n",
    "UPDATE_SPACEPY_OMNI = False"
   ]
  },
  {
   "cell_type": "code",
   "execution_count": 3,
   "metadata": {
    "ExecuteTime": {
     "end_time": "2024-05-22T02:40:39.936188Z",
     "start_time": "2024-05-22T02:40:29.821725Z"
    }
   },
   "outputs": [
    {
     "name": "stdout",
     "output_type": "stream",
     "text": [
      "Loading : POES_2013_metop01_CLEAN.npz\n",
      "Loading : POES_2013_metop02_CLEAN.npz\n",
      "Unable to find any compressed POES data for: metop03\n",
      "\n",
      "Data file not found: c:\\Dev\\Research\\REPT_Enhancements_Tool\\compressed_data\\POES\\CLEAN\\metop03\\POES_2013_metop03_CLEAN.npz, continuing...!\n",
      "Loading : POES_2013_noaa15_CLEAN.npz\n",
      "Loading : POES_2013_noaa16_CLEAN.npz\n",
      "Loading : POES_2013_noaa17_CLEAN.npz\n",
      "Loading : POES_2013_noaa18_CLEAN.npz\n",
      "Loading : POES_2013_noaa19_CLEAN.npz\n"
     ]
    }
   ],
   "source": [
    "satellite_names = [\"metop01\", \"metop02\", \"metop03\", \"noaa15\", \"noaa16\", \"noaa17\", \"noaa18\", \"noaa19\"]\n",
    "\n",
    "satellites = []\n",
    "\n",
    "for sat in satellite_names:\n",
    "    \n",
    "    data = data_loader.load_compressed_poes_data(satellite = sat,\n",
    "                                                 start = start,\n",
    "                                                 end = end)\n",
    "            \n",
    "    if len(data[\"EPOCH\"]) == 0:\n",
    "        continue\n",
    "    \n",
    "    satellites.append(data)\n"
   ]
  },
  {
   "cell_type": "code",
   "execution_count": 4,
   "metadata": {},
   "outputs": [
    {
     "name": "stdout",
     "output_type": "stream",
     "text": [
      "(1332694,)\n",
      "(1332694,)\n",
      "(1332694,)\n",
      "(1332694,)\n",
      "(1332694,)\n",
      "(1332694,)\n",
      "(1332694,)\n",
      "(1332694,)\n",
      "(1332694,)\n",
      "7\n"
     ]
    }
   ],
   "source": [
    "print(satellites[0][\"EPOCH\"].shape)\n",
    "print(satellites[0][\"ALT\"].shape)\n",
    "print(satellites[0][\"LAT\"].shape)\n",
    "print(satellites[0][\"LON\"].shape)\n",
    "print(satellites[0][\"L\"].shape)\n",
    "print(satellites[0][\"MLT\"].shape)\n",
    "print(satellites[0][\"MEP_ELE_TEL0_FLUX_E1\"].shape)\n",
    "print(satellites[0][\"MEP_ELE_TEL0_FLUX_E2\"].shape)\n",
    "print(satellites[0][\"MEPED_ALPHA_0_SAT\"].shape)\n",
    "\n",
    "print(len(satellites))"
   ]
  },
  {
   "cell_type": "code",
   "execution_count": 5,
   "metadata": {},
   "outputs": [],
   "source": [
    "if UPDATE_SPACEPY_OMNI:\n",
    "    spacepy.toolbox.update(omni2=True)"
   ]
  },
  {
   "cell_type": "code",
   "execution_count": 20,
   "metadata": {},
   "outputs": [
    {
     "name": "stdout",
     "output_type": "stream",
     "text": [
      "Processing satellite: metop01\n",
      "Processing satellite: metop02\n",
      "Processing satellite: metop03\n",
      "Processing satellite: noaa15\n",
      "Processing satellite: noaa16\n",
      "Processing satellite: noaa17\n",
      "Processing satellite: noaa18\n"
     ]
    }
   ],
   "source": [
    "epoch = np.zeros(shape=(0))\n",
    "L = np.zeros(shape=(0))\n",
    "mlt = np.zeros(shape=(0))\n",
    "naive_chorus = np.zeros(shape=(0))\n",
    "\n",
    "for i, sat in enumerate(satellites):\n",
    "    \n",
    "    print(f\"Processing satellite: {satellite_names[i]}\")\n",
    "    \n",
    "    #Calculate Chorus\n",
    "    j_40 = sat[\"MEP_ELE_TEL0_FLUX_E1\"]\n",
    "    j_130 = sat[\"MEP_ELE_TEL0_FLUX_E2\"]\n",
    "\n",
    "    J = j_40 - j_130\n",
    "    # For some stupid reason this subtraction rarely creates negatives even though the channels are integral... :(\n",
    "    J[J < 0] = np.NaN\n",
    "\n",
    "    P = 400\n",
    "    naive_chorus_intensity = J / (P * ((sat[\"L\"] - 3)**2 + 0.03))\n",
    "    naive_chorus_amplitudes = np.sqrt(naive_chorus_intensity)\n",
    "      \n",
    "    #Concatenate all the data\n",
    "    epoch = np.concatenate((epoch, sat[\"EPOCH\"]), axis = 0)\n",
    "    L = np.concatenate((L, sat[\"L\"]), axis = 0)\n",
    "    mlt = np.concatenate((mlt, sat[\"MLT\"]), axis = 0)\n",
    "    naive_chorus = np.concatenate((naive_chorus, naive_chorus_amplitudes), axis = 0)\n",
    "\n",
    "within_mlt_range = (mlt_start <= mlt) & (mlt < mlt_end)\n",
    "within_L_range = (L_start < L) & (L < L_end)\n",
    "within_epoch_range = (start < epoch) & (epoch < end)\n",
    "within_all_ranges = within_mlt_range & within_L_range & within_epoch_range\n",
    "finite_chorus = np.isfinite(naive_chorus)\n",
    "\n",
    "epoch = epoch[within_all_ranges & finite_chorus]\n",
    "L = L[within_all_ranges & finite_chorus]\n",
    "mlt = mlt[within_all_ranges & finite_chorus]\n",
    "naive_chorus = naive_chorus[within_all_ranges & finite_chorus]\n",
    "\n",
    "cumulative_chorus, num_points_in_each_epoch_L_bin = plot_tools.bin_3D_data(xdata = epoch,\n",
    "                                                                           ydata = L, \n",
    "                                                                           zdata = naive_chorus,\n",
    "                                                                           xstart = start,\n",
    "                                                                           xend = end,\n",
    "                                                                           xstep = epoch_bin_size,\n",
    "                                                                           ystart = L_start,\n",
    "                                                                           yend = L_end,\n",
    "                                                                           ystep = L_bin_size)\n",
    "\n",
    "\n",
    "average_chorus = cumulative_chorus / num_points_in_each_epoch_L_bin\n"
   ]
  },
  {
   "cell_type": "code",
   "execution_count": 21,
   "metadata": {
    "ExecuteTime": {
     "end_time": "2024-05-22T02:41:31.845835Z",
     "start_time": "2024-05-22T02:41:30.806951Z"
    }
   },
   "outputs": [],
   "source": [
    "average_chorus = average_chorus + 1e-31 #Stabilize the log norm\n",
    "\n",
    "fig, ax = plt.subplots(1, 1, figsize=(16, 9), sharex=True)\n",
    "\n",
    "image = ax.imshow(average_chorus.T, \n",
    "                  origin = \"lower\",\n",
    "                  extent=[start, end, L_start, L_end],\n",
    "                  norm=colors.LogNorm(vmin=1, vmax=100),\n",
    "                  aspect=\"auto\",\n",
    "                  interpolation=\"none\")\n",
    "\n",
    "image.cmap.set_under(\"black\")\n",
    "\n",
    "cbar = plt.colorbar(image, ax=ax, pad=0.01)\n",
    "\n",
    "cbar.set_label(\"Chorus Bw (pT)\\n\", loc=\"center\", labelpad=15, rotation=270)\n",
    "\n",
    "ax.set_title(\"Chorus\")\n",
    "ax.set_ylabel(\"L\")\n",
    "ax.set_xlabel(\"Time\")\n",
    "\n",
    "plt.tight_layout()"
   ]
  },
  {
   "cell_type": "code",
   "execution_count": null,
   "metadata": {},
   "outputs": [],
   "source": []
  }
 ],
 "metadata": {
  "kernelspec": {
   "display_name": "RadiationBeltResearch",
   "language": "python",
   "name": "python3"
  },
  "language_info": {
   "codemirror_mode": {
    "name": "ipython",
    "version": 3
   },
   "file_extension": ".py",
   "mimetype": "text/x-python",
   "name": "python",
   "nbconvert_exporter": "python",
   "pygments_lexer": "ipython3",
   "version": "3.12.5"
  }
 },
 "nbformat": 4,
 "nbformat_minor": 2
}
