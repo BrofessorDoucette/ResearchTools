{
 "cells": [
  {
   "cell_type": "code",
   "execution_count": 31,
   "metadata": {
    "ExecuteTime": {
     "end_time": "2024-05-22T02:40:29.207146Z",
     "start_time": "2024-05-22T02:40:28.422109Z"
    }
   },
   "outputs": [],
   "source": [
    "import sys\n",
    "import os\n",
    "# caution: path[0] is reserved for script path (or '' in REPL).\n",
    "sys.path.insert(1, os.path.abspath('./../src'))\n",
    "\n",
    "import numpy as np\n",
    "import datetime\n",
    "import data_loader\n",
    "import plot_tools\n",
    "import rbsp_chorus_tool\n",
    "from cdflib.epochs_astropy import CDFAstropy as cdfepoch\n",
    "import spacepy.time\n",
    "\n",
    "import matplotlib.pyplot as plt\n",
    "from matplotlib import colors\n",
    "\n",
    "import importlib\n",
    "importlib.reload(data_loader)\n",
    "importlib.reload(plot_tools)\n",
    "importlib.reload(rbsp_chorus_tool)\n",
    "\n",
    "\n",
    "\n",
    "%matplotlib qt"
   ]
  },
  {
   "cell_type": "code",
   "execution_count": 32,
   "metadata": {},
   "outputs": [],
   "source": [
    "#Parameters\n",
    "#Dates\n",
    "start = datetime.datetime(year = 2013, month = 1, day = 1)\n",
    "end = datetime.datetime(year = 2013, month = 5, day = 1)\n",
    "epoch_bin_size = datetime.timedelta(hours = 3)\n",
    "\n",
    "#L\n",
    "L_bin_size = 0.10\n",
    "L_start = 3.5\n",
    "L_end = 7.0\n",
    "\n",
    "#MLT\n",
    "mlt_start = 0\n",
    "mlt_end = 24"
   ]
  },
  {
   "cell_type": "code",
   "execution_count": 3,
   "metadata": {
    "ExecuteTime": {
     "end_time": "2024-05-22T02:40:39.936188Z",
     "start_time": "2024-05-22T02:40:29.821725Z"
    }
   },
   "outputs": [
    {
     "name": "stdout",
     "output_type": "stream",
     "text": [
      "Loading : POES_2013_metop01_CLEAN.npz\n",
      "Loading : POES_2013_metop02_CLEAN.npz\n",
      "Unable to find any compressed POES data for: metop03\n",
      "\n",
      "Data file not found: c:\\Dev\\Research\\REPT_Enhancements_Tool\\compressed_data\\POES\\CLEAN\\metop03\\POES_2013_metop03_CLEAN.npz, continuing...!\n",
      "Loading : POES_2013_noaa15_CLEAN.npz\n",
      "Loading : POES_2013_noaa16_CLEAN.npz\n",
      "Loading : POES_2013_noaa17_CLEAN.npz\n",
      "Loading : POES_2013_noaa18_CLEAN.npz\n",
      "Loading : POES_2013_noaa19_CLEAN.npz\n"
     ]
    }
   ],
   "source": [
    "satellite_names = [\"metop01\", \"metop02\", \"metop03\", \"noaa15\", \"noaa16\", \"noaa17\", \"noaa18\", \"noaa19\"]\n",
    "\n",
    "satellites = []\n",
    "\n",
    "for sat in satellite_names:\n",
    "    \n",
    "    data = data_loader.load_compressed_poes_data(satellite = sat,\n",
    "                                                 start = start,\n",
    "                                                 end = end)\n",
    "            \n",
    "    if len(data[\"EPOCH\"]) == 0:\n",
    "        continue\n",
    "    \n",
    "    satellites.append(data)\n"
   ]
  },
  {
   "cell_type": "code",
   "execution_count": 33,
   "metadata": {},
   "outputs": [
    {
     "name": "stdout",
     "output_type": "stream",
     "text": [
      "Processing satellite: metop01\n",
      "Processing satellite: metop02\n",
      "Processing satellite: metop03\n",
      "Processing satellite: noaa15\n",
      "Processing satellite: noaa16\n",
      "Processing satellite: noaa17\n",
      "Processing satellite: noaa18\n"
     ]
    },
    {
     "name": "stderr",
     "output_type": "stream",
     "text": [
      "C:\\Users\\brofe\\AppData\\Local\\Temp\\ipykernel_14172\\2283224205.py:50: RuntimeWarning: invalid value encountered in divide\n",
      "  average_chorus_POES = cumulative_chorus_POES / num_points_in_each_epoch_L_bin_POES\n"
     ]
    }
   ],
   "source": [
    "P = 1\n",
    "epoch_POES = np.zeros(shape=(0))\n",
    "L_POES = np.zeros(shape=(0))\n",
    "mlt_POES = np.zeros(shape=(0))\n",
    "naive_chorus_POES = np.zeros(shape=(0))\n",
    "\n",
    "for i, sat in enumerate(satellites):\n",
    "    \n",
    "    print(f\"Processing satellite: {satellite_names[i]}\")\n",
    "    \n",
    "    #Calculate Chorus\n",
    "    j_40 = sat[\"MEP_ELE_TEL0_FLUX_E1\"]\n",
    "    j_130 = sat[\"MEP_ELE_TEL0_FLUX_E2\"]\n",
    "\n",
    "    J = j_40 - j_130\n",
    "    # For some stupid reason this subtraction rarely creates negatives even though the channels are integral... :(\n",
    "    J[J < 0] = np.NaN\n",
    "\n",
    "    naive_chorus_intensity = J / (P * ((sat[\"L\"] - 3)**2 + 0.03))\n",
    "    naive_chorus_amplitudes = np.sqrt(naive_chorus_intensity)\n",
    "      \n",
    "    #Concatenate all the data\n",
    "    epoch_POES = np.concatenate((epoch_POES, sat[\"EPOCH\"]), axis = 0)\n",
    "    L_POES = np.concatenate((L_POES, sat[\"L\"]), axis = 0)\n",
    "    mlt_POES = np.concatenate((mlt_POES, sat[\"MLT\"]), axis = 0)\n",
    "    naive_chorus_POES = np.concatenate((naive_chorus_POES, naive_chorus_amplitudes), axis = 0)\n",
    "\n",
    "within_mlt_range_POES = (mlt_start <= mlt_POES) & (mlt_POES < mlt_end)\n",
    "within_L_range_POES = (L_start < L_POES) & (L_POES < L_end)\n",
    "within_epoch_range_POES = (start < epoch_POES) & (epoch_POES < end)\n",
    "within_all_ranges_POES = within_mlt_range_POES & within_L_range_POES & within_epoch_range_POES\n",
    "finite_chorus_POES = np.isfinite(naive_chorus_POES)\n",
    "\n",
    "epoch_POES = epoch_POES[within_all_ranges_POES & finite_chorus_POES]\n",
    "L_POES = L_POES[within_all_ranges_POES & finite_chorus_POES]\n",
    "mlt_POES = mlt_POES[within_all_ranges_POES & finite_chorus_POES]\n",
    "naive_chorus_POES = naive_chorus_POES[within_all_ranges_POES & finite_chorus_POES]\n",
    "\n",
    "cumulative_chorus_POES, num_points_in_each_epoch_L_bin_POES = plot_tools.bin_3D_data(xdata = epoch_POES,\n",
    "                                                                                     ydata = L_POES, \n",
    "                                                                                     zdata = naive_chorus_POES,\n",
    "                                                                                     xstart = start,\n",
    "                                                                                     xend = end,\n",
    "                                                                                     xstep = epoch_bin_size,\n",
    "                                                                                     ystart = L_start,\n",
    "                                                                                     yend = L_end,\n",
    "                                                                                     ystep = L_bin_size)\n",
    "\n",
    "\n",
    "average_chorus_POES = cumulative_chorus_POES / num_points_in_each_epoch_L_bin_POES\n"
   ]
  },
  {
   "cell_type": "code",
   "execution_count": 34,
   "metadata": {
    "ExecuteTime": {
     "end_time": "2024-05-22T02:41:31.845835Z",
     "start_time": "2024-05-22T02:41:30.806951Z"
    }
   },
   "outputs": [],
   "source": [
    "average_chorus_POES = average_chorus_POES + 1e-31 #Stabilize the log norm\n",
    "\n",
    "fig, ax = plt.subplots(1, 1, figsize=(16, 9), sharex=True)\n",
    "\n",
    "image = ax.imshow(average_chorus_POES.T, \n",
    "                  origin = \"lower\",\n",
    "                  extent=[start, end, L_start, L_end],\n",
    "                  norm=colors.LogNorm(vmin=1e-1, vmax=1000),\n",
    "                  aspect=\"auto\",\n",
    "                  interpolation=\"none\")\n",
    "\n",
    "image.cmap.set_under(\"black\")\n",
    "\n",
    "cbar = plt.colorbar(image, ax=ax, pad=0.01)\n",
    "\n",
    "cbar.set_label(\"Chorus Bw (pT)\\n\", loc=\"center\", labelpad=15, rotation=270)\n",
    "\n",
    "ax.set_title(\"POES Proxy Chorus\")\n",
    "ax.set_ylabel(\"L\")\n",
    "ax.set_xlabel(\"Time\")\n",
    "\n",
    "plt.tight_layout()"
   ]
  },
  {
   "cell_type": "code",
   "execution_count": 35,
   "metadata": {},
   "outputs": [],
   "source": [
    "WNA_survey_a = data_loader.load_raw_data_from_config(id=[\"RBSP\", \"EMFISIS\", \"L4\", \"WNA_SURVEY\"],\n",
    "                                                     start=start,\n",
    "                                                     end=end,\n",
    "                                                     satellite=\"a\")\n",
    "\n",
    "WNA_survey_b = data_loader.load_raw_data_from_config(id=[\"RBSP\", \"EMFISIS\", \"L4\", \"WNA_SURVEY\"],\n",
    "                                                     start=start,\n",
    "                                                     end=end,\n",
    "                                                     satellite=\"b\")\n",
    "\n",
    "WFR_spectral_matrix_a = data_loader.load_raw_data_from_config(id=[\"RBSP\", \"EMFISIS\", \"L2\", \"WFR_SPECTRAL_MATRIX_DIAGONAL\"],\n",
    "                                                              start=start,\n",
    "                                                              end=end,\n",
    "                                                              satellite=\"a\")\n",
    "\n",
    "WFR_spectral_matrix_b = data_loader.load_raw_data_from_config(id=[\"RBSP\", \"EMFISIS\", \"L2\", \"WFR_SPECTRAL_MATRIX_DIAGONAL\"],\n",
    "                                                              start=start,\n",
    "                                                              end=end,\n",
    "                                                              satellite=\"b\")"
   ]
  },
  {
   "cell_type": "code",
   "execution_count": 36,
   "metadata": {},
   "outputs": [
    {
     "name": "stdout",
     "output_type": "stream",
     "text": [
      "(1247417,)\n",
      "(1247417,)\n",
      "(1247417,)\n",
      "(1251144,)\n",
      "(1251144,)\n",
      "(1251144,)\n"
     ]
    }
   ],
   "source": [
    "mlt_A = WNA_survey_a[\"MLT\"]\n",
    "L_A = WNA_survey_a[\"L\"]\n",
    "Epoch_A =  cdfepoch.to_datetime(WNA_survey_a[\"Epoch\"])\n",
    "\n",
    "chorus_A = rbsp_chorus_tool.iterate_through_days_and_calculate_chorus_amplitudes(WNA_survey = WNA_survey_a,\n",
    "                                                                                 WFR_spectral_matrix = WFR_spectral_matrix_a)\n",
    "\n",
    "\n",
    "within_mlt_range_A = (mlt_start <= mlt_A) & (mlt_A < mlt_end)\n",
    "within_L_range_A = (L_start < L_A) & (L_A < L_end)\n",
    "within_epoch_range_A = (start < Epoch_A) & (Epoch_A < end)\n",
    "within_all_ranges_A = within_mlt_range_A & within_L_range_A & within_epoch_range_A\n",
    "finite_chorus_A = np.isfinite(chorus_A)\n",
    "\n",
    "Epoch_A = Epoch_A[within_all_ranges_A & finite_chorus_A]\n",
    "L_A = L_A[within_all_ranges_A & finite_chorus_A]\n",
    "mlt_A = mlt_A[within_all_ranges_A & finite_chorus_A]\n",
    "chorus_A = chorus_A[within_all_ranges_A & finite_chorus_A]\n",
    "\n",
    "\n",
    "mlt_B = WNA_survey_b[\"MLT\"]\n",
    "L_B = WNA_survey_b[\"L\"]\n",
    "Epoch_B = cdfepoch.to_datetime(WNA_survey_b[\"Epoch\"])\n",
    "\n",
    "chorus_B = rbsp_chorus_tool.iterate_through_days_and_calculate_chorus_amplitudes(WNA_survey = WNA_survey_b,\n",
    "                                                                                 WFR_spectral_matrix = WFR_spectral_matrix_b)\n",
    "\n",
    "within_mlt_range_B = (mlt_start <= mlt_B) & (mlt_B < mlt_end)\n",
    "within_L_range_B = (L_start < L_B) & (L_B < L_end)\n",
    "within_epoch_range_B = (start < Epoch_B) & (Epoch_B < end)\n",
    "within_all_ranges_B = within_mlt_range_B & within_L_range_B & within_epoch_range_B\n",
    "finite_chorus_B = np.isfinite(chorus_B)\n",
    "\n",
    "Epoch_B = Epoch_B[within_all_ranges_B & finite_chorus_B]\n",
    "L_B = L_B[within_all_ranges_B & finite_chorus_B]\n",
    "mlt_B = mlt_B[within_all_ranges_B & finite_chorus_B]\n",
    "chorus_B = chorus_B[within_all_ranges_B & finite_chorus_B]\n",
    "\n",
    "print(Epoch_A.shape)\n",
    "print(chorus_A.shape)\n",
    "print(L_A.shape)\n",
    "\n",
    "print(Epoch_B.shape)\n",
    "print(chorus_B.shape)\n",
    "print(L_B.shape)"
   ]
  },
  {
   "cell_type": "code",
   "execution_count": 37,
   "metadata": {},
   "outputs": [
    {
     "name": "stderr",
     "output_type": "stream",
     "text": [
      "C:\\Users\\brofe\\AppData\\Local\\Temp\\ipykernel_14172\\1204160032.py:12: RuntimeWarning: invalid value encountered in divide\n",
      "  average_chorus_A = cumulative_chorus_A / num_points_in_each_epoch_L_bin_A\n",
      "C:\\Users\\brofe\\AppData\\Local\\Temp\\ipykernel_14172\\1204160032.py:26: RuntimeWarning: invalid value encountered in divide\n",
      "  average_chorus_B = cumulative_chorus_B / num_points_in_each_epoch_L_bin_B\n"
     ]
    }
   ],
   "source": [
    "cumulative_chorus_A, num_points_in_each_epoch_L_bin_A = plot_tools.bin_3D_data(xdata = Epoch_A,\n",
    "                                                                               ydata = L_A, \n",
    "                                                                               zdata = chorus_A,\n",
    "                                                                               xstart = start,\n",
    "                                                                               xend = end,\n",
    "                                                                               xstep = epoch_bin_size,\n",
    "                                                                               ystart = L_start,\n",
    "                                                                               yend = L_end,\n",
    "                                                                               ystep = L_bin_size)\n",
    "\n",
    "\n",
    "average_chorus_A = cumulative_chorus_A / num_points_in_each_epoch_L_bin_A\n",
    "\n",
    "\n",
    "cumulative_chorus_B, num_points_in_each_epoch_L_bin_B = plot_tools.bin_3D_data(xdata = Epoch_B,\n",
    "                                                                               ydata = L_B, \n",
    "                                                                               zdata = chorus_B,\n",
    "                                                                               xstart = start,\n",
    "                                                                               xend = end,\n",
    "                                                                               xstep = epoch_bin_size,\n",
    "                                                                               ystart = L_start,\n",
    "                                                                               yend = L_end,\n",
    "                                                                               ystep = L_bin_size)\n",
    "\n",
    "\n",
    "average_chorus_B = cumulative_chorus_B / num_points_in_each_epoch_L_bin_B\n",
    "\n",
    "average_chorus_RBSP = np.nansum([average_chorus_A, average_chorus_B], axis=0) / 2.0"
   ]
  },
  {
   "cell_type": "code",
   "execution_count": 38,
   "metadata": {},
   "outputs": [],
   "source": [
    "average_chorus_RBSP[average_chorus_RBSP == 0] = np.nan\n",
    "\n",
    "fig, ax = plt.subplots(1, 1, figsize=(16, 9), sharex=True)\n",
    "\n",
    "image = ax.imshow(average_chorus_RBSP.T, \n",
    "                  origin = \"lower\",\n",
    "                  extent=[start, end, L_start, L_end],\n",
    "                  norm=colors.LogNorm(vmin=1e-1, vmax=1000),\n",
    "                  aspect=\"auto\",\n",
    "                  interpolation=\"none\")\n",
    "\n",
    "image.cmap.set_under(\"black\")\n",
    "\n",
    "cbar = plt.colorbar(image, ax=ax, pad=0.01)\n",
    "\n",
    "cbar.set_label(\"Chorus Bw (pT)\\n\", loc=\"center\", labelpad=15, rotation=270)\n",
    "\n",
    "ax.set_title(\"RBSP Observed Chorus\")\n",
    "ax.set_ylabel(\"L\")\n",
    "ax.set_xlabel(\"Time\")\n",
    "\n",
    "plt.tight_layout()"
   ]
  },
  {
   "cell_type": "code",
   "execution_count": 39,
   "metadata": {},
   "outputs": [
    {
     "name": "stderr",
     "output_type": "stream",
     "text": [
      "C:\\Users\\brofe\\AppData\\Local\\Temp\\ipykernel_14172\\1135825255.py:10: RuntimeWarning: Mean of empty slice\n",
      "  correction_factors.append(np.nanmean((POES_naive_chorus / RBSP_chorus)))\n"
     ]
    }
   ],
   "source": [
    "#Apply correction to POES data to fit RBSP\n",
    "\n",
    "correction_factors = []\n",
    "\n",
    "for T in range(average_chorus_RBSP.shape[0]):\n",
    "    \n",
    "    POES_naive_chorus = average_chorus_POES[T, :]\n",
    "    RBSP_chorus = average_chorus_RBSP[T, :]\n",
    "    \n",
    "    correction_factors.append(np.nanmean((POES_naive_chorus / RBSP_chorus)))\n",
    "        \n",
    "correction_factors = np.expand_dims(np.asarray(correction_factors), axis=1)\n",
    "\n",
    "corrected_chorus_proxy = average_chorus_POES / correction_factors"
   ]
  },
  {
   "cell_type": "code",
   "execution_count": 40,
   "metadata": {},
   "outputs": [],
   "source": [
    "corrected_chorus_proxy = corrected_chorus_proxy + 1e-31 #Stabilize the log norm\n",
    "\n",
    "fig, ax = plt.subplots(1, 1, figsize=(16, 9), sharex=True)\n",
    "\n",
    "image = ax.imshow(corrected_chorus_proxy.T, \n",
    "                  origin = \"lower\",\n",
    "                  extent=[start, end, L_start, L_end],\n",
    "                  norm=colors.LogNorm(vmin=1e-1, vmax=1000),\n",
    "                  aspect=\"auto\",\n",
    "                  interpolation=\"none\")\n",
    "\n",
    "image.cmap.set_under(\"black\")\n",
    "\n",
    "cbar = plt.colorbar(image, ax=ax, pad=0.01)\n",
    "\n",
    "cbar.set_label(\"Chorus Bw (pT)\\n\", loc=\"center\", labelpad=15, rotation=270)\n",
    "\n",
    "ax.set_title(\"Optimal POES Proxy Chorus\")\n",
    "ax.set_ylabel(\"L\")\n",
    "ax.set_xlabel(\"Time\")\n",
    "\n",
    "plt.tight_layout()"
   ]
  },
  {
   "cell_type": "code",
   "execution_count": 41,
   "metadata": {},
   "outputs": [],
   "source": [
    "quantified_error = np.abs((average_chorus_RBSP - corrected_chorus_proxy) / average_chorus_RBSP) * 100.0"
   ]
  },
  {
   "cell_type": "code",
   "execution_count": 42,
   "metadata": {},
   "outputs": [],
   "source": [
    "from mpl_toolkits.axes_grid1.inset_locator import inset_axes\n",
    "\n",
    "\n",
    "fig, axs = plt.subplots(5, 1, sharex=True)\n",
    "\n",
    "chorus_plots = [average_chorus_POES, corrected_chorus_proxy, average_chorus_RBSP]\n",
    "labels = [\"Naive POES Proxy (P=1)\", \"Corrected POES Proxy (Variable P)\", \"Observed Chorus RBSP\"]\n",
    "\n",
    "for i, plot in enumerate(chorus_plots):\n",
    "    \n",
    "    image = axs[i].imshow(plot.T, \n",
    "                          origin = \"lower\",\n",
    "                          extent=[start, end, L_start, L_end],\n",
    "                          norm=colors.LogNorm(vmin=1, vmax=100),\n",
    "                          aspect=\"auto\",\n",
    "                          interpolation=\"none\")\n",
    "\n",
    "    image.cmap.set_under(\"black\")\n",
    "\n",
    "    #To be honest I have no idea how this actually works anymore. Matplotlib is bad and they make it difficult to position the colorbars.\n",
    "    axins = inset_axes(\n",
    "        axs[i],\n",
    "        width=\"1%\",  # width: 5% of parent_bbox width\n",
    "        height=\"100%\",  # height: 50%\n",
    "        loc=\"lower left\",\n",
    "        bbox_to_anchor=(1.01, 0, 1, 1),\n",
    "        bbox_transform=axs[i].transAxes,\n",
    "        borderpad=0\n",
    "    )\n",
    "\n",
    "    cbar = plt.colorbar(image, cax=axins) \n",
    "    cbar.set_label(\"Chorus Amplitude (pT)\\n\", loc=\"center\", labelpad=15, rotation=270)\n",
    "\n",
    "    axs[i].set_title(labels[i])\n",
    "    axs[i].set_ylabel(\"L\")\n",
    "    if i == len(chorus_plots) - 1:\n",
    "        axs[i].set_xlabel(\"Time\")\n",
    "\n",
    "\n",
    "dates = spacepy.time.tickrange(start = start, end = end - epoch_bin_size, deltadays = epoch_bin_size, dtype=\"UTC\")\n",
    "\n",
    "axs[len(chorus_plots)].semilogy(dates.UTC, np.squeeze(correction_factors))\n",
    "axs[len(chorus_plots)].set_ylabel(\"P\")\n",
    "\n",
    "image = axs[len(chorus_plots) + 1].imshow(quantified_error.T, \n",
    "                                          origin = \"lower\",\n",
    "                                          extent=[start, end, L_start, L_end],\n",
    "                                          norm=colors.LogNorm(vmin=1, vmax=1000),\n",
    "                                          aspect=\"auto\",\n",
    "                                          interpolation=\"none\")\n",
    "\n",
    "image.cmap.set_under(\"black\")\n",
    "\n",
    "#To be honest I have no idea how this actually works anymore. Matplotlib is bad and they make it difficult to position the colorbars.\n",
    "axins = inset_axes(\n",
    "    axs[len(chorus_plots) + 1],\n",
    "    width=\"1%\",  # width: 5% of parent_bbox width\n",
    "    height=\"100%\",  # height: 50%\n",
    "    loc=\"lower left\",\n",
    "    bbox_to_anchor=(1.01, 0, 1, 1),\n",
    "    bbox_transform=axs[len(chorus_plots) + 1].transAxes,\n",
    "    borderpad=0\n",
    ")\n",
    "\n",
    "cbar = plt.colorbar(image, cax=axins) \n",
    "cbar.set_label(\"Percent Error\\n\", loc=\"center\", labelpad=15, rotation=270)"
   ]
  },
  {
   "cell_type": "code",
   "execution_count": 14,
   "metadata": {},
   "outputs": [],
   "source": [
    "OMNI_ONE_MIN = data_loader.load_raw_data_from_config(id=[\"OMNI\", \"ONE_MIN_RESOLUTION\"], \n",
    "                                                      start=start,\n",
    "                                                      end=end)\n",
    "OMNI_ONE_HOUR = data_loader.load_raw_data_from_config(id=[\"OMNI\", \"ONE_HOUR_RESOLUTION\"], \n",
    "                                                      start=start,\n",
    "                                                      end=end)"
   ]
  },
  {
   "cell_type": "code",
   "execution_count": 44,
   "metadata": {},
   "outputs": [
    {
     "data": {
      "text/plain": [
       "Text(0, 0.5, 'KP')"
      ]
     },
     "execution_count": 44,
     "metadata": {},
     "output_type": "execute_result"
    }
   ],
   "source": [
    "fig, axs = plt.subplots(3, 1, sharex=True)\n",
    "\n",
    "dates = spacepy.time.tickrange(start = start, end = end - epoch_bin_size, deltadays = epoch_bin_size, dtype=\"UTC\")\n",
    "\n",
    "axs[0].semilogy(dates.UTC, np.squeeze(correction_factors))\n",
    "axs[0].set_ylabel(\"P\")\n",
    "axs[0].set_title(\"Optimal P Value\")\n",
    "\n",
    "OMNI_dates = cdfepoch.to_datetime(OMNI_ONE_MIN[\"Epoch\"])\n",
    "\n",
    "within_time_region = (start <= OMNI_dates) & (OMNI_dates < end)\n",
    "\n",
    "flow_speed = OMNI_ONE_MIN[\"flow_speed\"]\n",
    "flow_speed[flow_speed > 90000] = np.nan\n",
    "\n",
    "flow_speed = flow_speed[within_time_region]\n",
    "OMNI_dates = OMNI_dates[within_time_region]\n",
    "\n",
    "axs[1].plot(OMNI_dates, flow_speed)\n",
    "axs[1].set_ylabel(\"Flow Speed (km/s)\")\n",
    "axs[1].set_title(\"Flow Speed\")\n",
    "\n",
    "OMNI_dates_unx = np.asarray([OMNI_dates[i].timestamp() for i in range(len(OMNI_dates))])\n",
    "P_dates_unx = dates.UNX\n",
    "\n",
    "not_nan = np.isfinite(flow_speed)\n",
    "flow_speed_interpolated = np.interp(P_dates_unx, OMNI_dates_unx[not_nan], flow_speed[not_nan], left = np.nan, right = np.nan)\n",
    "\n",
    "\n",
    "OMNI_HOUR_DATES = cdfepoch.to_datetime(OMNI_ONE_HOUR[\"Epoch\"])\n",
    "\n",
    "within_time_region = (start <= OMNI_HOUR_DATES) & (OMNI_HOUR_DATES < end)\n",
    "\n",
    "axs[2].plot(OMNI_HOUR_DATES[within_time_region], OMNI_ONE_HOUR[\"KP\"][within_time_region])\n",
    "axs[2].set_title(\"OMNI KP-Index\")\n",
    "axs[2].set_ylabel(\"KP\")"
   ]
  },
  {
   "cell_type": "code",
   "execution_count": 16,
   "metadata": {},
   "outputs": [
    {
     "name": "stdout",
     "output_type": "stream",
     "text": [
      "PearsonRResult(statistic=0.5117409518260079, pvalue=3.9673140669436364e-33)\n"
     ]
    }
   ],
   "source": [
    "import scipy.stats\n",
    "\n",
    "P_vals = np.log(np.squeeze(correction_factors))\n",
    "\n",
    "not_nan = np.isfinite(P_vals) & np.isfinite(flow_speed_interpolated)\n",
    "\n",
    "coefficient = scipy.stats.pearsonr(flow_speed_interpolated[not_nan], P_vals[not_nan])\n",
    "\n",
    "print(coefficient)"
   ]
  },
  {
   "cell_type": "code",
   "execution_count": null,
   "metadata": {},
   "outputs": [],
   "source": []
  }
 ],
 "metadata": {
  "kernelspec": {
   "display_name": "ResearchPy",
   "language": "python",
   "name": "python3"
  },
  "language_info": {
   "codemirror_mode": {
    "name": "ipython",
    "version": 3
   },
   "file_extension": ".py",
   "mimetype": "text/x-python",
   "name": "python",
   "nbconvert_exporter": "python",
   "pygments_lexer": "ipython3",
   "version": "3.12.5"
  }
 },
 "nbformat": 4,
 "nbformat_minor": 2
}
