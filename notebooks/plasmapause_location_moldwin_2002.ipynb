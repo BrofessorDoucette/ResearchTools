{
 "cells": [
  {
   "cell_type": "code",
   "execution_count": 7,
   "id": "2f652ad1-a1ab-456c-a149-0530a9d3f9e9",
   "metadata": {},
   "outputs": [],
   "source": [
    "import os\n",
    "import sys\n",
    "\n",
    "# caution: path[0] is reserved for script path (or '' in REPL).\n",
    "sys.path.insert(1, os.path.abspath(\"./../src\"))\n",
    "\n",
    "import data_loader\n",
    "import matplotlib.pyplot as plt\n",
    "import chorus_machine_learning_helper\n",
    "\n",
    "import importlib\n",
    "importlib.reload(data_loader)\n",
    "importlib.reload(chorus_machine_learning_helper)\n",
    "\n",
    "%matplotlib qt"
   ]
  },
  {
   "cell_type": "code",
   "execution_count": 8,
   "id": "7dd8fe5e-e5dc-4309-9256-1f69ba6d7952",
   "metadata": {},
   "outputs": [],
   "source": [
    "unix_time, Lpp, kp_max = chorus_machine_learning_helper.load_plasmapause_filter(year=2012, return_kp=True)"
   ]
  },
  {
   "cell_type": "code",
   "execution_count": 9,
   "id": "cadbd5a2-3681-41b9-b885-484bfc3d7a50",
   "metadata": {},
   "outputs": [
    {
     "data": {
      "text/plain": [
       "Text(0.5, 1.0, 'Max Kp in Preceeding 24 Hrs')"
      ]
     },
     "execution_count": 9,
     "metadata": {},
     "output_type": "execute_result"
    }
   ],
   "source": [
    "plt.plot(unix_time, kp_max)\n",
    "plt.xlabel(\"Unix Time (s)\")\n",
    "plt.ylabel(\"Kp\")\n",
    "plt.title(\"Max Kp in Preceeding 24 Hrs\")"
   ]
  },
  {
   "cell_type": "code",
   "execution_count": 10,
   "id": "2e8a7bfe-901e-452b-926d-00915b758d2f",
   "metadata": {},
   "outputs": [
    {
     "data": {
      "text/plain": [
       "Text(0.5, 1.0, 'Plasmapause Location')"
      ]
     },
     "execution_count": 10,
     "metadata": {},
     "output_type": "execute_result"
    }
   ],
   "source": [
    "plt.plot(unix_time, Lpp)\n",
    "plt.xlabel(\"Unix Time (s)\")\n",
    "plt.ylabel(\"L\")\n",
    "plt.title(\"Plasmapause Location\")"
   ]
  },
  {
   "cell_type": "code",
   "execution_count": null,
   "id": "3ad4f8d0-cc17-4d44-b0b9-039f97215fd6",
   "metadata": {},
   "outputs": [],
   "source": []
  }
 ],
 "metadata": {
  "kernelspec": {
   "display_name": "Python 3 (ipykernel)",
   "language": "python",
   "name": "python3"
  },
  "language_info": {
   "codemirror_mode": {
    "name": "ipython",
    "version": 3
   },
   "file_extension": ".py",
   "mimetype": "text/x-python",
   "name": "python",
   "nbconvert_exporter": "python",
   "pygments_lexer": "ipython3",
   "version": "3.12.5"
  }
 },
 "nbformat": 4,
 "nbformat_minor": 5
}
