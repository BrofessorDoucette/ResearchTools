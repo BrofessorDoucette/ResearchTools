{
 "cells": [
  {
   "cell_type": "code",
   "execution_count": 37,
   "id": "2f652ad1-a1ab-456c-a149-0530a9d3f9e9",
   "metadata": {},
   "outputs": [],
   "source": [
    "import os\n",
    "import sys\n",
    "import warnings\n",
    "\n",
    "# caution: path[0] is reserved for script path (or '' in REPL).\n",
    "sys.path.insert(1, os.path.abspath(\"./../src\"))\n",
    "\n",
    "import data_loader\n",
    "import datetime\n",
    "from cdflib.epochs_astropy import CDFAstropy as cdfepoch\n",
    "import matplotlib.pyplot as plt\n",
    "import astropy.time\n",
    "\n",
    "import importlib\n",
    "importlib.reload(data_loader)\n",
    "\n",
    "import numpy as np\n",
    "\n",
    "%matplotlib qt"
   ]
  },
  {
   "cell_type": "code",
   "execution_count": 38,
   "id": "53ff05ed-8833-4c98-b9f1-c039861b6252",
   "metadata": {},
   "outputs": [],
   "source": [
    "start = datetime.datetime(year = 2012, month = 1, day = 1)\n",
    "end = datetime.datetime(year = 2020, month = 1, day = 1)\n",
    "\n",
    "OMNI = data_loader.load_raw_data_from_config(\n",
    "    id=[\"OMNI\", \"ONE_HOUR_RESOLUTION\"], start=start, end=end\n",
    ")\n",
    "\n",
    "UNIX_TIME = cdfepoch.unixtime(OMNI[\"Epoch\"])\n",
    "KP = OMNI[\"KP\"].astype(np.float64)\n",
    "\n",
    "invalid_omni_times = (UNIX_TIME < 0) | (KP < 0) | (KP >= 99)\n",
    "KP[invalid_omni_times] = np.nan"
   ]
  },
  {
   "cell_type": "code",
   "execution_count": 39,
   "id": "dddc8171-a9bf-424d-a15a-ec76d72a2546",
   "metadata": {},
   "outputs": [],
   "source": [
    "def find_max_in_last_24h(timestamps, values):\n",
    "    \"\"\"\n",
    "    Find the maximum value in the preceding 24 hours for each timestamp.\n",
    "\n",
    "    Args:\n",
    "        timestamps: List of Unix timestamps (in seconds)\n",
    "        values: List of corresponding values\n",
    "\n",
    "    Returns:\n",
    "        List of maximum values for each timestamp, considering the previous 24 hours\n",
    "    \"\"\"\n",
    "    if len(timestamps) != len(values):\n",
    "        raise ValueError(\"Timestamps and values arrays must have the same length\")\n",
    "\n",
    "    result = np.zeros_like(timestamps)\n",
    "    result[:] = np.nan\n",
    "    # 24 hours in seconds\n",
    "    twenty_four_hours = 24 * 60 * 60\n",
    "\n",
    "    for i, current_time in enumerate(timestamps):\n",
    "        # Find all values within the last 24 hours\n",
    "        within_window = ((current_time - twenty_four_hours) <= timestamps) & (timestamps <= current_time)\n",
    "        window_values = values[within_window]\n",
    "\n",
    "        if np.any(np.isnan(window_values)):\n",
    "            continue\n",
    "\n",
    "        # If no values in the window, append None or handle as needed\n",
    "        result[i] = np.max(window_values)\n",
    "\n",
    "    return result"
   ]
  },
  {
   "cell_type": "code",
   "execution_count": 43,
   "id": "daacd3f4-eb11-4462-acb2-1e982061f531",
   "metadata": {},
   "outputs": [],
   "source": [
    "kp_max = find_max_in_last_24h(UNIX_TIME, KP / 10.0)\n",
    "\n",
    "t = astropy.time.Time(UNIX_TIME, format='unix', scale='utc')\n"
   ]
  },
  {
   "cell_type": "code",
   "execution_count": 46,
   "id": "cadbd5a2-3681-41b9-b885-484bfc3d7a50",
   "metadata": {},
   "outputs": [
    {
     "data": {
      "text/plain": [
       "Text(0.5, 1.0, 'Max Kp in Preceeding 24 Hrs')"
      ]
     },
     "execution_count": 46,
     "metadata": {},
     "output_type": "execute_result"
    }
   ],
   "source": [
    "plt.plot(t.utc.datetime, kp_max)\n",
    "plt.xlabel(\"Unix Time (s)\")\n",
    "plt.ylabel(\"Kp\")\n",
    "plt.title(\"Max Kp in Preceeding 24 Hrs\")"
   ]
  },
  {
   "cell_type": "code",
   "execution_count": 49,
   "id": "2e8a7bfe-901e-452b-926d-00915b758d2f",
   "metadata": {},
   "outputs": [
    {
     "data": {
      "text/plain": [
       "Text(0.5, 1.0, 'Plasmapause Location')"
      ]
     },
     "execution_count": 49,
     "metadata": {},
     "output_type": "execute_result"
    }
   ],
   "source": [
    "L_ppi = 5.99 - 0.382 * kp_max\n",
    "\n",
    "plt.plot(t.utc.datetime, L_ppi)\n",
    "plt.xlabel(\"Unix Time (s)\")\n",
    "plt.ylabel(\"L\")\n",
    "plt.title(\"Plasmapause Location\")"
   ]
  },
  {
   "cell_type": "code",
   "execution_count": null,
   "id": "3ad4f8d0-cc17-4d44-b0b9-039f97215fd6",
   "metadata": {},
   "outputs": [],
   "source": []
  }
 ],
 "metadata": {
  "kernelspec": {
   "display_name": "Python 3 (ipykernel)",
   "language": "python",
   "name": "python3"
  },
  "language_info": {
   "codemirror_mode": {
    "name": "ipython",
    "version": 3
   },
   "file_extension": ".py",
   "mimetype": "text/x-python",
   "name": "python",
   "nbconvert_exporter": "python",
   "pygments_lexer": "ipython3",
   "version": "3.12.8"
  }
 },
 "nbformat": 4,
 "nbformat_minor": 5
}
