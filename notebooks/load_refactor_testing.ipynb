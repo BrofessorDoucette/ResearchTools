{
 "cells": [
  {
   "cell_type": "code",
   "execution_count": 52,
   "metadata": {},
   "outputs": [],
   "source": [
    "import sys\n",
    "import os\n",
    "# caution: path[0] is reserved for script path (or '' in REPL).\n",
    "sys.path.insert(1, os.path.abspath('./../src'))\n",
    "\n",
    "import data_loader\n",
    "import datetime\n",
    "import importlib\n",
    "import time\n",
    "from cdflib.epochs_astropy import CDFAstropy as cdfepoch\n",
    "import matplotlib.pyplot as plt\n",
    "import numpy as np\n",
    "\n",
    "\n",
    "importlib.reload(data_loader)\n",
    "%matplotlib qt"
   ]
  },
  {
   "cell_type": "code",
   "execution_count": 53,
   "metadata": {},
   "outputs": [
    {
     "name": "stdout",
     "output_type": "stream",
     "text": [
      "Time taken: 0.32410619989968836\n"
     ]
    }
   ],
   "source": [
    "start = datetime.datetime(year = 2013, month = 4, day = 1)\n",
    "end = datetime.datetime(year = 2015, month = 1, day = 1)\n",
    "\n",
    "\n",
    "t1 = time.perf_counter()\n",
    "\n",
    "\n",
    "#refs = data_loader.load_raw_data_from_config(id = [\"RBSP\", \"MAGEPHEM\", \"TS04D\"],\n",
    "#                                             satellite = \"b\",\n",
    "#                                             start = start,\n",
    "#                                             end = end,\n",
    "#                                             debug = False)\n",
    "\n",
    "refs = data_loader.load_raw_data_from_config(id = [\"POES\", \"SEM\", \"L1B\"],\n",
    "                                             satellite = \"n15\",\n",
    "                                             start = start,\n",
    "                                             end = end,\n",
    "                                             debug = False)\n",
    "\n",
    "#refs = data_loader.load_raw_data_from_config(id = [\"OMNI\", \"ONE_MIN_RESOLUTION\"],\n",
    "#                                             start = start,\n",
    "#                                             end = end,\n",
    "#                                             debug = False)\n",
    "\n",
    "t2 = time.perf_counter()\n",
    "print(f\"Time taken: {t2 - t1}\")\n"
   ]
  },
  {
   "cell_type": "code",
   "execution_count": 54,
   "metadata": {},
   "outputs": [
    {
     "name": "stdout",
     "output_type": "stream",
     "text": [
      "{'year': array([2014, 2014, 2014, ..., 2014, 2014, 2014], dtype=uint16), 'day': array([ 1,  1,  1, ..., 10, 10, 10], dtype=uint16), 'msec': array([   87162,    89162,    91162, ..., 86393120, 86395120, 86397120],\n",
      "      dtype=uint32), 'alt': array([811.3, 811.3, 811.3, ..., 815.3, 815.3, 815.3], dtype=float32), 'lat': array([ -6.163,  -6.281,  -6.399, ..., -16.725, -16.608, -16.49 ],\n",
      "      dtype=float32), 'lon': array([ 73.413,  73.387,  73.36 , ..., 257.493, 257.465, 257.437],\n",
      "      dtype=float32), 'L_IGRF': array([1.12, 1.12, 1.13, ..., 1.17, 1.17, 1.17], dtype=float32), 'MLT': array([ 4.71,  4.7 ,  4.7 , ..., 17.06, 17.06, 17.05], dtype=float32), 'mep_ele_tel0_flux_e1': array([161.29031,   0.     ,   0.     , ..., 564.5161 , 403.2258 ,\n",
      "       241.93549], dtype=float32), 'mep_ele_tel0_flux_e2': array([138.88889,   0.     ,   0.     , ..., 416.66666, 347.2222 ,\n",
      "       208.33333], dtype=float32), 'meped_alpha_0_sat': array([121.21, 121.44, 121.68, ..., 110.39, 110.18, 109.97], dtype=float32)}\n"
     ]
    }
   ],
   "source": [
    "print(refs)"
   ]
  },
  {
   "cell_type": "code",
   "execution_count": 3,
   "metadata": {},
   "outputs": [
    {
     "name": "stderr",
     "output_type": "stream",
     "text": [
      "c:\\Dev\\Research\\REPT_Enhancements_Tool\\ResearchPy\\Lib\\site-packages\\erfa\\core.py:133: ErfaWarning: ERFA function \"dtf2d\" yielded 1 of \"dubious year (Note 6)\"\n",
      "  warn(f'ERFA function \"{func_name}\" yielded {wmsg}', ErfaWarning)\n"
     ]
    },
    {
     "name": "stdout",
     "output_type": "stream",
     "text": [
      "Time taken: 2.1783388999756426\n"
     ]
    }
   ],
   "source": [
    "t1 = time.perf_counter()\n",
    "\n",
    "times = cdfepoch.to_datetime(refs['Epoch'])\n",
    "\n",
    "t2 = time.perf_counter()\n",
    "print(f\"Time taken: {t2 - t1}\")\n"
   ]
  },
  {
   "cell_type": "code",
   "execution_count": 6,
   "metadata": {},
   "outputs": [
    {
     "name": "stdout",
     "output_type": "stream",
     "text": [
      "[datetime.datetime(2013, 4, 1, 0, 0) datetime.datetime(2013, 4, 1, 0, 1)\n",
      " datetime.datetime(2013, 4, 1, 0, 2) ...\n",
      " datetime.datetime(2015, 1, 31, 23, 57)\n",
      " datetime.datetime(2015, 1, 31, 23, 58)\n",
      " datetime.datetime(2015, 1, 31, 23, 59)]\n"
     ]
    }
   ],
   "source": [
    "print(times)\n",
    "\n",
    "plt.plot(times, refs['AE_INDEX'])\n",
    "plt.show()"
   ]
  },
  {
   "cell_type": "code",
   "execution_count": null,
   "metadata": {},
   "outputs": [],
   "source": []
  },
  {
   "cell_type": "code",
   "execution_count": null,
   "metadata": {},
   "outputs": [],
   "source": []
  }
 ],
 "metadata": {
  "kernelspec": {
   "display_name": "ResearchPy",
   "language": "python",
   "name": "python3"
  },
  "language_info": {
   "codemirror_mode": {
    "name": "ipython",
    "version": 3
   },
   "file_extension": ".py",
   "mimetype": "text/x-python",
   "name": "python",
   "nbconvert_exporter": "python",
   "pygments_lexer": "ipython3",
   "version": "3.12.5"
  }
 },
 "nbformat": 4,
 "nbformat_minor": 2
}
