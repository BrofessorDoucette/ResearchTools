{
 "cells": [
  {
   "cell_type": "code",
   "execution_count": 5,
   "metadata": {},
   "outputs": [],
   "source": [
    "import sys\n",
    "import os\n",
    "# caution: path[0] is reserved for script path (or '' in REPL).\n",
    "sys.path.insert(1, os.path.abspath('./../src'))\n",
    "\n",
    "import data_loader\n",
    "import datetime\n",
    "import importlib\n",
    "import time\n",
    "from cdflib.epochs_astropy import CDFAstropy as cdfepoch\n",
    "import matplotlib.pyplot as plt\n",
    "import numpy as np\n",
    "\n",
    "\n",
    "importlib.reload(data_loader)\n",
    "%matplotlib qt"
   ]
  },
  {
   "cell_type": "code",
   "execution_count": 6,
   "metadata": {},
   "outputs": [
    {
     "name": "stdout",
     "output_type": "stream",
     "text": [
      "Time taken: 0.6799647000152618\n"
     ]
    }
   ],
   "source": [
    "start = datetime.datetime(year = 2013, month = 4, day = 1)\n",
    "end = datetime.datetime(year = 2015, month = 1, day = 1)\n",
    "\n",
    "\n",
    "t1 = time.perf_counter()\n",
    "\n",
    "refs = data_loader.load_raw_data_from_config(id = [\"OMNI\", \"ONE_MIN_RESOLUTION\"],\n",
    "                                             start = start,\n",
    "                                             end = end,\n",
    "                                             debug = False)\n",
    "\n",
    "t2 = time.perf_counter()\n",
    "print(f\"Time taken: {t2 - t1}\")\n"
   ]
  },
  {
   "cell_type": "code",
   "execution_count": 7,
   "metadata": {},
   "outputs": [
    {
     "name": "stdout",
     "output_type": "stream",
     "text": [
      "{'Epoch': array([6.35319936e+13, 6.35319937e+13, 6.35319937e+13, ...,\n",
      "       6.35899678e+13, 6.35899679e+13, 6.35899679e+13]), 'BZ_GSM': array([-0.96, -0.13, -0.29, ...,  1.33,  1.21,  0.98], dtype=float32), 'AE_INDEX': array([ 35,  32,  33, ..., 471, 390, 368]), 'flow_speed': array([  464.1,   464.1, 99999.9, ...,   407.1,   405.8,   405.8],\n",
      "      dtype=float32)}\n"
     ]
    }
   ],
   "source": [
    "print(refs)"
   ]
  },
  {
   "cell_type": "code",
   "execution_count": 8,
   "metadata": {},
   "outputs": [
    {
     "name": "stderr",
     "output_type": "stream",
     "text": [
      "c:\\Dev\\Research\\REPT_Enhancements_Tool\\ResearchPy\\Lib\\site-packages\\erfa\\core.py:133: ErfaWarning: ERFA function \"dtf2d\" yielded 1 of \"dubious year (Note 6)\"\n",
      "  warn(f'ERFA function \"{func_name}\" yielded {wmsg}', ErfaWarning)\n"
     ]
    },
    {
     "name": "stdout",
     "output_type": "stream",
     "text": [
      "Time taken: 2.3603567999089137\n"
     ]
    }
   ],
   "source": [
    "t1 = time.perf_counter()\n",
    "\n",
    "times = cdfepoch.to_datetime(refs['Epoch'])\n",
    "\n",
    "t2 = time.perf_counter()\n",
    "print(f\"Time taken: {t2 - t1}\")\n"
   ]
  },
  {
   "cell_type": "code",
   "execution_count": 9,
   "metadata": {},
   "outputs": [
    {
     "name": "stdout",
     "output_type": "stream",
     "text": [
      "[datetime.datetime(2013, 4, 1, 0, 0) datetime.datetime(2013, 4, 1, 0, 1)\n",
      " datetime.datetime(2013, 4, 1, 0, 2) ...\n",
      " datetime.datetime(2015, 1, 31, 23, 57)\n",
      " datetime.datetime(2015, 1, 31, 23, 58)\n",
      " datetime.datetime(2015, 1, 31, 23, 59)]\n"
     ]
    }
   ],
   "source": [
    "print(times)\n",
    "\n",
    "plt.plot(times, refs['AE_INDEX'])\n",
    "plt.show()"
   ]
  },
  {
   "cell_type": "code",
   "execution_count": null,
   "metadata": {},
   "outputs": [],
   "source": []
  },
  {
   "cell_type": "code",
   "execution_count": null,
   "metadata": {},
   "outputs": [],
   "source": []
  }
 ],
 "metadata": {
  "kernelspec": {
   "display_name": "ResearchPy",
   "language": "python",
   "name": "python3"
  },
  "language_info": {
   "codemirror_mode": {
    "name": "ipython",
    "version": 3
   },
   "file_extension": ".py",
   "mimetype": "text/x-python",
   "name": "python",
   "nbconvert_exporter": "python",
   "pygments_lexer": "ipython3",
   "version": "3.12.5"
  }
 },
 "nbformat": 4,
 "nbformat_minor": 2
}
