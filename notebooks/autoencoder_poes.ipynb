{
 "cells": [
  {
   "cell_type": "code",
   "execution_count": 8,
   "id": "6b59dc7c-4281-4c8e-bcac-119f665c67d3",
   "metadata": {},
   "outputs": [
    {
     "name": "stderr",
     "output_type": "stream",
     "text": [
      "Intel(R) Extension for Scikit-learn* enabled (https://github.com/uxlfoundation/scikit-learn-intelex)\n"
     ]
    }
   ],
   "source": [
    "import os\n",
    "import sys\n",
    "\n",
    "# caution: path[0] is reserved for script path (or '' in REPL).\n",
    "sys.path.insert(1, os.path.abspath(\"./../src\"))\n",
    "\n",
    "import datetime\n",
    "import importlib\n",
    "\n",
    "import matplotlib\n",
    "import matplotlib.pyplot as plt\n",
    "import numpy as np\n",
    "import tqdm\n",
    "from sklearnex import patch_sklearn\n",
    "\n",
    "import chorus_machine_learning_helper\n",
    "import data_loader\n",
    "import denoising_autoencoder\n",
    "import numpy as np\n",
    "import torch\n",
    "import torch.nn as nn\n",
    "import torch.optim as optim\n",
    "\n",
    "importlib.reload(chorus_machine_learning_helper)\n",
    "importlib.reload(denoising_autoencoder)\n",
    "importlib.reload(data_loader)\n",
    "\n",
    "import scipy.stats\n",
    "\n",
    "from sklearnex import patch_sklearn\n",
    "patch_sklearn()\n",
    "import sklearn\n",
    "\n",
    "%matplotlib qt"
   ]
  },
  {
   "cell_type": "code",
   "execution_count": 9,
   "id": "b4fb6a34-6ef8-4a2a-a444-c7100ab4187c",
   "metadata": {},
   "outputs": [],
   "source": [
    "VERSION = \"v1\"\n",
    "MODEL_TYPE = \"LOWER_BAND\"\n",
    "\n",
    "pdata_folder = os.path.abspath(\"./../processed_data/chorus_neural_network/\")\n",
    "output_folder = os.path.join(pdata_folder, \"models\", VERSION)\n",
    "\n",
    "T_SIZE = 31860 / 2"
   ]
  },
  {
   "cell_type": "code",
   "execution_count": null,
   "id": "55b82aab-ccc2-4bc2-a93e-2d09f8623c06",
   "metadata": {},
   "outputs": [],
   "source": [
    "POES_temp = data_loader.load_raw_data_from_config(\n",
    "    id=[\"POES\", \"SEM\", \"MPE\"],\n",
    "    start=datetime.datetime(year=2000, month=1, day=1),\n",
    "    end=datetime.datetime(year=2000, month=1, day=2),\n",
    "    satellite=\"n15\",\n",
    ")\n",
    "\n",
    "ENERGIES = POES_temp[\"energy\"][0]\n",
    "DIFF_E = ENERGIES[1:] - ENERGIES[:-1]"
   ]
  },
  {
   "cell_type": "code",
   "execution_count": null,
   "id": "f26e73f1-ff10-44bb-965a-fb3d68901707",
   "metadata": {},
   "outputs": [],
   "source": [
    "time_chunked_global_maps = []\n",
    "\n",
    "x_edges = None\n",
    "y_edges = None\n",
    "\n",
    "nx = 60\n",
    "ny = 12\n",
    "\n",
    "for year in range(1998, 2024):\n",
    "\n",
    "    tstart = datetime.datetime(year=year, month=1, day=1, tzinfo=datetime.UTC).timestamp()\n",
    "    tend = datetime.datetime(year=year + 1, month=1, day=1, tzinfo=datetime.UTC).timestamp()\n",
    "\n",
    "    POES = chorus_machine_learning_helper.load_MPE_year(year=year)\n",
    "\n",
    "    for tcurr in tqdm.tqdm(np.arange(tstart, tend, T_SIZE)):\n",
    "\n",
    "        POES_L = []\n",
    "        POES_MLT = []\n",
    "        POES_FLUX = []\n",
    "\n",
    "        for SAT in POES:\n",
    "            TIME_RANGE = np.searchsorted(SAT[\"UNIX_TIME\"], v=[tcurr, tcurr + T_SIZE])\n",
    "            POES_L.append(SAT[\"L\"][TIME_RANGE[0] : TIME_RANGE[-1]])\n",
    "            POES_MLT.append(SAT[\"MLT\"][TIME_RANGE[0] : TIME_RANGE[-1]])\n",
    "            POES_FLUX.append(SAT[\"BLC_Flux\"][TIME_RANGE[0] : TIME_RANGE[-1], :])\n",
    "\n",
    "\n",
    "        POES_L = np.hstack(POES_L)\n",
    "        POES_MLT = np.hstack(POES_MLT)\n",
    "        POES_FLUX = np.vstack(POES_FLUX)\n",
    "\n",
    "        if POES_L.shape[0] == 0:\n",
    "            continue\n",
    "\n",
    "        UNDER_130_KeV_FLUX = np.nansum((POES_FLUX[:, :7] * DIFF_E[:7]), axis=1)\n",
    "        TOTAL_FLUX = np.nansum((POES_FLUX[:, :-1] * DIFF_E), axis=1)\n",
    "        FLUX_RATIO = UNDER_130_KeV_FLUX / TOTAL_FLUX\n",
    "\n",
    "        hist_count, _, _ = np.histogram2d(POES_L, POES_MLT, bins=[nx, ny], range=[[2, 8], [0, 24]])\n",
    "        hist_sum, x_edges, y_edges = np.histogram2d(POES_L, POES_MLT, bins=[nx, ny], range=[[2, 8], [0, 24]], weights=TOTAL_FLUX)\n",
    "\n",
    "        not_zero = (hist_sum != 0)\n",
    "\n",
    "        hist_avg = np.full_like(hist_sum, fill_value=np.nan)\n",
    "        hist_avg[not_zero] = hist_sum[not_zero] / hist_count[not_zero]\n",
    "\n",
    "        time_chunked_global_maps.append(hist_avg)\n",
    "        break\n",
    "    break"
   ]
  },
  {
   "cell_type": "code",
   "execution_count": null,
   "id": "2f5c5f11-9271-4381-bd30-847e5d2a9708",
   "metadata": {},
   "outputs": [],
   "source": [
    "time_chunked_global_maps = np.vstack([np.expand_dims(time_chunked_global_maps[i], axis=0) for i in range(len(time_chunked_global_maps))])\n",
    "\n",
    "print(time_chunked_global_maps.shape)"
   ]
  },
  {
   "cell_type": "code",
   "execution_count": null,
   "id": "79a87c79-1ac4-40c9-a37e-28604ddd3fd3",
   "metadata": {},
   "outputs": [],
   "source": [
    "np.savez(\n",
    "    file=os.path.join(output_folder, rf\"time_chunked_global_flux_maps_poes_{VERSION}_1998_2024.npz\"),\n",
    "    time_chunked_global_maps=time_chunked_global_maps,\n",
    ")"
   ]
  },
  {
   "cell_type": "code",
   "execution_count": 10,
   "id": "b96318cb-786c-4078-a6f8-b6030e8b74d0",
   "metadata": {},
   "outputs": [],
   "source": [
    "data = np.load(\n",
    "    file=os.path.join(output_folder, rf\"time_chunked_global_flux_maps_poes_{VERSION}_1998_2024.npz\"),\n",
    ")\n",
    "\n",
    "time_chunked_global_maps = data[\"time_chunked_global_maps\"]\n",
    "\n",
    "data.close()"
   ]
  },
  {
   "cell_type": "code",
   "execution_count": 11,
   "id": "373a954d-60cc-49ec-8c58-79110ed9f45f",
   "metadata": {},
   "outputs": [
    {
     "name": "stdout",
     "output_type": "stream",
     "text": [
      "\n",
      "Fold 1/10\n",
      "\n",
      "Creating Data Loaders\n",
      "Creating Denoiser and Critic\n",
      "Training...\n",
      "\n"
     ]
    },
    {
     "name": "stderr",
     "output_type": "stream",
     "text": [
      "100%|██████████████████████████████████████████████████████████████████████████████| 2629/2629 [01:16<00:00, 34.43it/s]\n"
     ]
    },
    {
     "name": "stdout",
     "output_type": "stream",
     "text": [
      "Testing Model on Test Data...\n",
      "\n",
      "Epoch [1/15]\n",
      "Averages:\n",
      "Training Critic Loss: -53101.7926\n",
      "Trainin Generator Loss: 189360.3922\n",
      "Training MSE : 14147532.211815\n",
      "Test Critic Loss: -4183.5464\n",
      "Test Generator Loss: 30363.2285\n",
      "Test MSE : 3999.504639\n",
      "\n"
     ]
    },
    {
     "name": "stderr",
     "output_type": "stream",
     "text": [
      "100%|██████████████████████████████████████████████████████████████████████████████| 2629/2629 [01:15<00:00, 34.87it/s]\n"
     ]
    },
    {
     "name": "stdout",
     "output_type": "stream",
     "text": [
      "Testing Model on Test Data...\n",
      "\n",
      "Epoch [2/15]\n",
      "Averages:\n",
      "Training Critic Loss: -2607.5372\n",
      "Trainin Generator Loss: 27714.4833\n",
      "Training MSE : 1939.507362\n",
      "Test Critic Loss: -1395.4346\n",
      "Test Generator Loss: 11442.5488\n",
      "Test MSE : 134.357315\n",
      "\n"
     ]
    },
    {
     "name": "stderr",
     "output_type": "stream",
     "text": [
      "100%|██████████████████████████████████████████████████████████████████████████████| 2629/2629 [01:16<00:00, 34.47it/s]\n"
     ]
    },
    {
     "name": "stdout",
     "output_type": "stream",
     "text": [
      "Testing Model on Test Data...\n",
      "\n",
      "Epoch [3/15]\n",
      "Averages:\n",
      "Training Critic Loss: -817.4505\n",
      "Trainin Generator Loss: 9152.1557\n",
      "Training MSE : 72.222809\n",
      "Test Critic Loss: -655.7065\n",
      "Test Generator Loss: 4466.4263\n",
      "Test MSE : 10.937388\n",
      "\n"
     ]
    },
    {
     "name": "stderr",
     "output_type": "stream",
     "text": [
      "100%|██████████████████████████████████████████████████████████████████████████████| 2629/2629 [01:15<00:00, 34.59it/s]\n"
     ]
    },
    {
     "name": "stdout",
     "output_type": "stream",
     "text": [
      "Testing Model on Test Data...\n",
      "\n",
      "Epoch [4/15]\n",
      "Averages:\n",
      "Training Critic Loss: -512.3848\n",
      "Trainin Generator Loss: 4327.3733\n",
      "Training MSE : 9.195840\n",
      "Test Critic Loss: -572.8452\n",
      "Test Generator Loss: 2946.5605\n",
      "Test MSE : 3.569588\n",
      "\n"
     ]
    },
    {
     "name": "stderr",
     "output_type": "stream",
     "text": [
      "100%|██████████████████████████████████████████████████████████████████████████████| 2629/2629 [01:15<00:00, 34.71it/s]\n"
     ]
    },
    {
     "name": "stdout",
     "output_type": "stream",
     "text": [
      "Testing Model on Test Data...\n",
      "\n",
      "Epoch [5/15]\n",
      "Averages:\n",
      "Training Critic Loss: -522.2459\n",
      "Trainin Generator Loss: 2921.9096\n",
      "Training MSE : 3.813931\n",
      "Test Critic Loss: -615.8605\n",
      "Test Generator Loss: 2238.6780\n",
      "Test MSE : 1.898719\n",
      "\n"
     ]
    },
    {
     "name": "stderr",
     "output_type": "stream",
     "text": [
      "100%|██████████████████████████████████████████████████████████████████████████████| 2629/2629 [01:16<00:00, 34.53it/s]\n"
     ]
    },
    {
     "name": "stdout",
     "output_type": "stream",
     "text": [
      "Testing Model on Test Data...\n",
      "\n",
      "Epoch [6/15]\n",
      "Averages:\n",
      "Training Critic Loss: -648.7083\n",
      "Trainin Generator Loss: 2428.4395\n",
      "Training MSE : 2.306688\n",
      "Test Critic Loss: -623.2661\n",
      "Test Generator Loss: 1858.0437\n",
      "Test MSE : 1.385844\n",
      "\n"
     ]
    },
    {
     "name": "stderr",
     "output_type": "stream",
     "text": [
      "100%|██████████████████████████████████████████████████████████████████████████████| 2629/2629 [01:16<00:00, 34.22it/s]\n"
     ]
    },
    {
     "name": "stdout",
     "output_type": "stream",
     "text": [
      "Testing Model on Test Data...\n",
      "\n",
      "Epoch [7/15]\n",
      "Averages:\n",
      "Training Critic Loss: -874.7304\n",
      "Trainin Generator Loss: 2362.5953\n",
      "Training MSE : 1.685311\n",
      "Test Critic Loss: -966.4180\n",
      "Test Generator Loss: 2082.7397\n",
      "Test MSE : 0.943896\n",
      "\n"
     ]
    },
    {
     "name": "stderr",
     "output_type": "stream",
     "text": [
      "100%|██████████████████████████████████████████████████████████████████████████████| 2629/2629 [01:15<00:00, 34.67it/s]\n"
     ]
    },
    {
     "name": "stdout",
     "output_type": "stream",
     "text": [
      "Testing Model on Test Data...\n",
      "\n",
      "Epoch [8/15]\n",
      "Averages:\n",
      "Training Critic Loss: -1154.1450\n",
      "Trainin Generator Loss: 2460.6089\n",
      "Training MSE : 1.378040\n",
      "Test Critic Loss: -1273.2079\n",
      "Test Generator Loss: 2234.8855\n",
      "Test MSE : 0.751219\n",
      "\n"
     ]
    },
    {
     "name": "stderr",
     "output_type": "stream",
     "text": [
      "100%|██████████████████████████████████████████████████████████████████████████████| 2629/2629 [01:17<00:00, 34.04it/s]\n"
     ]
    },
    {
     "name": "stdout",
     "output_type": "stream",
     "text": [
      "Testing Model on Test Data...\n",
      "\n",
      "Epoch [9/15]\n",
      "Averages:\n",
      "Training Critic Loss: -1522.8177\n",
      "Trainin Generator Loss: 2646.7503\n",
      "Training MSE : 1.182759\n",
      "Test Critic Loss: -1261.7839\n",
      "Test Generator Loss: 2067.2395\n",
      "Test MSE : 1.072664\n",
      "\n"
     ]
    },
    {
     "name": "stderr",
     "output_type": "stream",
     "text": [
      "100%|██████████████████████████████████████████████████████████████████████████████| 2629/2629 [01:16<00:00, 34.25it/s]\n"
     ]
    },
    {
     "name": "stdout",
     "output_type": "stream",
     "text": [
      "Testing Model on Test Data...\n",
      "\n",
      "Epoch [10/15]\n",
      "Averages:\n",
      "Training Critic Loss: -1904.6180\n",
      "Trainin Generator Loss: 2777.4749\n",
      "Training MSE : 1.059073\n",
      "Test Critic Loss: -1484.9114\n",
      "Test Generator Loss: 2037.5437\n",
      "Test MSE : 0.858566\n",
      "\n"
     ]
    },
    {
     "name": "stderr",
     "output_type": "stream",
     "text": [
      "100%|██████████████████████████████████████████████████████████████████████████████| 2629/2629 [01:16<00:00, 34.26it/s]\n"
     ]
    },
    {
     "name": "stdout",
     "output_type": "stream",
     "text": [
      "Testing Model on Test Data...\n",
      "\n",
      "Epoch [11/15]\n",
      "Averages:\n",
      "Training Critic Loss: -2397.5417\n",
      "Trainin Generator Loss: 3074.3288\n",
      "Training MSE : 0.936009\n",
      "Test Critic Loss: -1882.3754\n",
      "Test Generator Loss: 2148.8049\n",
      "Test MSE : 1.126923\n",
      "\n"
     ]
    },
    {
     "name": "stderr",
     "output_type": "stream",
     "text": [
      "100%|██████████████████████████████████████████████████████████████████████████████| 2629/2629 [01:15<00:00, 34.82it/s]\n"
     ]
    },
    {
     "name": "stdout",
     "output_type": "stream",
     "text": [
      "Testing Model on Test Data...\n",
      "\n",
      "Epoch [12/15]\n",
      "Averages:\n",
      "Training Critic Loss: -2911.2825\n",
      "Trainin Generator Loss: 3265.8893\n",
      "Training MSE : 0.872341\n",
      "Test Critic Loss: -2644.3735\n",
      "Test Generator Loss: 2902.0305\n",
      "Test MSE : 0.727220\n",
      "\n"
     ]
    },
    {
     "name": "stderr",
     "output_type": "stream",
     "text": [
      "100%|██████████████████████████████████████████████████████████████████████████████| 2629/2629 [01:16<00:00, 34.53it/s]\n"
     ]
    },
    {
     "name": "stdout",
     "output_type": "stream",
     "text": [
      "Testing Model on Test Data...\n",
      "\n",
      "Epoch [13/15]\n",
      "Averages:\n",
      "Training Critic Loss: -3469.3851\n",
      "Trainin Generator Loss: 3578.7378\n",
      "Training MSE : 0.838581\n",
      "Test Critic Loss: -2641.2544\n",
      "Test Generator Loss: 2671.8093\n",
      "Test MSE : 0.882575\n",
      "\n"
     ]
    },
    {
     "name": "stderr",
     "output_type": "stream",
     "text": [
      "100%|██████████████████████████████████████████████████████████████████████████████| 2629/2629 [01:15<00:00, 34.91it/s]\n"
     ]
    },
    {
     "name": "stdout",
     "output_type": "stream",
     "text": [
      "Testing Model on Test Data...\n",
      "\n",
      "Epoch [14/15]\n",
      "Averages:\n",
      "Training Critic Loss: -4208.8926\n",
      "Trainin Generator Loss: 3950.9156\n",
      "Training MSE : 0.788577\n",
      "Test Critic Loss: -3227.9854\n",
      "Test Generator Loss: 2971.0225\n",
      "Test MSE : 0.834090\n",
      "\n"
     ]
    },
    {
     "name": "stderr",
     "output_type": "stream",
     "text": [
      "100%|██████████████████████████████████████████████████████████████████████████████| 2629/2629 [01:16<00:00, 34.59it/s]\n"
     ]
    },
    {
     "name": "stdout",
     "output_type": "stream",
     "text": [
      "Testing Model on Test Data...\n",
      "\n",
      "Epoch [15/15]\n",
      "Averages:\n",
      "Training Critic Loss: -4903.2540\n",
      "Trainin Generator Loss: 4375.3689\n",
      "Training MSE : 0.766501\n",
      "Test Critic Loss: -3771.9768\n",
      "Test Generator Loss: 3228.7095\n",
      "Test MSE : 0.810011\n",
      "\n",
      "Testing Final Model on Training Data...\n",
      "\n",
      "Testing Final Model on Test Data...\n",
      "\n",
      "Results:\n",
      "\n",
      "Train MSE : 0.8100730776786804\n",
      "Train g_loss : 3285.820556640625\n",
      "Train c_loss : -3906.197998046875\n",
      "Test MSE : 0.8099823594093323\n",
      "Test g_loss : 3228.636962890625\n",
      " Test c_loss : -3772.88671875\n",
      "\n",
      "\n",
      "Fold 2/10\n",
      "\n",
      "Creating Data Loaders\n",
      "Creating Denoiser and Critic\n",
      "Training...\n",
      "\n"
     ]
    },
    {
     "name": "stderr",
     "output_type": "stream",
     "text": [
      "100%|██████████████████████████████████████████████████████████████████████████████| 2629/2629 [01:17<00:00, 33.98it/s]\n"
     ]
    },
    {
     "name": "stdout",
     "output_type": "stream",
     "text": [
      "Testing Model on Test Data...\n",
      "\n",
      "Epoch [1/15]\n",
      "Averages:\n",
      "Training Critic Loss: 61840.8862\n",
      "Trainin Generator Loss: 646176.5290\n",
      "Training MSE : 23909364.094636\n",
      "Test Critic Loss: 307.1505\n",
      "Test Generator Loss: 3901.2195\n",
      "Test MSE : 23.403107\n",
      "\n"
     ]
    },
    {
     "name": "stderr",
     "output_type": "stream",
     "text": [
      "100%|██████████████████████████████████████████████████████████████████████████████| 2629/2629 [01:16<00:00, 34.45it/s]\n"
     ]
    },
    {
     "name": "stdout",
     "output_type": "stream",
     "text": [
      "Testing Model on Test Data...\n",
      "\n",
      "Epoch [2/15]\n",
      "Averages:\n",
      "Training Critic Loss: 45.6737\n",
      "Trainin Generator Loss: 2870.2313\n",
      "Training MSE : 13.407422\n",
      "Test Critic Loss: -16.3101\n",
      "Test Generator Loss: 1172.3574\n",
      "Test MSE : 3.049781\n",
      "\n"
     ]
    },
    {
     "name": "stderr",
     "output_type": "stream",
     "text": [
      "100%|██████████████████████████████████████████████████████████████████████████████| 2629/2629 [01:16<00:00, 34.43it/s]\n"
     ]
    },
    {
     "name": "stdout",
     "output_type": "stream",
     "text": [
      "Testing Model on Test Data...\n",
      "\n",
      "Epoch [3/15]\n",
      "Averages:\n",
      "Training Critic Loss: -134.4177\n",
      "Trainin Generator Loss: 989.5864\n",
      "Training MSE : 2.929752\n",
      "Test Critic Loss: -291.5696\n",
      "Test Generator Loss: 657.0867\n",
      "Test MSE : 1.390362\n",
      "\n"
     ]
    },
    {
     "name": "stderr",
     "output_type": "stream",
     "text": [
      "100%|██████████████████████████████████████████████████████████████████████████████| 2629/2629 [01:16<00:00, 34.42it/s]\n"
     ]
    },
    {
     "name": "stdout",
     "output_type": "stream",
     "text": [
      "Testing Model on Test Data...\n",
      "\n",
      "Epoch [4/15]\n",
      "Averages:\n",
      "Training Critic Loss: -390.1199\n",
      "Trainin Generator Loss: 728.6927\n",
      "Training MSE : 1.618575\n",
      "Test Critic Loss: -533.0190\n",
      "Test Generator Loss: 569.3127\n",
      "Test MSE : 0.936318\n",
      "\n"
     ]
    },
    {
     "name": "stderr",
     "output_type": "stream",
     "text": [
      "100%|██████████████████████████████████████████████████████████████████████████████| 2629/2629 [01:16<00:00, 34.33it/s]\n"
     ]
    },
    {
     "name": "stdout",
     "output_type": "stream",
     "text": [
      "Testing Model on Test Data...\n",
      "\n",
      "Epoch [5/15]\n",
      "Averages:\n",
      "Training Critic Loss: -630.1186\n",
      "Trainin Generator Loss: 682.4678\n",
      "Training MSE : 1.265150\n",
      "Test Critic Loss: -679.5388\n",
      "Test Generator Loss: 594.8527\n",
      "Test MSE : 0.820785\n",
      "\n"
     ]
    },
    {
     "name": "stderr",
     "output_type": "stream",
     "text": [
      "100%|██████████████████████████████████████████████████████████████████████████████| 2629/2629 [01:16<00:00, 34.24it/s]\n"
     ]
    },
    {
     "name": "stdout",
     "output_type": "stream",
     "text": [
      "Testing Model on Test Data...\n",
      "\n",
      "Epoch [6/15]\n",
      "Averages:\n",
      "Training Critic Loss: -883.6422\n",
      "Trainin Generator Loss: 750.5143\n",
      "Training MSE : 1.094588\n",
      "Test Critic Loss: -887.2701\n",
      "Test Generator Loss: 609.8215\n",
      "Test MSE : 0.807075\n",
      "\n"
     ]
    },
    {
     "name": "stderr",
     "output_type": "stream",
     "text": [
      "100%|██████████████████████████████████████████████████████████████████████████████| 2629/2629 [01:15<00:00, 34.74it/s]\n"
     ]
    },
    {
     "name": "stdout",
     "output_type": "stream",
     "text": [
      "Testing Model on Test Data...\n",
      "\n",
      "Epoch [7/15]\n",
      "Averages:\n",
      "Training Critic Loss: -1215.2309\n",
      "Trainin Generator Loss: 897.7929\n",
      "Training MSE : 0.960513\n",
      "Test Critic Loss: -1215.5074\n",
      "Test Generator Loss: 841.6229\n",
      "Test MSE : 0.739677\n",
      "\n"
     ]
    },
    {
     "name": "stderr",
     "output_type": "stream",
     "text": [
      "100%|██████████████████████████████████████████████████████████████████████████████| 2629/2629 [01:15<00:00, 34.65it/s]\n"
     ]
    },
    {
     "name": "stdout",
     "output_type": "stream",
     "text": [
      "Testing Model on Test Data...\n",
      "\n",
      "Epoch [8/15]\n",
      "Averages:\n",
      "Training Critic Loss: -1568.4245\n",
      "Trainin Generator Loss: 1108.2613\n",
      "Training MSE : 0.887445\n",
      "Test Critic Loss: -1402.1361\n",
      "Test Generator Loss: 977.2029\n",
      "Test MSE : 0.883404\n",
      "\n"
     ]
    },
    {
     "name": "stderr",
     "output_type": "stream",
     "text": [
      "100%|██████████████████████████████████████████████████████████████████████████████| 2629/2629 [01:17<00:00, 33.89it/s]\n"
     ]
    },
    {
     "name": "stdout",
     "output_type": "stream",
     "text": [
      "Testing Model on Test Data...\n",
      "\n",
      "Epoch [9/15]\n",
      "Averages:\n",
      "Training Critic Loss: -1987.3260\n",
      "Trainin Generator Loss: 1435.6722\n",
      "Training MSE : 0.841076\n",
      "Test Critic Loss: -1759.0835\n",
      "Test Generator Loss: 1288.7137\n",
      "Test MSE : 0.767659\n",
      "\n"
     ]
    },
    {
     "name": "stderr",
     "output_type": "stream",
     "text": [
      "100%|██████████████████████████████████████████████████████████████████████████████| 2629/2629 [01:16<00:00, 34.44it/s]\n"
     ]
    },
    {
     "name": "stdout",
     "output_type": "stream",
     "text": [
      "Testing Model on Test Data...\n",
      "\n",
      "Epoch [10/15]\n",
      "Averages:\n",
      "Training Critic Loss: -2502.3480\n",
      "Trainin Generator Loss: 1867.1859\n",
      "Training MSE : 0.788380\n",
      "Test Critic Loss: -2290.0767\n",
      "Test Generator Loss: 1601.2773\n",
      "Test MSE : 0.692890\n",
      "\n"
     ]
    },
    {
     "name": "stderr",
     "output_type": "stream",
     "text": [
      "100%|██████████████████████████████████████████████████████████████████████████████| 2629/2629 [01:15<00:00, 34.67it/s]\n"
     ]
    },
    {
     "name": "stdout",
     "output_type": "stream",
     "text": [
      "Testing Model on Test Data...\n",
      "\n",
      "Epoch [11/15]\n",
      "Averages:\n",
      "Training Critic Loss: -3040.4312\n",
      "Trainin Generator Loss: 2263.3358\n",
      "Training MSE : 0.765115\n",
      "Test Critic Loss: -2519.8345\n",
      "Test Generator Loss: 1795.8167\n",
      "Test MSE : 0.800007\n",
      "\n"
     ]
    },
    {
     "name": "stderr",
     "output_type": "stream",
     "text": [
      "100%|██████████████████████████████████████████████████████████████████████████████| 2629/2629 [01:17<00:00, 34.09it/s]\n"
     ]
    },
    {
     "name": "stdout",
     "output_type": "stream",
     "text": [
      "Testing Model on Test Data...\n",
      "\n",
      "Epoch [12/15]\n",
      "Averages:\n",
      "Training Critic Loss: -3670.0384\n",
      "Trainin Generator Loss: 2729.2355\n",
      "Training MSE : 0.736916\n",
      "Test Critic Loss: -3313.1824\n",
      "Test Generator Loss: 2321.1299\n",
      "Test MSE : 0.671148\n",
      "\n"
     ]
    },
    {
     "name": "stderr",
     "output_type": "stream",
     "text": [
      "100%|██████████████████████████████████████████████████████████████████████████████| 2629/2629 [01:17<00:00, 33.96it/s]\n"
     ]
    },
    {
     "name": "stdout",
     "output_type": "stream",
     "text": [
      "Testing Model on Test Data...\n",
      "\n",
      "Epoch [13/15]\n",
      "Averages:\n",
      "Training Critic Loss: -4374.7450\n",
      "Trainin Generator Loss: 3126.0410\n",
      "Training MSE : 0.720491\n",
      "Test Critic Loss: -3405.9866\n",
      "Test Generator Loss: 2311.5732\n",
      "Test MSE : 0.850367\n",
      "\n"
     ]
    },
    {
     "name": "stderr",
     "output_type": "stream",
     "text": [
      "100%|██████████████████████████████████████████████████████████████████████████████| 2629/2629 [01:16<00:00, 34.38it/s]\n"
     ]
    },
    {
     "name": "stdout",
     "output_type": "stream",
     "text": [
      "Testing Model on Test Data...\n",
      "\n",
      "Epoch [14/15]\n",
      "Averages:\n",
      "Training Critic Loss: -5139.1174\n",
      "Trainin Generator Loss: 3678.8162\n",
      "Training MSE : 0.704261\n",
      "Test Critic Loss: -4034.1023\n",
      "Test Generator Loss: 2766.1294\n",
      "Test MSE : 0.821711\n",
      "\n"
     ]
    },
    {
     "name": "stderr",
     "output_type": "stream",
     "text": [
      "100%|██████████████████████████████████████████████████████████████████████████████| 2629/2629 [01:14<00:00, 35.13it/s]\n"
     ]
    },
    {
     "name": "stdout",
     "output_type": "stream",
     "text": [
      "Testing Model on Test Data...\n",
      "\n",
      "Epoch [15/15]\n",
      "Averages:\n",
      "Training Critic Loss: -6010.8699\n",
      "Trainin Generator Loss: 4242.0368\n",
      "Training MSE : 0.689329\n",
      "Test Critic Loss: -5087.8442\n",
      "Test Generator Loss: 3324.2131\n",
      "Test MSE : 0.735923\n",
      "\n",
      "Testing Final Model on Training Data...\n",
      "\n",
      "Testing Final Model on Test Data...\n",
      "\n",
      "Results:\n",
      "\n",
      "Train MSE : 0.7382681965827942\n",
      "Train g_loss : 3306.701416015625\n",
      "Train c_loss : -5029.92529296875\n",
      "Test MSE : 0.7356020212173462\n",
      "Test g_loss : 3324.426513671875\n",
      " Test c_loss : -5089.25048828125\n",
      "\n",
      "\n",
      "Fold 3/10\n",
      "\n",
      "Creating Data Loaders\n",
      "Creating Denoiser and Critic\n",
      "Training...\n",
      "\n"
     ]
    },
    {
     "name": "stderr",
     "output_type": "stream",
     "text": [
      "100%|██████████████████████████████████████████████████████████████████████████████| 2629/2629 [01:16<00:00, 34.34it/s]\n"
     ]
    },
    {
     "name": "stdout",
     "output_type": "stream",
     "text": [
      "Testing Model on Test Data...\n",
      "\n",
      "Epoch [1/15]\n",
      "Averages:\n",
      "Training Critic Loss: 24928.9230\n",
      "Trainin Generator Loss: 474660.3092\n",
      "Training MSE : 6653928.357443\n",
      "Test Critic Loss: 131.6119\n",
      "Test Generator Loss: 5290.4102\n",
      "Test MSE : 24.184513\n",
      "\n"
     ]
    },
    {
     "name": "stderr",
     "output_type": "stream",
     "text": [
      "100%|██████████████████████████████████████████████████████████████████████████████| 2629/2629 [01:15<00:00, 34.78it/s]\n"
     ]
    },
    {
     "name": "stdout",
     "output_type": "stream",
     "text": [
      "Testing Model on Test Data...\n",
      "\n",
      "Epoch [2/15]\n",
      "Averages:\n",
      "Training Critic Loss: -164.0650\n",
      "Trainin Generator Loss: 4499.7116\n",
      "Training MSE : 16.833114\n",
      "Test Critic Loss: -94.3731\n",
      "Test Generator Loss: 2475.0015\n",
      "Test MSE : 4.269714\n",
      "\n"
     ]
    },
    {
     "name": "stderr",
     "output_type": "stream",
     "text": [
      "100%|██████████████████████████████████████████████████████████████████████████████| 2629/2629 [01:15<00:00, 35.03it/s]\n"
     ]
    },
    {
     "name": "stdout",
     "output_type": "stream",
     "text": [
      "Testing Model on Test Data...\n",
      "\n",
      "Epoch [3/15]\n",
      "Averages:\n",
      "Training Critic Loss: -78.8936\n",
      "Trainin Generator Loss: 1587.5678\n",
      "Training MSE : 4.609430\n",
      "Test Critic Loss: -40.7361\n",
      "Test Generator Loss: 606.4592\n",
      "Test MSE : 2.055931\n",
      "\n"
     ]
    },
    {
     "name": "stderr",
     "output_type": "stream",
     "text": [
      "100%|██████████████████████████████████████████████████████████████████████████████| 2629/2629 [01:17<00:00, 33.97it/s]\n"
     ]
    },
    {
     "name": "stdout",
     "output_type": "stream",
     "text": [
      "Testing Model on Test Data...\n",
      "\n",
      "Epoch [4/15]\n",
      "Averages:\n",
      "Training Critic Loss: -263.5462\n",
      "Trainin Generator Loss: 728.2265\n",
      "Training MSE : 2.312520\n",
      "Test Critic Loss: -328.2506\n",
      "Test Generator Loss: 477.3499\n",
      "Test MSE : 1.419468\n",
      "\n"
     ]
    },
    {
     "name": "stderr",
     "output_type": "stream",
     "text": [
      "100%|██████████████████████████████████████████████████████████████████████████████| 2629/2629 [01:15<00:00, 34.69it/s]\n"
     ]
    },
    {
     "name": "stdout",
     "output_type": "stream",
     "text": [
      "Testing Model on Test Data...\n",
      "\n",
      "Epoch [5/15]\n",
      "Averages:\n",
      "Training Critic Loss: -483.4035\n",
      "Trainin Generator Loss: 690.7165\n",
      "Training MSE : 1.702169\n",
      "Test Critic Loss: -479.0102\n",
      "Test Generator Loss: 537.9354\n",
      "Test MSE : 1.119557\n",
      "\n"
     ]
    },
    {
     "name": "stderr",
     "output_type": "stream",
     "text": [
      "100%|██████████████████████████████████████████████████████████████████████████████| 2629/2629 [01:16<00:00, 34.18it/s]\n"
     ]
    },
    {
     "name": "stdout",
     "output_type": "stream",
     "text": [
      "Testing Model on Test Data...\n",
      "\n",
      "Epoch [6/15]\n",
      "Averages:\n",
      "Training Critic Loss: -712.4278\n",
      "Trainin Generator Loss: 786.4025\n",
      "Training MSE : 1.439210\n",
      "Test Critic Loss: -680.0871\n",
      "Test Generator Loss: 648.8130\n",
      "Test MSE : 0.937282\n",
      "\n"
     ]
    },
    {
     "name": "stderr",
     "output_type": "stream",
     "text": [
      "100%|██████████████████████████████████████████████████████████████████████████████| 2629/2629 [01:15<00:00, 34.84it/s]\n"
     ]
    },
    {
     "name": "stdout",
     "output_type": "stream",
     "text": [
      "Testing Model on Test Data...\n",
      "\n",
      "Epoch [7/15]\n",
      "Averages:\n",
      "Training Critic Loss: -985.1493\n",
      "Trainin Generator Loss: 907.1329\n",
      "Training MSE : 1.261121\n",
      "Test Critic Loss: -939.1021\n",
      "Test Generator Loss: 706.8320\n",
      "Test MSE : 0.865539\n",
      "\n"
     ]
    },
    {
     "name": "stderr",
     "output_type": "stream",
     "text": [
      "100%|██████████████████████████████████████████████████████████████████████████████| 2629/2629 [01:15<00:00, 34.67it/s]\n"
     ]
    },
    {
     "name": "stdout",
     "output_type": "stream",
     "text": [
      "Testing Model on Test Data...\n",
      "\n",
      "Epoch [8/15]\n",
      "Averages:\n",
      "Training Critic Loss: -1303.7447\n",
      "Trainin Generator Loss: 996.8064\n",
      "Training MSE : 1.137448\n",
      "Test Critic Loss: -1180.6543\n",
      "Test Generator Loss: 755.6229\n",
      "Test MSE : 0.810079\n",
      "\n"
     ]
    },
    {
     "name": "stderr",
     "output_type": "stream",
     "text": [
      "100%|██████████████████████████████████████████████████████████████████████████████| 2629/2629 [01:16<00:00, 34.50it/s]\n"
     ]
    },
    {
     "name": "stdout",
     "output_type": "stream",
     "text": [
      "Testing Model on Test Data...\n",
      "\n",
      "Epoch [9/15]\n",
      "Averages:\n",
      "Training Critic Loss: -1778.5297\n",
      "Trainin Generator Loss: 1161.1416\n",
      "Training MSE : 0.984122\n",
      "Test Critic Loss: -1666.9578\n",
      "Test Generator Loss: 886.1786\n",
      "Test MSE : 0.855649\n",
      "\n"
     ]
    },
    {
     "name": "stderr",
     "output_type": "stream",
     "text": [
      "100%|██████████████████████████████████████████████████████████████████████████████| 2629/2629 [01:13<00:00, 35.65it/s]\n"
     ]
    },
    {
     "name": "stdout",
     "output_type": "stream",
     "text": [
      "Testing Model on Test Data...\n",
      "\n",
      "Epoch [10/15]\n",
      "Averages:\n",
      "Training Critic Loss: -2149.9177\n",
      "Trainin Generator Loss: 1272.3582\n",
      "Training MSE : 0.926923\n",
      "Test Critic Loss: -1837.2521\n",
      "Test Generator Loss: 1030.6256\n",
      "Test MSE : 0.796021\n",
      "\n"
     ]
    },
    {
     "name": "stderr",
     "output_type": "stream",
     "text": [
      "100%|██████████████████████████████████████████████████████████████████████████████| 2629/2629 [01:15<00:00, 34.63it/s]\n"
     ]
    },
    {
     "name": "stdout",
     "output_type": "stream",
     "text": [
      "Testing Model on Test Data...\n",
      "\n",
      "Epoch [11/15]\n",
      "Averages:\n",
      "Training Critic Loss: -2471.9067\n",
      "Trainin Generator Loss: 1241.1664\n",
      "Training MSE : 0.859712\n",
      "Test Critic Loss: -2317.9148\n",
      "Test Generator Loss: 1170.8152\n",
      "Test MSE : 0.844736\n",
      "\n"
     ]
    },
    {
     "name": "stderr",
     "output_type": "stream",
     "text": [
      "100%|██████████████████████████████████████████████████████████████████████████████| 2629/2629 [01:15<00:00, 34.69it/s]\n"
     ]
    },
    {
     "name": "stdout",
     "output_type": "stream",
     "text": [
      "Testing Model on Test Data...\n",
      "\n",
      "Epoch [12/15]\n",
      "Averages:\n",
      "Training Critic Loss: -3028.1629\n",
      "Trainin Generator Loss: 2089.9035\n",
      "Training MSE : 0.806905\n",
      "Test Critic Loss: -2492.8674\n",
      "Test Generator Loss: 1814.1941\n",
      "Test MSE : 0.788582\n",
      "\n"
     ]
    },
    {
     "name": "stderr",
     "output_type": "stream",
     "text": [
      "100%|██████████████████████████████████████████████████████████████████████████████| 2629/2629 [01:16<00:00, 34.21it/s]\n"
     ]
    },
    {
     "name": "stdout",
     "output_type": "stream",
     "text": [
      "Testing Model on Test Data...\n",
      "\n",
      "Epoch [13/15]\n",
      "Averages:\n",
      "Training Critic Loss: -3651.4694\n",
      "Trainin Generator Loss: 2585.1222\n",
      "Training MSE : 0.769115\n",
      "Test Critic Loss: -3016.0310\n",
      "Test Generator Loss: 1936.3429\n",
      "Test MSE : 0.818564\n",
      "\n"
     ]
    },
    {
     "name": "stderr",
     "output_type": "stream",
     "text": [
      "100%|██████████████████████████████████████████████████████████████████████████████| 2629/2629 [01:15<00:00, 34.70it/s]\n"
     ]
    },
    {
     "name": "stdout",
     "output_type": "stream",
     "text": [
      "Testing Model on Test Data...\n",
      "\n",
      "Epoch [14/15]\n",
      "Averages:\n",
      "Training Critic Loss: -4331.1257\n",
      "Trainin Generator Loss: 2892.8211\n",
      "Training MSE : 0.742114\n",
      "Test Critic Loss: -3770.7971\n",
      "Test Generator Loss: 2479.4026\n",
      "Test MSE : 0.585716\n",
      "\n"
     ]
    },
    {
     "name": "stderr",
     "output_type": "stream",
     "text": [
      "100%|██████████████████████████████████████████████████████████████████████████████| 2629/2629 [01:17<00:00, 34.10it/s]\n"
     ]
    },
    {
     "name": "stdout",
     "output_type": "stream",
     "text": [
      "Testing Model on Test Data...\n",
      "\n",
      "Epoch [15/15]\n",
      "Averages:\n",
      "Training Critic Loss: -5174.6918\n",
      "Trainin Generator Loss: 3388.9748\n",
      "Training MSE : 0.706791\n",
      "Test Critic Loss: -3980.6572\n",
      "Test Generator Loss: 2396.9255\n",
      "Test MSE : 0.725848\n",
      "\n",
      "Testing Final Model on Training Data...\n",
      "\n",
      "Testing Final Model on Test Data...\n",
      "\n",
      "Results:\n",
      "\n",
      "Train MSE : 0.7256659865379333\n",
      "Train g_loss : 2434.29345703125\n",
      "Train c_loss : -4043.061279296875\n",
      "Test MSE : 0.7262362241744995\n",
      "Test g_loss : 2394.498046875\n",
      " Test c_loss : -3987.415771484375\n",
      "\n",
      "\n",
      "Fold 4/10\n",
      "\n",
      "Creating Data Loaders\n",
      "Creating Denoiser and Critic\n",
      "Training...\n",
      "\n"
     ]
    },
    {
     "name": "stderr",
     "output_type": "stream",
     "text": [
      "100%|██████████████████████████████████████████████████████████████████████████████| 2629/2629 [01:16<00:00, 34.39it/s]\n"
     ]
    },
    {
     "name": "stdout",
     "output_type": "stream",
     "text": [
      "Testing Model on Test Data...\n",
      "\n",
      "Epoch [1/15]\n",
      "Averages:\n",
      "Training Critic Loss: 23727.5235\n",
      "Trainin Generator Loss: -29699.0070\n",
      "Training MSE : 10668587.257767\n",
      "Test Critic Loss: 595.6588\n",
      "Test Generator Loss: 1290.0447\n",
      "Test MSE : 42.667892\n",
      "\n"
     ]
    },
    {
     "name": "stderr",
     "output_type": "stream",
     "text": [
      "100%|██████████████████████████████████████████████████████████████████████████████| 2629/2629 [01:15<00:00, 34.79it/s]\n"
     ]
    },
    {
     "name": "stdout",
     "output_type": "stream",
     "text": [
      "Testing Model on Test Data...\n",
      "\n",
      "Epoch [2/15]\n",
      "Averages:\n",
      "Training Critic Loss: 360.8505\n",
      "Trainin Generator Loss: 1117.2101\n",
      "Training MSE : 24.926568\n",
      "Test Critic Loss: 214.4003\n",
      "Test Generator Loss: 498.5637\n",
      "Test MSE : 5.345779\n",
      "\n"
     ]
    },
    {
     "name": "stderr",
     "output_type": "stream",
     "text": [
      "100%|██████████████████████████████████████████████████████████████████████████████| 2629/2629 [01:16<00:00, 34.56it/s]\n"
     ]
    },
    {
     "name": "stdout",
     "output_type": "stream",
     "text": [
      "Testing Model on Test Data...\n",
      "\n",
      "Epoch [3/15]\n",
      "Averages:\n",
      "Training Critic Loss: 74.3814\n",
      "Trainin Generator Loss: 610.4888\n",
      "Training MSE : 5.747499\n",
      "Test Critic Loss: -36.2135\n",
      "Test Generator Loss: 410.5895\n",
      "Test MSE : 2.707368\n",
      "\n"
     ]
    },
    {
     "name": "stderr",
     "output_type": "stream",
     "text": [
      "100%|██████████████████████████████████████████████████████████████████████████████| 2629/2629 [01:15<00:00, 35.03it/s]\n"
     ]
    },
    {
     "name": "stdout",
     "output_type": "stream",
     "text": [
      "Testing Model on Test Data...\n",
      "\n",
      "Epoch [4/15]\n",
      "Averages:\n",
      "Training Critic Loss: -188.7693\n",
      "Trainin Generator Loss: 570.8660\n",
      "Training MSE : 3.553435\n",
      "Test Critic Loss: -260.6212\n",
      "Test Generator Loss: 445.9062\n",
      "Test MSE : 1.829377\n",
      "\n"
     ]
    },
    {
     "name": "stderr",
     "output_type": "stream",
     "text": [
      "100%|██████████████████████████████████████████████████████████████████████████████| 2629/2629 [01:16<00:00, 34.42it/s]\n"
     ]
    },
    {
     "name": "stdout",
     "output_type": "stream",
     "text": [
      "Testing Model on Test Data...\n",
      "\n",
      "Epoch [5/15]\n",
      "Averages:\n",
      "Training Critic Loss: -417.3702\n",
      "Trainin Generator Loss: 567.5620\n",
      "Training MSE : 2.690872\n",
      "Test Critic Loss: -541.1745\n",
      "Test Generator Loss: 540.7463\n",
      "Test MSE : 1.212714\n",
      "\n"
     ]
    },
    {
     "name": "stderr",
     "output_type": "stream",
     "text": [
      "100%|██████████████████████████████████████████████████████████████████████████████| 2629/2629 [01:16<00:00, 34.26it/s]\n"
     ]
    },
    {
     "name": "stdout",
     "output_type": "stream",
     "text": [
      "Testing Model on Test Data...\n",
      "\n",
      "Epoch [6/15]\n",
      "Averages:\n",
      "Training Critic Loss: -669.7578\n",
      "Trainin Generator Loss: 638.9420\n",
      "Training MSE : 2.078195\n",
      "Test Critic Loss: -621.4342\n",
      "Test Generator Loss: 487.4161\n",
      "Test MSE : 1.412895\n",
      "\n"
     ]
    },
    {
     "name": "stderr",
     "output_type": "stream",
     "text": [
      "100%|██████████████████████████████████████████████████████████████████████████████| 2629/2629 [01:16<00:00, 34.54it/s]\n"
     ]
    },
    {
     "name": "stdout",
     "output_type": "stream",
     "text": [
      "Testing Model on Test Data...\n",
      "\n",
      "Epoch [7/15]\n",
      "Averages:\n",
      "Training Critic Loss: -1009.3322\n",
      "Trainin Generator Loss: 839.5845\n",
      "Training MSE : 1.584722\n",
      "Test Critic Loss: -890.0706\n",
      "Test Generator Loss: 585.6157\n",
      "Test MSE : 1.019982\n",
      "\n"
     ]
    },
    {
     "name": "stderr",
     "output_type": "stream",
     "text": [
      "100%|██████████████████████████████████████████████████████████████████████████████| 2629/2629 [01:16<00:00, 34.43it/s]\n"
     ]
    },
    {
     "name": "stdout",
     "output_type": "stream",
     "text": [
      "Testing Model on Test Data...\n",
      "\n",
      "Epoch [8/15]\n",
      "Averages:\n",
      "Training Critic Loss: -1350.0244\n",
      "Trainin Generator Loss: 983.3287\n",
      "Training MSE : 1.387278\n",
      "Test Critic Loss: -1141.5774\n",
      "Test Generator Loss: 751.4911\n",
      "Test MSE : 0.984164\n",
      "\n"
     ]
    },
    {
     "name": "stderr",
     "output_type": "stream",
     "text": [
      "100%|██████████████████████████████████████████████████████████████████████████████| 2629/2629 [01:15<00:00, 34.62it/s]\n"
     ]
    },
    {
     "name": "stdout",
     "output_type": "stream",
     "text": [
      "Testing Model on Test Data...\n",
      "\n",
      "Epoch [9/15]\n",
      "Averages:\n",
      "Training Critic Loss: -1707.7857\n",
      "Trainin Generator Loss: 1196.8547\n",
      "Training MSE : 1.278214\n",
      "Test Critic Loss: -1459.9110\n",
      "Test Generator Loss: 915.9171\n",
      "Test MSE : 0.938409\n",
      "\n"
     ]
    },
    {
     "name": "stderr",
     "output_type": "stream",
     "text": [
      "100%|██████████████████████████████████████████████████████████████████████████████| 2629/2629 [01:16<00:00, 34.53it/s]\n"
     ]
    },
    {
     "name": "stdout",
     "output_type": "stream",
     "text": [
      "Testing Model on Test Data...\n",
      "\n",
      "Epoch [10/15]\n",
      "Averages:\n",
      "Training Critic Loss: -2187.0344\n",
      "Trainin Generator Loss: 1451.7664\n",
      "Training MSE : 1.128715\n",
      "Test Critic Loss: -1859.3199\n",
      "Test Generator Loss: 1121.4543\n",
      "Test MSE : 0.844035\n",
      "\n"
     ]
    },
    {
     "name": "stderr",
     "output_type": "stream",
     "text": [
      "100%|██████████████████████████████████████████████████████████████████████████████| 2629/2629 [01:16<00:00, 34.24it/s]\n"
     ]
    },
    {
     "name": "stdout",
     "output_type": "stream",
     "text": [
      "Testing Model on Test Data...\n",
      "\n",
      "Epoch [11/15]\n",
      "Averages:\n",
      "Training Critic Loss: -2699.8694\n",
      "Trainin Generator Loss: 1757.3163\n",
      "Training MSE : 1.040018\n",
      "Test Critic Loss: -2651.2559\n",
      "Test Generator Loss: 1714.2808\n",
      "Test MSE : 0.591512\n",
      "\n"
     ]
    },
    {
     "name": "stderr",
     "output_type": "stream",
     "text": [
      "100%|██████████████████████████████████████████████████████████████████████████████| 2629/2629 [01:16<00:00, 34.38it/s]\n"
     ]
    },
    {
     "name": "stdout",
     "output_type": "stream",
     "text": [
      "Testing Model on Test Data...\n",
      "\n",
      "Epoch [12/15]\n",
      "Averages:\n",
      "Training Critic Loss: -3294.5436\n",
      "Trainin Generator Loss: 2128.7141\n",
      "Training MSE : 0.960597\n",
      "Test Critic Loss: -2809.7805\n",
      "Test Generator Loss: 1743.4771\n",
      "Test MSE : 0.777158\n",
      "\n"
     ]
    },
    {
     "name": "stderr",
     "output_type": "stream",
     "text": [
      "100%|██████████████████████████████████████████████████████████████████████████████| 2629/2629 [01:15<00:00, 34.79it/s]\n"
     ]
    },
    {
     "name": "stdout",
     "output_type": "stream",
     "text": [
      "Testing Model on Test Data...\n",
      "\n",
      "Epoch [13/15]\n",
      "Averages:\n",
      "Training Critic Loss: -4026.7799\n",
      "Trainin Generator Loss: 2633.0888\n",
      "Training MSE : 0.883502\n",
      "Test Critic Loss: -3114.9426\n",
      "Test Generator Loss: 1987.9467\n",
      "Test MSE : 1.027776\n",
      "\n"
     ]
    },
    {
     "name": "stderr",
     "output_type": "stream",
     "text": [
      "100%|██████████████████████████████████████████████████████████████████████████████| 2629/2629 [01:16<00:00, 34.47it/s]\n"
     ]
    },
    {
     "name": "stdout",
     "output_type": "stream",
     "text": [
      "Testing Model on Test Data...\n",
      "\n",
      "Epoch [14/15]\n",
      "Averages:\n",
      "Training Critic Loss: -4732.8649\n",
      "Trainin Generator Loss: 3031.7503\n",
      "Training MSE : 0.878992\n",
      "Test Critic Loss: -3639.8882\n",
      "Test Generator Loss: 2197.9065\n",
      "Test MSE : 1.069032\n",
      "\n"
     ]
    },
    {
     "name": "stderr",
     "output_type": "stream",
     "text": [
      "100%|██████████████████████████████████████████████████████████████████████████████| 2629/2629 [01:16<00:00, 34.54it/s]\n"
     ]
    },
    {
     "name": "stdout",
     "output_type": "stream",
     "text": [
      "Testing Model on Test Data...\n",
      "\n",
      "Epoch [15/15]\n",
      "Averages:\n",
      "Training Critic Loss: -5637.5242\n",
      "Trainin Generator Loss: 3505.1770\n",
      "Training MSE : 0.834857\n",
      "Test Critic Loss: -5010.5850\n",
      "Test Generator Loss: 2956.0032\n",
      "Test MSE : 0.594420\n",
      "\n",
      "Testing Final Model on Training Data...\n",
      "\n",
      "Testing Final Model on Test Data...\n",
      "\n",
      "Results:\n",
      "\n",
      "Train MSE : 0.597698986530304\n",
      "Train g_loss : 3024.947265625\n",
      "Train c_loss : -5137.7509765625\n",
      "Test MSE : 0.59398353099823\n",
      "Test g_loss : 2964.81689453125\n",
      " Test c_loss : -5021.06005859375\n",
      "\n",
      "\n",
      "Fold 5/10\n",
      "\n",
      "Creating Data Loaders\n",
      "Creating Denoiser and Critic\n",
      "Training...\n",
      "\n"
     ]
    },
    {
     "name": "stderr",
     "output_type": "stream",
     "text": [
      "100%|██████████████████████████████████████████████████████████████████████████████| 2629/2629 [01:16<00:00, 34.38it/s]\n"
     ]
    },
    {
     "name": "stdout",
     "output_type": "stream",
     "text": [
      "Testing Model on Test Data...\n",
      "\n",
      "Epoch [1/15]\n",
      "Averages:\n",
      "Training Critic Loss: 27144.8203\n",
      "Trainin Generator Loss: 1300355.0003\n",
      "Training MSE : 21645153.070872\n",
      "Test Critic Loss: -84.0283\n",
      "Test Generator Loss: 1459.4768\n",
      "Test MSE : 1.611976\n",
      "\n"
     ]
    },
    {
     "name": "stderr",
     "output_type": "stream",
     "text": [
      "100%|██████████████████████████████████████████████████████████████████████████████| 2629/2629 [01:16<00:00, 34.23it/s]\n"
     ]
    },
    {
     "name": "stdout",
     "output_type": "stream",
     "text": [
      "Testing Model on Test Data...\n",
      "\n",
      "Epoch [2/15]\n",
      "Averages:\n",
      "Training Critic Loss: -204.9297\n",
      "Trainin Generator Loss: 1511.0565\n",
      "Training MSE : 1.535718\n",
      "Test Critic Loss: -305.8697\n",
      "Test Generator Loss: 1295.4419\n",
      "Test MSE : 0.930452\n",
      "\n"
     ]
    },
    {
     "name": "stderr",
     "output_type": "stream",
     "text": [
      "100%|██████████████████████████████████████████████████████████████████████████████| 2629/2629 [01:16<00:00, 34.55it/s]\n"
     ]
    },
    {
     "name": "stdout",
     "output_type": "stream",
     "text": [
      "Testing Model on Test Data...\n",
      "\n",
      "Epoch [3/15]\n",
      "Averages:\n",
      "Training Critic Loss: -496.3304\n",
      "Trainin Generator Loss: 1696.9362\n",
      "Training MSE : 1.124355\n",
      "Test Critic Loss: -536.4846\n",
      "Test Generator Loss: 1516.4725\n",
      "Test MSE : 0.884719\n",
      "\n"
     ]
    },
    {
     "name": "stderr",
     "output_type": "stream",
     "text": [
      "100%|██████████████████████████████████████████████████████████████████████████████| 2629/2629 [01:16<00:00, 34.31it/s]\n"
     ]
    },
    {
     "name": "stdout",
     "output_type": "stream",
     "text": [
      "Testing Model on Test Data...\n",
      "\n",
      "Epoch [4/15]\n",
      "Averages:\n",
      "Training Critic Loss: -828.4457\n",
      "Trainin Generator Loss: 1928.3207\n",
      "Training MSE : 0.999992\n",
      "Test Critic Loss: -936.2375\n",
      "Test Generator Loss: 1812.6851\n",
      "Test MSE : 0.717362\n",
      "\n"
     ]
    },
    {
     "name": "stderr",
     "output_type": "stream",
     "text": [
      "100%|██████████████████████████████████████████████████████████████████████████████| 2629/2629 [01:16<00:00, 34.29it/s]\n"
     ]
    },
    {
     "name": "stdout",
     "output_type": "stream",
     "text": [
      "Testing Model on Test Data...\n",
      "\n",
      "Epoch [5/15]\n",
      "Averages:\n",
      "Training Critic Loss: -1211.7908\n",
      "Trainin Generator Loss: 2140.0068\n",
      "Training MSE : 0.928234\n",
      "Test Critic Loss: -1228.8232\n",
      "Test Generator Loss: 1922.5942\n",
      "Test MSE : 0.767146\n",
      "\n"
     ]
    },
    {
     "name": "stderr",
     "output_type": "stream",
     "text": [
      "100%|██████████████████████████████████████████████████████████████████████████████| 2629/2629 [01:16<00:00, 34.24it/s]\n"
     ]
    },
    {
     "name": "stdout",
     "output_type": "stream",
     "text": [
      "Testing Model on Test Data...\n",
      "\n",
      "Epoch [6/15]\n",
      "Averages:\n",
      "Training Critic Loss: -1633.9865\n",
      "Trainin Generator Loss: 2439.9722\n",
      "Training MSE : 0.873617\n",
      "Test Critic Loss: -1524.3848\n",
      "Test Generator Loss: 2009.6921\n",
      "Test MSE : 0.827588\n",
      "\n"
     ]
    },
    {
     "name": "stderr",
     "output_type": "stream",
     "text": [
      "100%|██████████████████████████████████████████████████████████████████████████████| 2629/2629 [01:15<00:00, 34.62it/s]\n"
     ]
    },
    {
     "name": "stdout",
     "output_type": "stream",
     "text": [
      "Testing Model on Test Data...\n",
      "\n",
      "Epoch [7/15]\n",
      "Averages:\n",
      "Training Critic Loss: -2101.1549\n",
      "Trainin Generator Loss: 2642.9571\n",
      "Training MSE : 0.842906\n",
      "Test Critic Loss: -1963.3591\n",
      "Test Generator Loss: 2275.9973\n",
      "Test MSE : 0.827264\n",
      "\n"
     ]
    },
    {
     "name": "stderr",
     "output_type": "stream",
     "text": [
      "100%|██████████████████████████████████████████████████████████████████████████████| 2629/2629 [01:17<00:00, 34.06it/s]\n"
     ]
    },
    {
     "name": "stdout",
     "output_type": "stream",
     "text": [
      "Testing Model on Test Data...\n",
      "\n",
      "Epoch [8/15]\n",
      "Averages:\n",
      "Training Critic Loss: -2686.6483\n",
      "Trainin Generator Loss: 3012.1666\n",
      "Training MSE : 0.808622\n",
      "Test Critic Loss: -2570.5552\n",
      "Test Generator Loss: 2640.3665\n",
      "Test MSE : 0.767777\n",
      "\n"
     ]
    },
    {
     "name": "stderr",
     "output_type": "stream",
     "text": [
      "100%|██████████████████████████████████████████████████████████████████████████████| 2629/2629 [01:16<00:00, 34.48it/s]\n"
     ]
    },
    {
     "name": "stdout",
     "output_type": "stream",
     "text": [
      "Testing Model on Test Data...\n",
      "\n",
      "Epoch [9/15]\n",
      "Averages:\n",
      "Training Critic Loss: -3341.0581\n",
      "Trainin Generator Loss: 3433.1192\n",
      "Training MSE : 0.777261\n",
      "Test Critic Loss: -3037.8127\n",
      "Test Generator Loss: 2874.1245\n",
      "Test MSE : 0.838685\n",
      "\n"
     ]
    },
    {
     "name": "stderr",
     "output_type": "stream",
     "text": [
      "100%|██████████████████████████████████████████████████████████████████████████████| 2629/2629 [01:16<00:00, 34.22it/s]\n"
     ]
    },
    {
     "name": "stdout",
     "output_type": "stream",
     "text": [
      "Testing Model on Test Data...\n",
      "\n",
      "Epoch [10/15]\n",
      "Averages:\n",
      "Training Critic Loss: -4083.7416\n",
      "Trainin Generator Loss: 3937.6605\n",
      "Training MSE : 0.758539\n",
      "Test Critic Loss: -3738.8665\n",
      "Test Generator Loss: 3181.6318\n",
      "Test MSE : 0.769135\n",
      "\n"
     ]
    },
    {
     "name": "stderr",
     "output_type": "stream",
     "text": [
      "100%|██████████████████████████████████████████████████████████████████████████████| 2629/2629 [01:19<00:00, 33.25it/s]\n"
     ]
    },
    {
     "name": "stdout",
     "output_type": "stream",
     "text": [
      "Testing Model on Test Data...\n",
      "\n",
      "Epoch [11/15]\n",
      "Averages:\n",
      "Training Critic Loss: -4983.5975\n",
      "Trainin Generator Loss: 4334.6915\n",
      "Training MSE : 0.738790\n",
      "Test Critic Loss: -4615.5654\n",
      "Test Generator Loss: 3725.2400\n",
      "Test MSE : 0.756640\n",
      "\n"
     ]
    },
    {
     "name": "stderr",
     "output_type": "stream",
     "text": [
      "100%|██████████████████████████████████████████████████████████████████████████████| 2629/2629 [01:16<00:00, 34.40it/s]\n"
     ]
    },
    {
     "name": "stdout",
     "output_type": "stream",
     "text": [
      "Testing Model on Test Data...\n",
      "\n",
      "Epoch [12/15]\n",
      "Averages:\n",
      "Training Critic Loss: -6006.6417\n",
      "Trainin Generator Loss: 4985.8978\n",
      "Training MSE : 0.729492\n",
      "Test Critic Loss: -5270.6519\n",
      "Test Generator Loss: 4066.0659\n",
      "Test MSE : 0.818332\n",
      "\n"
     ]
    },
    {
     "name": "stderr",
     "output_type": "stream",
     "text": [
      "100%|██████████████████████████████████████████████████████████████████████████████| 2629/2629 [01:16<00:00, 34.18it/s]\n"
     ]
    },
    {
     "name": "stdout",
     "output_type": "stream",
     "text": [
      "Testing Model on Test Data...\n",
      "\n",
      "Epoch [13/15]\n",
      "Averages:\n",
      "Training Critic Loss: -7170.6523\n",
      "Trainin Generator Loss: 5529.5781\n",
      "Training MSE : 0.714814\n",
      "Test Critic Loss: -5862.5322\n",
      "Test Generator Loss: 4165.7964\n",
      "Test MSE : 0.923345\n",
      "\n"
     ]
    },
    {
     "name": "stderr",
     "output_type": "stream",
     "text": [
      "100%|██████████████████████████████████████████████████████████████████████████████| 2629/2629 [01:17<00:00, 34.10it/s]\n"
     ]
    },
    {
     "name": "stdout",
     "output_type": "stream",
     "text": [
      "Testing Model on Test Data...\n",
      "\n",
      "Epoch [14/15]\n",
      "Averages:\n",
      "Training Critic Loss: -8417.1814\n",
      "Trainin Generator Loss: 6117.4598\n",
      "Training MSE : 0.708031\n",
      "Test Critic Loss: -7112.3828\n",
      "Test Generator Loss: 4785.1763\n",
      "Test MSE : 0.872146\n",
      "\n"
     ]
    },
    {
     "name": "stderr",
     "output_type": "stream",
     "text": [
      "100%|██████████████████████████████████████████████████████████████████████████████| 2629/2629 [01:17<00:00, 34.04it/s]\n"
     ]
    },
    {
     "name": "stdout",
     "output_type": "stream",
     "text": [
      "Testing Model on Test Data...\n",
      "\n",
      "Epoch [15/15]\n",
      "Averages:\n",
      "Training Critic Loss: -9872.4099\n",
      "Trainin Generator Loss: 7244.2924\n",
      "Training MSE : 0.696303\n",
      "Test Critic Loss: -8146.9150\n",
      "Test Generator Loss: 5282.7104\n",
      "Test MSE : 0.983440\n",
      "\n",
      "Testing Final Model on Training Data...\n",
      "\n",
      "Testing Final Model on Test Data...\n",
      "\n",
      "Results:\n",
      "\n",
      "Train MSE : 0.9868426322937012\n",
      "Train g_loss : 5134.6943359375\n",
      "Train c_loss : -7812.12109375\n",
      "Test MSE : 0.9837007522583008\n",
      "Test g_loss : 5257.83154296875\n",
      " Test c_loss : -8075.54052734375\n",
      "\n",
      "\n",
      "Fold 6/10\n",
      "\n",
      "Creating Data Loaders\n",
      "Creating Denoiser and Critic\n",
      "Training...\n",
      "\n"
     ]
    },
    {
     "name": "stderr",
     "output_type": "stream",
     "text": [
      "100%|██████████████████████████████████████████████████████████████████████████████| 2629/2629 [01:18<00:00, 33.37it/s]\n"
     ]
    },
    {
     "name": "stdout",
     "output_type": "stream",
     "text": [
      "Testing Model on Test Data...\n",
      "\n",
      "Epoch [1/15]\n",
      "Averages:\n",
      "Training Critic Loss: 63585.6741\n",
      "Trainin Generator Loss: -1746299.8049\n",
      "Training MSE : 13211713.469986\n",
      "Test Critic Loss: 56.6020\n",
      "Test Generator Loss: -4742.0952\n",
      "Test MSE : 27.921083\n",
      "\n"
     ]
    },
    {
     "name": "stderr",
     "output_type": "stream",
     "text": [
      "100%|██████████████████████████████████████████████████████████████████████████████| 2629/2629 [01:17<00:00, 33.94it/s]\n"
     ]
    },
    {
     "name": "stdout",
     "output_type": "stream",
     "text": [
      "Testing Model on Test Data...\n",
      "\n",
      "Epoch [2/15]\n",
      "Averages:\n",
      "Training Critic Loss: 28.7134\n",
      "Trainin Generator Loss: -3569.1936\n",
      "Training MSE : 13.519585\n",
      "Test Critic Loss: -109.2662\n",
      "Test Generator Loss: -1693.9730\n",
      "Test MSE : 2.791205\n",
      "\n"
     ]
    },
    {
     "name": "stderr",
     "output_type": "stream",
     "text": [
      "100%|██████████████████████████████████████████████████████████████████████████████| 2629/2629 [01:16<00:00, 34.28it/s]\n"
     ]
    },
    {
     "name": "stdout",
     "output_type": "stream",
     "text": [
      "Testing Model on Test Data...\n",
      "\n",
      "Epoch [3/15]\n",
      "Averages:\n",
      "Training Critic Loss: 132.6724\n",
      "Trainin Generator Loss: -1180.7698\n",
      "Training MSE : 3.373192\n",
      "Test Critic Loss: 453.9873\n",
      "Test Generator Loss: -941.4066\n",
      "Test MSE : 1.887586\n",
      "\n"
     ]
    },
    {
     "name": "stderr",
     "output_type": "stream",
     "text": [
      "100%|██████████████████████████████████████████████████████████████████████████████| 2629/2629 [01:17<00:00, 33.90it/s]\n"
     ]
    },
    {
     "name": "stdout",
     "output_type": "stream",
     "text": [
      "Testing Model on Test Data...\n",
      "\n",
      "Epoch [4/15]\n",
      "Averages:\n",
      "Training Critic Loss: -88.7939\n",
      "Trainin Generator Loss: -68.2259\n",
      "Training MSE : 2.320458\n",
      "Test Critic Loss: -255.9406\n",
      "Test Generator Loss: 165.0197\n",
      "Test MSE : 1.419587\n",
      "\n"
     ]
    },
    {
     "name": "stderr",
     "output_type": "stream",
     "text": [
      "100%|██████████████████████████████████████████████████████████████████████████████| 2629/2629 [01:16<00:00, 34.20it/s]\n"
     ]
    },
    {
     "name": "stdout",
     "output_type": "stream",
     "text": [
      "Testing Model on Test Data...\n",
      "\n",
      "Epoch [5/15]\n",
      "Averages:\n",
      "Training Critic Loss: -453.6560\n",
      "Trainin Generator Loss: 394.2844\n",
      "Training MSE : 1.663048\n",
      "Test Critic Loss: -517.9460\n",
      "Test Generator Loss: 402.7483\n",
      "Test MSE : 1.087000\n",
      "\n"
     ]
    },
    {
     "name": "stderr",
     "output_type": "stream",
     "text": [
      "100%|██████████████████████████████████████████████████████████████████████████████| 2629/2629 [01:18<00:00, 33.55it/s]\n"
     ]
    },
    {
     "name": "stdout",
     "output_type": "stream",
     "text": [
      "Testing Model on Test Data...\n",
      "\n",
      "Epoch [6/15]\n",
      "Averages:\n",
      "Training Critic Loss: -768.4125\n",
      "Trainin Generator Loss: 571.1830\n",
      "Training MSE : 1.335011\n",
      "Test Critic Loss: -922.8659\n",
      "Test Generator Loss: 582.8864\n",
      "Test MSE : 0.798455\n",
      "\n"
     ]
    },
    {
     "name": "stderr",
     "output_type": "stream",
     "text": [
      "100%|██████████████████████████████████████████████████████████████████████████████| 2629/2629 [01:17<00:00, 33.94it/s]\n"
     ]
    },
    {
     "name": "stdout",
     "output_type": "stream",
     "text": [
      "Testing Model on Test Data...\n",
      "\n",
      "Epoch [7/15]\n",
      "Averages:\n",
      "Training Critic Loss: -1134.7812\n",
      "Trainin Generator Loss: 713.3702\n",
      "Training MSE : 1.138849\n",
      "Test Critic Loss: -1008.0985\n",
      "Test Generator Loss: 593.1822\n",
      "Test MSE : 1.186080\n",
      "\n"
     ]
    },
    {
     "name": "stderr",
     "output_type": "stream",
     "text": [
      "100%|██████████████████████████████████████████████████████████████████████████████| 2629/2629 [01:17<00:00, 33.81it/s]\n"
     ]
    },
    {
     "name": "stdout",
     "output_type": "stream",
     "text": [
      "Testing Model on Test Data...\n",
      "\n",
      "Epoch [8/15]\n",
      "Averages:\n",
      "Training Critic Loss: -1529.2692\n",
      "Trainin Generator Loss: 903.8309\n",
      "Training MSE : 1.027263\n",
      "Test Critic Loss: -1391.3793\n",
      "Test Generator Loss: 759.7140\n",
      "Test MSE : 0.970193\n",
      "\n"
     ]
    },
    {
     "name": "stderr",
     "output_type": "stream",
     "text": [
      "100%|██████████████████████████████████████████████████████████████████████████████| 2629/2629 [01:17<00:00, 34.05it/s]\n"
     ]
    },
    {
     "name": "stdout",
     "output_type": "stream",
     "text": [
      "Testing Model on Test Data...\n",
      "\n",
      "Epoch [9/15]\n",
      "Averages:\n",
      "Training Critic Loss: -1968.9010\n",
      "Trainin Generator Loss: 1129.3749\n",
      "Training MSE : 0.949149\n",
      "Test Critic Loss: -1912.5364\n",
      "Test Generator Loss: 1126.6993\n",
      "Test MSE : 0.795851\n",
      "\n"
     ]
    },
    {
     "name": "stderr",
     "output_type": "stream",
     "text": [
      "100%|██████████████████████████████████████████████████████████████████████████████| 2629/2629 [01:16<00:00, 34.43it/s]\n"
     ]
    },
    {
     "name": "stdout",
     "output_type": "stream",
     "text": [
      "Testing Model on Test Data...\n",
      "\n",
      "Epoch [10/15]\n",
      "Averages:\n",
      "Training Critic Loss: -2542.3395\n",
      "Trainin Generator Loss: 1785.7275\n",
      "Training MSE : 0.885271\n",
      "Test Critic Loss: -2125.4243\n",
      "Test Generator Loss: 1569.2339\n",
      "Test MSE : 0.958093\n",
      "\n"
     ]
    },
    {
     "name": "stderr",
     "output_type": "stream",
     "text": [
      "100%|██████████████████████████████████████████████████████████████████████████████| 2629/2629 [01:17<00:00, 34.09it/s]\n"
     ]
    },
    {
     "name": "stdout",
     "output_type": "stream",
     "text": [
      "Testing Model on Test Data...\n",
      "\n",
      "Epoch [11/15]\n",
      "Averages:\n",
      "Training Critic Loss: -3026.2107\n",
      "Trainin Generator Loss: 2043.0943\n",
      "Training MSE : 0.829171\n",
      "Test Critic Loss: -2668.4453\n",
      "Test Generator Loss: 1777.1047\n",
      "Test MSE : 0.758324\n",
      "\n"
     ]
    },
    {
     "name": "stderr",
     "output_type": "stream",
     "text": [
      "100%|██████████████████████████████████████████████████████████████████████████████| 2629/2629 [01:17<00:00, 33.82it/s]\n"
     ]
    },
    {
     "name": "stdout",
     "output_type": "stream",
     "text": [
      "Testing Model on Test Data...\n",
      "\n",
      "Epoch [12/15]\n",
      "Averages:\n",
      "Training Critic Loss: -3633.0653\n",
      "Trainin Generator Loss: 2457.4246\n",
      "Training MSE : 0.785123\n",
      "Test Critic Loss: -3012.2041\n",
      "Test Generator Loss: 2126.2131\n",
      "Test MSE : 0.894218\n",
      "\n"
     ]
    },
    {
     "name": "stderr",
     "output_type": "stream",
     "text": [
      "100%|██████████████████████████████████████████████████████████████████████████████| 2629/2629 [01:17<00:00, 33.94it/s]\n"
     ]
    },
    {
     "name": "stdout",
     "output_type": "stream",
     "text": [
      "Testing Model on Test Data...\n",
      "\n",
      "Epoch [13/15]\n",
      "Averages:\n",
      "Training Critic Loss: -4326.8532\n",
      "Trainin Generator Loss: 3167.3779\n",
      "Training MSE : 0.759083\n",
      "Test Critic Loss: -3232.1011\n",
      "Test Generator Loss: 2622.8933\n",
      "Test MSE : 1.107056\n",
      "\n"
     ]
    },
    {
     "name": "stderr",
     "output_type": "stream",
     "text": [
      "100%|██████████████████████████████████████████████████████████████████████████████| 2629/2629 [01:17<00:00, 34.11it/s]\n"
     ]
    },
    {
     "name": "stdout",
     "output_type": "stream",
     "text": [
      "Testing Model on Test Data...\n",
      "\n",
      "Epoch [14/15]\n",
      "Averages:\n",
      "Training Critic Loss: -5131.9796\n",
      "Trainin Generator Loss: 3926.9137\n",
      "Training MSE : 0.728582\n",
      "Test Critic Loss: -4137.7261\n",
      "Test Generator Loss: 3271.7109\n",
      "Test MSE : 0.805247\n",
      "\n"
     ]
    },
    {
     "name": "stderr",
     "output_type": "stream",
     "text": [
      "100%|██████████████████████████████████████████████████████████████████████████████| 2629/2629 [01:18<00:00, 33.44it/s]\n"
     ]
    },
    {
     "name": "stdout",
     "output_type": "stream",
     "text": [
      "Testing Model on Test Data...\n",
      "\n",
      "Epoch [15/15]\n",
      "Averages:\n",
      "Training Critic Loss: -5951.3742\n",
      "Trainin Generator Loss: 4572.0869\n",
      "Training MSE : 0.712319\n",
      "Test Critic Loss: -4525.1958\n",
      "Test Generator Loss: 3421.0962\n",
      "Test MSE : 0.854826\n",
      "\n",
      "Testing Final Model on Training Data...\n",
      "\n",
      "Testing Final Model on Test Data...\n",
      "\n",
      "Results:\n",
      "\n",
      "Train MSE : 0.8517161011695862\n",
      "Train g_loss : 3457.447021484375\n",
      "Train c_loss : -4587.70947265625\n",
      "Test MSE : 0.8524582386016846\n",
      "Test g_loss : 3450.21142578125\n",
      " Test c_loss : -4564.6640625\n",
      "\n",
      "\n",
      "Fold 7/10\n",
      "\n",
      "Creating Data Loaders\n",
      "Creating Denoiser and Critic\n",
      "Training...\n",
      "\n"
     ]
    },
    {
     "name": "stderr",
     "output_type": "stream",
     "text": [
      "100%|██████████████████████████████████████████████████████████████████████████████| 2629/2629 [01:18<00:00, 33.42it/s]\n"
     ]
    },
    {
     "name": "stdout",
     "output_type": "stream",
     "text": [
      "Testing Model on Test Data...\n",
      "\n",
      "Epoch [1/15]\n",
      "Averages:\n",
      "Training Critic Loss: -6941.7022\n",
      "Trainin Generator Loss: 24629.5614\n",
      "Training MSE : 15670160.937329\n",
      "Test Critic Loss: -186.3123\n",
      "Test Generator Loss: 111.5744\n",
      "Test MSE : 74.120590\n",
      "\n"
     ]
    },
    {
     "name": "stderr",
     "output_type": "stream",
     "text": [
      "100%|██████████████████████████████████████████████████████████████████████████████| 2629/2629 [01:18<00:00, 33.48it/s]\n"
     ]
    },
    {
     "name": "stdout",
     "output_type": "stream",
     "text": [
      "Testing Model on Test Data...\n",
      "\n",
      "Epoch [2/15]\n",
      "Averages:\n",
      "Training Critic Loss: -206.2310\n",
      "Trainin Generator Loss: 539.8979\n",
      "Training MSE : 40.705282\n",
      "Test Critic Loss: 14.7340\n",
      "Test Generator Loss: 198.4725\n",
      "Test MSE : 5.792358\n",
      "\n"
     ]
    },
    {
     "name": "stderr",
     "output_type": "stream",
     "text": [
      "100%|██████████████████████████████████████████████████████████████████████████████| 2629/2629 [01:16<00:00, 34.17it/s]\n"
     ]
    },
    {
     "name": "stdout",
     "output_type": "stream",
     "text": [
      "Testing Model on Test Data...\n",
      "\n",
      "Epoch [3/15]\n",
      "Averages:\n",
      "Training Critic Loss: -77.7428\n",
      "Trainin Generator Loss: 290.9632\n",
      "Training MSE : 5.182228\n",
      "Test Critic Loss: -90.6726\n",
      "Test Generator Loss: 93.5853\n",
      "Test MSE : 1.907769\n",
      "\n"
     ]
    },
    {
     "name": "stderr",
     "output_type": "stream",
     "text": [
      "100%|██████████████████████████████████████████████████████████████████████████████| 2629/2629 [01:17<00:00, 33.94it/s]\n"
     ]
    },
    {
     "name": "stdout",
     "output_type": "stream",
     "text": [
      "Testing Model on Test Data...\n",
      "\n",
      "Epoch [4/15]\n",
      "Averages:\n",
      "Training Critic Loss: -156.9258\n",
      "Trainin Generator Loss: 155.9520\n",
      "Training MSE : 2.121196\n",
      "Test Critic Loss: -294.5337\n",
      "Test Generator Loss: 202.2078\n",
      "Test MSE : 1.130843\n",
      "\n"
     ]
    },
    {
     "name": "stderr",
     "output_type": "stream",
     "text": [
      "100%|██████████████████████████████████████████████████████████████████████████████| 2629/2629 [01:16<00:00, 34.29it/s]\n"
     ]
    },
    {
     "name": "stdout",
     "output_type": "stream",
     "text": [
      "Testing Model on Test Data...\n",
      "\n",
      "Epoch [5/15]\n",
      "Averages:\n",
      "Training Critic Loss: -437.1363\n",
      "Trainin Generator Loss: 229.4161\n",
      "Training MSE : 1.402673\n",
      "Test Critic Loss: -529.5161\n",
      "Test Generator Loss: 183.2995\n",
      "Test MSE : 0.829218\n",
      "\n"
     ]
    },
    {
     "name": "stderr",
     "output_type": "stream",
     "text": [
      "100%|██████████████████████████████████████████████████████████████████████████████| 2629/2629 [01:17<00:00, 34.02it/s]\n"
     ]
    },
    {
     "name": "stdout",
     "output_type": "stream",
     "text": [
      "Testing Model on Test Data...\n",
      "\n",
      "Epoch [6/15]\n",
      "Averages:\n",
      "Training Critic Loss: -678.8788\n",
      "Trainin Generator Loss: 294.9661\n",
      "Training MSE : 1.200344\n",
      "Test Critic Loss: -708.6827\n",
      "Test Generator Loss: 308.8122\n",
      "Test MSE : 0.794391\n",
      "\n"
     ]
    },
    {
     "name": "stderr",
     "output_type": "stream",
     "text": [
      "100%|██████████████████████████████████████████████████████████████████████████████| 2629/2629 [01:17<00:00, 34.14it/s]\n"
     ]
    },
    {
     "name": "stdout",
     "output_type": "stream",
     "text": [
      "Testing Model on Test Data...\n",
      "\n",
      "Epoch [7/15]\n",
      "Averages:\n",
      "Training Critic Loss: -903.7649\n",
      "Trainin Generator Loss: 405.5423\n",
      "Training MSE : 1.055255\n",
      "Test Critic Loss: -968.8260\n",
      "Test Generator Loss: 372.4602\n",
      "Test MSE : 0.646602\n",
      "\n"
     ]
    },
    {
     "name": "stderr",
     "output_type": "stream",
     "text": [
      "100%|██████████████████████████████████████████████████████████████████████████████| 2629/2629 [01:16<00:00, 34.59it/s]\n"
     ]
    },
    {
     "name": "stdout",
     "output_type": "stream",
     "text": [
      "Testing Model on Test Data...\n",
      "\n",
      "Epoch [8/15]\n",
      "Averages:\n",
      "Training Critic Loss: -1197.8840\n",
      "Trainin Generator Loss: 440.8053\n",
      "Training MSE : 0.962256\n",
      "Test Critic Loss: -1180.7206\n",
      "Test Generator Loss: 387.2848\n",
      "Test MSE : 0.650370\n",
      "\n"
     ]
    },
    {
     "name": "stderr",
     "output_type": "stream",
     "text": [
      "100%|██████████████████████████████████████████████████████████████████████████████| 2629/2629 [01:16<00:00, 34.21it/s]\n"
     ]
    },
    {
     "name": "stdout",
     "output_type": "stream",
     "text": [
      "Testing Model on Test Data...\n",
      "\n",
      "Epoch [9/15]\n",
      "Averages:\n",
      "Training Critic Loss: -1532.8838\n",
      "Trainin Generator Loss: 548.3842\n",
      "Training MSE : 0.898889\n",
      "Test Critic Loss: -1465.3680\n",
      "Test Generator Loss: 560.8619\n",
      "Test MSE : 0.734150\n",
      "\n"
     ]
    },
    {
     "name": "stderr",
     "output_type": "stream",
     "text": [
      "100%|██████████████████████████████████████████████████████████████████████████████| 2629/2629 [01:16<00:00, 34.19it/s]\n"
     ]
    },
    {
     "name": "stdout",
     "output_type": "stream",
     "text": [
      "Testing Model on Test Data...\n",
      "\n",
      "Epoch [10/15]\n",
      "Averages:\n",
      "Training Critic Loss: -1921.0527\n",
      "Trainin Generator Loss: 727.6186\n",
      "Training MSE : 0.843897\n",
      "Test Critic Loss: -1887.3632\n",
      "Test Generator Loss: 670.9265\n",
      "Test MSE : 0.612161\n",
      "\n"
     ]
    },
    {
     "name": "stderr",
     "output_type": "stream",
     "text": [
      "100%|██████████████████████████████████████████████████████████████████████████████| 2629/2629 [01:16<00:00, 34.27it/s]\n"
     ]
    },
    {
     "name": "stdout",
     "output_type": "stream",
     "text": [
      "Testing Model on Test Data...\n",
      "\n",
      "Epoch [11/15]\n",
      "Averages:\n",
      "Training Critic Loss: -2377.4595\n",
      "Trainin Generator Loss: 880.9828\n",
      "Training MSE : 0.798220\n",
      "Test Critic Loss: -2100.1279\n",
      "Test Generator Loss: 699.9935\n",
      "Test MSE : 0.832609\n",
      "\n"
     ]
    },
    {
     "name": "stderr",
     "output_type": "stream",
     "text": [
      "100%|██████████████████████████████████████████████████████████████████████████████| 2629/2629 [01:17<00:00, 34.05it/s]\n"
     ]
    },
    {
     "name": "stdout",
     "output_type": "stream",
     "text": [
      "Testing Model on Test Data...\n",
      "\n",
      "Epoch [12/15]\n",
      "Averages:\n",
      "Training Critic Loss: -2995.7390\n",
      "Trainin Generator Loss: 1052.0999\n",
      "Training MSE : 0.763640\n",
      "Test Critic Loss: -2628.6626\n",
      "Test Generator Loss: 1016.1185\n",
      "Test MSE : 0.826515\n",
      "\n"
     ]
    },
    {
     "name": "stderr",
     "output_type": "stream",
     "text": [
      "100%|██████████████████████████████████████████████████████████████████████████████| 2629/2629 [01:16<00:00, 34.29it/s]\n"
     ]
    },
    {
     "name": "stdout",
     "output_type": "stream",
     "text": [
      "Testing Model on Test Data...\n",
      "\n",
      "Epoch [13/15]\n",
      "Averages:\n",
      "Training Critic Loss: -3682.6938\n",
      "Trainin Generator Loss: 1522.7416\n",
      "Training MSE : 0.744016\n",
      "Test Critic Loss: -3174.7014\n",
      "Test Generator Loss: 1092.0065\n",
      "Test MSE : 0.764880\n",
      "\n"
     ]
    },
    {
     "name": "stderr",
     "output_type": "stream",
     "text": [
      "100%|██████████████████████████████████████████████████████████████████████████████| 2629/2629 [01:17<00:00, 34.09it/s]\n"
     ]
    },
    {
     "name": "stdout",
     "output_type": "stream",
     "text": [
      "Testing Model on Test Data...\n",
      "\n",
      "Epoch [14/15]\n",
      "Averages:\n",
      "Training Critic Loss: -4455.7926\n",
      "Trainin Generator Loss: 1681.1436\n",
      "Training MSE : 0.724649\n",
      "Test Critic Loss: -3830.5320\n",
      "Test Generator Loss: 1324.2753\n",
      "Test MSE : 0.730414\n",
      "\n"
     ]
    },
    {
     "name": "stderr",
     "output_type": "stream",
     "text": [
      "100%|██████████████████████████████████████████████████████████████████████████████| 2629/2629 [01:15<00:00, 34.70it/s]\n"
     ]
    },
    {
     "name": "stdout",
     "output_type": "stream",
     "text": [
      "Testing Model on Test Data...\n",
      "\n",
      "Epoch [15/15]\n",
      "Averages:\n",
      "Training Critic Loss: -5418.4099\n",
      "Trainin Generator Loss: 2069.3567\n",
      "Training MSE : 0.703308\n",
      "Test Critic Loss: -4320.4106\n",
      "Test Generator Loss: 1924.5341\n",
      "Test MSE : 0.867222\n",
      "\n",
      "Testing Final Model on Training Data...\n",
      "\n",
      "Testing Final Model on Test Data...\n",
      "\n",
      "Results:\n",
      "\n",
      "Train MSE : 0.8639340996742249\n",
      "Train g_loss : 1894.4117431640625\n",
      "Train c_loss : -4257.099609375\n",
      "Test MSE : 0.869044303894043\n",
      "Test g_loss : 1888.4027099609375\n",
      " Test c_loss : -4265.5751953125\n",
      "\n",
      "\n",
      "Fold 8/10\n",
      "\n",
      "Creating Data Loaders\n",
      "Creating Denoiser and Critic\n",
      "Training...\n",
      "\n"
     ]
    },
    {
     "name": "stderr",
     "output_type": "stream",
     "text": [
      "100%|██████████████████████████████████████████████████████████████████████████████| 2629/2629 [01:17<00:00, 34.01it/s]\n"
     ]
    },
    {
     "name": "stdout",
     "output_type": "stream",
     "text": [
      "Testing Model on Test Data...\n",
      "\n",
      "Epoch [1/15]\n",
      "Averages:\n",
      "Training Critic Loss: -18578.3291\n",
      "Trainin Generator Loss: -717905.8367\n",
      "Training MSE : 11782353.158321\n",
      "Test Critic Loss: -306.3792\n",
      "Test Generator Loss: 450.3724\n",
      "Test MSE : 27.711353\n",
      "\n"
     ]
    },
    {
     "name": "stderr",
     "output_type": "stream",
     "text": [
      "100%|██████████████████████████████████████████████████████████████████████████████| 2629/2629 [01:15<00:00, 34.63it/s]\n"
     ]
    },
    {
     "name": "stdout",
     "output_type": "stream",
     "text": [
      "Testing Model on Test Data...\n",
      "\n",
      "Epoch [2/15]\n",
      "Averages:\n",
      "Training Critic Loss: -398.9097\n",
      "Trainin Generator Loss: 879.8783\n",
      "Training MSE : 14.907820\n",
      "Test Critic Loss: -424.1630\n",
      "Test Generator Loss: 721.5361\n",
      "Test MSE : 2.469045\n",
      "\n"
     ]
    },
    {
     "name": "stderr",
     "output_type": "stream",
     "text": [
      "100%|██████████████████████████████████████████████████████████████████████████████| 2629/2629 [01:17<00:00, 33.77it/s]\n"
     ]
    },
    {
     "name": "stdout",
     "output_type": "stream",
     "text": [
      "Testing Model on Test Data...\n",
      "\n",
      "Epoch [3/15]\n",
      "Averages:\n",
      "Training Critic Loss: -548.8638\n",
      "Trainin Generator Loss: 812.7997\n",
      "Training MSE : 2.624530\n",
      "Test Critic Loss: -652.0873\n",
      "Test Generator Loss: 691.4240\n",
      "Test MSE : 1.380708\n",
      "\n"
     ]
    },
    {
     "name": "stderr",
     "output_type": "stream",
     "text": [
      "100%|██████████████████████████████████████████████████████████████████████████████| 2629/2629 [01:17<00:00, 33.89it/s]\n"
     ]
    },
    {
     "name": "stdout",
     "output_type": "stream",
     "text": [
      "Testing Model on Test Data...\n",
      "\n",
      "Epoch [4/15]\n",
      "Averages:\n",
      "Training Critic Loss: -900.8587\n",
      "Trainin Generator Loss: 932.4334\n",
      "Training MSE : 1.570698\n",
      "Test Critic Loss: -901.4813\n",
      "Test Generator Loss: 763.6028\n",
      "Test MSE : 1.214689\n",
      "\n"
     ]
    },
    {
     "name": "stderr",
     "output_type": "stream",
     "text": [
      "100%|██████████████████████████████████████████████████████████████████████████████| 2629/2629 [01:20<00:00, 32.73it/s]\n"
     ]
    },
    {
     "name": "stdout",
     "output_type": "stream",
     "text": [
      "Testing Model on Test Data...\n",
      "\n",
      "Epoch [5/15]\n",
      "Averages:\n",
      "Training Critic Loss: -1270.2749\n",
      "Trainin Generator Loss: 1003.0858\n",
      "Training MSE : 1.259714\n",
      "Test Critic Loss: -1251.8405\n",
      "Test Generator Loss: 730.1514\n",
      "Test MSE : 0.930775\n",
      "\n"
     ]
    },
    {
     "name": "stderr",
     "output_type": "stream",
     "text": [
      "100%|██████████████████████████████████████████████████████████████████████████████| 2629/2629 [01:16<00:00, 34.46it/s]\n"
     ]
    },
    {
     "name": "stdout",
     "output_type": "stream",
     "text": [
      "Testing Model on Test Data...\n",
      "\n",
      "Epoch [6/15]\n",
      "Averages:\n",
      "Training Critic Loss: -1684.3194\n",
      "Trainin Generator Loss: 991.8558\n",
      "Training MSE : 1.094591\n",
      "Test Critic Loss: -1664.1296\n",
      "Test Generator Loss: 790.2532\n",
      "Test MSE : 0.822319\n",
      "\n"
     ]
    },
    {
     "name": "stderr",
     "output_type": "stream",
     "text": [
      "100%|██████████████████████████████████████████████████████████████████████████████| 2629/2629 [01:16<00:00, 34.28it/s]\n"
     ]
    },
    {
     "name": "stdout",
     "output_type": "stream",
     "text": [
      "Testing Model on Test Data...\n",
      "\n",
      "Epoch [7/15]\n",
      "Averages:\n",
      "Training Critic Loss: -2148.3622\n",
      "Trainin Generator Loss: 967.2624\n",
      "Training MSE : 0.985733\n",
      "Test Critic Loss: -2010.9989\n",
      "Test Generator Loss: 786.6817\n",
      "Test MSE : 0.873115\n",
      "\n"
     ]
    },
    {
     "name": "stderr",
     "output_type": "stream",
     "text": [
      "100%|██████████████████████████████████████████████████████████████████████████████| 2629/2629 [01:16<00:00, 34.47it/s]\n"
     ]
    },
    {
     "name": "stdout",
     "output_type": "stream",
     "text": [
      "Testing Model on Test Data...\n",
      "\n",
      "Epoch [8/15]\n",
      "Averages:\n",
      "Training Critic Loss: -2715.4286\n",
      "Trainin Generator Loss: 1086.8330\n",
      "Training MSE : 0.920793\n",
      "Test Critic Loss: -2685.8672\n",
      "Test Generator Loss: 968.4409\n",
      "Test MSE : 0.704909\n",
      "\n"
     ]
    },
    {
     "name": "stderr",
     "output_type": "stream",
     "text": [
      "100%|██████████████████████████████████████████████████████████████████████████████| 2629/2629 [01:16<00:00, 34.32it/s]\n"
     ]
    },
    {
     "name": "stdout",
     "output_type": "stream",
     "text": [
      "Testing Model on Test Data...\n",
      "\n",
      "Epoch [9/15]\n",
      "Averages:\n",
      "Training Critic Loss: -3397.0215\n",
      "Trainin Generator Loss: 1197.1446\n",
      "Training MSE : 0.860197\n",
      "Test Critic Loss: -3037.8069\n",
      "Test Generator Loss: 922.4503\n",
      "Test MSE : 0.795951\n",
      "\n"
     ]
    },
    {
     "name": "stderr",
     "output_type": "stream",
     "text": [
      "100%|██████████████████████████████████████████████████████████████████████████████| 2629/2629 [01:16<00:00, 34.23it/s]\n"
     ]
    },
    {
     "name": "stdout",
     "output_type": "stream",
     "text": [
      "Testing Model on Test Data...\n",
      "\n",
      "Epoch [10/15]\n",
      "Averages:\n",
      "Training Critic Loss: -4135.5231\n",
      "Trainin Generator Loss: 1291.1680\n",
      "Training MSE : 0.802222\n",
      "Test Critic Loss: -3659.1514\n",
      "Test Generator Loss: 972.1044\n",
      "Test MSE : 0.812215\n",
      "\n"
     ]
    },
    {
     "name": "stderr",
     "output_type": "stream",
     "text": [
      "100%|██████████████████████████████████████████████████████████████████████████████| 2629/2629 [01:15<00:00, 34.72it/s]\n"
     ]
    },
    {
     "name": "stdout",
     "output_type": "stream",
     "text": [
      "Testing Model on Test Data...\n",
      "\n",
      "Epoch [11/15]\n",
      "Averages:\n",
      "Training Critic Loss: -4053.2317\n",
      "Trainin Generator Loss: 168.7892\n",
      "Training MSE : 0.796126\n",
      "Test Critic Loss: -3089.4500\n",
      "Test Generator Loss: -282.4265\n",
      "Test MSE : 0.922367\n",
      "\n"
     ]
    },
    {
     "name": "stderr",
     "output_type": "stream",
     "text": [
      "100%|██████████████████████████████████████████████████████████████████████████████| 2629/2629 [01:17<00:00, 33.93it/s]\n"
     ]
    },
    {
     "name": "stdout",
     "output_type": "stream",
     "text": [
      "Testing Model on Test Data...\n",
      "\n",
      "Epoch [12/15]\n",
      "Averages:\n",
      "Training Critic Loss: -5285.8420\n",
      "Trainin Generator Loss: 1516.4767\n",
      "Training MSE : 0.766005\n",
      "Test Critic Loss: -4692.6436\n",
      "Test Generator Loss: 2192.2249\n",
      "Test MSE : 0.814962\n",
      "\n"
     ]
    },
    {
     "name": "stderr",
     "output_type": "stream",
     "text": [
      "100%|██████████████████████████████████████████████████████████████████████████████| 2629/2629 [01:16<00:00, 34.38it/s]\n"
     ]
    },
    {
     "name": "stdout",
     "output_type": "stream",
     "text": [
      "Testing Model on Test Data...\n",
      "\n",
      "Epoch [13/15]\n",
      "Averages:\n",
      "Training Critic Loss: -6824.6263\n",
      "Trainin Generator Loss: 3826.7274\n",
      "Training MSE : 0.734286\n",
      "Test Critic Loss: -6040.0879\n",
      "Test Generator Loss: 3352.6082\n",
      "Test MSE : 0.689841\n",
      "\n"
     ]
    },
    {
     "name": "stderr",
     "output_type": "stream",
     "text": [
      "100%|██████████████████████████████████████████████████████████████████████████████| 2629/2629 [01:17<00:00, 33.95it/s]\n"
     ]
    },
    {
     "name": "stdout",
     "output_type": "stream",
     "text": [
      "Testing Model on Test Data...\n",
      "\n",
      "Epoch [14/15]\n",
      "Averages:\n",
      "Training Critic Loss: -8273.9848\n",
      "Trainin Generator Loss: 4282.4870\n",
      "Training MSE : 0.712436\n",
      "Test Critic Loss: -7459.2104\n",
      "Test Generator Loss: 3459.5361\n",
      "Test MSE : 0.624523\n",
      "\n"
     ]
    },
    {
     "name": "stderr",
     "output_type": "stream",
     "text": [
      "100%|██████████████████████████████████████████████████████████████████████████████| 2629/2629 [01:16<00:00, 34.36it/s]\n"
     ]
    },
    {
     "name": "stdout",
     "output_type": "stream",
     "text": [
      "Testing Model on Test Data...\n",
      "\n",
      "Epoch [15/15]\n",
      "Averages:\n",
      "Training Critic Loss: -9877.9831\n",
      "Trainin Generator Loss: 4536.2965\n",
      "Training MSE : 0.694250\n",
      "Test Critic Loss: -8226.7695\n",
      "Test Generator Loss: 3398.3176\n",
      "Test MSE : 0.732212\n",
      "\n",
      "Testing Final Model on Training Data...\n",
      "\n",
      "Testing Final Model on Test Data...\n",
      "\n",
      "Results:\n",
      "\n",
      "Train MSE : 0.7270013689994812\n",
      "Train g_loss : 3434.6494140625\n",
      "Train c_loss : -8246.4970703125\n",
      "Test MSE : 0.7327017188072205\n",
      "Test g_loss : 3406.941162109375\n",
      " Test c_loss : -8244.291015625\n",
      "\n",
      "\n",
      "Fold 9/10\n",
      "\n",
      "Creating Data Loaders\n",
      "Creating Denoiser and Critic\n",
      "Training...\n",
      "\n"
     ]
    },
    {
     "name": "stderr",
     "output_type": "stream",
     "text": [
      "100%|██████████████████████████████████████████████████████████████████████████████| 2629/2629 [01:16<00:00, 34.40it/s]\n"
     ]
    },
    {
     "name": "stdout",
     "output_type": "stream",
     "text": [
      "Testing Model on Test Data...\n",
      "\n",
      "Epoch [1/15]\n",
      "Averages:\n",
      "Training Critic Loss: 106088.7713\n",
      "Trainin Generator Loss: 259013.8765\n",
      "Training MSE : 14697313.031525\n",
      "Test Critic Loss: 1354.0364\n",
      "Test Generator Loss: 7045.0879\n",
      "Test MSE : 598.718567\n",
      "\n"
     ]
    },
    {
     "name": "stderr",
     "output_type": "stream",
     "text": [
      "100%|██████████████████████████████████████████████████████████████████████████████| 2629/2629 [01:16<00:00, 34.43it/s]\n"
     ]
    },
    {
     "name": "stdout",
     "output_type": "stream",
     "text": [
      "Testing Model on Test Data...\n",
      "\n",
      "Epoch [2/15]\n",
      "Averages:\n",
      "Training Critic Loss: 403.7686\n",
      "Trainin Generator Loss: 3129.4574\n",
      "Training MSE : 180.665491\n",
      "Test Critic Loss: 11.0333\n",
      "Test Generator Loss: 812.5056\n",
      "Test MSE : 5.590350\n",
      "\n"
     ]
    },
    {
     "name": "stderr",
     "output_type": "stream",
     "text": [
      "100%|██████████████████████████████████████████████████████████████████████████████| 2629/2629 [01:16<00:00, 34.32it/s]\n"
     ]
    },
    {
     "name": "stdout",
     "output_type": "stream",
     "text": [
      "Testing Model on Test Data...\n",
      "\n",
      "Epoch [3/15]\n",
      "Averages:\n",
      "Training Critic Loss: -165.4627\n",
      "Trainin Generator Loss: 630.9501\n",
      "Training MSE : 4.264126\n",
      "Test Critic Loss: -310.4542\n",
      "Test Generator Loss: 512.9570\n",
      "Test MSE : 1.575212\n",
      "\n"
     ]
    },
    {
     "name": "stderr",
     "output_type": "stream",
     "text": [
      "100%|██████████████████████████████████████████████████████████████████████████████| 2629/2629 [01:16<00:00, 34.27it/s]\n"
     ]
    },
    {
     "name": "stdout",
     "output_type": "stream",
     "text": [
      "Testing Model on Test Data...\n",
      "\n",
      "Epoch [4/15]\n",
      "Averages:\n",
      "Training Critic Loss: -419.4837\n",
      "Trainin Generator Loss: 478.8351\n",
      "Training MSE : 1.866593\n",
      "Test Critic Loss: -573.4253\n",
      "Test Generator Loss: 461.6626\n",
      "Test MSE : 1.055251\n",
      "\n"
     ]
    },
    {
     "name": "stderr",
     "output_type": "stream",
     "text": [
      "100%|██████████████████████████████████████████████████████████████████████████████| 2629/2629 [01:16<00:00, 34.49it/s]\n"
     ]
    },
    {
     "name": "stdout",
     "output_type": "stream",
     "text": [
      "Testing Model on Test Data...\n",
      "\n",
      "Epoch [5/15]\n",
      "Averages:\n",
      "Training Critic Loss: -688.2536\n",
      "Trainin Generator Loss: 359.6712\n",
      "Training MSE : 1.378871\n",
      "Test Critic Loss: -826.4949\n",
      "Test Generator Loss: 256.5887\n",
      "Test MSE : 0.825496\n",
      "\n"
     ]
    },
    {
     "name": "stderr",
     "output_type": "stream",
     "text": [
      "100%|██████████████████████████████████████████████████████████████████████████████| 2629/2629 [01:17<00:00, 34.01it/s]\n"
     ]
    },
    {
     "name": "stdout",
     "output_type": "stream",
     "text": [
      "Testing Model on Test Data...\n",
      "\n",
      "Epoch [6/15]\n",
      "Averages:\n",
      "Training Critic Loss: -945.7039\n",
      "Trainin Generator Loss: 175.0347\n",
      "Training MSE : 1.165920\n",
      "Test Critic Loss: -998.1426\n",
      "Test Generator Loss: 45.6887\n",
      "Test MSE : 0.754647\n",
      "\n"
     ]
    },
    {
     "name": "stderr",
     "output_type": "stream",
     "text": [
      "100%|██████████████████████████████████████████████████████████████████████████████| 2629/2629 [01:16<00:00, 34.22it/s]\n"
     ]
    },
    {
     "name": "stdout",
     "output_type": "stream",
     "text": [
      "Testing Model on Test Data...\n",
      "\n",
      "Epoch [7/15]\n",
      "Averages:\n",
      "Training Critic Loss: -1185.4104\n",
      "Trainin Generator Loss: 133.3004\n",
      "Training MSE : 1.050700\n",
      "Test Critic Loss: -1324.4393\n",
      "Test Generator Loss: 148.0938\n",
      "Test MSE : 0.647826\n",
      "\n"
     ]
    },
    {
     "name": "stderr",
     "output_type": "stream",
     "text": [
      "100%|██████████████████████████████████████████████████████████████████████████████| 2629/2629 [01:17<00:00, 33.98it/s]\n"
     ]
    },
    {
     "name": "stdout",
     "output_type": "stream",
     "text": [
      "Testing Model on Test Data...\n",
      "\n",
      "Epoch [8/15]\n",
      "Averages:\n",
      "Training Critic Loss: -1534.2497\n",
      "Trainin Generator Loss: 312.2958\n",
      "Training MSE : 0.948556\n",
      "Test Critic Loss: -1537.1263\n",
      "Test Generator Loss: 290.5290\n",
      "Test MSE : 0.668746\n",
      "\n"
     ]
    },
    {
     "name": "stderr",
     "output_type": "stream",
     "text": [
      "100%|██████████████████████████████████████████████████████████████████████████████| 2629/2629 [01:16<00:00, 34.37it/s]\n"
     ]
    },
    {
     "name": "stdout",
     "output_type": "stream",
     "text": [
      "Testing Model on Test Data...\n",
      "\n",
      "Epoch [9/15]\n",
      "Averages:\n",
      "Training Critic Loss: -1942.7043\n",
      "Trainin Generator Loss: 507.9066\n",
      "Training MSE : 0.879810\n",
      "Test Critic Loss: -1939.9850\n",
      "Test Generator Loss: 511.6946\n",
      "Test MSE : 0.710091\n",
      "\n"
     ]
    },
    {
     "name": "stderr",
     "output_type": "stream",
     "text": [
      "100%|██████████████████████████████████████████████████████████████████████████████| 2629/2629 [01:16<00:00, 34.59it/s]\n"
     ]
    },
    {
     "name": "stdout",
     "output_type": "stream",
     "text": [
      "Testing Model on Test Data...\n",
      "\n",
      "Epoch [10/15]\n",
      "Averages:\n",
      "Training Critic Loss: -2441.5333\n",
      "Trainin Generator Loss: 665.3758\n",
      "Training MSE : 0.822519\n",
      "Test Critic Loss: -2224.6660\n",
      "Test Generator Loss: 475.6127\n",
      "Test MSE : 0.699797\n",
      "\n"
     ]
    },
    {
     "name": "stderr",
     "output_type": "stream",
     "text": [
      "100%|██████████████████████████████████████████████████████████████████████████████| 2629/2629 [01:16<00:00, 34.37it/s]\n"
     ]
    },
    {
     "name": "stdout",
     "output_type": "stream",
     "text": [
      "Testing Model on Test Data...\n",
      "\n",
      "Epoch [11/15]\n",
      "Averages:\n",
      "Training Critic Loss: -3001.6933\n",
      "Trainin Generator Loss: 826.3591\n",
      "Training MSE : 0.791545\n",
      "Test Critic Loss: -2580.5535\n",
      "Test Generator Loss: 499.8478\n",
      "Test MSE : 0.794353\n",
      "\n"
     ]
    },
    {
     "name": "stderr",
     "output_type": "stream",
     "text": [
      "100%|██████████████████████████████████████████████████████████████████████████████| 2629/2629 [01:15<00:00, 34.61it/s]\n"
     ]
    },
    {
     "name": "stdout",
     "output_type": "stream",
     "text": [
      "Testing Model on Test Data...\n",
      "\n",
      "Epoch [12/15]\n",
      "Averages:\n",
      "Training Critic Loss: -3634.2096\n",
      "Trainin Generator Loss: 1028.2955\n",
      "Training MSE : 0.764699\n",
      "Test Critic Loss: -3251.9436\n",
      "Test Generator Loss: 797.6829\n",
      "Test MSE : 0.702398\n",
      "\n"
     ]
    },
    {
     "name": "stderr",
     "output_type": "stream",
     "text": [
      "100%|██████████████████████████████████████████████████████████████████████████████| 2629/2629 [01:17<00:00, 34.13it/s]\n"
     ]
    },
    {
     "name": "stdout",
     "output_type": "stream",
     "text": [
      "Testing Model on Test Data...\n",
      "\n",
      "Epoch [13/15]\n",
      "Averages:\n",
      "Training Critic Loss: -4328.7502\n",
      "Trainin Generator Loss: 1140.0825\n",
      "Training MSE : 0.748160\n",
      "Test Critic Loss: -3645.2422\n",
      "Test Generator Loss: 756.3746\n",
      "Test MSE : 0.780049\n",
      "\n"
     ]
    },
    {
     "name": "stderr",
     "output_type": "stream",
     "text": [
      "100%|██████████████████████████████████████████████████████████████████████████████| 2629/2629 [01:16<00:00, 34.49it/s]\n"
     ]
    },
    {
     "name": "stdout",
     "output_type": "stream",
     "text": [
      "Testing Model on Test Data...\n",
      "\n",
      "Epoch [14/15]\n",
      "Averages:\n",
      "Training Critic Loss: -5063.7795\n",
      "Trainin Generator Loss: 1262.0017\n",
      "Training MSE : 0.735148\n",
      "Test Critic Loss: -4345.0537\n",
      "Test Generator Loss: 854.1382\n",
      "Test MSE : 0.735543\n",
      "\n"
     ]
    },
    {
     "name": "stderr",
     "output_type": "stream",
     "text": [
      "100%|██████████████████████████████████████████████████████████████████████████████| 2629/2629 [01:17<00:00, 34.01it/s]\n"
     ]
    },
    {
     "name": "stdout",
     "output_type": "stream",
     "text": [
      "Testing Model on Test Data...\n",
      "\n",
      "Epoch [15/15]\n",
      "Averages:\n",
      "Training Critic Loss: -6014.2812\n",
      "Trainin Generator Loss: 1435.2136\n",
      "Training MSE : 0.718590\n",
      "Test Critic Loss: -5223.9751\n",
      "Test Generator Loss: 1022.2356\n",
      "Test MSE : 0.773219\n",
      "\n",
      "Testing Final Model on Training Data...\n",
      "\n",
      "Testing Final Model on Test Data...\n",
      "\n",
      "Results:\n",
      "\n",
      "Train MSE : 0.773059070110321\n",
      "Train g_loss : 1007.416259765625\n",
      "Train c_loss : -5079.712890625\n",
      "Test MSE : 0.7719732522964478\n",
      "Test g_loss : 1037.2552490234375\n",
      " Test c_loss : -5175.146484375\n",
      "\n",
      "\n",
      "Fold 10/10\n",
      "\n",
      "Creating Data Loaders\n",
      "Creating Denoiser and Critic\n",
      "Training...\n",
      "\n"
     ]
    },
    {
     "name": "stderr",
     "output_type": "stream",
     "text": [
      "100%|██████████████████████████████████████████████████████████████████████████████| 2629/2629 [01:17<00:00, 34.03it/s]\n"
     ]
    },
    {
     "name": "stdout",
     "output_type": "stream",
     "text": [
      "Testing Model on Test Data...\n",
      "\n",
      "Epoch [1/15]\n",
      "Averages:\n",
      "Training Critic Loss: 29887.8951\n",
      "Trainin Generator Loss: -881230.5651\n",
      "Training MSE : 20601289.698212\n",
      "Test Critic Loss: 80.1292\n",
      "Test Generator Loss: 211.7159\n",
      "Test MSE : 21.820036\n",
      "\n"
     ]
    },
    {
     "name": "stderr",
     "output_type": "stream",
     "text": [
      "100%|██████████████████████████████████████████████████████████████████████████████| 2629/2629 [01:16<00:00, 34.21it/s]\n"
     ]
    },
    {
     "name": "stdout",
     "output_type": "stream",
     "text": [
      "Testing Model on Test Data...\n",
      "\n",
      "Epoch [2/15]\n",
      "Averages:\n",
      "Training Critic Loss: 49.4080\n",
      "Trainin Generator Loss: 188.4699\n",
      "Training MSE : 11.720331\n",
      "Test Critic Loss: -15.8584\n",
      "Test Generator Loss: 78.0593\n",
      "Test MSE : 2.506520\n",
      "\n"
     ]
    },
    {
     "name": "stderr",
     "output_type": "stream",
     "text": [
      "100%|██████████████████████████████████████████████████████████████████████████████| 2629/2629 [01:16<00:00, 34.44it/s]\n"
     ]
    },
    {
     "name": "stdout",
     "output_type": "stream",
     "text": [
      "Testing Model on Test Data...\n",
      "\n",
      "Epoch [3/15]\n",
      "Averages:\n",
      "Training Critic Loss: -53.5553\n",
      "Trainin Generator Loss: 219.2723\n",
      "Training MSE : 2.562701\n",
      "Test Critic Loss: -149.8746\n",
      "Test Generator Loss: 224.8155\n",
      "Test MSE : 1.505448\n",
      "\n"
     ]
    },
    {
     "name": "stderr",
     "output_type": "stream",
     "text": [
      "100%|██████████████████████████████████████████████████████████████████████████████| 2629/2629 [01:16<00:00, 34.36it/s]\n"
     ]
    },
    {
     "name": "stdout",
     "output_type": "stream",
     "text": [
      "Testing Model on Test Data...\n",
      "\n",
      "Epoch [4/15]\n",
      "Averages:\n",
      "Training Critic Loss: -330.1024\n",
      "Trainin Generator Loss: 384.3583\n",
      "Training MSE : 1.588337\n",
      "Test Critic Loss: -395.0934\n",
      "Test Generator Loss: 406.7328\n",
      "Test MSE : 1.021471\n",
      "\n"
     ]
    },
    {
     "name": "stderr",
     "output_type": "stream",
     "text": [
      "100%|██████████████████████████████████████████████████████████████████████████████| 2629/2629 [01:16<00:00, 34.56it/s]\n"
     ]
    },
    {
     "name": "stdout",
     "output_type": "stream",
     "text": [
      "Testing Model on Test Data...\n",
      "\n",
      "Epoch [5/15]\n",
      "Averages:\n",
      "Training Critic Loss: -568.9405\n",
      "Trainin Generator Loss: 538.7094\n",
      "Training MSE : 1.252687\n",
      "Test Critic Loss: -537.2505\n",
      "Test Generator Loss: 473.9217\n",
      "Test MSE : 1.002379\n",
      "\n"
     ]
    },
    {
     "name": "stderr",
     "output_type": "stream",
     "text": [
      "100%|██████████████████████████████████████████████████████████████████████████████| 2629/2629 [01:16<00:00, 34.57it/s]\n"
     ]
    },
    {
     "name": "stdout",
     "output_type": "stream",
     "text": [
      "Testing Model on Test Data...\n",
      "\n",
      "Epoch [6/15]\n",
      "Averages:\n",
      "Training Critic Loss: -795.5152\n",
      "Trainin Generator Loss: 590.3540\n",
      "Training MSE : 1.083645\n",
      "Test Critic Loss: -739.5589\n",
      "Test Generator Loss: 474.4797\n",
      "Test MSE : 0.892533\n",
      "\n"
     ]
    },
    {
     "name": "stderr",
     "output_type": "stream",
     "text": [
      "100%|██████████████████████████████████████████████████████████████████████████████| 2629/2629 [01:16<00:00, 34.25it/s]\n"
     ]
    },
    {
     "name": "stdout",
     "output_type": "stream",
     "text": [
      "Testing Model on Test Data...\n",
      "\n",
      "Epoch [7/15]\n",
      "Averages:\n",
      "Training Critic Loss: 360.5959\n",
      "Trainin Generator Loss: -1237.4074\n",
      "Training MSE : 1.108125\n",
      "Test Critic Loss: 609.6849\n",
      "Test Generator Loss: -2334.2385\n",
      "Test MSE : 0.988192\n",
      "\n"
     ]
    },
    {
     "name": "stderr",
     "output_type": "stream",
     "text": [
      "100%|██████████████████████████████████████████████████████████████████████████████| 2629/2629 [01:16<00:00, 34.50it/s]\n"
     ]
    },
    {
     "name": "stdout",
     "output_type": "stream",
     "text": [
      "Testing Model on Test Data...\n",
      "\n",
      "Epoch [8/15]\n",
      "Averages:\n",
      "Training Critic Loss: 65.2437\n",
      "Trainin Generator Loss: -1210.9050\n",
      "Training MSE : 1.318819\n",
      "Test Critic Loss: -734.5670\n",
      "Test Generator Loss: 489.8551\n",
      "Test MSE : 0.937736\n",
      "\n"
     ]
    },
    {
     "name": "stderr",
     "output_type": "stream",
     "text": [
      "100%|██████████████████████████████████████████████████████████████████████████████| 2629/2629 [01:17<00:00, 34.03it/s]\n"
     ]
    },
    {
     "name": "stdout",
     "output_type": "stream",
     "text": [
      "Testing Model on Test Data...\n",
      "\n",
      "Epoch [9/15]\n",
      "Averages:\n",
      "Training Critic Loss: -1214.6314\n",
      "Trainin Generator Loss: 1087.9478\n",
      "Training MSE : 0.895377\n",
      "Test Critic Loss: -979.0822\n",
      "Test Generator Loss: 670.1226\n",
      "Test MSE : 0.996044\n",
      "\n"
     ]
    },
    {
     "name": "stderr",
     "output_type": "stream",
     "text": [
      "100%|██████████████████████████████████████████████████████████████████████████████| 2629/2629 [01:16<00:00, 34.25it/s]\n"
     ]
    },
    {
     "name": "stdout",
     "output_type": "stream",
     "text": [
      "Testing Model on Test Data...\n",
      "\n",
      "Epoch [10/15]\n",
      "Averages:\n",
      "Training Critic Loss: -1543.8881\n",
      "Trainin Generator Loss: 953.8476\n",
      "Training MSE : 0.832107\n",
      "Test Critic Loss: -1244.1792\n",
      "Test Generator Loss: 656.5992\n",
      "Test MSE : 1.038287\n",
      "\n"
     ]
    },
    {
     "name": "stderr",
     "output_type": "stream",
     "text": [
      "100%|██████████████████████████████████████████████████████████████████████████████| 2629/2629 [01:16<00:00, 34.29it/s]\n"
     ]
    },
    {
     "name": "stdout",
     "output_type": "stream",
     "text": [
      "Testing Model on Test Data...\n",
      "\n",
      "Epoch [11/15]\n",
      "Averages:\n",
      "Training Critic Loss: -1878.3567\n",
      "Trainin Generator Loss: 1045.4272\n",
      "Training MSE : 0.777905\n",
      "Test Critic Loss: -1560.5178\n",
      "Test Generator Loss: 826.7188\n",
      "Test MSE : 0.887655\n",
      "\n"
     ]
    },
    {
     "name": "stderr",
     "output_type": "stream",
     "text": [
      "100%|██████████████████████████████████████████████████████████████████████████████| 2629/2629 [01:16<00:00, 34.26it/s]\n"
     ]
    },
    {
     "name": "stdout",
     "output_type": "stream",
     "text": [
      "Testing Model on Test Data...\n",
      "\n",
      "Epoch [12/15]\n",
      "Averages:\n",
      "Training Critic Loss: 597.6226\n",
      "Trainin Generator Loss: -2256.9213\n",
      "Training MSE : 0.868900\n",
      "Test Critic Loss: -475.9637\n",
      "Test Generator Loss: -2711.9089\n",
      "Test MSE : 0.632247\n",
      "\n"
     ]
    },
    {
     "name": "stderr",
     "output_type": "stream",
     "text": [
      "100%|██████████████████████████████████████████████████████████████████████████████| 2629/2629 [01:15<00:00, 34.74it/s]\n"
     ]
    },
    {
     "name": "stdout",
     "output_type": "stream",
     "text": [
      "Testing Model on Test Data...\n",
      "\n",
      "Epoch [13/15]\n",
      "Averages:\n",
      "Training Critic Loss: -2093.6968\n",
      "Trainin Generator Loss: -881.1939\n",
      "Training MSE : 0.754211\n",
      "Test Critic Loss: -1929.1898\n",
      "Test Generator Loss: 1410.2332\n",
      "Test MSE : 0.671270\n",
      "\n"
     ]
    },
    {
     "name": "stderr",
     "output_type": "stream",
     "text": [
      "100%|██████████████████████████████████████████████████████████████████████████████| 2629/2629 [01:17<00:00, 33.96it/s]\n"
     ]
    },
    {
     "name": "stdout",
     "output_type": "stream",
     "text": [
      "Testing Model on Test Data...\n",
      "\n",
      "Epoch [14/15]\n",
      "Averages:\n",
      "Training Critic Loss: -2706.1829\n",
      "Trainin Generator Loss: 2059.0172\n",
      "Training MSE : 0.712913\n",
      "Test Critic Loss: -1746.6808\n",
      "Test Generator Loss: 1030.0348\n",
      "Test MSE : 0.865555\n",
      "\n"
     ]
    },
    {
     "name": "stderr",
     "output_type": "stream",
     "text": [
      "100%|██████████████████████████████████████████████████████████████████████████████| 2629/2629 [01:16<00:00, 34.28it/s]\n"
     ]
    },
    {
     "name": "stdout",
     "output_type": "stream",
     "text": [
      "Testing Model on Test Data...\n",
      "\n",
      "Epoch [15/15]\n",
      "Averages:\n",
      "Training Critic Loss: -1964.4491\n",
      "Trainin Generator Loss: -733.6463\n",
      "Training MSE : 0.725862\n",
      "Test Critic Loss: -2229.4343\n",
      "Test Generator Loss: 1004.9104\n",
      "Test MSE : 0.831410\n",
      "\n",
      "Testing Final Model on Training Data...\n",
      "\n",
      "Testing Final Model on Test Data...\n",
      "\n",
      "Results:\n",
      "\n",
      "Train MSE : 0.8311309218406677\n",
      "Train g_loss : 1020.1344604492188\n",
      "Train c_loss : -2258.065185546875\n",
      "Test MSE : 0.8334143757820129\n",
      "Test g_loss : 997.2138061523438\n",
      " Test c_loss : -2226.29931640625\n",
      "\n"
     ]
    },
    {
     "ename": "TypeError",
     "evalue": "mean(): argument 'input' (position 1) must be Tensor, not list",
     "output_type": "error",
     "traceback": [
      "\u001b[31m---------------------------------------------------------------------------\u001b[39m",
      "\u001b[31mTypeError\u001b[39m                                 Traceback (most recent call last)",
      "\u001b[36mFile \u001b[39m\u001b[32m<timed exec>:1\u001b[39m\n",
      "\u001b[36mFile \u001b[39m\u001b[32mC:\\Dev\\Research\\Research_Tools\\src\\denoising_autoencoder.py:300\u001b[39m, in \u001b[36mcross_validate_model\u001b[39m\u001b[34m(dataset, denoiser_class, critic_class, n_splits, batch_size, num_epochs, learning_rate, denoiser_learning_rate, critic_learning_rate, num_channels)\u001b[39m\n\u001b[32m    297\u001b[39m     trained_models.append({\u001b[33m\"\u001b[39m\u001b[33mdenoiser\u001b[39m\u001b[33m\"\u001b[39m: denoiser, \u001b[33m\"\u001b[39m\u001b[33mcritic\u001b[39m\u001b[33m\"\u001b[39m : critic})\n\u001b[32m    299\u001b[39m \u001b[38;5;66;03m# Calculate average metrics across folds\u001b[39;00m\n\u001b[32m--> \u001b[39m\u001b[32m300\u001b[39m fold_avg_test_MSE = \u001b[43mtorch\u001b[49m\u001b[43m.\u001b[49m\u001b[43mmean\u001b[49m\u001b[43m(\u001b[49m\u001b[43m[\u001b[49m\u001b[43mresult\u001b[49m\u001b[43m[\u001b[49m\u001b[33;43m\"\u001b[39;49m\u001b[33;43mTest_mse\u001b[39;49m\u001b[33;43m\"\u001b[39;49m\u001b[43m]\u001b[49m\u001b[43m \u001b[49m\u001b[38;5;28;43;01mfor\u001b[39;49;00m\u001b[43m \u001b[49m\u001b[43mresult\u001b[49m\u001b[43m \u001b[49m\u001b[38;5;129;43;01min\u001b[39;49;00m\u001b[43m \u001b[49m\u001b[43mfold_results\u001b[49m\u001b[43m]\u001b[49m\u001b[43m)\u001b[49m\n\u001b[32m    301\u001b[39m fold_avg_test_g_loss = torch.mean([result[\u001b[33m\"\u001b[39m\u001b[33mTest_g_loss\u001b[39m\u001b[33m\"\u001b[39m] \u001b[38;5;28;01mfor\u001b[39;00m result \u001b[38;5;129;01min\u001b[39;00m fold_results])\n\u001b[32m    302\u001b[39m fold_avg_test_c_loss = torch.mean([result[\u001b[33m\"\u001b[39m\u001b[33mTest_c_loss\u001b[39m\u001b[33m\"\u001b[39m] \u001b[38;5;28;01mfor\u001b[39;00m result \u001b[38;5;129;01min\u001b[39;00m fold_results])\n",
      "\u001b[31mTypeError\u001b[39m: mean(): argument 'input' (position 1) must be Tensor, not list"
     ]
    }
   ],
   "source": [
    "%%time\n",
    "\n",
    "fold_results, trained_models, transformers = denoising_autoencoder.cross_validate_model(\n",
    "    time_chunked_global_maps,\n",
    "    denoising_autoencoder.ConvDenoiser,\n",
    "    denoising_autoencoder.Critic,\n",
    "    n_splits=10,\n",
    "    num_epochs=15,\n",
    "    batch_size=16,\n",
    "    denoiser_learning_rate=4e-5,\n",
    "    critic_learning_rate=1e-6,\n",
    ")"
   ]
  },
  {
   "cell_type": "code",
   "execution_count": null,
   "id": "7ee49481-d2e1-47fa-ae2b-4802afbb233c",
   "metadata": {},
   "outputs": [],
   "source": [
    "first_example = torch.from_numpy(np.expand_dims(next(iter(train_loader))[0][0], axis=0)).type(torch.float32)\n",
    "was_nan = torch.isnan(first_example)\n",
    "\n",
    "nan_removed = np.nansum([was_nan.cpu() * transformed_averages[np.newaxis, np.newaxis, :, :], (~was_nan.cpu()) * first_example], axis=0)\n",
    "targets = torch.from_numpy(nan_removed).to(device).type(torch.float32)\n",
    "model.eval()\n",
    "predictions = model(targets, (~was_nan).type(torch.float32).to(device)).detach().cpu().numpy()\n",
    "predictions = PT.inverse_transform(predictions.reshape(targets.shape[2] * targets.shape[3], 1)).reshape(targets.shape[2], targets.shape[3])\n",
    "targets = targets.detach().cpu()"
   ]
  },
  {
   "cell_type": "code",
   "execution_count": null,
   "id": "54365337-c096-4fe1-adf1-28b97868003c",
   "metadata": {},
   "outputs": [],
   "source": [
    "# Create mesh for plotting\n",
    "_X, _Y = np.meshgrid(x_edges, y_edges)\n",
    "print(targets.shape)\n",
    "targets[was_nan] = np.nan\n",
    "first_example_flux = PT.inverse_transform(targets[0][0].reshape(targets.shape[2] * targets.shape[3], 1)).reshape(targets.shape[2], targets.shape[3])\n",
    "predictions = predictions\n",
    "\n",
    "plt.figure(figsize=(10, 8))\n",
    "plt.xlim((x_edges[0], x_edges[-1]))\n",
    "plt.ylim((y_edges[0], y_edges[-1]))\n",
    "plt.pcolormesh(_X,\n",
    "               _Y,\n",
    "               np.abs(first_example_flux.T),\n",
    "               cmap='viridis',\n",
    "               norm=matplotlib.colors.SymLogNorm(linthresh = 1, vmin = 0, vmax=1e8))\n",
    "cbar = plt.colorbar()\n",
    "cbar.set_label(\"Average Flux\", loc=\"center\", labelpad=25, rotation=270)\n",
    "plt.xlabel(\"MLT\")\n",
    "plt.ylabel(\"L\")\n",
    "plt.title(\"Flux vs L vs MLT\")\n",
    "plt.show()"
   ]
  },
  {
   "cell_type": "code",
   "execution_count": null,
   "id": "f6e6ef1d-efc5-4918-be3a-048afdf08b8f",
   "metadata": {},
   "outputs": [],
   "source": [
    "# Create mesh for plotting\n",
    "_X, _Y = np.meshgrid(x_edges, y_edges)\n",
    "\n",
    "\n",
    "plt.figure(figsize=(10, 8))\n",
    "plt.xlim((x_edges[0], x_edges[-1]))\n",
    "plt.ylim((y_edges[0], y_edges[-1]))\n",
    "plt.pcolormesh(_X,\n",
    "               _Y,\n",
    "               np.abs(predictions.T),\n",
    "               cmap='viridis',\n",
    "               norm=matplotlib.colors.SymLogNorm(linthresh = 1, vmin = 0, vmax=1e8))\n",
    "cbar = plt.colorbar()\n",
    "cbar.set_label(\"Average Flux\", loc=\"center\", labelpad=25, rotation=270)\n",
    "plt.xlabel(\"L\")\n",
    "plt.ylabel(\"MLT\")\n",
    "plt.title(\"Flux vs L vs MLT\")\n",
    "plt.show()"
   ]
  },
  {
   "cell_type": "code",
   "execution_count": null,
   "id": "08d23617-fc48-4b3c-9a2f-27659eab287d",
   "metadata": {},
   "outputs": [],
   "source": []
  },
  {
   "cell_type": "code",
   "execution_count": null,
   "id": "2c0a678f-0838-4ec3-b1bc-85dd14b69ffc",
   "metadata": {},
   "outputs": [],
   "source": []
  }
 ],
 "metadata": {
  "kernelspec": {
   "display_name": "Python 3 (ipykernel)",
   "language": "python",
   "name": "python3"
  },
  "language_info": {
   "codemirror_mode": {
    "name": "ipython",
    "version": 3
   },
   "file_extension": ".py",
   "mimetype": "text/x-python",
   "name": "python",
   "nbconvert_exporter": "python",
   "pygments_lexer": "ipython3",
   "version": "3.12.5"
  }
 },
 "nbformat": 4,
 "nbformat_minor": 5
}
