{
 "cells": [
  {
   "cell_type": "code",
   "execution_count": 136,
   "id": "2780e2e8-9bd3-4360-9522-b2befca5e32a",
   "metadata": {},
   "outputs": [],
   "source": [
    "import os\n",
    "import sys\n",
    "\n",
    "# caution: path[0] is reserved for script path (or '' in REPL).\n",
    "sys.path.insert(1, os.path.abspath(\"./../src\"))\n",
    "\n",
    "import datetime\n",
    "import numpy as np\n",
    "from cdflib.epochs_astropy import CDFAstropy as cdfepoch\n",
    "import astropy\n",
    "import data_loader\n",
    "import matplotlib.pyplot as plt\n",
    "\n",
    "import importlib\n",
    "\n",
    "pdata_folder = os.path.abspath(r\"./../processed_data/chorus_neural_network/\")\n",
    "\n",
    "importlib.reload(data_loader)\n",
    "\n",
    "%matplotlib qt"
   ]
  },
  {
   "cell_type": "code",
   "execution_count": 137,
   "id": "0433f641-2113-4b9f-a0ef-b72beed848d8",
   "metadata": {},
   "outputs": [],
   "source": [
    "year = 2019\n",
    "sat = \"b\"\n",
    "\n",
    "density_folder = os.path.join(pdata_folder, \"STAGE_0\", \"ELECTRON_DENSITY_DATA_PREPROCESSED\")\n",
    "\n",
    "start = datetime.datetime(year=year, month=1, day=1, tzinfo=datetime.UTC)\n",
    "end = datetime.datetime(year=year + 1, month=1, day=1, tzinfo=datetime.UTC)\n",
    "\n",
    "density_data = data_loader.load_raw_data_from_config(\n",
    "    id=[\"RBSP\", \"EMFISIS\", \"L4\", \"DENSITY\"],\n",
    "    start=start,\n",
    "    end=end,\n",
    "    satellite=sat,\n",
    "    root_data_dir=\"/project/rbsp/data/\",\n",
    "    use_config_keys_in_subdir=False,\n",
    ")\n",
    "\n",
    "density = density_data[\"density\"]\n",
    "epoch = density_data[\"Epoch\"]\n",
    "\n",
    "valid_data = (0 < density) & np.isfinite(density) & (0 < epoch) & np.isfinite(epoch)\n",
    "\n",
    "density = density[valid_data]\n",
    "epoch = epoch[valid_data]"
   ]
  },
  {
   "cell_type": "code",
   "execution_count": 138,
   "id": "47558c17-df95-4a93-ac85-d41b343a5102",
   "metadata": {},
   "outputs": [],
   "source": [
    "unix_time = cdfepoch.unixtime(epoch)"
   ]
  },
  {
   "cell_type": "code",
   "execution_count": 139,
   "id": "5154b7f4-1760-4bf3-a154-cdffe314f42c",
   "metadata": {},
   "outputs": [
    {
     "name": "stderr",
     "output_type": "stream",
     "text": [
      "/home/jddoucette/Research_Tools/ResearchPy/lib64/python3.12/site-packages/numpy/lib/_nanfunctions_impl.py:1215: RuntimeWarning: Mean of empty slice\n",
      "  return np.nanmean(a, axis, out=out, keepdims=keepdims)\n"
     ]
    }
   ],
   "source": [
    "evenly_spaced_minutes = np.arange(start.timestamp(), end.timestamp() + 60, step=60)\n",
    "\n",
    "smoothed_density = []\n",
    "\n",
    "for chunk in evenly_spaced_minutes:\n",
    "\n",
    "    TIME_RANGE = np.searchsorted(a=unix_time, v=[(chunk - 300), (chunk + 300)])\n",
    "\n",
    "    smoothed_density.append(np.nanmedian(density[TIME_RANGE[0] : TIME_RANGE[-1]]))"
   ]
  },
  {
   "cell_type": "code",
   "execution_count": 140,
   "id": "f27b7d31-b259-47dd-8b79-ccedfff9d9e2",
   "metadata": {},
   "outputs": [],
   "source": [
    "np.savez(\n",
    "    file=os.path.join(density_folder, f\"RBSP_{sat.upper()}_OBSERVED_DENSITY_{year}.npz\"),\n",
    "    UNIX_TIME=np.asarray(evenly_spaced_minutes),\n",
    "    DENSITY=np.asarray(smoothed_density)\n",
    ")"
   ]
  },
  {
   "cell_type": "code",
   "execution_count": 141,
   "id": "19594ef6-7f6e-4db6-a064-b486190d1153",
   "metadata": {},
   "outputs": [
    {
     "data": {
      "text/plain": [
       "[<matplotlib.lines.Line2D at 0x7f5dad313ef0>]"
      ]
     },
     "execution_count": 141,
     "metadata": {},
     "output_type": "execute_result"
    }
   ],
   "source": [
    "plt.semilogy(unix_time, density)\n",
    "plt.semilogy(np.asarray(evenly_spaced_minutes), np.asarray(smoothed_density))"
   ]
  },
  {
   "cell_type": "code",
   "execution_count": null,
   "id": "2e5f7aac-a897-4657-848c-59b885feaca9",
   "metadata": {},
   "outputs": [],
   "source": []
  }
 ],
 "metadata": {
  "kernelspec": {
   "display_name": "Python 3 (ipykernel)",
   "language": "python",
   "name": "python3"
  },
  "language_info": {
   "codemirror_mode": {
    "name": "ipython",
    "version": 3
   },
   "file_extension": ".py",
   "mimetype": "text/x-python",
   "name": "python",
   "nbconvert_exporter": "python",
   "pygments_lexer": "ipython3",
   "version": "3.12.8"
  }
 },
 "nbformat": 4,
 "nbformat_minor": 5
}
