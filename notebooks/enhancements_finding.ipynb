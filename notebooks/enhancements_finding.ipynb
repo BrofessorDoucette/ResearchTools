{
 "cells": [
  {
   "cell_type": "code",
   "execution_count": 101,
   "metadata": {},
   "outputs": [],
   "source": [
    "import sys\n",
    "# caution: path[0] is reserved for script path (or '' in REPL).\n",
    "sys.path.insert(1, './../src')\n",
    "\n",
    "from data_loader import load_compressed_rept_data\n",
    "from energy_channels import EnergyChannel\n",
    "import datetime\n",
    "import matplotlib.pyplot as plt\n",
    "import plot_tools\n",
    "import numpy as np\n",
    "import pandas as pd\n",
    "\n",
    "import importlib\n",
    "importlib.reload(plot_tools)\n",
    "\n",
    "%matplotlib qt"
   ]
  },
  {
   "cell_type": "code",
   "execution_count": 102,
   "metadata": {},
   "outputs": [
    {
     "name": "stdout",
     "output_type": "stream",
     "text": [
      "Loading REPT data between: 2013-01-01 00:00:00 and 2014-01-01 00:00:00.\n",
      "Loading : REPT_201301_A.npz\n",
      "Loading : REPT_201302_A.npz\n",
      "Loading : REPT_201303_A.npz\n",
      "Loading : REPT_201304_A.npz\n",
      "Loading : REPT_201305_A.npz\n",
      "Loading : REPT_201306_A.npz\n",
      "Loading : REPT_201307_A.npz\n",
      "Loading : REPT_201308_A.npz\n",
      "Loading : REPT_201309_A.npz\n",
      "Loading : REPT_201310_A.npz\n",
      "Loading : REPT_201311_A.npz\n",
      "Loading : REPT_201312_A.npz\n",
      "Loading : REPT_201401_A.npz\n"
     ]
    }
   ],
   "source": [
    "start = datetime.datetime(year = 2013, month = 1, day = 1)\n",
    "end = datetime.datetime(year = 2014, month = 1, day = 1)\n",
    "satellite = \"A\"\n",
    "\n",
    "data = load_compressed_rept_data(satellite=satellite, start=start, end=end)\n"
   ]
  },
  {
   "cell_type": "code",
   "execution_count": 103,
   "metadata": {},
   "outputs": [
    {
     "name": "stderr",
     "output_type": "stream",
     "text": [
      "C:\\Users\\brofe\\AppData\\Local\\Temp\\ipykernel_29792\\2685777435.py:8: FutureWarning: The default fill_method='pad' in DataFrame.pct_change is deprecated and will be removed in a future version. Either fill in any non-leading NA values prior to calling pct_change or specify 'fill_method=None' to not fill NA values.\n",
      "  diff = FESA.pct_change(periods=1)\n"
     ]
    },
    {
     "name": "stdout",
     "output_type": "stream",
     "text": [
      "                               0            1            2            3  \\\n",
      "2013-01-01 00:00:00  5835.132904  5686.305340  4551.987667  3509.606938   \n",
      "2013-01-01 09:00:00  6169.656280  6208.357419  4782.577202  3685.205190   \n",
      "2013-01-01 18:00:00  6189.168206  6254.387429  4778.235863  3592.959323   \n",
      "2013-01-02 03:00:00  6325.706350  6211.331739  4914.429756  3716.722171   \n",
      "2013-01-02 12:00:00  6074.230985  6012.417128  4764.989218  3599.313131   \n",
      "...                          ...          ...          ...          ...   \n",
      "2013-12-30 09:00:00   170.175347   175.089654   125.560151    49.604479   \n",
      "2013-12-30 18:00:00   164.061726   156.247296   132.254083    54.373630   \n",
      "2013-12-31 03:00:00   185.587028   182.653637   141.141170    57.873092   \n",
      "2013-12-31 12:00:00   165.070391   144.645301   136.193047    54.817203   \n",
      "2013-12-31 21:00:00   152.954350   161.109257   122.872231    63.433454   \n",
      "\n",
      "                               4           5           6  \n",
      "2013-01-01 00:00:00  1688.015188  712.186500  166.897767  \n",
      "2013-01-01 09:00:00  1757.888228  741.243886  176.573853  \n",
      "2013-01-01 18:00:00  1790.186936  727.586624  165.523024  \n",
      "2013-01-02 03:00:00  1863.128981  762.039068  164.319698  \n",
      "2013-01-02 12:00:00  1746.801728  717.977824  180.286216  \n",
      "...                          ...         ...         ...  \n",
      "2013-12-30 09:00:00    11.535100    3.652169    2.596640  \n",
      "2013-12-30 18:00:00    12.918942    3.998445    3.710921  \n",
      "2013-12-31 03:00:00    12.154471    3.649871    3.896906  \n",
      "2013-12-31 12:00:00     9.690211    4.714653    3.247034  \n",
      "2013-12-31 21:00:00    12.113694    4.258155    2.924174  \n",
      "\n",
      "[974 rows x 7 columns]\n",
      "2013-01-01 00:00:00         NaN\n",
      "2013-01-01 09:00:00    0.057329\n",
      "2013-01-01 18:00:00    0.003163\n",
      "2013-01-02 03:00:00    0.022061\n",
      "2013-01-02 12:00:00   -0.039755\n",
      "                         ...   \n",
      "2013-12-30 09:00:00   -0.046497\n",
      "2013-12-30 18:00:00   -0.035925\n",
      "2013-12-31 03:00:00    0.131202\n",
      "2013-12-31 12:00:00   -0.110550\n",
      "2013-12-31 21:00:00   -0.073399\n",
      "Freq: 9H, Name: 0, Length: 974, dtype: float64\n"
     ]
    }
   ],
   "source": [
    "fig, ax = plt.subplots(2, 1, figsize=(12, 8), sharex=True)\n",
    "\n",
    "ax[0].set_xlim(start, end)\n",
    "\n",
    "ax[1].set_xlim(start, end)\n",
    "FESA = plot_tools.plot_L_CUT(refs=data, L_CUT=3.5, axis=ax[1], grid_t=\"9h\", avg_t=\"12h\")\n",
    "\n",
    "diff = FESA.pct_change(periods=1)\n",
    "\n",
    "colors = plt.cm.plasma(np.linspace(0, 1, 7))\n",
    "\n",
    "for column in diff.columns:\n",
    "    ax[0].plot(diff.index, diff[column], color=colors[column])\n",
    "    ax[0].set_yscale('symlog')\n",
    "    ax[0].hlines(y = 1, xmin=start, xmax=end, color=\"black\")\n",
    "\n",
    "\n",
    "print(FESA)\n",
    "print(diff[0])\n",
    "\n",
    "fig.savefig(\"Test.pdf\", format=\"pdf\")\n"
   ]
  },
  {
   "cell_type": "code",
   "execution_count": null,
   "metadata": {},
   "outputs": [],
   "source": []
  }
 ],
 "metadata": {
  "kernelspec": {
   "display_name": "RadiationBeltResearch",
   "language": "python",
   "name": "python3"
  },
  "language_info": {
   "codemirror_mode": {
    "name": "ipython",
    "version": 3
   },
   "file_extension": ".py",
   "mimetype": "text/x-python",
   "name": "python",
   "nbconvert_exporter": "python",
   "pygments_lexer": "ipython3",
   "version": "3.12.1"
  }
 },
 "nbformat": 4,
 "nbformat_minor": 2
}
