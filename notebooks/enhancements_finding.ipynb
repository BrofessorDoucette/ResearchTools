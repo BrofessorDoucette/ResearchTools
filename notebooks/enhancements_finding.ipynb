{
 "cells": [
  {
   "cell_type": "code",
   "execution_count": 8,
   "metadata": {},
   "outputs": [],
   "source": [
    "import sys\n",
    "# caution: path[0] is reserved for script path (or '' in REPL).\n",
    "sys.path.insert(1, './../src')\n",
    "\n",
    "import data_loader\n",
    "import data_references\n",
    "from energy_channels import EnergyChannel\n",
    "import enhancement_finder\n",
    "import datetime\n",
    "import matplotlib.pyplot as plt\n",
    "import matplotlib.colors as colors\n",
    "import plot_tools\n",
    "import numpy as np\n",
    "import pandas as pd\n",
    "import psd_tool\n",
    "from field_models import model\n",
    "import spacepy\n",
    "\n",
    "import importlib\n",
    "importlib.reload(plot_tools)\n",
    "importlib.reload(data_loader)\n",
    "importlib.reload(enhancement_finder)\n",
    "importlib.reload(data_references)\n",
    "importlib.reload(psd_tool)\n",
    "\n",
    "\n",
    "%matplotlib qt"
   ]
  },
  {
   "cell_type": "code",
   "execution_count": 9,
   "metadata": {},
   "outputs": [
    {
     "name": "stdout",
     "output_type": "stream",
     "text": [
      "Loading REPT data between: 2013-01-01 00:00:00 and 2013-12-31 23:59:59.\n",
      "Loading : REPT_201301_A.npz\n",
      "Loading : REPT_201302_A.npz\n",
      "Loading : REPT_201303_A.npz\n",
      "Loading : REPT_201304_A.npz\n",
      "Loading : REPT_201305_A.npz\n",
      "Loading : REPT_201306_A.npz\n",
      "Loading : REPT_201307_A.npz\n",
      "Loading : REPT_201308_A.npz\n",
      "Loading : REPT_201309_A.npz\n",
      "Loading : REPT_201310_A.npz\n",
      "Loading : REPT_201311_A.npz\n",
      "Loading : REPT_201312_A.npz\n",
      "Loading REPT data between: 2013-01-01 00:00:00 and 2013-12-31 23:59:59.\n",
      "Loading : REPT_201301_B.npz\n",
      "Loading : REPT_201302_B.npz\n",
      "Loading : REPT_201303_B.npz\n",
      "Loading : REPT_201304_B.npz\n",
      "Loading : REPT_201305_B.npz\n",
      "Loading : REPT_201306_B.npz\n",
      "Loading : REPT_201307_B.npz\n",
      "Loading : REPT_201308_B.npz\n",
      "Loading : REPT_201309_B.npz\n",
      "Loading : REPT_201310_B.npz\n",
      "Loading : REPT_201311_B.npz\n",
      "Loading : REPT_201312_B.npz\n",
      "Loading OMNI data between: 2013-01-01 00:00:00 and 2013-12-31 23:59:59\n",
      "Loaded OMNI Data for : 2013-01-01 00:00:00\n",
      "Loaded OMNI Data for : 2013-02-01 00:00:00\n",
      "Loaded OMNI Data for : 2013-03-01 00:00:00\n",
      "Loaded OMNI Data for : 2013-04-01 00:00:00\n",
      "Loaded OMNI Data for : 2013-05-01 00:00:00\n",
      "Loaded OMNI Data for : 2013-06-01 00:00:00\n",
      "Loaded OMNI Data for : 2013-07-01 00:00:00\n",
      "Loaded OMNI Data for : 2013-08-01 00:00:00\n",
      "Loaded OMNI Data for : 2013-09-01 00:00:00\n",
      "Loaded OMNI Data for : 2013-10-01 00:00:00\n",
      "Loaded OMNI Data for : 2013-11-01 00:00:00\n",
      "Loaded OMNI Data for : 2013-12-01 00:00:00\n"
     ]
    }
   ],
   "source": [
    "start = datetime.datetime(year = 2013, month = 1, day = 1)\n",
    "end = datetime.datetime(year = 2013, month = 12, day = 31, hour=23, minute=59, second=59)\n",
    "\n",
    "dataRefsA = data_loader.load_compressed_rept_data(satellite=\"A\", start=start, end=end)\n",
    "dataRefsB = data_loader.load_compressed_rept_data(satellite=\"B\", start=start, end=end)\n",
    "\n",
    "fesa_A, L_A, mlt_A, epoch_A, energies = dataRefsA.get_all_data()\n",
    "fesa_B, L_B, mlt_B, epoch_B, energies = dataRefsB.get_all_data()\n",
    "\n",
    "omni = data_loader.load_omni_data(start=start, end=end)\n"
   ]
  },
  {
   "cell_type": "code",
   "execution_count": 10,
   "metadata": {},
   "outputs": [],
   "source": [
    "l_cut = 5.5\n",
    "tol = 0.1\n",
    "\n",
    "satisfies_L_cut_A = ((l_cut - tol) < L_A) & (L_A < (l_cut + tol))\n",
    "satisfies_L_cut_B = ((l_cut - tol) < L_B) & (L_B < (l_cut + tol))\n",
    "\n",
    "fesa_A = fesa_A[:, (energies < 6.5)]\n",
    "fesa_B = fesa_B[:, (energies < 6.5)]\n",
    "\n",
    "fesa_A_DF = pd.DataFrame(fesa_A[satisfies_L_cut_A, :], index=epoch_A[satisfies_L_cut_A])\n",
    "fesa_B_DF = pd.DataFrame(fesa_B[satisfies_L_cut_B, :], index=epoch_B[satisfies_L_cut_B])"
   ]
  },
  {
   "cell_type": "code",
   "execution_count": 11,
   "metadata": {},
   "outputs": [],
   "source": [
    "grid_t = \"6h\"\n",
    "\n",
    "fesa = pd.concat([fesa_A_DF, fesa_B_DF], sort=False).sort_index()\n",
    "fesa = fesa.resample(\"6h\").mean()\n",
    "#FESA = FESA.rolling(window=avg_t, center=True).mean()"
   ]
  },
  {
   "cell_type": "code",
   "execution_count": 12,
   "metadata": {},
   "outputs": [
    {
     "name": "stdout",
     "output_type": "stream",
     "text": [
      "Loading : POES_201301_metop1_CLEAN.npz\n",
      "Loading : POES_201302_metop1_CLEAN.npz\n",
      "Loading : POES_201303_metop1_CLEAN.npz\n",
      "Loading : POES_201304_metop1_CLEAN.npz\n",
      "Loading : POES_201305_metop1_CLEAN.npz\n",
      "Loading : POES_201306_metop1_CLEAN.npz\n",
      "Loading : POES_201307_metop1_CLEAN.npz\n",
      "Loading : POES_201308_metop1_CLEAN.npz\n",
      "Loading : POES_201309_metop1_CLEAN.npz\n",
      "Loading : POES_201310_metop1_CLEAN.npz\n",
      "Loading : POES_201311_metop1_CLEAN.npz\n",
      "Loading : POES_201312_metop1_CLEAN.npz\n",
      "Loading : POES_201301_metop2_CLEAN.npz\n",
      "Loading : POES_201302_metop2_CLEAN.npz\n",
      "Loading : POES_201303_metop2_CLEAN.npz\n",
      "Loading : POES_201304_metop2_CLEAN.npz\n",
      "Loading : POES_201305_metop2_CLEAN.npz\n",
      "Loading : POES_201306_metop2_CLEAN.npz\n",
      "Loading : POES_201307_metop2_CLEAN.npz\n",
      "Loading : POES_201308_metop2_CLEAN.npz\n",
      "Loading : POES_201309_metop2_CLEAN.npz\n",
      "Loading : POES_201310_metop2_CLEAN.npz\n",
      "Loading : POES_201311_metop2_CLEAN.npz\n",
      "Loading : POES_201312_metop2_CLEAN.npz\n",
      "Loading : POES_201301_noaa15_CLEAN.npz\n",
      "Loading : POES_201302_noaa15_CLEAN.npz\n",
      "Loading : POES_201303_noaa15_CLEAN.npz\n",
      "Loading : POES_201304_noaa15_CLEAN.npz\n",
      "Loading : POES_201305_noaa15_CLEAN.npz\n",
      "Loading : POES_201306_noaa15_CLEAN.npz\n",
      "Loading : POES_201307_noaa15_CLEAN.npz\n",
      "Loading : POES_201308_noaa15_CLEAN.npz\n",
      "Loading : POES_201309_noaa15_CLEAN.npz\n",
      "Loading : POES_201310_noaa15_CLEAN.npz\n",
      "Loading : POES_201311_noaa15_CLEAN.npz\n",
      "Loading : POES_201312_noaa15_CLEAN.npz\n",
      "Loading : POES_201301_noaa16_CLEAN.npz\n",
      "Loading : POES_201302_noaa16_CLEAN.npz\n",
      "Loading : POES_201303_noaa16_CLEAN.npz\n",
      "Loading : POES_201304_noaa16_CLEAN.npz\n",
      "Loading : POES_201305_noaa16_CLEAN.npz\n",
      "Loading : POES_201306_noaa16_CLEAN.npz\n",
      "Loading : POES_201307_noaa16_CLEAN.npz\n",
      "Loading : POES_201308_noaa16_CLEAN.npz\n",
      "Loading : POES_201309_noaa16_CLEAN.npz\n",
      "Loading : POES_201310_noaa16_CLEAN.npz\n",
      "Loading : POES_201311_noaa16_CLEAN.npz\n",
      "Loading : POES_201312_noaa16_CLEAN.npz\n",
      "Loading : POES_201301_noaa18_CLEAN.npz\n",
      "Loading : POES_201302_noaa18_CLEAN.npz\n",
      "Loading : POES_201303_noaa18_CLEAN.npz\n",
      "Loading : POES_201304_noaa18_CLEAN.npz\n",
      "Loading : POES_201305_noaa18_CLEAN.npz\n",
      "Loading : POES_201306_noaa18_CLEAN.npz\n",
      "Loading : POES_201307_noaa18_CLEAN.npz\n",
      "Loading : POES_201308_noaa18_CLEAN.npz\n",
      "Loading : POES_201309_noaa18_CLEAN.npz\n",
      "Loading : POES_201310_noaa18_CLEAN.npz\n",
      "Loading : POES_201311_noaa18_CLEAN.npz\n",
      "Loading : POES_201312_noaa18_CLEAN.npz\n",
      "Loading : POES_201301_noaa19_CLEAN.npz\n",
      "Loading : POES_201302_noaa19_CLEAN.npz\n",
      "Loading : POES_201303_noaa19_CLEAN.npz\n",
      "Loading : POES_201304_noaa19_CLEAN.npz\n",
      "Loading : POES_201305_noaa19_CLEAN.npz\n",
      "Loading : POES_201306_noaa19_CLEAN.npz\n",
      "Loading : POES_201307_noaa19_CLEAN.npz\n",
      "Loading : POES_201308_noaa19_CLEAN.npz\n",
      "Loading : POES_201309_noaa19_CLEAN.npz\n",
      "Loading : POES_201310_noaa19_CLEAN.npz\n",
      "Loading : POES_201311_noaa19_CLEAN.npz\n",
      "Loading : POES_201312_noaa19_CLEAN.npz\n"
     ]
    }
   ],
   "source": [
    "metop1 = data_loader.load_compressed_poes_data(\"metop1\", start=start, end=end)\n",
    "metop2 = data_loader.load_compressed_poes_data(\"metop2\", start=start, end=end)\n",
    "noaa15 = data_loader.load_compressed_poes_data(\"noaa15\", start=start, end=end)\n",
    "noaa16 = data_loader.load_compressed_poes_data(\"noaa16\", start=start, end=end)\n",
    "noaa18 = data_loader.load_compressed_poes_data(\"noaa18\", start=start, end=end)\n",
    "noaa19 = data_loader.load_compressed_poes_data(\"noaa19\", start=start, end=end)\n",
    "\n",
    "satellites = [metop1, metop2, noaa15, noaa16, noaa18, noaa19]\n"
   ]
  },
  {
   "cell_type": "code",
   "execution_count": 13,
   "metadata": {},
   "outputs": [],
   "source": [
    "poes_epoch = np.concatenate([sat.get_data(data_references.POES.EPOCH) for sat in satellites], axis=0)\n",
    "poes_L = np.concatenate([sat.get_data(data_references.POES.L) for sat in satellites], axis = 0)\n",
    "chorus = np.concatenate([sat.get_data(data_references.POES.NAIVE_CHORUS_AMPLITUDES) for sat in satellites], axis=0)\n",
    "\n",
    "satisfies_L_cut_POES = ((l_cut - tol) < poes_L) & (poes_L < (l_cut + tol))\n",
    "poes_epoch = poes_epoch[satisfies_L_cut_POES]\n",
    "poes_L = poes_L[satisfies_L_cut_POES]\n",
    "chorus = chorus[satisfies_L_cut_POES]\n",
    "\n",
    "POES = pd.DataFrame({\"L\": poes_L, \"Chorus\": chorus}, index=poes_epoch).sort_index().resample(\"3h\").mean()"
   ]
  },
  {
   "cell_type": "code",
   "execution_count": 19,
   "metadata": {},
   "outputs": [
    {
     "name": "stdout",
     "output_type": "stream",
     "text": [
      "Loading : PSD_DEPENDENCIES_201301_A_TS04D.npz\n",
      "Loading : PSD_DEPENDENCIES_201302_A_TS04D.npz\n",
      "Loading : PSD_DEPENDENCIES_201303_A_TS04D.npz\n",
      "Loading : PSD_DEPENDENCIES_201304_A_TS04D.npz\n",
      "Loading : PSD_DEPENDENCIES_201305_A_TS04D.npz\n",
      "Loading : PSD_DEPENDENCIES_201306_A_TS04D.npz\n",
      "Loading : PSD_DEPENDENCIES_201307_A_TS04D.npz\n",
      "Loading : PSD_DEPENDENCIES_201308_A_TS04D.npz\n",
      "Loading : PSD_DEPENDENCIES_201309_A_TS04D.npz\n",
      "Loading : PSD_DEPENDENCIES_201310_A_TS04D.npz\n",
      "Loading : PSD_DEPENDENCIES_201311_A_TS04D.npz\n",
      "Loading : PSD_DEPENDENCIES_201312_A_TS04D.npz\n"
     ]
    }
   ],
   "source": [
    "satellite = \"A\"\n",
    "model = model.TS04D\n",
    "\n",
    "dependencies = data_loader.load_psd_dependencies(satellite=satellite, field_model=model, start=start, end=end)"
   ]
  },
  {
   "cell_type": "code",
   "execution_count": 20,
   "metadata": {},
   "outputs": [
    {
     "name": "stdout",
     "output_type": "stream",
     "text": [
      "float64\n",
      "float32\n",
      "float64\n",
      "float32\n",
      "Time taken to interpolate over time: 35.03549933433533\n"
     ]
    },
    {
     "name": "stderr",
     "output_type": "stream",
     "text": [
      "c:\\Users\\brofe\\miniconda3\\envs\\RadiationBeltResearch\\Lib\\site-packages\\numpy\\polynomial\\polynomial.py:1362: RankWarning: The fit may be poorly conditioned\n",
      "  return pu._fit(polyvander, x, y, deg, rcond, full, w)\n"
     ]
    },
    {
     "name": "stdout",
     "output_type": "stream",
     "text": [
      "Time taken for loop: 493.57301139831543\n"
     ]
    }
   ],
   "source": [
    "chosen_mu = 3000\n",
    "chosen_k = 0.18\n",
    "\n",
    "JD, Lstar, PSD, in_out, orbit_number = psd_tool.calculate_psd(dependencies=dependencies, \n",
    "                                                              chosen_mu=chosen_mu, \n",
    "                                                              chosen_k=chosen_k, \n",
    "                                                              debug_mode=False, \n",
    "                                                              verbose=False)\n",
    "epoch = spacepy.time.Ticktock(JD, \"JD\").getUTC()"
   ]
  },
  {
   "cell_type": "code",
   "execution_count": 21,
   "metadata": {},
   "outputs": [
    {
     "name": "stdout",
     "output_type": "stream",
     "text": [
      "163192\n",
      "12315\n"
     ]
    }
   ],
   "source": [
    "print(len(epoch))\n",
    "\n",
    "satisfies_Lstar_cut = ((l_cut - tol) < Lstar) & (Lstar < (l_cut + tol))\n",
    "\n",
    "epoch = epoch[satisfies_Lstar_cut]\n",
    "Lstar = Lstar[satisfies_Lstar_cut]\n",
    "PSD = PSD[satisfies_Lstar_cut]\n",
    "in_out = in_out[satisfies_Lstar_cut]\n",
    "orbit_number = orbit_number[satisfies_Lstar_cut]\n",
    "\n",
    "print(len(epoch))\n"
   ]
  },
  {
   "cell_type": "code",
   "execution_count": 22,
   "metadata": {},
   "outputs": [],
   "source": [
    "PSD_df = pd.Series(PSD, index=epoch).resample(\"3h\").mean()\n",
    "PSD_df = PSD_df[np.isfinite(PSD_df)]"
   ]
  },
  {
   "cell_type": "code",
   "execution_count": 24,
   "metadata": {},
   "outputs": [
    {
     "name": "stderr",
     "output_type": "stream",
     "text": [
      "<>:53: SyntaxWarning: invalid escape sequence '\\d'\n",
      "<>:53: SyntaxWarning: invalid escape sequence '\\d'\n",
      "C:\\Users\\brofe\\AppData\\Local\\Temp\\ipykernel_14340\\3561673013.py:53: SyntaxWarning: invalid escape sequence '\\d'\n",
      "  '''axs[4].plot(omni.index, f, color=\"black\", label=\"$|{\\delta}AE|$\")\n",
      "C:\\Users\\brofe\\AppData\\Local\\Temp\\ipykernel_14340\\3561673013.py:16: MatplotlibDeprecationWarning: The get_cmap function was deprecated in Matplotlib 3.7 and will be removed two minor releases later. Use ``matplotlib.colormaps[name]`` or ``matplotlib.colormaps.get_cmap(obj)`` instead.\n",
      "  plasma_colors = plt.cm.get_cmap(\"plasma\", num_energies)\n"
     ]
    }
   ],
   "source": [
    "\n",
    "slow_moving = omni[\"AE\"].rolling(\"3h\", center=False).mean()\n",
    "#f = (OMNI[\"AE\"] - slow_moving)\n",
    "f = omni[\"AE\"].diff()\n",
    "threshold = 25\n",
    "shifted_f1 = (f-threshold)\n",
    "shifted_f2 = (f+threshold)\n",
    "\n",
    "zero_crossings1 = ((shifted_f1.shift() >= 0) & (shifted_f1 < 0)) | ((shifted_f1.shift() < 0) & (shifted_f1 >= 0))\n",
    "zero_crossings2 = ((shifted_f2.shift() >= 0) & (shifted_f2 < 0)) | ((shifted_f2.shift() < 0) & (shifted_f2 >= 0))\n",
    "zero_crossings = zero_crossings1 | zero_crossings2\n",
    "num_crossings = zero_crossings.rolling(\"3h\", center=False).sum().rolling(\"6h\", center=True).mean()\n",
    "\n",
    "fig, axs = plt.subplots(5, 1, sharex=True)\n",
    "\n",
    "num_energies = fesa.shape[1]\n",
    "plasma_colors = plt.cm.get_cmap(\"plasma\", num_energies)\n",
    "\n",
    "for E in range(num_energies):\n",
    "    \n",
    "    axs[0].semilogy(fesa.index, fesa[E], label=f\"{energies[E]} MeV\", color=plasma_colors(E), linewidth=2.5)\n",
    "    \n",
    "axs[0].set_ylabel(\"Flux ($cm^{-2}s^{-1}sr^{-1}MeV^{-1}$)\")\n",
    "axs[0].legend(loc=\"upper right\")\n",
    "axs[0].yaxis.grid(color='gray', linestyle='dashed')\n",
    "axs[0].xaxis.grid(color='gray', linestyle='dashed')\n",
    "axs[0].set_xlim(start, end)\n",
    "axs[0].set_title(f\"L = {l_cut}, RBSP-COMBINED\")\n",
    "\n",
    "axs[1].semilogy(PSD_df.index, PSD_df, color=\"black\", linewidth=2)\n",
    "axs[1].set_title(rf\"RBSP-A, $\\mu$ = {chosen_mu} (MeV / G), K = {chosen_k} ($R_E$$G^{{1/2}}$), {model.name}\")\n",
    "axs[1].set_ylabel(\"PSD (c/Mev/G)\")\n",
    "\n",
    "axs[2].yaxis.grid(color='gray', linestyle='dashed')\n",
    "axs[2].xaxis.grid(color='gray', linestyle='dashed')\n",
    "axs[2].plot(num_crossings.index, num_crossings, color=\"black\", label=\"Crossings\")\n",
    "axs[2].set_ylabel(\"# Crossing Threshold\")\n",
    "axs[2].set_ylim(bottom=0)\n",
    "#axs[1].hlines(y=100, xmin=start, xmax=end, color=\"green\", label=\"Enhancement Trigger\")\n",
    "\n",
    "axs[3].plot(POES.index, POES[\"Chorus\"], color=\"black\")\n",
    "axs[3].set_ylabel(\"Naive Chorus (pT)\")\n",
    "axs[3].set_xlabel(\"Time\")\n",
    "\n",
    "\n",
    "axs[4].yaxis.grid(color='gray', linestyle='dashed')\n",
    "axs[4].xaxis.grid(color='gray', linestyle='dashed')\n",
    "axs[4].plot(omni.index, omni[\"AE\"], color=\"black\", label=\"AE\")\n",
    "axs[4].plot(omni.index, slow_moving, color=\"blue\", linewidth=2, label=\"Slow Average\")\n",
    "axs[4].set_ylabel(\"AE (nT)\")\n",
    "axs[4].set_ylim(bottom=0)\n",
    "axs[4].legend()\n",
    "\n",
    "'''axs[4].plot(omni.index, f, color=\"black\", label=\"$|{\\delta}AE|$\")\n",
    "axs[4].set_ylabel(\"$|{\\delta}AE|$ (nT)\")\n",
    "axs[4].yaxis.grid(color='gray', linestyle='dashed')\n",
    "axs[4].xaxis.grid(color='gray', linestyle='dashed')\n",
    "axs[4].hlines(y=threshold, xmin=start, xmax=end, color=\"green\", label=\"Threshold\")\n",
    "axs[4].hlines(y=-1 * threshold, xmin=start, xmax=end, color=\"green\", label=\"Threshold\")\n",
    "\n",
    "#axs[4].set_ylim(bottom=0)\n",
    "axs[4].legend()'''\n",
    "\n",
    "#cbar = plt.colorbar(image_cmap, ax=axs[4])\n",
    "\n",
    "#cbar.set_label(\"Bw (pT)\\n\", loc=\"center\", rotation=270)\n",
    "\n",
    "fig.set_size_inches(12, 8)\n",
    "\n",
    "plt.show()"
   ]
  },
  {
   "cell_type": "code",
   "execution_count": 51,
   "metadata": {},
   "outputs": [
    {
     "name": "stderr",
     "output_type": "stream",
     "text": [
      "<>:42: SyntaxWarning: invalid escape sequence '\\d'\n",
      "<>:42: SyntaxWarning: invalid escape sequence '\\d'\n",
      "C:\\Users\\brofe\\AppData\\Local\\Temp\\ipykernel_26284\\1393837514.py:42: SyntaxWarning: invalid escape sequence '\\d'\n",
      "  '''axs[4].plot(omni.index, f, color=\"black\")\n",
      "C:\\Users\\brofe\\AppData\\Local\\Temp\\ipykernel_26284\\1393837514.py:14: MatplotlibDeprecationWarning: The get_cmap function was deprecated in Matplotlib 3.7 and will be removed two minor releases later. Use ``matplotlib.colormaps[name]`` or ``matplotlib.colormaps.get_cmap(obj)`` instead.\n",
      "  plasma_colors = plt.cm.get_cmap(\"plasma\", num_energies)\n"
     ]
    }
   ],
   "source": [
    "\n",
    "f = omni[\"Bz\"].diff()\n",
    "threshold = 2.5\n",
    "shifted_f1 = (f-threshold)\n",
    "shifted_f2 = (f+threshold)\n",
    "\n",
    "zero_crossings1 = ((shifted_f1.shift() >= 0) & (shifted_f1 < 0)) | ((shifted_f1.shift() < 0) & (shifted_f1 >= 0))\n",
    "zero_crossings2 = ((shifted_f2.shift() >= 0) & (shifted_f2 < 0)) | ((shifted_f2.shift() < 0) & (shifted_f2 >= 0))\n",
    "zero_crossings = zero_crossings1 | zero_crossings2\n",
    "num_crossings = zero_crossings.rolling(\"3h\", center=False).sum()\n",
    "\n",
    "fig, axs = plt.subplots(5, 1, sharex=\"all\")\n",
    "\n",
    "num_energies = fesa.shape[1]\n",
    "plasma_colors = plt.cm.get_cmap(\"plasma\", num_energies)\n",
    "\n",
    "for E in range(num_energies):\n",
    "    \n",
    "    axs[0].semilogy(fesa.index, fesa[E], label=f\"{energies[E]} MeV\", color=plasma_colors(E), linewidth=2.5)\n",
    "\n",
    "\n",
    "axs[0].set_ylabel(\"Flux ($cm^{-2}s^{-1}sr^{-1}MeV^{-1}$)\")\n",
    "axs[0].legend(loc=\"upper right\")\n",
    "axs[0].yaxis.grid(color='gray', linestyle='dashed')\n",
    "axs[0].xaxis.grid(color='gray', linestyle='dashed')\n",
    "axs[0].set_xlim(start, end)\n",
    "axs[0].set_title(f\"L = {l_cut}, RBSP-COMBINED\")\n",
    "\n",
    "axs[1].semilogy(PSD_df.index, PSD_df, color=\"black\", linewidth=2)\n",
    "axs[1].set_title(rf\"RBSP-A, $\\mu$ = {chosen_mu} (MeV / G), K = {chosen_k} ($R_E$$G^{{1/2}}$), {model.name}\")\n",
    "axs[1].set_ylabel(\"PSD (c/Mev/G)\")\n",
    "\n",
    "axs[2].yaxis.grid(color='gray', linestyle='dashed')\n",
    "axs[2].xaxis.grid(color='gray', linestyle='dashed')\n",
    "axs[2].plot(num_crossings.index, num_crossings, color=\"black\", label=\"Crossings\")\n",
    "axs[2].set_ylabel(\"# Crossing Threshold\")\n",
    "axs[2].set_ylim(bottom=0)\n",
    "\n",
    "axs[3].plot(POES.index, POES[\"Chorus\"], color=\"black\")\n",
    "axs[3].set_ylabel(\"Naive Chorus (pT)\")\n",
    "axs[3].set_xlabel(\"Time\")\n",
    "\n",
    "'''axs[4].plot(omni.index, f, color=\"black\")\n",
    "\n",
    "axs[4].yaxis.grid(color='gray', linestyle='dashed')\n",
    "axs[4].xaxis.grid(color='gray', linestyle='dashed')\n",
    "axs[4].set_ylabel(\"${\\delta}B_{z}$ (nT)\")\n",
    "axs[4].hlines(y=0, xmin=start, xmax=end, color=\"black\")\n",
    "axs[4].hlines(y=threshold, xmin=start, xmax=end, color=\"green\", label=\"Threshold\")\n",
    "axs[4].hlines(y=-1 * threshold, xmin=start, xmax=end, color=\"green\", label=\"Threshold\")'''\n",
    "\n",
    "axs[4].plot(omni.index, omni[\"Bz\"], color=\"black\")\n",
    "axs[4].plot(omni.index, omni[\"Bz\"].rolling(\"3h\", center=True).mean(), label=\"Slow Average\", color=\"red\", linewidth=1)\n",
    "\n",
    "axs[4].yaxis.grid(color='gray', linestyle='dashed')\n",
    "axs[4].xaxis.grid(color='gray', linestyle='dashed')\n",
    "axs[4].set_ylabel(\"$B_{z}$ (nT)\")\n",
    "axs[4].legend()\n",
    "\n",
    "plt.show()\n",
    "\n"
   ]
  },
  {
   "cell_type": "code",
   "execution_count": null,
   "metadata": {},
   "outputs": [],
   "source": []
  }
 ],
 "metadata": {
  "kernelspec": {
   "display_name": "RadiationBeltResearch",
   "language": "python",
   "name": "python3"
  },
  "language_info": {
   "codemirror_mode": {
    "name": "ipython",
    "version": 3
   },
   "file_extension": ".py",
   "mimetype": "text/x-python",
   "name": "python",
   "nbconvert_exporter": "python",
   "pygments_lexer": "ipython3",
   "version": "3.12.1"
  }
 },
 "nbformat": 4,
 "nbformat_minor": 2
}
