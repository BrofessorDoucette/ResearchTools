{
 "cells": [
  {
   "cell_type": "code",
   "execution_count": 51,
   "metadata": {},
   "outputs": [],
   "source": [
    "import sys\n",
    "import os\n",
    "# caution: path[0] is reserved for script path (or '' in REPL).\n",
    "sys.path.insert(1, os.path.abspath('./../src'))\n",
    "\n",
    "import datetime\n",
    "\n",
    "import psd_tool\n",
    "from field_models import model\n",
    "import data_loader\n",
    "import matplotlib.pyplot as plt\n",
    "import spacepy\n",
    "import numpy as np\n",
    "\n",
    "import importlib\n",
    "importlib.reload(psd_tool)\n",
    "importlib.reload(data_loader)\n",
    "\n",
    "\n",
    "%matplotlib qt"
   ]
  },
  {
   "cell_type": "code",
   "execution_count": 52,
   "metadata": {},
   "outputs": [],
   "source": [
    "start = datetime.datetime(year = 2013,\n",
    "                            month = 1,\n",
    "                            day = 1)\n",
    "\n",
    "end = datetime.datetime(year = 2013, \n",
    "                        month = 12, \n",
    "                        day = 31,\n",
    "                        hour = 23,\n",
    "                        minute = 59, \n",
    "                        second = 59)\n",
    "\n",
    "chosen_mu = 3000\n",
    "chosen_k = 0.1\n",
    "model = model.TS04D"
   ]
  },
  {
   "cell_type": "code",
   "execution_count": 53,
   "metadata": {},
   "outputs": [
    {
     "name": "stdout",
     "output_type": "stream",
     "text": [
      "Loading A:\n",
      "Loading : PSD_DEPENDENCIES_201301_A_TS04D.npz\n",
      "Loading : PSD_DEPENDENCIES_201302_A_TS04D.npz\n",
      "Loading : PSD_DEPENDENCIES_201303_A_TS04D.npz\n",
      "Loading : PSD_DEPENDENCIES_201304_A_TS04D.npz\n",
      "Loading : PSD_DEPENDENCIES_201305_A_TS04D.npz\n",
      "Loading : PSD_DEPENDENCIES_201306_A_TS04D.npz\n",
      "Loading : PSD_DEPENDENCIES_201307_A_TS04D.npz\n",
      "Loading : PSD_DEPENDENCIES_201308_A_TS04D.npz\n",
      "Loading : PSD_DEPENDENCIES_201309_A_TS04D.npz\n",
      "Loading : PSD_DEPENDENCIES_201310_A_TS04D.npz\n",
      "Loading : PSD_DEPENDENCIES_201311_A_TS04D.npz\n",
      "Loading : PSD_DEPENDENCIES_201312_A_TS04D.npz\n",
      "Loading B:\n",
      "Loading : PSD_DEPENDENCIES_201301_B_TS04D.npz\n",
      "Loading : PSD_DEPENDENCIES_201302_B_TS04D.npz\n",
      "Loading : PSD_DEPENDENCIES_201303_B_TS04D.npz\n",
      "Loading : PSD_DEPENDENCIES_201304_B_TS04D.npz\n",
      "Loading : PSD_DEPENDENCIES_201305_B_TS04D.npz\n",
      "Loading : PSD_DEPENDENCIES_201306_B_TS04D.npz\n",
      "Loading : PSD_DEPENDENCIES_201307_B_TS04D.npz\n",
      "Loading : PSD_DEPENDENCIES_201308_B_TS04D.npz\n",
      "Loading : PSD_DEPENDENCIES_201309_B_TS04D.npz\n",
      "Loading : PSD_DEPENDENCIES_201310_B_TS04D.npz\n",
      "Loading : PSD_DEPENDENCIES_201311_B_TS04D.npz\n",
      "Loading : PSD_DEPENDENCIES_201312_B_TS04D.npz\n",
      "Dependencies successfully loaded!\n"
     ]
    }
   ],
   "source": [
    "print(\"Loading A:\")\n",
    "dependencies_A = data_loader.load_psd_dependencies(satellite=\"A\", field_model=model, start=start, end=end)\n",
    "\n",
    "print(\"Loading B:\")\n",
    "dependencies_B = data_loader.load_psd_dependencies(satellite=\"B\", field_model=model, start=start, end=end)\n",
    "\n",
    "print(\"Dependencies successfully loaded!\")"
   ]
  },
  {
   "cell_type": "code",
   "execution_count": 54,
   "metadata": {},
   "outputs": [
    {
     "name": "stdout",
     "output_type": "stream",
     "text": [
      "Calculating PSD for A at mu = 3000, k = 0.1\n",
      "Time taken for loop: 54.16633915901184\n",
      "Calculating PSD for B at mu = 3000, k = 0.1\n",
      "Time taken for loop: 56.57477378845215\n"
     ]
    }
   ],
   "source": [
    "print(f\"Calculating PSD for A at mu = {chosen_mu}, k = {chosen_k}\")\n",
    "epoch_A, Lstar_A, PSD_A, in_out_A, orbit_number_A = psd_tool.calculate_psd(dependencies=dependencies_A, chosen_mu=chosen_mu, chosen_k=chosen_k, debug_mode=False, verbose=False)\n",
    "\n",
    "print(f\"Calculating PSD for B at mu = {chosen_mu}, k = {chosen_k}\")\n",
    "epoch_B, Lstar_B, PSD_B, in_out_B, orbit_number_B = psd_tool.calculate_psd(dependencies=dependencies_B, chosen_mu=chosen_mu, chosen_k=chosen_k, debug_mode=False, verbose=False)\n"
   ]
  },
  {
   "cell_type": "code",
   "execution_count": 64,
   "metadata": {},
   "outputs": [
    {
     "name": "stdout",
     "output_type": "stream",
     "text": [
      "Length of A: 119643\n",
      "Length of B: 120516\n",
      "Length of A: 30840\n",
      "Length of B: 31777\n"
     ]
    }
   ],
   "source": [
    "print(f\"Length of A: {len(epoch_A)}\")\n",
    "print(f\"Length of B: {len(epoch_B)}\")\n",
    "\n",
    "l_cut = 5.5\n",
    "tol = 0.25\n",
    "\n",
    "satisfies_Lstar_cut_A = ((l_cut - tol) < Lstar_A) & (Lstar_A < (l_cut + tol))\n",
    "\n",
    "epoch_A_cut = epoch_A[satisfies_Lstar_cut_A]\n",
    "Lstar_A_cut = Lstar_A[satisfies_Lstar_cut_A]\n",
    "PSD_A_cut = PSD_A[satisfies_Lstar_cut_A]\n",
    "in_out_A_cut = in_out_A[satisfies_Lstar_cut_A]\n",
    "orbit_number_A_cut = orbit_number_A[satisfies_Lstar_cut_A]\n",
    "\n",
    "satisfies_Lstar_cut_B = ((l_cut - tol) < Lstar_B) & (Lstar_B < (l_cut + tol))\n",
    "\n",
    "epoch_B_cut = epoch_B[satisfies_Lstar_cut_B]\n",
    "Lstar_B_cut = Lstar_B[satisfies_Lstar_cut_B]\n",
    "PSD_B_cut = PSD_B[satisfies_Lstar_cut_B]\n",
    "in_out_B_cut = in_out_B[satisfies_Lstar_cut_B]\n",
    "orbit_number_B_cut = orbit_number_B[satisfies_Lstar_cut_B]\n",
    "\n",
    "print(f\"Length of A: {len(epoch_A_cut)}\")\n",
    "print(f\"Length of B: {len(epoch_B_cut)}\")\n"
   ]
  },
  {
   "cell_type": "code",
   "execution_count": 65,
   "metadata": {},
   "outputs": [],
   "source": [
    "fig, axs = plt.subplots(1, 1, sharex=True)\n",
    "\n",
    "axs.semilogy(epoch_A_cut, PSD_A_cut, \".\", color=\"red\")\n",
    "axs.semilogy(epoch_B_cut, PSD_B_cut, \".\", color=\"blue\")\n",
    "\n",
    "plt.show()"
   ]
  },
  {
   "cell_type": "code",
   "execution_count": null,
   "metadata": {},
   "outputs": [],
   "source": []
  }
 ],
 "metadata": {
  "kernelspec": {
   "display_name": "RadiationBeltResearch",
   "language": "python",
   "name": "python3"
  },
  "language_info": {
   "codemirror_mode": {
    "name": "ipython",
    "version": 3
   },
   "file_extension": ".py",
   "mimetype": "text/x-python",
   "name": "python",
   "nbconvert_exporter": "python",
   "pygments_lexer": "ipython3",
   "version": "3.12.1"
  }
 },
 "nbformat": 4,
 "nbformat_minor": 2
}
