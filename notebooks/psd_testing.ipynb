{
 "cells": [
  {
   "cell_type": "code",
   "execution_count": 1,
   "metadata": {},
   "outputs": [
    {
     "name": "stdout",
     "output_type": "stream",
     "text": [
      "This unreleased version of SpacePy is not supported by the SpacePy team.\n"
     ]
    }
   ],
   "source": [
    "import sys\n",
    "import os\n",
    "# caution: path[0] is reserved for script path (or '' in REPL).\n",
    "sys.path.insert(1, os.path.abspath('./../src'))\n",
    "\n",
    "import datetime\n",
    "\n",
    "import psd_tool\n",
    "from field_models import model\n",
    "import matplotlib.pyplot as plt\n",
    "import spacepy\n",
    "import numpy as np\n",
    "\n",
    "import importlib\n",
    "importlib.reload(psd_tool)\n",
    "\n",
    "%matplotlib qt"
   ]
  },
  {
   "cell_type": "code",
   "execution_count": 2,
   "metadata": {},
   "outputs": [],
   "source": [
    "start = datetime.datetime(year = 2015,\n",
    "                            month = 3,\n",
    "                            day = 17)\n",
    "\n",
    "end = datetime.datetime(year = 2015, \n",
    "                        month = 3, \n",
    "                        day = 20)\n",
    "\n",
    "satellite = \"B\"\n",
    "chosen_mu = 1000\n",
    "chosen_k = 0.18\n",
    "model = model.TS04D\n",
    "\n",
    "JD, Lstar, PSD, in_out, orbit_number = psd_tool.calculate_psd(start, end, chosen_mu=chosen_mu, chosen_k=chosen_k, sat=satellite, field_model=model, debug_mode=False, verbose=False)\n",
    "epoch = spacepy.time.Ticktock(JD, \"JD\").getUTC()\n"
   ]
  },
  {
   "cell_type": "code",
   "execution_count": 5,
   "metadata": {},
   "outputs": [
    {
     "name": "stdout",
     "output_type": "stream",
     "text": [
      "1147\n",
      "13\n"
     ]
    }
   ],
   "source": [
    "print(len(epoch))\n",
    "\n",
    "l_cut = 5.5\n",
    "tol = 0.1\n",
    "\n",
    "satisfies_Lstar_cut = ((l_cut - tol) < Lstar) & (Lstar < (l_cut + tol))\n",
    "\n",
    "epoch = epoch[satisfies_Lstar_cut]\n",
    "Lstar = Lstar[satisfies_Lstar_cut]\n",
    "PSD = PSD[satisfies_Lstar_cut]\n",
    "in_out = in_out[satisfies_Lstar_cut]\n",
    "orbit_number = orbit_number[satisfies_Lstar_cut]\n",
    "\n",
    "print(len(epoch))"
   ]
  },
  {
   "cell_type": "code",
   "execution_count": 7,
   "metadata": {},
   "outputs": [
    {
     "name": "stdout",
     "output_type": "stream",
     "text": [
      "13\n"
     ]
    }
   ],
   "source": [
    "print(len(epoch))\n",
    "\n",
    "plt.semilogy(epoch, PSD)\n",
    "plt.show()"
   ]
  },
  {
   "cell_type": "code",
   "execution_count": null,
   "metadata": {},
   "outputs": [],
   "source": []
  }
 ],
 "metadata": {
  "kernelspec": {
   "display_name": "RadiationBeltResearch",
   "language": "python",
   "name": "python3"
  },
  "language_info": {
   "codemirror_mode": {
    "name": "ipython",
    "version": 3
   },
   "file_extension": ".py",
   "mimetype": "text/x-python",
   "name": "python",
   "nbconvert_exporter": "python",
   "pygments_lexer": "ipython3",
   "version": "3.12.1"
  }
 },
 "nbformat": 4,
 "nbformat_minor": 2
}
