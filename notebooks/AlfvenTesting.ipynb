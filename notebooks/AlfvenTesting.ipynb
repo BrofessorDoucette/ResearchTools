{
 "cells": [
  {
   "cell_type": "code",
   "execution_count": 1,
   "id": "c375c9af-d13b-489e-98fe-082dfb22177b",
   "metadata": {},
   "outputs": [],
   "source": [
    "import os\n",
    "import sys\n",
    "\n",
    "# caution: path[0] is reserved for script path (or '' in REPL).\n",
    "sys.path.insert(1, os.path.abspath(\"./../src\"))\n",
    "\n",
    "\n",
    "import datetime\n",
    "import importlib\n",
    "\n",
    "import astropy.time\n",
    "import matplotlib.pyplot as plt\n",
    "import numpy as np\n",
    "import pandas as pd\n",
    "import tqdm\n",
    "from cdflib.epochs_astropy import CDFAstropy as cdfepoch\n",
    "\n",
    "import data_loader\n",
    "import rbsp_chorus_tool\n",
    "\n",
    "importlib.reload(data_loader)\n",
    "importlib.reload(rbsp_chorus_tool)\n",
    "\n",
    "pdata_folder = os.path.abspath(r\"./../processed_data/chorus_neural_network/\")\n",
    "\n",
    "%matplotlib qt"
   ]
  },
  {
   "cell_type": "code",
   "execution_count": 2,
   "id": "78f2c926-ce5a-4d8d-943e-2a01e8667692",
   "metadata": {},
   "outputs": [],
   "source": [
    "start = datetime.datetime(year = 2012, month = 1, day = 1)\n",
    "end = datetime.datetime(year = 2020, month = 1, day = 1)\n",
    "OMNI = data_loader.load_raw_data_from_config(id = [\"OMNI\", \"ONE_MIN_RESOLUTION\"], \n",
    "                                             start = start,\n",
    "                                             end = end)\n",
    "\n",
    "valid_values = (0 < OMNI[\"flow_speed\"]) & (OMNI[\"flow_speed\"] < 2000) & (-2000 < OMNI[\"Vx\"]) & (OMNI[\"Vx\"] < 2000) & (-2000 < OMNI[\"Vy\"]) & (OMNI[\"Vy\"] < 2000) & (-2000 < OMNI[\"Vz\"]) & (OMNI[\"Vz\"] < 2000)\n",
    "\n",
    "OMNI[\"flow_speed\"] = OMNI[\"flow_speed\"][valid_values]\n",
    "OMNI[\"Vx\"] = OMNI[\"Vx\"][valid_values]\n",
    "OMNI[\"Vy\"] = OMNI[\"Vy\"][valid_values]\n",
    "OMNI[\"Vz\"] = OMNI[\"Vz\"][valid_values]\n",
    "\n",
    "\n"
   ]
  },
  {
   "cell_type": "code",
   "execution_count": 4,
   "id": "442072c5-f69e-450a-a7ce-dd1c00277b2b",
   "metadata": {},
   "outputs": [
    {
     "data": {
      "text/plain": [
       "[<matplotlib.lines.Line2D at 0x217ef8e1040>]"
      ]
     },
     "execution_count": 4,
     "metadata": {},
     "output_type": "execute_result"
    }
   ],
   "source": [
    "plt.plot(OMNI[\"flow_speed\"])\n",
    "plt.plot(np.sqrt(OMNI[\"Vx\"]**2 + OMNI[\"Vy\"]**2 + OMNI[\"Vz\"]**2))"
   ]
  },
  {
   "cell_type": "code",
   "execution_count": null,
   "id": "02df3e28-6eee-4ae4-ad06-f965da1aca88",
   "metadata": {},
   "outputs": [],
   "source": []
  }
 ],
 "metadata": {
  "kernelspec": {
   "display_name": "Python 3 (ipykernel)",
   "language": "python",
   "name": "python3"
  },
  "language_info": {
   "codemirror_mode": {
    "name": "ipython",
    "version": 3
   },
   "file_extension": ".py",
   "mimetype": "text/x-python",
   "name": "python",
   "nbconvert_exporter": "python",
   "pygments_lexer": "ipython3",
   "version": "3.12.5"
  }
 },
 "nbformat": 4,
 "nbformat_minor": 5
}
