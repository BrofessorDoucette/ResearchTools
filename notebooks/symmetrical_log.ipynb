{
 "cells": [
  {
   "cell_type": "code",
   "execution_count": 142,
   "id": "37761131-587f-4c26-9b11-d83f5ced995f",
   "metadata": {},
   "outputs": [],
   "source": [
    "import matplotlib.pyplot as plt\n",
    "\n",
    "import numpy as np\n",
    "\n",
    "import os\n",
    "import sys\n",
    "\n",
    "# caution: path[0] is reserved for script path (or '' in REPL).\n",
    "sys.path.insert(1, os.path.abspath(\"./../src\"))\n",
    "\n",
    "import plot_tools\n",
    "\n",
    "import importlib\n",
    "\n",
    "importlib.reload(plot_tools)\n",
    "\n",
    "\n",
    "%matplotlib qt"
   ]
  },
  {
   "cell_type": "code",
   "execution_count": 143,
   "id": "baeaf70c-1e7b-4c2c-b9bf-3b9673ed4172",
   "metadata": {},
   "outputs": [],
   "source": [
    "x = np.random.rand(10000)\n",
    "y = x + 0.1 * np.random.normal(loc = 0, scale = 1, size = 10000)\n",
    "z = 5 * np.random.random(10000)"
   ]
  },
  {
   "cell_type": "code",
   "execution_count": 144,
   "id": "8552b5df-d7cf-4bcf-ac3c-aebd4328f509",
   "metadata": {},
   "outputs": [],
   "source": [
    "plot_tools.plot_2d_heatmap(x, y, z, bins=50, xlim = (1e-2, 1e3), ylim = (1e-2, 1e3), xscale=\"log\", yscale=\"log\", title=\"log\")\n"
   ]
  },
  {
   "cell_type": "code",
   "execution_count": 141,
   "id": "245d4b38-a64b-4162-94dc-1c93c7bd1e55",
   "metadata": {},
   "outputs": [],
   "source": [
    "plot_tools.plot_2d_heatmap(x, y, z, bins=30, xlim = (0, 1e3), ylim = (0, 1e3), xscale=\"symlog\", yscale=\"symlog\", title=\"Symlog\")\n",
    "plt.grid()"
   ]
  },
  {
   "cell_type": "code",
   "execution_count": null,
   "id": "0c706eef-e1ef-4433-a436-449eb53aa5b2",
   "metadata": {},
   "outputs": [],
   "source": []
  }
 ],
 "metadata": {
  "kernelspec": {
   "display_name": "Python 3 (ipykernel)",
   "language": "python",
   "name": "python3"
  },
  "language_info": {
   "codemirror_mode": {
    "name": "ipython",
    "version": 3
   },
   "file_extension": ".py",
   "mimetype": "text/x-python",
   "name": "python",
   "nbconvert_exporter": "python",
   "pygments_lexer": "ipython3",
   "version": "3.12.5"
  }
 },
 "nbformat": 4,
 "nbformat_minor": 5
}
