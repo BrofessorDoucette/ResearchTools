{
 "cells": [
  {
   "cell_type": "code",
   "execution_count": 25,
   "metadata": {},
   "outputs": [],
   "source": [
    "import sys\n",
    "import os\n",
    "# caution: path[0] is reserved for script path (or '' in REPL).\n",
    "sys.path.insert(1, os.path.abspath('./../src'))\n",
    "\n",
    "import legacy_data_loader\n",
    "import datetime\n",
    "import matplotlib.pyplot as plt\n",
    "import pandas as pd\n",
    "import enum\n",
    "import numpy as np\n",
    "\n",
    "\n",
    "%matplotlib qt"
   ]
  },
  {
   "cell_type": "code",
   "execution_count": 26,
   "metadata": {},
   "outputs": [
    {
     "name": "stdout",
     "output_type": "stream",
     "text": [
      "Loading REPT data between: 2012-09-01 00:00:00 and 2014-01-01 00:00:00.\n",
      "Loading : REPT_201209_A.npz\n",
      "Loading : REPT_201210_A.npz\n",
      "Loading : REPT_201211_A.npz\n",
      "Loading : REPT_201212_A.npz\n",
      "Loading : REPT_201301_A.npz\n",
      "Loading : REPT_201302_A.npz\n",
      "Loading : REPT_201303_A.npz\n",
      "Loading : REPT_201304_A.npz\n",
      "Loading : REPT_201305_A.npz\n",
      "Loading : REPT_201306_A.npz\n",
      "Loading : REPT_201307_A.npz\n",
      "Loading : REPT_201308_A.npz\n",
      "Loading : REPT_201309_A.npz\n",
      "Loading : REPT_201310_A.npz\n",
      "Loading : REPT_201311_A.npz\n",
      "Loading : REPT_201312_A.npz\n",
      "Loading : REPT_201401_A.npz\n"
     ]
    }
   ],
   "source": [
    "REPT = legacy_data_loader.load_compressed_rept_data(satellite = \"a\",\n",
    "                                                    start = datetime.datetime(year = 2012, month = 9, day = 1),\n",
    "                                                    end = datetime.datetime(year = 2014, month = 1, day = 1))\n"
   ]
  },
  {
   "cell_type": "code",
   "execution_count": 27,
   "metadata": {},
   "outputs": [],
   "source": [
    "E0 = np.array(pd.Series(REPT[\"FESA\"][:, 0], index = REPT[\"EPOCH\"]).rolling(\"18h\").mean())\n",
    "E1 = np.array(pd.Series(REPT[\"FESA\"][:, 1], index = REPT[\"EPOCH\"]).rolling(\"18h\").mean())\n",
    "E2 = np.array(pd.Series(REPT[\"FESA\"][:, 2], index = REPT[\"EPOCH\"]).rolling(\"18h\").mean())\n",
    "EPOCH = REPT[\"EPOCH\"]\n",
    "\n",
    "all_finite = np.isfinite(E0) & np.isfinite(E1) & np.isfinite(E2)\n",
    "\n",
    "E0 = E0[all_finite]\n",
    "E1 = E1[all_finite]\n",
    "E2 = E2[all_finite]\n",
    "EPOCH = EPOCH[all_finite]"
   ]
  },
  {
   "cell_type": "code",
   "execution_count": 28,
   "metadata": {},
   "outputs": [],
   "source": [
    "class state_machine(enum.Enum):\n",
    "    \n",
    "    idle = 0\n",
    "    finding_maximum = 1\n",
    "    finding_minimum = 2"
   ]
  },
  {
   "cell_type": "code",
   "execution_count": null,
   "metadata": {},
   "outputs": [],
   "source": [
    "\n",
    "\n",
    "def difference(y0, y1, comparator = \"exact\"):\n",
    "    \n",
    "    if comparator == \"exact\":\n",
    "        \n",
    "        return y0 - y1\n",
    "    \n",
    "    if comparator == \"log\":\n",
    "        \n",
    "        return np.log10(y0) - np.log10(y1)\n",
    "    \n",
    "    if comparator == \"percent\":\n",
    "        \n",
    "        return (y0 - y1) / y0\n",
    "\n",
    "def find_minimums_and_maximums(xp, fp, tol = 0.1, comparator = \"exact\"):\n",
    "        \n",
    "    minimums = []\n",
    "    maximums = []\n",
    "    \n",
    "    state = state_machine(0)\n",
    "    \n",
    "    mem = 0\n",
    "        \n",
    "    for i, y in enumerate(fp):\n",
    "        \n",
    "        \n",
    "        if state == state_machine.idle:\n",
    "            \n",
    "            if difference(y, fp[mem], comparator = comparator) > tol:\n",
    "                \n",
    "                state = state_machine.finding_maximum\n",
    "                minimums.append(xp[mem])\n",
    "            \n",
    "            if difference(y, fp[mem], comparator = comparator) < -1 * tol :\n",
    "                \n",
    "                state = state_machine.finding_minimum\n",
    "                maximums.append(xp[mem])\n",
    "                        \n",
    "        \n",
    "        elif state == state_machine.finding_minimum:\n",
    "            \n",
    "            if difference(y, fp[mem], comparator = comparator) < 0:\n",
    "                \n",
    "                mem = i\n",
    "                continue\n",
    "            \n",
    "            if difference(y, fp[mem], comparator = comparator) > tol:\n",
    "                \n",
    "                minimums.append(xp[mem])\n",
    "                state = state_machine.finding_maximum\n",
    "        \n",
    "        elif state == state_machine.finding_maximum:\n",
    "                        \n",
    "            if difference(y, fp[mem], comparator = comparator) > 0:\n",
    "                \n",
    "                mem = i\n",
    "                continue    \n",
    "            \n",
    "            if difference(y, fp[mem], comparator = comparator) < (-1 * tol):\n",
    "            \n",
    "                maximums.append(xp[mem])\n",
    "                state = state_machine.finding_minimum\n",
    "            \n",
    "    return minimums, maximums"
   ]
  },
  {
   "cell_type": "code",
   "execution_count": null,
   "metadata": {},
   "outputs": [],
   "source": [
    "minimums, maximums = find_minimums_and_maximums(EPOCH, E0, tol=0.3, comparator = \"log\")\n",
    "\n",
    "plt.plot(EPOCH, np.log10(E0))\n",
    "#plt.semilogy(EPOCH, E1)\n",
    "#plt.semilogy(EPOCH, E2)\n",
    "\n",
    "\n",
    "for minimum in minimums:\n",
    "    plt.vlines(x = minimum, ymin = 1, ymax = 8, color=\"red\", linewidth = 2, label=\"Minimum\")\n",
    "    \n",
    "for maximum in maximums:\n",
    "    plt.vlines(x = maximum, ymin = 1, ymax = 8, color=\"green\", linewidth = 2, label=\"Maximum\")\n",
    "\n",
    "plt.ylim(3, 7)\n",
    "plt.ylabel(\"Logged Flux Orders of Magnitude\")\n",
    "plt.xlabel(\"Time\")\n",
    "plt.legend()\n",
    "\n",
    "from collections import OrderedDict\n",
    "\n",
    "handles, labels = plt.gca().get_legend_handles_labels()\n",
    "by_label = OrderedDict(zip(labels, handles))\n",
    "plt.legend(by_label.values(), by_label.keys())\n",
    "\n",
    "plt.show()"
   ]
  },
  {
   "cell_type": "code",
   "execution_count": null,
   "metadata": {},
   "outputs": [
    {
     "name": "stdout",
     "output_type": "stream",
     "text": [
      "[datetime.datetime(2012, 9, 1, 11, 38, 18, 370000), datetime.datetime(2012, 9, 3, 16, 36, 47, 856000), datetime.datetime(2012, 9, 28, 0, 40, 21, 996000), datetime.datetime(2012, 10, 1, 11, 40, 23, 150000), datetime.datetime(2012, 10, 9, 2, 38, 5, 581000), datetime.datetime(2012, 10, 14, 5, 17, 55, 722000), datetime.datetime(2012, 11, 14, 9, 52, 47, 493000), datetime.datetime(2013, 1, 14, 9, 31, 8, 394000), datetime.datetime(2013, 1, 18, 9, 23, 46, 876000), datetime.datetime(2013, 1, 27, 3, 2, 41, 871000), datetime.datetime(2013, 2, 14, 11, 20, 8, 658000), datetime.datetime(2013, 2, 22, 7, 43, 6, 751000), datetime.datetime(2013, 3, 1, 18, 18, 5, 607000), datetime.datetime(2013, 3, 17, 16, 27, 12, 283000), datetime.datetime(2013, 3, 30, 5, 13, 51, 574000), datetime.datetime(2013, 4, 25, 6, 47, 18, 858000), datetime.datetime(2013, 5, 1, 19, 17, 40, 304000), datetime.datetime(2013, 5, 19, 5, 21, 1, 576000), datetime.datetime(2013, 5, 25, 17, 9, 34, 990000), datetime.datetime(2013, 6, 1, 20, 4, 31, 690000), datetime.datetime(2013, 6, 7, 6, 57, 20, 532000), datetime.datetime(2013, 6, 22, 9, 57, 19, 337000), datetime.datetime(2013, 6, 29, 8, 27, 26, 322000), datetime.datetime(2013, 7, 3, 0, 0, 16, 938000), datetime.datetime(2013, 7, 7, 5, 24, 30, 433000), datetime.datetime(2013, 7, 15, 10, 4, 44, 652000), datetime.datetime(2013, 8, 5, 5, 54, 37, 899000), datetime.datetime(2013, 8, 16, 9, 44, 3, 148000), datetime.datetime(2013, 8, 22, 9, 41, 10, 399000), datetime.datetime(2013, 8, 28, 13, 24, 19, 463000), datetime.datetime(2013, 9, 19, 10, 45, 13, 531000), datetime.datetime(2013, 10, 2, 20, 35, 59, 102000), datetime.datetime(2013, 10, 9, 15, 29, 35, 546000), datetime.datetime(2013, 10, 15, 5, 39, 30, 883000), datetime.datetime(2013, 11, 1, 10, 52, 26, 938000), datetime.datetime(2013, 11, 9, 17, 15, 52, 206000), datetime.datetime(2013, 12, 8, 21, 17, 10, 355000)] [datetime.datetime(2012, 9, 1, 13, 30, 22, 588000), datetime.datetime(2012, 9, 11, 10, 25, 21, 441000), datetime.datetime(2012, 9, 28, 21, 16, 12, 125000), datetime.datetime(2012, 10, 3, 12, 43, 39, 721000), datetime.datetime(2012, 10, 10, 20, 40, 55, 139000), datetime.datetime(2012, 10, 15, 17, 24, 4, 124000), datetime.datetime(2012, 11, 17, 15, 25, 14, 28000), datetime.datetime(2013, 1, 17, 15, 5, 50, 20000), datetime.datetime(2013, 1, 23, 18, 14, 57, 466000), datetime.datetime(2013, 2, 4, 17, 17, 48, 758000), datetime.datetime(2013, 2, 16, 16, 30, 54, 996000), datetime.datetime(2013, 2, 26, 1, 50, 9, 518000), datetime.datetime(2013, 3, 7, 1, 7, 58, 650000), datetime.datetime(2013, 3, 22, 23, 30, 33, 78000), datetime.datetime(2013, 3, 31, 22, 29, 51, 206000), datetime.datetime(2013, 4, 28, 1, 10, 42, 269000), datetime.datetime(2013, 5, 3, 20, 46, 24, 516000), datetime.datetime(2013, 5, 24, 19, 26, 7, 884000), datetime.datetime(2013, 5, 30, 5, 13, 47, 140000), datetime.datetime(2013, 6, 5, 4, 42, 7, 416000), datetime.datetime(2013, 6, 9, 21, 49, 37, 938000), datetime.datetime(2013, 6, 26, 3, 54, 20, 804000), datetime.datetime(2013, 6, 30, 20, 45, 47, 899000), datetime.datetime(2013, 7, 3, 2, 55, 3, 770000), datetime.datetime(2013, 7, 12, 23, 24, 56, 502000), datetime.datetime(2013, 7, 17, 2, 0, 37, 904000), datetime.datetime(2013, 8, 7, 1, 20, 12, 755000), datetime.datetime(2013, 8, 20, 21, 11, 11, 160000), datetime.datetime(2013, 8, 25, 0, 7, 17, 18000), datetime.datetime(2013, 9, 3, 20, 44, 52, 490000), datetime.datetime(2013, 9, 22, 20, 18, 45, 308000), datetime.datetime(2013, 10, 4, 10, 12, 53, 436000), datetime.datetime(2013, 10, 13, 5, 14, 27, 124000), datetime.datetime(2013, 10, 19, 4, 48, 59, 187000), datetime.datetime(2013, 11, 6, 18, 20, 43, 76000), datetime.datetime(2013, 11, 13, 6, 33, 33, 420000), datetime.datetime(2013, 12, 14, 2, 46, 22, 895000)]\n"
     ]
    }
   ],
   "source": [
    "print(minimums, maximums)\n"
   ]
  },
  {
   "cell_type": "code",
   "execution_count": null,
   "metadata": {},
   "outputs": [],
   "source": []
  }
 ],
 "metadata": {
  "kernelspec": {
   "display_name": "ResearchPy",
   "language": "python",
   "name": "python3"
  },
  "language_info": {
   "codemirror_mode": {
    "name": "ipython",
    "version": 3
   },
   "file_extension": ".py",
   "mimetype": "text/x-python",
   "name": "python",
   "nbconvert_exporter": "python",
   "pygments_lexer": "ipython3",
   "version": "3.12.5"
  }
 },
 "nbformat": 4,
 "nbformat_minor": 2
}
