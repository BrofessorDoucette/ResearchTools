{
 "cells": [
  {
   "cell_type": "code",
   "execution_count": 2,
   "metadata": {},
   "outputs": [],
   "source": [
    "#ALL OF THIS IS NOW LEGACY, TURNS OUT JOSH PETTIT ALREADY CLEANED THE POES DATA AND HAS THE DATA IN FLUX UNITS IN THE MPE DATASET\n",
    "#NEED TO RESTART KERNEL TO LOAD CHANGES TO IMPORTS :(\n",
    "\n",
    "import sys\n",
    "import os\n",
    "# caution: path[0] is reserved for script path (or '' in REPL).\n",
    "sys.path.insert(1, os.path.abspath('./../../src'))\n",
    "\n",
    "import datetime\n",
    "import matplotlib.pyplot as plt\n",
    "import numpy as np\n",
    "from cdflib.epochs_astropy import CDFAstropy as cdfepoch\n",
    "import data_loader\n",
    "import importlib\n",
    "import pandas as pd\n",
    "\n",
    "importlib.reload(data_loader)\n",
    "%matplotlib qt"
   ]
  },
  {
   "cell_type": "code",
   "execution_count": 3,
   "metadata": {},
   "outputs": [
    {
     "ename": "KeyError",
     "evalue": "'EPOCH'",
     "output_type": "error",
     "traceback": [
      "\u001b[1;31m---------------------------------------------------------------------------\u001b[0m",
      "\u001b[1;31mKeyError\u001b[0m                                  Traceback (most recent call last)",
      "Cell \u001b[1;32mIn[3], line 14\u001b[0m\n\u001b[0;32m      4\u001b[0m refs_LEGACY \u001b[38;5;241m=\u001b[39m data_loader\u001b[38;5;241m.\u001b[39mload_raw_data_from_config(\u001b[38;5;28mid\u001b[39m\u001b[38;5;241m=\u001b[39m[\u001b[38;5;124m\"\u001b[39m\u001b[38;5;124mPOES\u001b[39m\u001b[38;5;124m\"\u001b[39m, \u001b[38;5;124m\"\u001b[39m\u001b[38;5;124mSEM\u001b[39m\u001b[38;5;124m\"\u001b[39m, \u001b[38;5;124m\"\u001b[39m\u001b[38;5;124mL2\u001b[39m\u001b[38;5;124m\"\u001b[39m],\n\u001b[0;32m      5\u001b[0m                                                     satellite \u001b[38;5;241m=\u001b[39m \u001b[38;5;124m\"\u001b[39m\u001b[38;5;124mm02\u001b[39m\u001b[38;5;124m\"\u001b[39m,\n\u001b[0;32m      6\u001b[0m                                                     start \u001b[38;5;241m=\u001b[39m start,\n\u001b[0;32m      7\u001b[0m                                                     end \u001b[38;5;241m=\u001b[39m end)\n\u001b[0;32m      9\u001b[0m refs_MODERN \u001b[38;5;241m=\u001b[39m data_loader\u001b[38;5;241m.\u001b[39mload_raw_data_from_config(\u001b[38;5;28mid\u001b[39m\u001b[38;5;241m=\u001b[39m[\u001b[38;5;124m\"\u001b[39m\u001b[38;5;124mPOES\u001b[39m\u001b[38;5;124m\"\u001b[39m, \u001b[38;5;124m\"\u001b[39m\u001b[38;5;124mSEM\u001b[39m\u001b[38;5;124m\"\u001b[39m, \u001b[38;5;124m\"\u001b[39m\u001b[38;5;124mL1B\u001b[39m\u001b[38;5;124m\"\u001b[39m],\n\u001b[0;32m     10\u001b[0m                                                     satellite \u001b[38;5;241m=\u001b[39m \u001b[38;5;124m\"\u001b[39m\u001b[38;5;124mm02\u001b[39m\u001b[38;5;124m\"\u001b[39m,\n\u001b[0;32m     11\u001b[0m                                                     start \u001b[38;5;241m=\u001b[39m start,\n\u001b[0;32m     12\u001b[0m                                                     end \u001b[38;5;241m=\u001b[39m end)\n\u001b[1;32m---> 14\u001b[0m refs_LEGACY[\u001b[38;5;124m'\u001b[39m\u001b[38;5;124mEPOCH\u001b[39m\u001b[38;5;124m'\u001b[39m] \u001b[38;5;241m=\u001b[39m cdfepoch\u001b[38;5;241m.\u001b[39mto_datetime(\u001b[43mrefs_LEGACY\u001b[49m\u001b[43m[\u001b[49m\u001b[38;5;124;43m\"\u001b[39;49m\u001b[38;5;124;43mEPOCH\u001b[39;49m\u001b[38;5;124;43m\"\u001b[39;49m\u001b[43m]\u001b[49m)\n\u001b[0;32m     16\u001b[0m valid_dates \u001b[38;5;241m=\u001b[39m np\u001b[38;5;241m.\u001b[39misfinite(refs_MODERN[\u001b[38;5;124m'\u001b[39m\u001b[38;5;124myear\u001b[39m\u001b[38;5;124m'\u001b[39m]) \u001b[38;5;241m&\u001b[39m np\u001b[38;5;241m.\u001b[39misfinite(refs_MODERN[\u001b[38;5;124m'\u001b[39m\u001b[38;5;124mday\u001b[39m\u001b[38;5;124m'\u001b[39m]) \u001b[38;5;241m&\u001b[39m np\u001b[38;5;241m.\u001b[39misfinite(refs_MODERN[\u001b[38;5;124m'\u001b[39m\u001b[38;5;124mmsec\u001b[39m\u001b[38;5;124m'\u001b[39m])\n\u001b[0;32m     17\u001b[0m refs_MODERN[\u001b[38;5;124m'\u001b[39m\u001b[38;5;124myear\u001b[39m\u001b[38;5;124m'\u001b[39m] \u001b[38;5;241m=\u001b[39m refs_MODERN[\u001b[38;5;124m'\u001b[39m\u001b[38;5;124myear\u001b[39m\u001b[38;5;124m'\u001b[39m][valid_dates]\n",
      "\u001b[1;31mKeyError\u001b[0m: 'EPOCH'"
     ]
    }
   ],
   "source": [
    "start = datetime.datetime(year = 2013, month=12, day=1)\n",
    "end = datetime.datetime(year = 2013, month=12, day=2)\n",
    "\n",
    "refs_LEGACY = data_loader.load_raw_data_from_config(id=[\"POES\", \"SEM\", \"L2\"],\n",
    "                                                    satellite = \"m02\",\n",
    "                                                    start = start,\n",
    "                                                    end = end)\n",
    "\n",
    "refs_MODERN = data_loader.load_raw_data_from_config(id=[\"POES\", \"SEM\", \"L1B\"],\n",
    "                                                    satellite = \"m02\",\n",
    "                                                    start = start,\n",
    "                                                    end = end)\n",
    "\n",
    "refs_LEGACY['EPOCH'] = cdfepoch.to_datetime(refs_LEGACY[\"EPOCH\"])\n",
    "\n",
    "valid_dates = np.isfinite(refs_MODERN['year']) & np.isfinite(refs_MODERN['day']) & np.isfinite(refs_MODERN['msec'])\n",
    "refs_MODERN['year'] = refs_MODERN['year'][valid_dates]\n",
    "refs_MODERN['day'] = refs_MODERN['day'][valid_dates]\n",
    "refs_MODERN['msec'] = refs_MODERN['msec'][valid_dates]\n",
    "        \n",
    "refs_MODERN['EPOCH'] = np.array([datetime.datetime(year = refs_MODERN['year'][i], month = 1, day = 1, hour = 0, minute = 0, second = 0, microsecond = 0) + datetime.timedelta(days = int(refs_MODERN['day'][i]) - 1) + datetime.timedelta(milliseconds = int(refs_MODERN['msec'][i])) for i in range(len(refs_MODERN['year']))])\n",
    "             "
   ]
  },
  {
   "cell_type": "code",
   "execution_count": 3,
   "metadata": {},
   "outputs": [],
   "source": [
    "#Plotting raw counts\n",
    "\n",
    "plt.semilogy(refs_LEGACY['EPOCH'], refs_LEGACY['mep0E'][:, 0], label=\"Channel 0\")\n",
    "plt.semilogy(refs_LEGACY['EPOCH'], refs_LEGACY['mep0E'][:, 1], label=\"Channel 1\")\n",
    "plt.semilogy(refs_LEGACY['EPOCH'], refs_LEGACY['mep0E'][:, 2], label=\"Channel 2\")\n",
    "plt.legend()\n",
    "plt.ylabel(\"Counts\")\n",
    "plt.xlabel(\"Time\")\n",
    "plt.show()"
   ]
  },
  {
   "cell_type": "code",
   "execution_count": 4,
   "metadata": {},
   "outputs": [
    {
     "name": "stdout",
     "output_type": "stream",
     "text": [
      "(10800,)\n",
      "(86398,)\n"
     ]
    },
    {
     "name": "stderr",
     "output_type": "stream",
     "text": [
      "C:\\Users\\brofe\\AppData\\Local\\Temp\\ipykernel_84492\\2590649441.py:20: RuntimeWarning: Mean of empty slice\n",
      "  modern_flux.append(np.nanmean(refs_MODERN['mep_ele_tel0_flux_e1'][within_time_interval]))\n",
      "C:\\Users\\brofe\\AppData\\Local\\Temp\\ipykernel_84492\\2590649441.py:29: RuntimeWarning: divide by zero encountered in divide\n",
      "  percent_error = ((modern_flux-legacy_flux)/modern_flux) * 100\n",
      "C:\\Users\\brofe\\AppData\\Local\\Temp\\ipykernel_84492\\2590649441.py:29: RuntimeWarning: invalid value encountered in divide\n",
      "  percent_error = ((modern_flux-legacy_flux)/modern_flux) * 100\n"
     ]
    }
   ],
   "source": [
    "fig, axs = plt.subplots(3, 1, sharex=True, sharey=False)\n",
    "\n",
    "#Geometrical Factors\n",
    "\n",
    "G0 = 100 / 1.24\n",
    "G1 = 100 / 1.44\n",
    "\n",
    "G0 = 100\n",
    "\n",
    "print(refs_LEGACY['mep0E'][:, 0].shape)\n",
    "print(refs_MODERN['mep_ele_tel0_flux_e1'].shape)\n",
    "\n",
    "modern_flux = []\n",
    "modern_epoch = []\n",
    "for m in refs_LEGACY['EPOCH']:\n",
    "    start_period = m - datetime.timedelta(seconds=8)\n",
    "    end_period = m + datetime.timedelta(seconds=8)\n",
    "    within_time_interval = (start_period <= refs_MODERN[\"EPOCH\"]) & (refs_MODERN[\"EPOCH\"] < end_period)\n",
    "    modern_epoch.append(m)\n",
    "    modern_flux.append(np.nanmean(refs_MODERN['mep_ele_tel0_flux_e1'][within_time_interval]))\n",
    "        \n",
    "legacy_flux = G0 * refs_LEGACY['mep0E'][:, 0]\n",
    "\n",
    "modern_flux = np.asarray(modern_flux)\n",
    "\n",
    "axs[0].semilogy(refs_LEGACY[\"EPOCH\"], legacy_flux, label=\"Legacy\")\n",
    "axs[1].semilogy(modern_epoch, modern_flux, label=\"Modern\")\n",
    "\n",
    "percent_error = ((modern_flux-legacy_flux)/modern_flux) * 100\n",
    "\n",
    "axs[2].plot(modern_epoch, percent_error)\n",
    "\n",
    "axs[0].legend()\n",
    "axs[1].legend()\n",
    "\n",
    "\n",
    "\n",
    "plt.xlabel(\"Time\")\n",
    "plt.show()"
   ]
  },
  {
   "cell_type": "code",
   "execution_count": null,
   "metadata": {},
   "outputs": [],
   "source": []
  },
  {
   "cell_type": "code",
   "execution_count": null,
   "metadata": {},
   "outputs": [],
   "source": []
  }
 ],
 "metadata": {
  "kernelspec": {
   "display_name": "ResearchPy",
   "language": "python",
   "name": "python3"
  },
  "language_info": {
   "codemirror_mode": {
    "name": "ipython",
    "version": 3
   },
   "file_extension": ".py",
   "mimetype": "text/x-python",
   "name": "python",
   "nbconvert_exporter": "python",
   "pygments_lexer": "ipython3",
   "version": "3.12.5"
  }
 },
 "nbformat": 4,
 "nbformat_minor": 2
}
