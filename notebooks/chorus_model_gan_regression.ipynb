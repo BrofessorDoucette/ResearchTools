{
 "cells": [
  {
   "cell_type": "code",
   "execution_count": 1,
   "id": "9b4d3d6d-2ab1-4bb4-ab02-fa77a59cdc62",
   "metadata": {},
   "outputs": [
    {
     "name": "stderr",
     "output_type": "stream",
     "text": [
      "Intel(R) Extension for Scikit-learn* enabled (https://github.com/uxlfoundation/scikit-learn-intelex)\n"
     ]
    }
   ],
   "source": [
    "from sklearnex import patch_sklearn\n",
    "patch_sklearn()\n",
    "\n",
    "import os\n",
    "import sys\n",
    "import warnings\n",
    "\n",
    "# caution: path[0] is reserved for script path (or '' in REPL).\n",
    "sys.path.insert(1, os.path.abspath(\"./../src\"))\n",
    "\n",
    "import matplotlib.pyplot as plt\n",
    "import matplotlib.colors\n",
    "\n",
    "import numpy as np\n",
    "import seaborn as sns\n",
    "\n",
    "import gan_regression\n",
    "\n",
    "import importlib\n",
    "importlib.reload(gan_regression)\n",
    "\n",
    "plt.rcdefaults()\n",
    "warnings.filterwarnings(\"ignore\")\n",
    "\n",
    "%matplotlib qt"
   ]
  },
  {
   "cell_type": "code",
   "execution_count": 2,
   "id": "28c82c99-97ec-4e57-b744-9c3c0a2daef7",
   "metadata": {},
   "outputs": [],
   "source": [
    "VERSION = \"v4\"\n",
    "FIELD_MODEL = \"T89\"\n",
    "MODEL_TYPE = \"LOWER_BAND\"\n",
    "pdata_folder = os.path.abspath(r\"./../processed_data/chorus_neural_network/\")\n",
    "STAGE_4_folder = os.path.join(pdata_folder, \"STAGE_4\", VERSION)\n",
    "CONJUNCTIONS_REFS = np.load(\n",
    "    file=os.path.join(STAGE_4_folder, f\"MODEL_READY_DATA_{VERSION}_{FIELD_MODEL}_{MODEL_TYPE}.npz\")\n",
    ")\n",
    "\n",
    "X_train = CONJUNCTIONS_REFS[\"FEATURES\"]\n",
    "y_train = CONJUNCTIONS_REFS[\"LABELS\"].flatten()\n",
    "day_train = CONJUNCTIONS_REFS[\"TRAINING_DAY_IDS\"].flatten()\n",
    "\n",
    "MLT_train = CONJUNCTIONS_REFS[\"TRAINING_MLT\"]\n",
    "MEAN_L = CONJUNCTIONS_REFS[\"MEAN_L\"]\n",
    "STD_L = CONJUNCTIONS_REFS[\"STD_L\"]\n",
    "\n",
    "\n",
    "X_valid = CONJUNCTIONS_REFS[\"VALIDATION_FEATURES\"]\n",
    "y_valid = CONJUNCTIONS_REFS[\"VALIDATION_LABELS\"].flatten()\n",
    "\n",
    "CONJUNCTIONS_REFS.close()"
   ]
  },
  {
   "cell_type": "code",
   "execution_count": 3,
   "id": "9295809a-198f-4138-86b0-b5fbc9092b3a",
   "metadata": {},
   "outputs": [
    {
     "name": "stdout",
     "output_type": "stream",
     "text": [
      "Training set shape: ((156371, 9), (156371,))\n",
      "Validation set shape: ((1971, 9), (1971,))\n"
     ]
    },
    {
     "data": {
      "text/plain": [
       "<seaborn.axisgrid.FacetGrid at 0x21a40947230>"
      ]
     },
     "execution_count": 3,
     "metadata": {},
     "output_type": "execute_result"
    }
   ],
   "source": [
    "print(f\"Training set shape: {X_train.shape, y_train.shape}\")\n",
    "print(f\"Validation set shape: {X_valid.shape, y_valid.shape}\")\n",
    "\n",
    "ax0 = sns.displot(y_train, log_scale=True)\n",
    "ax0.set(ylabel='N', xlabel='Chorus (pT)', title='Training')"
   ]
  },
  {
   "cell_type": "code",
   "execution_count": 10,
   "id": "fd5f79b8-7dc7-4a2a-b099-3bb00ce1061b",
   "metadata": {},
   "outputs": [
    {
     "name": "stdout",
     "output_type": "stream",
     "text": [
      "using device : cuda\n",
      "Epoch [1 / 10] \n",
      "D Loss: (37.7081 +/- 6.9325) N Loss: (7062.7891 +/- 18333.0603) G Loss: (43.4082 +/- 30.4008)\n",
      "\n",
      "Epoch [2 / 10] \n",
      "D Loss: (24.3999 +/- 4.5638) N Loss: (2183.8060 +/- 7120.8694) G Loss: (4.4477 +/- 3.2772)\n",
      "\n",
      "Epoch [3 / 10] \n",
      "D Loss: (17.9219 +/- 4.0510) N Loss: (38.2605 +/- 48.3139) G Loss: (2.0101 +/- 1.7836)\n",
      "\n",
      "Epoch [4 / 10] \n",
      "D Loss: (16.0105 +/- 3.9297) N Loss: (22.5869 +/- 30.0494) G Loss: (1.7415 +/- 1.6334)\n",
      "\n",
      "Epoch [5 / 10] \n",
      "D Loss: (15.1168 +/- 3.7299) N Loss: (13.9779 +/- 18.0456) G Loss: (1.4661 +/- 1.4027)\n",
      "\n",
      "Epoch [6 / 10] \n",
      "D Loss: (14.5358 +/- 3.7645) N Loss: (11.8787 +/- 12.6067) G Loss: (1.3416 +/- 1.2657)\n",
      "\n",
      "Epoch [7 / 10] \n",
      "D Loss: (14.1097 +/- 3.6865) N Loss: (10.6031 +/- 10.2517) G Loss: (1.2439 +/- 1.1952)\n",
      "\n",
      "Epoch [8 / 10] \n",
      "D Loss: (13.6662 +/- 3.6536) N Loss: (9.6813 +/- 7.2310) G Loss: (1.1052 +/- 1.0139)\n",
      "\n",
      "Epoch [9 / 10] \n",
      "D Loss: (13.2613 +/- 3.6468) N Loss: (9.1589 +/- 6.7534) G Loss: (0.9705 +/- 0.8826)\n",
      "\n",
      "Epoch [10 / 10] \n",
      "D Loss: (12.9368 +/- 3.6017) N Loss: (8.7276 +/- 4.6701) G Loss: (1.0293 +/- 0.9926)\n",
      "\n"
     ]
    }
   ],
   "source": [
    "# Initialize and train model\n",
    "model = gan_regression.GANRegression(input_dim=9,\n",
    "                                     hidden_dim=128,\n",
    "                                     g_lr=2e-7,\n",
    "                                     d_lr=2e-7,\n",
    "                                     epochs_per_output=1)\n",
    "\n",
    "avg_d_losses, avg_numeric_losses, avg_g_losses = model.train(X_train, y_train, epochs=10, batch_size=32)"
   ]
  },
  {
   "cell_type": "code",
   "execution_count": 9,
   "id": "80ef7135-6a11-4a06-8e5d-8e2c8ae2fbaf",
   "metadata": {},
   "outputs": [
    {
     "data": {
      "text/plain": [
       "(0.1, 1000.0)"
      ]
     },
     "execution_count": 9,
     "metadata": {},
     "output_type": "execute_result"
    }
   ],
   "source": [
    "threshold = 0.75\n",
    "\n",
    "y_train_g = model.GENERATE(X_train)\n",
    "\n",
    "y_train_d = model.DISCRIM(X_train, y_train_g)\n",
    "\n",
    "passes_discriminator_test = y_train_d >= threshold\n",
    "plt.scatter(x=y_train[passes_discriminator_test], y=y_train_g[passes_discriminator_test], color=\"black\", s=1.0)\n",
    "\n",
    "plt.xscale(\"log\")\n",
    "plt.yscale(\"log\")\n",
    "plt.xlim(1e-1, 1e3)\n",
    "plt.ylim(1e-1, 1e3)"
   ]
  },
  {
   "cell_type": "code",
   "execution_count": 7,
   "id": "2108ede0-c955-4e11-bb01-69c697cfb100",
   "metadata": {},
   "outputs": [
    {
     "data": {
      "text/plain": [
       "(0.1, 1000.0)"
      ]
     },
     "execution_count": 7,
     "metadata": {},
     "output_type": "execute_result"
    }
   ],
   "source": [
    "y_valid_g = model.GENERATE(X_valid)\n",
    "y_valid_d = model.DISCRIM(X_valid, y_valid_g)\n",
    "\n",
    "passes_discriminator_test = y_valid_d >= threshold\n",
    "plt.scatter(x=y_valid[passes_discriminator_test], y=y_valid_g[passes_discriminator_test], color=\"red\", s=1.0)\n",
    "plt.xscale(\"log\")\n",
    "plt.yscale(\"log\")\n",
    "plt.xlim(1e-1, 1e3)\n",
    "\n",
    "\n",
    "plt.ylim(1e-1, 1e3)"
   ]
  },
  {
   "cell_type": "code",
   "execution_count": null,
   "id": "e26367f9-0406-4a14-8808-3d24412e7a35",
   "metadata": {},
   "outputs": [],
   "source": [
    "print(y_train_g)\n",
    "print(np.log10(y_train_g))"
   ]
  },
  {
   "cell_type": "code",
   "execution_count": 11,
   "id": "a82183a6-ae46-4895-bd4d-30844f93894d",
   "metadata": {},
   "outputs": [
    {
     "name": "stdout",
     "output_type": "stream",
     "text": [
      "0.11282530245189473\n"
     ]
    }
   ],
   "source": [
    "not_negative = y_train_g > 0\n",
    "passes_discriminator_test = y_train_d >= threshold\n",
    "passes_both_filters = not_negative & passes_discriminator_test\n",
    "\n",
    "a, b = np.polyfit(np.log10(y_train[passes_both_filters]), np.log10(y_train_g[passes_both_filters]), 1)\n",
    "\n",
    "x_fit = np.logspace(-1, 4, 1000)\n",
    "\n",
    "# Create the line of best fit\n",
    "y_fit = a * np.log10(x_fit) + b\n",
    "\n",
    "# Plot the line of best fit\n",
    "plt.plot(x_fit, 10**y_fit, color='red')\n",
    "plt.plot(x_fit, x_fit, color='green')\n",
    "\n",
    "\n",
    "print(a)\n"
   ]
  },
  {
   "cell_type": "code",
   "execution_count": null,
   "id": "907dd34e-b209-4084-9159-21875748bc41",
   "metadata": {},
   "outputs": [],
   "source": [
    "not_negative = y_valid_g > 0\n",
    "passes_discriminator_test = y_valid_d >= threshold\n",
    "passes_both_filters = not_negative & passes_discriminator_test\n",
    "\n",
    "a, b = np.polyfit(np.log10(y_valid[passes_both_filters]), np.log10(y_valid_g[passes_both_filters]), 1)\n",
    "\n",
    "x_fit = np.logspace(-1, 4, 1000)\n",
    "\n",
    "# Create the line of best fit\n",
    "y_fit = a * np.log10(x_fit) + b\n",
    "\n",
    "# Plot the line of best fit\n",
    "plt.plot(x_fit, 10**y_fit, color='red')\n",
    "plt.plot(x_fit, x_fit, color='green')\n",
    "\n",
    "\n",
    "print(a)"
   ]
  },
  {
   "cell_type": "code",
   "execution_count": null,
   "id": "729ef623-dc98-40a6-9711-2fb1207a2a68",
   "metadata": {},
   "outputs": [],
   "source": []
  }
 ],
 "metadata": {
  "kernelspec": {
   "display_name": "Python 3 (ipykernel)",
   "language": "python",
   "name": "python3"
  },
  "language_info": {
   "codemirror_mode": {
    "name": "ipython",
    "version": 3
   },
   "file_extension": ".py",
   "mimetype": "text/x-python",
   "name": "python",
   "nbconvert_exporter": "python",
   "pygments_lexer": "ipython3",
   "version": "3.12.5"
  }
 },
 "nbformat": 4,
 "nbformat_minor": 5
}
