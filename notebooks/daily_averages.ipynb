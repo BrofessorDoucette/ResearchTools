{
 "cells": [
  {
   "cell_type": "code",
   "execution_count": 5,
   "metadata": {
    "ExecuteTime": {
     "end_time": "2024-05-15T18:13:54.557262Z",
     "start_time": "2024-05-15T18:13:54.547062Z"
    }
   },
   "outputs": [
    {
     "data": {
      "text/plain": [
       "<module 'data_loader' from 'c:\\\\Dev\\\\Research\\\\REPT_Enhancements_Tool\\\\src\\\\data_loader.py'>"
      ]
     },
     "execution_count": 5,
     "metadata": {},
     "output_type": "execute_result"
    }
   ],
   "source": [
    "import sys\n",
    "import os\n",
    "# caution: path[0] is reserved for script path (or '' in REPL).\n",
    "sys.path.insert(1, os.path.abspath('./../src'))\n",
    "\n",
    "import pandas as pd\n",
    "import numpy as np\n",
    "import plot_tools\n",
    "import data_loader\n",
    "from energy_channels import EnergyChannel\n",
    "import datetime\n",
    "\n",
    "import importlib\n",
    "importlib.reload(plot_tools)\n",
    "importlib.reload(data_loader)"
   ]
  },
  {
   "cell_type": "code",
   "execution_count": 9,
   "metadata": {},
   "outputs": [
    {
     "name": "stdout",
     "output_type": "stream",
     "text": [
      "Loading REPT data between: 2012-09-01 00:00:00 and 2013-01-01 00:00:00.\n",
      "Loading : REPT_201209_A.npz\n",
      "Loading : REPT_201210_A.npz\n",
      "Loading : REPT_201211_A.npz\n",
      "Loading : REPT_201212_A.npz\n",
      "Loading : REPT_201301_A.npz\n",
      "Loading REPT data between: 2012-09-01 00:00:00 and 2013-01-01 00:00:00.\n",
      "Loading : REPT_201209_B.npz\n",
      "Loading : REPT_201210_B.npz\n",
      "Loading : REPT_201211_B.npz\n",
      "Loading : REPT_201212_B.npz\n",
      "Loading : REPT_201301_B.npz\n"
     ]
    }
   ],
   "source": [
    "_year = 2012\n",
    "\n",
    "start = datetime.datetime(year = _year, month = 9, day = 1)\n",
    "end = datetime.datetime(year = _year+1, month = 1, day = 1)\n",
    "\n",
    "dataRefsA = data_loader.load_compressed_rept_data(satellite=\"A\", start=start, end=end)\n",
    "dataRefsB = data_loader.load_compressed_rept_data(satellite=\"B\", start=start, end=end)\n",
    "\n",
    "FESA_A = dataRefsA[\"FESA\"]\n",
    "L_A = dataRefsA[\"L\"]\n",
    "MLT_A = dataRefsA[\"MLT\"]\n",
    "EPOCH_A = dataRefsA[\"EPOCH\"]\n",
    "ENERGIES = dataRefsA[\"ENERGIES\"]\n",
    "\n",
    "FESA_B = dataRefsB[\"FESA\"]\n",
    "L_B = dataRefsB[\"L\"]\n",
    "MLT_B = dataRefsB[\"MLT\"]\n",
    "EPOCH_B = dataRefsB[\"EPOCH\"]\n",
    "ENERGIES = dataRefsB[\"ENERGIES\"]\n",
    "\n",
    "FESA_A = FESA_A[:, (ENERGIES < 10)]\n",
    "FESA_B = FESA_B[:, (ENERGIES < 10)]"
   ]
  },
  {
   "cell_type": "code",
   "execution_count": 10,
   "metadata": {},
   "outputs": [],
   "source": [
    "df_to_write = pd.DataFrame()\n",
    "\n",
    "L_CENTERS = [3.00, 3.25, 3.50, 3.75, 4.00, 4.25, 4.50, 4.75, 5.00, 5.25, 5.50, 5.75, 6.00, 6.25, 6.50, 6.75, 7.00]\n",
    "\n",
    "for CENTER in L_CENTERS:\n",
    "\n",
    "    SATIFIES_L_CUT_A = ((CENTER - 0.125) <= L_A) & (L_A < (CENTER + 0.125))\n",
    "    SATIFIES_L_CUT_B = ((CENTER - 0.125) <= L_B) & (L_B < (CENTER + 0.125))\n",
    "\n",
    "    FESA_A_DF = pd.DataFrame(FESA_A[SATIFIES_L_CUT_A, :], index=EPOCH_A[SATIFIES_L_CUT_A])\n",
    "    FESA_B_DF = pd.DataFrame(FESA_B[SATIFIES_L_CUT_B, :], index=EPOCH_B[SATIFIES_L_CUT_B])\n",
    "    \n",
    "    \n",
    "    if np.sum(SATIFIES_L_CUT_A) != 0 or np.sum(SATIFIES_L_CUT_B) != 0:\n",
    "        \n",
    "        FESA_AVERAGED = pd.concat([FESA_A_DF, FESA_B_DF], sort=False).sort_index().resample(\"24h\").mean()\n",
    "        \n",
    "    elif np.sum(SATIFIES_L_CUT_A) != 0 and np.sum(SATIFIES_L_CUT_B) == 0:\n",
    "        \n",
    "        FESA_AVERAGED = FESA_A_DF.sort_index().resample(\"24h\").mean()\n",
    "        \n",
    "    elif np.sum(SATIFIES_L_CUT_A) == 0 and np.sum(SATIFIES_L_CUT_B) != 0:\n",
    "        \n",
    "        FESA_AVERAGED = FESA_B_DF.sort_index().resample(\"24h\").mean()\n",
    "        \n",
    "    else:\n",
    "        \n",
    "        FESA_AVERAGED = pd.DataFrame().reindex_like(FESA_A_DF) #Create empty dataframe with same columns\n",
    "            \n",
    "    names = {j : f\"L={CENTER:2}/E={ENERGIES[j]:2}MeV\" for j in range(len(ENERGIES))}\n",
    "    \n",
    "    FESA_AVERAGED = FESA_AVERAGED.rename(columns=names)\n",
    "        \n",
    "    df_to_write = pd.concat((df_to_write, FESA_AVERAGED), axis=1, join='outer')\n"
   ]
  },
  {
   "cell_type": "code",
   "execution_count": 11,
   "metadata": {},
   "outputs": [
    {
     "name": "stdout",
     "output_type": "stream",
     "text": [
      "            L=3.0/E=1.8MeV  L=3.0/E=2.1MeV  L=3.0/E=2.6MeV  L=3.0/E=3.4MeV  \\\n",
      "2012-09-01     1155.853883      845.389908      862.780666      915.095607   \n",
      "2012-09-02      678.079568      459.141329      464.596036      493.643975   \n",
      "2012-09-03      450.792130      276.510984      280.238402      301.480365   \n",
      "2012-09-04      669.074044      409.778240      417.505739      467.880080   \n",
      "2012-09-05      589.980533      347.522356      349.863006      403.448293   \n",
      "...                    ...             ...             ...             ...   \n",
      "2012-12-27      598.249659      514.807168      507.784960      735.226547   \n",
      "2012-12-28      635.984370      553.411489      547.562490      786.742265   \n",
      "2012-12-29      564.915514      481.380307      472.324813      694.538063   \n",
      "2012-12-30      618.539293      532.399192      522.270132      766.685764   \n",
      "2012-12-31      565.573400      483.754404      474.613930      694.357241   \n",
      "\n",
      "            L=3.0/E=4.2MeV  L=3.0/E=5.2MeV  L=3.0/E=6.3MeV  L=3.0/E=7.7MeV  \\\n",
      "2012-09-01      520.237050      209.019851       48.956346        5.186577   \n",
      "2012-09-02      265.733903      102.999705       23.162148        4.216140   \n",
      "2012-09-03      156.215430       63.150716       14.606903        3.372420   \n",
      "2012-09-04      255.867794      111.117306       25.623125        4.586988   \n",
      "2012-09-05      227.134107      101.969559       24.432364        4.242124   \n",
      "...                    ...             ...             ...             ...   \n",
      "2012-12-27      494.483325      275.823271       72.255492       12.823571   \n",
      "2012-12-28      535.508015      298.754573       81.797440       13.149511   \n",
      "2012-12-29      468.243573      259.974286       67.356560       11.457197   \n",
      "2012-12-30      524.333730      295.935053       79.388401       13.596436   \n",
      "2012-12-31      476.173278      267.523479       73.395159       12.368323   \n",
      "\n",
      "            L=3.0/E=9.9MeV  L=3.25/E=1.8MeV  ...  L=6.75/E=9.9MeV  \\\n",
      "2012-09-01        1.218453     10249.283875  ...              NaN   \n",
      "2012-09-02        1.394425      7095.663765  ...              NaN   \n",
      "2012-09-03        1.320913      3704.676647  ...              NaN   \n",
      "2012-09-04        1.280617      3146.126440  ...              NaN   \n",
      "2012-09-05        1.210033      2631.149260  ...              NaN   \n",
      "...                    ...              ...  ...              ...   \n",
      "2012-12-27        1.820958      3012.706793  ...         1.702475   \n",
      "2012-12-28        1.420624      3123.562816  ...         1.427324   \n",
      "2012-12-29        1.578146      2811.822650  ...         1.549392   \n",
      "2012-12-30        1.893720      2907.737257  ...         1.587928   \n",
      "2012-12-31        1.750244      2709.841204  ...         1.785955   \n",
      "\n",
      "            L=7.0/E=1.8MeV  L=7.0/E=2.1MeV  L=7.0/E=2.6MeV  L=7.0/E=3.4MeV  \\\n",
      "2012-09-01             NaN             NaN             NaN             NaN   \n",
      "2012-09-02             NaN             NaN             NaN             NaN   \n",
      "2012-09-03             NaN             NaN             NaN             NaN   \n",
      "2012-09-04             NaN             NaN             NaN             NaN   \n",
      "2012-09-05             NaN             NaN             NaN             NaN   \n",
      "...                    ...             ...             ...             ...   \n",
      "2012-12-27      793.931256      165.783096       14.902629        3.472949   \n",
      "2012-12-28      128.971432       20.965400        3.140428        3.076244   \n",
      "2012-12-29      525.701023       95.702446        9.733149        2.980994   \n",
      "2012-12-30      121.597894       22.882534        4.171192        2.895308   \n",
      "2012-12-31             NaN             NaN             NaN             NaN   \n",
      "\n",
      "            L=7.0/E=4.2MeV  L=7.0/E=5.2MeV  L=7.0/E=6.3MeV  L=7.0/E=7.7MeV  \\\n",
      "2012-09-01             NaN             NaN             NaN             NaN   \n",
      "2012-09-02             NaN             NaN             NaN             NaN   \n",
      "2012-09-03             NaN             NaN             NaN             NaN   \n",
      "2012-09-04             NaN             NaN             NaN             NaN   \n",
      "2012-09-05             NaN             NaN             NaN             NaN   \n",
      "...                    ...             ...             ...             ...   \n",
      "2012-12-27        2.161629        3.487637        3.894514        2.903808   \n",
      "2012-12-28        2.083992        3.572127        3.896136        2.852818   \n",
      "2012-12-29        2.038551        3.641111        4.016834        2.625033   \n",
      "2012-12-30        2.007385        3.215972        3.731006        2.894263   \n",
      "2012-12-31             NaN             NaN             NaN             NaN   \n",
      "\n",
      "            L=7.0/E=9.9MeV  \n",
      "2012-09-01             NaN  \n",
      "2012-09-02             NaN  \n",
      "2012-09-03             NaN  \n",
      "2012-09-04             NaN  \n",
      "2012-09-05             NaN  \n",
      "...                    ...  \n",
      "2012-12-27        1.632087  \n",
      "2012-12-28        1.691279  \n",
      "2012-12-29        1.519393  \n",
      "2012-12-30        1.545762  \n",
      "2012-12-31             NaN  \n",
      "\n",
      "[122 rows x 153 columns]\n"
     ]
    }
   ],
   "source": [
    "savdir = \"./../compressed_data/\"\n",
    "\n",
    "df_to_write.to_csv(os.path.join(savdir, f\"REPT-DAILY-AVERAGES-{_year}.csv\"))\n",
    "\n",
    "print(df_to_write)"
   ]
  },
  {
   "cell_type": "code",
   "execution_count": null,
   "metadata": {},
   "outputs": [],
   "source": []
  }
 ],
 "metadata": {
  "kernelspec": {
   "display_name": "RadiationBeltResearch",
   "language": "python",
   "name": "python3"
  },
  "language_info": {
   "codemirror_mode": {
    "name": "ipython",
    "version": 3
   },
   "file_extension": ".py",
   "mimetype": "text/x-python",
   "name": "python",
   "nbconvert_exporter": "python",
   "pygments_lexer": "ipython3",
   "version": "3.12.1"
  }
 },
 "nbformat": 4,
 "nbformat_minor": 2
}
