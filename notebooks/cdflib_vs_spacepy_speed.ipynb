{
 "cells": [
  {
   "cell_type": "code",
   "execution_count": 4,
   "metadata": {},
   "outputs": [],
   "source": [
    "import cdflib\n",
    "import spacepy.pycdf\n",
    "from time import perf_counter\n"
   ]
  },
  {
   "cell_type": "code",
   "execution_count": 5,
   "metadata": {},
   "outputs": [
    {
     "name": "stdout",
     "output_type": "stream",
     "text": [
      "Time taken: 0.004402399994432926\n"
     ]
    }
   ],
   "source": [
    "t1 = perf_counter()\n",
    "cdf_file = cdflib.CDF(r\"C:\\Dev\\Research\\REPT_Enhancements_Tool\\raw_data\\RBSP\\EMFISIS\\L3\\rbsp-a_magnetometer_1sec-gse_emfisis-l3_20130101_v1.3.4.cdf\")\n",
    "cdf_file.cdf_info()\n",
    "x = cdf_file.varget(\"Magnitude\", startrec=0)\n",
    "info = cdf_file.varattsget(\"Magnitude\")\n",
    "\n",
    "t2 = perf_counter()\n",
    "print(f\"Time taken: {t2 - t1}\")"
   ]
  },
  {
   "cell_type": "code",
   "execution_count": 6,
   "metadata": {},
   "outputs": [
    {
     "name": "stdout",
     "output_type": "stream",
     "text": [
      "Time taken: 0.011932899942621589\n"
     ]
    }
   ],
   "source": [
    "t1 = perf_counter()\n",
    "\n",
    "cdf_file = spacepy.pycdf.CDF(r\"C:\\Dev\\Research\\REPT_Enhancements_Tool\\raw_data\\RBSP\\EMFISIS\\L3\\rbsp-a_magnetometer_1sec-gse_emfisis-l3_20130101_v1.3.4.cdf\",\n",
    "                             readonly=True)\n",
    "x = cdf_file[\"Magnitude\"][...]\n",
    "t2 = perf_counter()\n",
    "print(f\"Time taken: {t2 - t1}\")"
   ]
  },
  {
   "cell_type": "code",
   "execution_count": null,
   "metadata": {},
   "outputs": [],
   "source": []
  }
 ],
 "metadata": {
  "kernelspec": {
   "display_name": "ResearchPy",
   "language": "python",
   "name": "python3"
  },
  "language_info": {
   "codemirror_mode": {
    "name": "ipython",
    "version": 3
   },
   "file_extension": ".py",
   "mimetype": "text/x-python",
   "name": "python",
   "nbconvert_exporter": "python",
   "pygments_lexer": "ipython3",
   "version": "3.12.5"
  }
 },
 "nbformat": 4,
 "nbformat_minor": 2
}
