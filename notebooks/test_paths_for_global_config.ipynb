{
 "cells": [
  {
   "cell_type": "code",
   "execution_count": 3,
   "id": "62e5a125-8c8a-4022-bf45-bc85f1271fd7",
   "metadata": {},
   "outputs": [
    {
     "name": "stdout",
     "output_type": "stream",
     "text": [
      "/home/jddoucette/Research_Tools/config.yaml\n",
      "/home/jddoucette/Research_Tools/raw_data\n"
     ]
    }
   ],
   "source": [
    "import os\n",
    "\n",
    "\n",
    "print(os.getenv(\"RESEARCH_CONFIG_PATH\"))\n",
    "print(os.getenv(\"RESEARCH_RAW_DATA_DIR2\"))\n"
   ]
  },
  {
   "cell_type": "code",
   "execution_count": null,
   "id": "31e2da3f-498b-40e5-bc12-bb7652e36890",
   "metadata": {},
   "outputs": [],
   "source": []
  },
  {
   "cell_type": "code",
   "execution_count": null,
   "id": "3ee8337e-5ead-478b-89fa-427271efa86b",
   "metadata": {},
   "outputs": [],
   "source": []
  }
 ],
 "metadata": {
  "kernelspec": {
   "display_name": "Python 3 (ipykernel)",
   "language": "python",
   "name": "python3"
  },
  "language_info": {
   "codemirror_mode": {
    "name": "ipython",
    "version": 3
   },
   "file_extension": ".py",
   "mimetype": "text/x-python",
   "name": "python",
   "nbconvert_exporter": "python",
   "pygments_lexer": "ipython3",
   "version": "3.12.8"
  }
 },
 "nbformat": 4,
 "nbformat_minor": 5
}
