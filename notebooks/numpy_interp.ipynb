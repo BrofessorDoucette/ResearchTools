{
 "cells": [
  {
   "cell_type": "code",
   "execution_count": 63,
   "metadata": {},
   "outputs": [],
   "source": [
    "import numpy as np\n",
    "from time import perf_counter\n",
    "from numba import njit"
   ]
  },
  {
   "cell_type": "code",
   "execution_count": 64,
   "metadata": {},
   "outputs": [],
   "source": [
    "@njit(cache=True, inline=\"always\")\n",
    "def accelerated_interp(x, xp, fp):\n",
    "    \n",
    "    j = np.searchsorted(xp, x, side=\"right\") - 1\n",
    "        \n",
    "    if (j < 0) or (j >= xp.size - 1):\n",
    "        return np.NaN\n",
    "    \n",
    "    d = (x - xp[j]) / (xp[j+1] - xp[j])\n",
    "    return (1 - d) * fp[j] + d * fp[j+1]\n",
    "    "
   ]
  },
  {
   "cell_type": "code",
   "execution_count": 84,
   "metadata": {},
   "outputs": [
    {
     "name": "stdout",
     "output_type": "stream",
     "text": [
      "Time taken: 0.000038 seconds\n",
      "10.552763819095476\n",
      "Time taken: 0.000060 seconds\n",
      "10.552763819095476\n"
     ]
    }
   ],
   "source": [
    "x = 10.5\n",
    "xp = np.arange(200)\n",
    "fp = np.linspace(0, 200, 200)\n",
    "\n",
    "t0 = perf_counter()\n",
    "z = accelerated_interp(x, xp, fp)\n",
    "t1 = perf_counter()\n",
    "print(f\"Time taken: {t1 - t0:5f} seconds\")\n",
    "\n",
    "print(z)\n",
    "\n",
    "t0 = perf_counter()\n",
    "z = np.interp(x, xp, fp, left=np.NaN, right = np.NaN)\n",
    "t1 = perf_counter()\n",
    "print(f\"Time taken: {t1 - t0:5f} seconds\")\n",
    "\n",
    "print(z)"
   ]
  },
  {
   "cell_type": "code",
   "execution_count": null,
   "metadata": {},
   "outputs": [],
   "source": []
  }
 ],
 "metadata": {
  "kernelspec": {
   "display_name": "RadiationBeltResearch",
   "language": "python",
   "name": "python3"
  },
  "language_info": {
   "codemirror_mode": {
    "name": "ipython",
    "version": 3
   },
   "file_extension": ".py",
   "mimetype": "text/x-python",
   "name": "python",
   "nbconvert_exporter": "python",
   "pygments_lexer": "ipython3",
   "version": "3.12.1"
  }
 },
 "nbformat": 4,
 "nbformat_minor": 2
}
