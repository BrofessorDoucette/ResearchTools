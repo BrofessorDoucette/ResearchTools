{
 "cells": [
  {
   "cell_type": "code",
   "execution_count": 1,
   "metadata": {
    "ExecuteTime": {
     "end_time": "2024-05-22T02:40:29.207146Z",
     "start_time": "2024-05-22T02:40:28.422109Z"
    }
   },
   "outputs": [
    {
     "name": "stdout",
     "output_type": "stream",
     "text": [
      "This unreleased version of SpacePy is not supported by the SpacePy team.\n"
     ]
    }
   ],
   "source": [
    "import sys\n",
    "import os\n",
    "# caution: path[0] is reserved for script path (or '' in REPL).\n",
    "sys.path.insert(1, os.path.abspath('./../src'))\n",
    "\n",
    "import spacepy.time\n",
    "import numpy as np\n",
    "import datetime\n",
    "import pandas as pd\n",
    "\n",
    "import data_loader\n",
    "import data_references\n",
    "\n",
    "import time\n",
    "\n",
    "import matplotlib.pyplot as plt\n",
    "from matplotlib import colors\n",
    "\n",
    "import importlib\n",
    "importlib.reload(data_loader)\n",
    "importlib.reload(data_references)\n",
    "\n",
    "%matplotlib qt"
   ]
  },
  {
   "cell_type": "code",
   "execution_count": 2,
   "metadata": {
    "ExecuteTime": {
     "end_time": "2024-05-22T02:40:39.936188Z",
     "start_time": "2024-05-22T02:40:29.821725Z"
    }
   },
   "outputs": [
    {
     "name": "stdout",
     "output_type": "stream",
     "text": [
      "Loading : POES_201303_metop1_CLEAN.npz\n",
      "Loading : POES_201304_metop1_CLEAN.npz\n",
      "Loading : POES_201303_metop2_CLEAN.npz\n",
      "Loading : POES_201304_metop2_CLEAN.npz\n",
      "Loading : POES_201303_noaa15_CLEAN.npz\n",
      "Loading : POES_201304_noaa15_CLEAN.npz\n",
      "Loading : POES_201303_noaa16_CLEAN.npz\n",
      "Loading : POES_201304_noaa16_CLEAN.npz\n",
      "Loading : POES_201303_noaa18_CLEAN.npz\n",
      "Loading : POES_201304_noaa18_CLEAN.npz\n",
      "Loading : POES_201303_noaa19_CLEAN.npz\n",
      "Loading : POES_201304_noaa19_CLEAN.npz\n"
     ]
    }
   ],
   "source": [
    "start = datetime.datetime(year = 2013, month=3, day=1)\n",
    "end = datetime.datetime(year = 2013, month=4, day=1)\n",
    "\n",
    "metop1 = data_loader.load_compressed_poes_data(\"metop1\", start=start, end=end)\n",
    "metop2 = data_loader.load_compressed_poes_data(\"metop2\", start=start, end=end)\n",
    "noaa15 = data_loader.load_compressed_poes_data(\"noaa15\", start=start, end=end)\n",
    "noaa16 = data_loader.load_compressed_poes_data(\"noaa16\", start=start, end=end)\n",
    "noaa18 = data_loader.load_compressed_poes_data(\"noaa18\", start=start, end=end)\n",
    "noaa19 = data_loader.load_compressed_poes_data(\"noaa19\", start=start, end=end)\n",
    "\n",
    "satellites = [metop1, metop2, noaa15, noaa16, noaa18, noaa19]\n"
   ]
  },
  {
   "cell_type": "code",
   "execution_count": 11,
   "metadata": {
    "ExecuteTime": {
     "end_time": "2024-05-22T02:47:50.253407Z",
     "start_time": "2024-05-22T02:47:46.085461Z"
    }
   },
   "outputs": [
    {
     "name": "stdout",
     "output_type": "stream",
     "text": [
      "                      Timestamp     L        MLT    CHORUS   Satid\n",
      "0       2013-03-01 00:00:00.920  2.72  21.309999  4.240167  metop1\n",
      "1       2013-03-01 00:00:02.920  2.71  21.309999  0.990786  metop1\n",
      "2       2013-03-01 00:00:04.920  2.70  21.309999  0.966123  metop1\n",
      "3       2013-03-01 00:00:06.920  2.69  21.309999  1.332847  metop1\n",
      "4       2013-03-01 00:00:08.920  2.68  21.309999  0.000000  metop1\n",
      "...                         ...   ...        ...       ...     ...\n",
      "8007390 2013-03-31 23:59:51.072  1.67   1.010000  1.857267  noaa19\n",
      "8007391 2013-03-31 23:59:53.072  1.67   1.010000  1.989976  noaa19\n",
      "8007392 2013-03-31 23:59:55.072  1.67   1.010000  0.352886  noaa19\n",
      "8007393 2013-03-31 23:59:57.072  1.68   1.000000  2.390156  noaa19\n",
      "8007394 2013-03-31 23:59:59.072  1.68   1.000000  0.615769  noaa19\n",
      "\n",
      "[8007395 rows x 5 columns]\n"
     ]
    }
   ],
   "source": [
    "#Parameters\n",
    "L_bins = np.arange(3.0, 7.5, 0.25)\n",
    "epoch_bin_size = \"6h\"\n",
    "\n",
    "\n",
    "epoch_start = pd.Timestamp(start)\n",
    "epoch_end = pd.Timestamp(end + pd.Timedelta(epoch_bin_size))\n",
    "epoch_bins = pd.to_datetime(np.arange(epoch_start, epoch_end, pd.Timedelta(epoch_bin_size)))\n",
    "\n",
    "\n",
    "total = pd.concat([pd.DataFrame({\"Timestamp\" : satellite.get_data(data_references.POES.EPOCH),\n",
    "    \"L\": satellite.get_data(data_references.POES.L), \n",
    "    \"MLT\" : satellite.get_data(data_references.POES.MLT), \n",
    "    \"CHORUS\" : satellite.get_data(data_references.POES.NAIVE_CHORUS_AMPLITUDES),\n",
    "    \"Satid\" : satellite.satid}) for satellite in satellites], axis=0, ignore_index=True, verify_integrity=False, sort=False, copy=False)\n",
    "\n",
    "total = total.drop(total[total[\"L\"] <= min(L_bins)].index)\n",
    "total = total.drop(total[total[\"L\"] > max(L_bins)].index)\n",
    " \n",
    " \n",
    "total[\"L_BIN\"] = pd.cut(total[\"L\"], L_bins, labels=False)\n",
    "total[\"DATE_BIN\"] = pd.cut(total[\"Timestamp\"], epoch_bins, labels=False)\n",
    "    \n",
    "group_df = total.groupby([\"L_BIN\", \"DATE_BIN\"], dropna=True)\n",
    "\n"
   ]
  },
  {
   "cell_type": "code",
   "execution_count": 8,
   "metadata": {
    "ExecuteTime": {
     "end_time": "2024-05-22T02:41:31.845835Z",
     "start_time": "2024-05-22T02:41:30.806951Z"
    }
   },
   "outputs": [],
   "source": [
    "averages = np.zeros((len(L_bins) - 1, len(epoch_bins) - 1))\n",
    "\n",
    "for i in range(averages.shape[0]):\n",
    "    for j in range(averages.shape[1]):\n",
    "        \n",
    "        averages[i, j] = group_df[[\"CHORUS\"]].get_group((i, j)).mean()[\"CHORUS\"]\n",
    "\n",
    "averages = averages + 1e-10 #Stabilize the log norm\n",
    "\n",
    "fig, ax = plt.subplots(1, 1, figsize=(16, 9), sharex=True)\n",
    "\n",
    "image_cmap = ax.imshow(averages, \n",
    "                       origin=\"lower\", \n",
    "                       extent=[epoch_bins[0], epoch_bins[-1], L_bins[0], L_bins[-1]],\n",
    "                       norm=colors.LogNorm(vmin=1, vmax=100),\n",
    "                       aspect=\"auto\",\n",
    "                       interpolation=\"none\")\n",
    "\n",
    "\n",
    "cbar = plt.colorbar(image_cmap, ax=ax, pad=0.01)\n",
    "\n",
    "cbar.set_label(\"Bw (pT)\\n\", loc=\"center\", labelpad=15, rotation=270)\n",
    "\n",
    "ax.set_title(f\"Chorus: {start.year} / {start.month}\")\n",
    "plt.tight_layout()"
   ]
  },
  {
   "cell_type": "code",
   "execution_count": null,
   "metadata": {},
   "outputs": [],
   "source": []
  }
 ],
 "metadata": {
  "kernelspec": {
   "display_name": "RadiationBeltResearch",
   "language": "python",
   "name": "python3"
  },
  "language_info": {
   "codemirror_mode": {
    "name": "ipython",
    "version": 3
   },
   "file_extension": ".py",
   "mimetype": "text/x-python",
   "name": "python",
   "nbconvert_exporter": "python",
   "pygments_lexer": "ipython3",
   "version": "3.12.1"
  }
 },
 "nbformat": 4,
 "nbformat_minor": 2
}
