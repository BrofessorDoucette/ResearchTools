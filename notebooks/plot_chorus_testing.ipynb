{
 "cells": [
  {
   "cell_type": "code",
   "execution_count": 89,
   "metadata": {},
   "outputs": [],
   "source": [
    "import sys\n",
    "import os\n",
    "# caution: path[0] is reserved for script path (or '' in REPL).\n",
    "sys.path.insert(1, os.path.abspath('./../src'))\n",
    "\n",
    "import spacepy.time\n",
    "import numpy as np\n",
    "import datetime\n",
    "import pandas as pd\n",
    "\n",
    "import data_loader\n",
    "import data_references\n",
    "\n",
    "import matplotlib.pyplot as plt\n",
    "from matplotlib import colors\n",
    "\n",
    "import importlib\n",
    "importlib.reload(data_loader)\n",
    "importlib.reload(data_references)\n",
    "\n",
    "%matplotlib qt"
   ]
  },
  {
   "cell_type": "code",
   "execution_count": 83,
   "metadata": {},
   "outputs": [
    {
     "name": "stdout",
     "output_type": "stream",
     "text": [
      "Loading : POES_201303_metop1_CLEAN.npz\n",
      "Loading : POES_201304_metop1_CLEAN.npz\n",
      "Loading : POES_201303_metop2_CLEAN.npz\n",
      "Loading : POES_201304_metop2_CLEAN.npz\n",
      "Loading : POES_201303_noaa15_CLEAN.npz\n",
      "Loading : POES_201304_noaa15_CLEAN.npz\n",
      "Loading : POES_201303_noaa16_CLEAN.npz\n",
      "Loading : POES_201304_noaa16_CLEAN.npz\n",
      "Loading : POES_201303_noaa18_CLEAN.npz\n",
      "Loading : POES_201304_noaa18_CLEAN.npz\n",
      "Loading : POES_201303_noaa19_CLEAN.npz\n",
      "Loading : POES_201304_noaa19_CLEAN.npz\n"
     ]
    }
   ],
   "source": [
    "start = datetime.datetime(year = 2013, month=3, day=1)\n",
    "end = datetime.datetime(year = 2013, month=4, day=1)\n",
    "\n",
    "metop1 = data_loader.load_compressed_poes_data(\"metop1\", start=start, end=end)\n",
    "metop2 = data_loader.load_compressed_poes_data(\"metop2\", start=start, end=end)\n",
    "noaa15 = data_loader.load_compressed_poes_data(\"noaa15\", start=start, end=end)\n",
    "noaa16 = data_loader.load_compressed_poes_data(\"noaa16\", start=start, end=end)\n",
    "noaa18 = data_loader.load_compressed_poes_data(\"noaa18\", start=start, end=end)\n",
    "noaa19 = data_loader.load_compressed_poes_data(\"noaa19\", start=start, end=end)\n",
    "\n",
    "satellites = [metop1, metop2, noaa15, noaa16, noaa18, noaa19]\n"
   ]
  },
  {
   "cell_type": "code",
   "execution_count": 138,
   "metadata": {},
   "outputs": [
    {
     "name": "stderr",
     "output_type": "stream",
     "text": [
      "C:\\Users\\brofe\\AppData\\Local\\Temp\\ipykernel_24632\\3568007584.py:20: FutureWarning: The behavior of DataFrame concatenation with empty or all-NA entries is deprecated. In a future version, this will no longer exclude empty or all-NA columns when determining the result dtypes. To retain the old behavior, exclude the relevant entries before the concat operation.\n",
      "  total = pd.concat([total, df], ignore_index=True, sort=False)\n"
     ]
    }
   ],
   "source": [
    "#Parameters\n",
    "L_bins = np.arange(3.0, 7.5, 0.25)\n",
    "epoch_bin_size = \"6h\"\n",
    "\n",
    "\n",
    "epoch_start = pd.Timestamp(start)\n",
    "epoch_end = pd.Timestamp(end + pd.Timedelta(epoch_bin_size))\n",
    "epoch_bins = pd.to_datetime(np.arange(epoch_start, epoch_end, pd.Timedelta(epoch_bin_size)))\n",
    "\n",
    "total = pd.DataFrame({\"Satid\": [], \"L\" : [], \"MLT\" : [], \"CHORUS\": []})\n",
    "\n",
    "for satellite in satellites:\n",
    "        \n",
    "    df = pd.DataFrame({\"Timestamp\" : satellite.get_data(data_references.POES.EPOCH),\n",
    "                        'L': satellite.get_data(data_references.POES.L), \n",
    "                        'MLT' : satellite.get_data(data_references.POES.MLT), \n",
    "                        \"CHORUS\" : satellite.get_data(data_references.POES.NAIVE_CHORUS_AMPLITUDES),\n",
    "                        \"Satid\" : satellite.satid})\n",
    "    \n",
    "    total = pd.concat([total, df], ignore_index=True, sort=False)\n",
    "\n",
    "        \n",
    "\n",
    "total = total.drop(total[total[\"L\"] <= min(L_bins)].index)\n",
    "total = total.drop(total[total[\"L\"] > max(L_bins)].index)\n",
    " \n",
    " \n",
    "\n",
    "total[\"L_BIN\"] = pd.cut(total[\"L\"], L_bins, labels=False)\n",
    "total[\"DATE_BIN\"] = pd.cut(total[\"Timestamp\"], epoch_bins, labels=False)\n",
    "    \n",
    "group_df = total.groupby([\"L_BIN\", \"DATE_BIN\"], dropna=True)\n",
    "\n"
   ]
  },
  {
   "cell_type": "code",
   "execution_count": 136,
   "metadata": {},
   "outputs": [],
   "source": [
    "averages = np.zeros((len(L_bins) - 1, len(epoch_bins) - 1))\n",
    "\n",
    "for i in range(averages.shape[0]):\n",
    "    for j in range(averages.shape[1]):\n",
    "        \n",
    "        averages[i, j] = group_df[[\"CHORUS\"]].get_group((i, j)).mean()[\"CHORUS\"]\n",
    "\n",
    "\n",
    "averages = averages + 1e-10 #Stabilize the log norm\n",
    "\n",
    "fig, ax = plt.subplots(1, 1, figsize=(16, 9), sharex=True)\n",
    "\n",
    "image_cmap = ax.imshow(averages, \n",
    "                       origin=\"lower\", \n",
    "                       extent=[epoch_bins[0], epoch_bins[-1], L_bins[0], L_bins[-1]],\n",
    "                       norm=colors.LogNorm(vmin=1, vmax=100),\n",
    "                       aspect=\"auto\",\n",
    "                       interpolation=\"none\")\n",
    "\n",
    "\n",
    "cbar = plt.colorbar(image_cmap, ax=ax, pad=0.01)\n",
    "\n",
    "cbar.set_label(\"Bw (pT)\\n\", loc=\"center\", labelpad=15, rotation=270)\n",
    "\n",
    "ax.set_title(f\"Chorus: {start.year} / {start.month}\")\n",
    "plt.tight_layout()"
   ]
  },
  {
   "cell_type": "code",
   "execution_count": null,
   "metadata": {},
   "outputs": [],
   "source": []
  }
 ],
 "metadata": {
  "kernelspec": {
   "display_name": "RadiationBeltResearch",
   "language": "python",
   "name": "python3"
  },
  "language_info": {
   "codemirror_mode": {
    "name": "ipython",
    "version": 3
   },
   "file_extension": ".py",
   "mimetype": "text/x-python",
   "name": "python",
   "nbconvert_exporter": "python",
   "pygments_lexer": "ipython3",
   "version": "3.12.1"
  }
 },
 "nbformat": 4,
 "nbformat_minor": 2
}
